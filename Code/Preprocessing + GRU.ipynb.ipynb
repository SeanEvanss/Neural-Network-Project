{
  "nbformat": 4,
  "nbformat_minor": 0,
  "metadata": {
    "accelerator": "GPU",
    "colab": {
      "name": "Copy_of_Data_Preprocessing.ipynb",
      "provenance": [],
      "collapsed_sections": [],
      "toc_visible": true
    },
    "kernelspec": {
      "display_name": "Python 3",
      "name": "python3"
    },
    "widgets": {
      "application/vnd.jupyter.widget-state+json": {
        "93d576c46bbc42d6905b442330be612c": {
          "model_module": "@jupyter-widgets/controls",
          "model_name": "HBoxModel",
          "state": {
            "_view_name": "HBoxView",
            "_dom_classes": [],
            "_model_name": "HBoxModel",
            "_view_module": "@jupyter-widgets/controls",
            "_model_module_version": "1.5.0",
            "_view_count": null,
            "_view_module_version": "1.5.0",
            "box_style": "",
            "layout": "IPY_MODEL_dbcf70f2030f4d0b9bcc8c7cbca3639f",
            "_model_module": "@jupyter-widgets/controls",
            "children": [
              "IPY_MODEL_0c0633fc11094b74923de74cabb600e9",
              "IPY_MODEL_2a2009dd1aa94075be92cac24d52bf74"
            ]
          }
        },
        "dbcf70f2030f4d0b9bcc8c7cbca3639f": {
          "model_module": "@jupyter-widgets/base",
          "model_name": "LayoutModel",
          "state": {
            "_view_name": "LayoutView",
            "grid_template_rows": null,
            "right": null,
            "justify_content": null,
            "_view_module": "@jupyter-widgets/base",
            "overflow": null,
            "_model_module_version": "1.2.0",
            "_view_count": null,
            "flex_flow": null,
            "width": null,
            "min_width": null,
            "border": null,
            "align_items": null,
            "bottom": null,
            "_model_module": "@jupyter-widgets/base",
            "top": null,
            "grid_column": null,
            "overflow_y": null,
            "overflow_x": null,
            "grid_auto_flow": null,
            "grid_area": null,
            "grid_template_columns": null,
            "flex": null,
            "_model_name": "LayoutModel",
            "justify_items": null,
            "grid_row": null,
            "max_height": null,
            "align_content": null,
            "visibility": null,
            "align_self": null,
            "height": null,
            "min_height": null,
            "padding": null,
            "grid_auto_rows": null,
            "grid_gap": null,
            "max_width": null,
            "order": null,
            "_view_module_version": "1.2.0",
            "grid_template_areas": null,
            "object_position": null,
            "object_fit": null,
            "grid_auto_columns": null,
            "margin": null,
            "display": null,
            "left": null
          }
        },
        "0c0633fc11094b74923de74cabb600e9": {
          "model_module": "@jupyter-widgets/controls",
          "model_name": "FloatProgressModel",
          "state": {
            "_view_name": "ProgressView",
            "style": "IPY_MODEL_64b4249b70b44106bf15512b9e2bd9ca",
            "_dom_classes": [],
            "description": "100%",
            "_model_name": "FloatProgressModel",
            "bar_style": "success",
            "max": 54844,
            "_view_module": "@jupyter-widgets/controls",
            "_model_module_version": "1.5.0",
            "value": 54844,
            "_view_count": null,
            "_view_module_version": "1.5.0",
            "orientation": "horizontal",
            "min": 0,
            "description_tooltip": null,
            "_model_module": "@jupyter-widgets/controls",
            "layout": "IPY_MODEL_8665ee6d32934336bd20c5f125f24c99"
          }
        },
        "2a2009dd1aa94075be92cac24d52bf74": {
          "model_module": "@jupyter-widgets/controls",
          "model_name": "HTMLModel",
          "state": {
            "_view_name": "HTMLView",
            "style": "IPY_MODEL_ef2f57708b8a4f5fbbe8608634bf4c1a",
            "_dom_classes": [],
            "description": "",
            "_model_name": "HTMLModel",
            "placeholder": "​",
            "_view_module": "@jupyter-widgets/controls",
            "_model_module_version": "1.5.0",
            "value": " 54844/54844 [00:02&lt;00:00, 23414.74it/s]",
            "_view_count": null,
            "_view_module_version": "1.5.0",
            "description_tooltip": null,
            "_model_module": "@jupyter-widgets/controls",
            "layout": "IPY_MODEL_fc16cd56ffcc4a2a810f7254aa428acd"
          }
        },
        "64b4249b70b44106bf15512b9e2bd9ca": {
          "model_module": "@jupyter-widgets/controls",
          "model_name": "ProgressStyleModel",
          "state": {
            "_view_name": "StyleView",
            "_model_name": "ProgressStyleModel",
            "description_width": "initial",
            "_view_module": "@jupyter-widgets/base",
            "_model_module_version": "1.5.0",
            "_view_count": null,
            "_view_module_version": "1.2.0",
            "bar_color": null,
            "_model_module": "@jupyter-widgets/controls"
          }
        },
        "8665ee6d32934336bd20c5f125f24c99": {
          "model_module": "@jupyter-widgets/base",
          "model_name": "LayoutModel",
          "state": {
            "_view_name": "LayoutView",
            "grid_template_rows": null,
            "right": null,
            "justify_content": null,
            "_view_module": "@jupyter-widgets/base",
            "overflow": null,
            "_model_module_version": "1.2.0",
            "_view_count": null,
            "flex_flow": null,
            "width": null,
            "min_width": null,
            "border": null,
            "align_items": null,
            "bottom": null,
            "_model_module": "@jupyter-widgets/base",
            "top": null,
            "grid_column": null,
            "overflow_y": null,
            "overflow_x": null,
            "grid_auto_flow": null,
            "grid_area": null,
            "grid_template_columns": null,
            "flex": null,
            "_model_name": "LayoutModel",
            "justify_items": null,
            "grid_row": null,
            "max_height": null,
            "align_content": null,
            "visibility": null,
            "align_self": null,
            "height": null,
            "min_height": null,
            "padding": null,
            "grid_auto_rows": null,
            "grid_gap": null,
            "max_width": null,
            "order": null,
            "_view_module_version": "1.2.0",
            "grid_template_areas": null,
            "object_position": null,
            "object_fit": null,
            "grid_auto_columns": null,
            "margin": null,
            "display": null,
            "left": null
          }
        },
        "ef2f57708b8a4f5fbbe8608634bf4c1a": {
          "model_module": "@jupyter-widgets/controls",
          "model_name": "DescriptionStyleModel",
          "state": {
            "_view_name": "StyleView",
            "_model_name": "DescriptionStyleModel",
            "description_width": "",
            "_view_module": "@jupyter-widgets/base",
            "_model_module_version": "1.5.0",
            "_view_count": null,
            "_view_module_version": "1.2.0",
            "_model_module": "@jupyter-widgets/controls"
          }
        },
        "fc16cd56ffcc4a2a810f7254aa428acd": {
          "model_module": "@jupyter-widgets/base",
          "model_name": "LayoutModel",
          "state": {
            "_view_name": "LayoutView",
            "grid_template_rows": null,
            "right": null,
            "justify_content": null,
            "_view_module": "@jupyter-widgets/base",
            "overflow": null,
            "_model_module_version": "1.2.0",
            "_view_count": null,
            "flex_flow": null,
            "width": null,
            "min_width": null,
            "border": null,
            "align_items": null,
            "bottom": null,
            "_model_module": "@jupyter-widgets/base",
            "top": null,
            "grid_column": null,
            "overflow_y": null,
            "overflow_x": null,
            "grid_auto_flow": null,
            "grid_area": null,
            "grid_template_columns": null,
            "flex": null,
            "_model_name": "LayoutModel",
            "justify_items": null,
            "grid_row": null,
            "max_height": null,
            "align_content": null,
            "visibility": null,
            "align_self": null,
            "height": null,
            "min_height": null,
            "padding": null,
            "grid_auto_rows": null,
            "grid_gap": null,
            "max_width": null,
            "order": null,
            "_view_module_version": "1.2.0",
            "grid_template_areas": null,
            "object_position": null,
            "object_fit": null,
            "grid_auto_columns": null,
            "margin": null,
            "display": null,
            "left": null
          }
        },
        "fc76a91325214f09b824114531246010": {
          "model_module": "@jupyter-widgets/controls",
          "model_name": "HBoxModel",
          "state": {
            "_view_name": "HBoxView",
            "_dom_classes": [],
            "_model_name": "HBoxModel",
            "_view_module": "@jupyter-widgets/controls",
            "_model_module_version": "1.5.0",
            "_view_count": null,
            "_view_module_version": "1.5.0",
            "box_style": "",
            "layout": "IPY_MODEL_9d00a00f6df64eff849433ca845eb25f",
            "_model_module": "@jupyter-widgets/controls",
            "children": [
              "IPY_MODEL_a39ab1ec85d94ef5a0c1756c1489555d",
              "IPY_MODEL_cc3ff6d6378941e885555b0b2cc4d40e"
            ]
          }
        },
        "9d00a00f6df64eff849433ca845eb25f": {
          "model_module": "@jupyter-widgets/base",
          "model_name": "LayoutModel",
          "state": {
            "_view_name": "LayoutView",
            "grid_template_rows": null,
            "right": null,
            "justify_content": null,
            "_view_module": "@jupyter-widgets/base",
            "overflow": null,
            "_model_module_version": "1.2.0",
            "_view_count": null,
            "flex_flow": null,
            "width": null,
            "min_width": null,
            "border": null,
            "align_items": null,
            "bottom": null,
            "_model_module": "@jupyter-widgets/base",
            "top": null,
            "grid_column": null,
            "overflow_y": null,
            "overflow_x": null,
            "grid_auto_flow": null,
            "grid_area": null,
            "grid_template_columns": null,
            "flex": null,
            "_model_name": "LayoutModel",
            "justify_items": null,
            "grid_row": null,
            "max_height": null,
            "align_content": null,
            "visibility": null,
            "align_self": null,
            "height": null,
            "min_height": null,
            "padding": null,
            "grid_auto_rows": null,
            "grid_gap": null,
            "max_width": null,
            "order": null,
            "_view_module_version": "1.2.0",
            "grid_template_areas": null,
            "object_position": null,
            "object_fit": null,
            "grid_auto_columns": null,
            "margin": null,
            "display": null,
            "left": null
          }
        },
        "a39ab1ec85d94ef5a0c1756c1489555d": {
          "model_module": "@jupyter-widgets/controls",
          "model_name": "FloatProgressModel",
          "state": {
            "_view_name": "ProgressView",
            "style": "IPY_MODEL_cbad84a94843441babb8a206b18146f4",
            "_dom_classes": [],
            "description": "100%",
            "_model_name": "FloatProgressModel",
            "bar_style": "success",
            "max": 54844,
            "_view_module": "@jupyter-widgets/controls",
            "_model_module_version": "1.5.0",
            "value": 54844,
            "_view_count": null,
            "_view_module_version": "1.5.0",
            "orientation": "horizontal",
            "min": 0,
            "description_tooltip": null,
            "_model_module": "@jupyter-widgets/controls",
            "layout": "IPY_MODEL_81c2c4c838c34d938482a180a38946aa"
          }
        },
        "cc3ff6d6378941e885555b0b2cc4d40e": {
          "model_module": "@jupyter-widgets/controls",
          "model_name": "HTMLModel",
          "state": {
            "_view_name": "HTMLView",
            "style": "IPY_MODEL_14cba47332c24a19b62727fe771585f4",
            "_dom_classes": [],
            "description": "",
            "_model_name": "HTMLModel",
            "placeholder": "​",
            "_view_module": "@jupyter-widgets/controls",
            "_model_module_version": "1.5.0",
            "value": " 54844/54844 [00:00&lt;00:00, 56818.02it/s]",
            "_view_count": null,
            "_view_module_version": "1.5.0",
            "description_tooltip": null,
            "_model_module": "@jupyter-widgets/controls",
            "layout": "IPY_MODEL_b4a246f571eb46f983b7f3c80fcacb48"
          }
        },
        "cbad84a94843441babb8a206b18146f4": {
          "model_module": "@jupyter-widgets/controls",
          "model_name": "ProgressStyleModel",
          "state": {
            "_view_name": "StyleView",
            "_model_name": "ProgressStyleModel",
            "description_width": "initial",
            "_view_module": "@jupyter-widgets/base",
            "_model_module_version": "1.5.0",
            "_view_count": null,
            "_view_module_version": "1.2.0",
            "bar_color": null,
            "_model_module": "@jupyter-widgets/controls"
          }
        },
        "81c2c4c838c34d938482a180a38946aa": {
          "model_module": "@jupyter-widgets/base",
          "model_name": "LayoutModel",
          "state": {
            "_view_name": "LayoutView",
            "grid_template_rows": null,
            "right": null,
            "justify_content": null,
            "_view_module": "@jupyter-widgets/base",
            "overflow": null,
            "_model_module_version": "1.2.0",
            "_view_count": null,
            "flex_flow": null,
            "width": null,
            "min_width": null,
            "border": null,
            "align_items": null,
            "bottom": null,
            "_model_module": "@jupyter-widgets/base",
            "top": null,
            "grid_column": null,
            "overflow_y": null,
            "overflow_x": null,
            "grid_auto_flow": null,
            "grid_area": null,
            "grid_template_columns": null,
            "flex": null,
            "_model_name": "LayoutModel",
            "justify_items": null,
            "grid_row": null,
            "max_height": null,
            "align_content": null,
            "visibility": null,
            "align_self": null,
            "height": null,
            "min_height": null,
            "padding": null,
            "grid_auto_rows": null,
            "grid_gap": null,
            "max_width": null,
            "order": null,
            "_view_module_version": "1.2.0",
            "grid_template_areas": null,
            "object_position": null,
            "object_fit": null,
            "grid_auto_columns": null,
            "margin": null,
            "display": null,
            "left": null
          }
        },
        "14cba47332c24a19b62727fe771585f4": {
          "model_module": "@jupyter-widgets/controls",
          "model_name": "DescriptionStyleModel",
          "state": {
            "_view_name": "StyleView",
            "_model_name": "DescriptionStyleModel",
            "description_width": "",
            "_view_module": "@jupyter-widgets/base",
            "_model_module_version": "1.5.0",
            "_view_count": null,
            "_view_module_version": "1.2.0",
            "_model_module": "@jupyter-widgets/controls"
          }
        },
        "b4a246f571eb46f983b7f3c80fcacb48": {
          "model_module": "@jupyter-widgets/base",
          "model_name": "LayoutModel",
          "state": {
            "_view_name": "LayoutView",
            "grid_template_rows": null,
            "right": null,
            "justify_content": null,
            "_view_module": "@jupyter-widgets/base",
            "overflow": null,
            "_model_module_version": "1.2.0",
            "_view_count": null,
            "flex_flow": null,
            "width": null,
            "min_width": null,
            "border": null,
            "align_items": null,
            "bottom": null,
            "_model_module": "@jupyter-widgets/base",
            "top": null,
            "grid_column": null,
            "overflow_y": null,
            "overflow_x": null,
            "grid_auto_flow": null,
            "grid_area": null,
            "grid_template_columns": null,
            "flex": null,
            "_model_name": "LayoutModel",
            "justify_items": null,
            "grid_row": null,
            "max_height": null,
            "align_content": null,
            "visibility": null,
            "align_self": null,
            "height": null,
            "min_height": null,
            "padding": null,
            "grid_auto_rows": null,
            "grid_gap": null,
            "max_width": null,
            "order": null,
            "_view_module_version": "1.2.0",
            "grid_template_areas": null,
            "object_position": null,
            "object_fit": null,
            "grid_auto_columns": null,
            "margin": null,
            "display": null,
            "left": null
          }
        },
        "605b7c96ee7443768b0544c47601e6a2": {
          "model_module": "@jupyter-widgets/controls",
          "model_name": "HBoxModel",
          "state": {
            "_view_name": "HBoxView",
            "_dom_classes": [],
            "_model_name": "HBoxModel",
            "_view_module": "@jupyter-widgets/controls",
            "_model_module_version": "1.5.0",
            "_view_count": null,
            "_view_module_version": "1.5.0",
            "box_style": "",
            "layout": "IPY_MODEL_7c1c91b31af2406b9c32557a54db28ea",
            "_model_module": "@jupyter-widgets/controls",
            "children": [
              "IPY_MODEL_eeacf6ec52894509aa7fc3f85a6a1825",
              "IPY_MODEL_f1f8fdaef1e740b8ad160f1bd33b3b0b"
            ]
          }
        },
        "7c1c91b31af2406b9c32557a54db28ea": {
          "model_module": "@jupyter-widgets/base",
          "model_name": "LayoutModel",
          "state": {
            "_view_name": "LayoutView",
            "grid_template_rows": null,
            "right": null,
            "justify_content": null,
            "_view_module": "@jupyter-widgets/base",
            "overflow": null,
            "_model_module_version": "1.2.0",
            "_view_count": null,
            "flex_flow": null,
            "width": null,
            "min_width": null,
            "border": null,
            "align_items": null,
            "bottom": null,
            "_model_module": "@jupyter-widgets/base",
            "top": null,
            "grid_column": null,
            "overflow_y": null,
            "overflow_x": null,
            "grid_auto_flow": null,
            "grid_area": null,
            "grid_template_columns": null,
            "flex": null,
            "_model_name": "LayoutModel",
            "justify_items": null,
            "grid_row": null,
            "max_height": null,
            "align_content": null,
            "visibility": null,
            "align_self": null,
            "height": null,
            "min_height": null,
            "padding": null,
            "grid_auto_rows": null,
            "grid_gap": null,
            "max_width": null,
            "order": null,
            "_view_module_version": "1.2.0",
            "grid_template_areas": null,
            "object_position": null,
            "object_fit": null,
            "grid_auto_columns": null,
            "margin": null,
            "display": null,
            "left": null
          }
        },
        "eeacf6ec52894509aa7fc3f85a6a1825": {
          "model_module": "@jupyter-widgets/controls",
          "model_name": "FloatProgressModel",
          "state": {
            "_view_name": "ProgressView",
            "style": "IPY_MODEL_3d15a5fbcfb04e8da9253ee86762fe2c",
            "_dom_classes": [],
            "description": "100%",
            "_model_name": "FloatProgressModel",
            "bar_style": "success",
            "max": 54844,
            "_view_module": "@jupyter-widgets/controls",
            "_model_module_version": "1.5.0",
            "value": 54844,
            "_view_count": null,
            "_view_module_version": "1.5.0",
            "orientation": "horizontal",
            "min": 0,
            "description_tooltip": null,
            "_model_module": "@jupyter-widgets/controls",
            "layout": "IPY_MODEL_fb50dcda928d441eb80480b405480d20"
          }
        },
        "f1f8fdaef1e740b8ad160f1bd33b3b0b": {
          "model_module": "@jupyter-widgets/controls",
          "model_name": "HTMLModel",
          "state": {
            "_view_name": "HTMLView",
            "style": "IPY_MODEL_3331a2e2f0bf4b89823adf9af169a675",
            "_dom_classes": [],
            "description": "",
            "_model_name": "HTMLModel",
            "placeholder": "​",
            "_view_module": "@jupyter-widgets/controls",
            "_model_module_version": "1.5.0",
            "value": " 54844/54844 [05:45&lt;00:00, 158.75it/s]",
            "_view_count": null,
            "_view_module_version": "1.5.0",
            "description_tooltip": null,
            "_model_module": "@jupyter-widgets/controls",
            "layout": "IPY_MODEL_a0222e095ce74f659df1dc34bc633a3e"
          }
        },
        "3d15a5fbcfb04e8da9253ee86762fe2c": {
          "model_module": "@jupyter-widgets/controls",
          "model_name": "ProgressStyleModel",
          "state": {
            "_view_name": "StyleView",
            "_model_name": "ProgressStyleModel",
            "description_width": "initial",
            "_view_module": "@jupyter-widgets/base",
            "_model_module_version": "1.5.0",
            "_view_count": null,
            "_view_module_version": "1.2.0",
            "bar_color": null,
            "_model_module": "@jupyter-widgets/controls"
          }
        },
        "fb50dcda928d441eb80480b405480d20": {
          "model_module": "@jupyter-widgets/base",
          "model_name": "LayoutModel",
          "state": {
            "_view_name": "LayoutView",
            "grid_template_rows": null,
            "right": null,
            "justify_content": null,
            "_view_module": "@jupyter-widgets/base",
            "overflow": null,
            "_model_module_version": "1.2.0",
            "_view_count": null,
            "flex_flow": null,
            "width": null,
            "min_width": null,
            "border": null,
            "align_items": null,
            "bottom": null,
            "_model_module": "@jupyter-widgets/base",
            "top": null,
            "grid_column": null,
            "overflow_y": null,
            "overflow_x": null,
            "grid_auto_flow": null,
            "grid_area": null,
            "grid_template_columns": null,
            "flex": null,
            "_model_name": "LayoutModel",
            "justify_items": null,
            "grid_row": null,
            "max_height": null,
            "align_content": null,
            "visibility": null,
            "align_self": null,
            "height": null,
            "min_height": null,
            "padding": null,
            "grid_auto_rows": null,
            "grid_gap": null,
            "max_width": null,
            "order": null,
            "_view_module_version": "1.2.0",
            "grid_template_areas": null,
            "object_position": null,
            "object_fit": null,
            "grid_auto_columns": null,
            "margin": null,
            "display": null,
            "left": null
          }
        },
        "3331a2e2f0bf4b89823adf9af169a675": {
          "model_module": "@jupyter-widgets/controls",
          "model_name": "DescriptionStyleModel",
          "state": {
            "_view_name": "StyleView",
            "_model_name": "DescriptionStyleModel",
            "description_width": "",
            "_view_module": "@jupyter-widgets/base",
            "_model_module_version": "1.5.0",
            "_view_count": null,
            "_view_module_version": "1.2.0",
            "_model_module": "@jupyter-widgets/controls"
          }
        },
        "a0222e095ce74f659df1dc34bc633a3e": {
          "model_module": "@jupyter-widgets/base",
          "model_name": "LayoutModel",
          "state": {
            "_view_name": "LayoutView",
            "grid_template_rows": null,
            "right": null,
            "justify_content": null,
            "_view_module": "@jupyter-widgets/base",
            "overflow": null,
            "_model_module_version": "1.2.0",
            "_view_count": null,
            "flex_flow": null,
            "width": null,
            "min_width": null,
            "border": null,
            "align_items": null,
            "bottom": null,
            "_model_module": "@jupyter-widgets/base",
            "top": null,
            "grid_column": null,
            "overflow_y": null,
            "overflow_x": null,
            "grid_auto_flow": null,
            "grid_area": null,
            "grid_template_columns": null,
            "flex": null,
            "_model_name": "LayoutModel",
            "justify_items": null,
            "grid_row": null,
            "max_height": null,
            "align_content": null,
            "visibility": null,
            "align_self": null,
            "height": null,
            "min_height": null,
            "padding": null,
            "grid_auto_rows": null,
            "grid_gap": null,
            "max_width": null,
            "order": null,
            "_view_module_version": "1.2.0",
            "grid_template_areas": null,
            "object_position": null,
            "object_fit": null,
            "grid_auto_columns": null,
            "margin": null,
            "display": null,
            "left": null
          }
        },
        "6a37683745f34724ab24bfeb7761d3d1": {
          "model_module": "@jupyter-widgets/controls",
          "model_name": "HBoxModel",
          "state": {
            "_view_name": "HBoxView",
            "_dom_classes": [],
            "_model_name": "HBoxModel",
            "_view_module": "@jupyter-widgets/controls",
            "_model_module_version": "1.5.0",
            "_view_count": null,
            "_view_module_version": "1.5.0",
            "box_style": "",
            "layout": "IPY_MODEL_77f011b2be524046a7f928ac461a2b81",
            "_model_module": "@jupyter-widgets/controls",
            "children": [
              "IPY_MODEL_fa7138beed5a411485291e94279e0c47",
              "IPY_MODEL_766ba5188cd242dca2dd9b9a2d942b37"
            ]
          }
        },
        "77f011b2be524046a7f928ac461a2b81": {
          "model_module": "@jupyter-widgets/base",
          "model_name": "LayoutModel",
          "state": {
            "_view_name": "LayoutView",
            "grid_template_rows": null,
            "right": null,
            "justify_content": null,
            "_view_module": "@jupyter-widgets/base",
            "overflow": null,
            "_model_module_version": "1.2.0",
            "_view_count": null,
            "flex_flow": null,
            "width": null,
            "min_width": null,
            "border": null,
            "align_items": null,
            "bottom": null,
            "_model_module": "@jupyter-widgets/base",
            "top": null,
            "grid_column": null,
            "overflow_y": null,
            "overflow_x": null,
            "grid_auto_flow": null,
            "grid_area": null,
            "grid_template_columns": null,
            "flex": null,
            "_model_name": "LayoutModel",
            "justify_items": null,
            "grid_row": null,
            "max_height": null,
            "align_content": null,
            "visibility": null,
            "align_self": null,
            "height": null,
            "min_height": null,
            "padding": null,
            "grid_auto_rows": null,
            "grid_gap": null,
            "max_width": null,
            "order": null,
            "_view_module_version": "1.2.0",
            "grid_template_areas": null,
            "object_position": null,
            "object_fit": null,
            "grid_auto_columns": null,
            "margin": null,
            "display": null,
            "left": null
          }
        },
        "fa7138beed5a411485291e94279e0c47": {
          "model_module": "@jupyter-widgets/controls",
          "model_name": "FloatProgressModel",
          "state": {
            "_view_name": "ProgressView",
            "style": "IPY_MODEL_743b5615a5dd462e88c0489a2b0dda7b",
            "_dom_classes": [],
            "description": "100%",
            "_model_name": "FloatProgressModel",
            "bar_style": "success",
            "max": 54844,
            "_view_module": "@jupyter-widgets/controls",
            "_model_module_version": "1.5.0",
            "value": 54844,
            "_view_count": null,
            "_view_module_version": "1.5.0",
            "orientation": "horizontal",
            "min": 0,
            "description_tooltip": null,
            "_model_module": "@jupyter-widgets/controls",
            "layout": "IPY_MODEL_cf92c052100442ec85904f61187d78ae"
          }
        },
        "766ba5188cd242dca2dd9b9a2d942b37": {
          "model_module": "@jupyter-widgets/controls",
          "model_name": "HTMLModel",
          "state": {
            "_view_name": "HTMLView",
            "style": "IPY_MODEL_335485ac188d4d7b9cecd0e76cd802b4",
            "_dom_classes": [],
            "description": "",
            "_model_name": "HTMLModel",
            "placeholder": "​",
            "_view_module": "@jupyter-widgets/controls",
            "_model_module_version": "1.5.0",
            "value": " 54844/54844 [13:05&lt;00:00, 69.79it/s]",
            "_view_count": null,
            "_view_module_version": "1.5.0",
            "description_tooltip": null,
            "_model_module": "@jupyter-widgets/controls",
            "layout": "IPY_MODEL_f340dfca29a64ec58626e645b0fd9d77"
          }
        },
        "743b5615a5dd462e88c0489a2b0dda7b": {
          "model_module": "@jupyter-widgets/controls",
          "model_name": "ProgressStyleModel",
          "state": {
            "_view_name": "StyleView",
            "_model_name": "ProgressStyleModel",
            "description_width": "initial",
            "_view_module": "@jupyter-widgets/base",
            "_model_module_version": "1.5.0",
            "_view_count": null,
            "_view_module_version": "1.2.0",
            "bar_color": null,
            "_model_module": "@jupyter-widgets/controls"
          }
        },
        "cf92c052100442ec85904f61187d78ae": {
          "model_module": "@jupyter-widgets/base",
          "model_name": "LayoutModel",
          "state": {
            "_view_name": "LayoutView",
            "grid_template_rows": null,
            "right": null,
            "justify_content": null,
            "_view_module": "@jupyter-widgets/base",
            "overflow": null,
            "_model_module_version": "1.2.0",
            "_view_count": null,
            "flex_flow": null,
            "width": null,
            "min_width": null,
            "border": null,
            "align_items": null,
            "bottom": null,
            "_model_module": "@jupyter-widgets/base",
            "top": null,
            "grid_column": null,
            "overflow_y": null,
            "overflow_x": null,
            "grid_auto_flow": null,
            "grid_area": null,
            "grid_template_columns": null,
            "flex": null,
            "_model_name": "LayoutModel",
            "justify_items": null,
            "grid_row": null,
            "max_height": null,
            "align_content": null,
            "visibility": null,
            "align_self": null,
            "height": null,
            "min_height": null,
            "padding": null,
            "grid_auto_rows": null,
            "grid_gap": null,
            "max_width": null,
            "order": null,
            "_view_module_version": "1.2.0",
            "grid_template_areas": null,
            "object_position": null,
            "object_fit": null,
            "grid_auto_columns": null,
            "margin": null,
            "display": null,
            "left": null
          }
        },
        "335485ac188d4d7b9cecd0e76cd802b4": {
          "model_module": "@jupyter-widgets/controls",
          "model_name": "DescriptionStyleModel",
          "state": {
            "_view_name": "StyleView",
            "_model_name": "DescriptionStyleModel",
            "description_width": "",
            "_view_module": "@jupyter-widgets/base",
            "_model_module_version": "1.5.0",
            "_view_count": null,
            "_view_module_version": "1.2.0",
            "_model_module": "@jupyter-widgets/controls"
          }
        },
        "f340dfca29a64ec58626e645b0fd9d77": {
          "model_module": "@jupyter-widgets/base",
          "model_name": "LayoutModel",
          "state": {
            "_view_name": "LayoutView",
            "grid_template_rows": null,
            "right": null,
            "justify_content": null,
            "_view_module": "@jupyter-widgets/base",
            "overflow": null,
            "_model_module_version": "1.2.0",
            "_view_count": null,
            "flex_flow": null,
            "width": null,
            "min_width": null,
            "border": null,
            "align_items": null,
            "bottom": null,
            "_model_module": "@jupyter-widgets/base",
            "top": null,
            "grid_column": null,
            "overflow_y": null,
            "overflow_x": null,
            "grid_auto_flow": null,
            "grid_area": null,
            "grid_template_columns": null,
            "flex": null,
            "_model_name": "LayoutModel",
            "justify_items": null,
            "grid_row": null,
            "max_height": null,
            "align_content": null,
            "visibility": null,
            "align_self": null,
            "height": null,
            "min_height": null,
            "padding": null,
            "grid_auto_rows": null,
            "grid_gap": null,
            "max_width": null,
            "order": null,
            "_view_module_version": "1.2.0",
            "grid_template_areas": null,
            "object_position": null,
            "object_fit": null,
            "grid_auto_columns": null,
            "margin": null,
            "display": null,
            "left": null
          }
        }
      }
    }
  },
  "cells": [
    {
      "cell_type": "markdown",
      "metadata": {
        "id": "M_Di_6UFw8WL"
      },
      "source": [
        "# Text Preprocesing\n",
        "\n"
      ]
    },
    {
      "cell_type": "markdown",
      "metadata": {
        "id": "IGwvHc-AqmGt"
      },
      "source": [
        "## Installing Dependency\n"
      ]
    },
    {
      "cell_type": "code",
      "metadata": {
        "colab": {
          "base_uri": "https://localhost:8080/"
        },
        "id": "2wwbZlNAxhQU",
        "outputId": "d68cd03e-726e-4d3a-c4b8-8456c0602e60"
      },
      "source": [
        "!pip install emoji\n",
        "!pip install talos\n",
        "!pip install symspellpy\n",
        "!pip install -U spacy\n",
        "!pip install -U spacy-lookups-data\n",
        "#python -m spacy download zh_core_web_sm\n",
        "!python -m spacy download en_core_web_lg"
      ],
      "execution_count": 1,
      "outputs": [
        {
          "output_type": "stream",
          "text": [
            "Collecting emoji\n",
            "\u001b[?25l  Downloading https://files.pythonhosted.org/packages/ff/1c/1f1457fe52d0b30cbeebfd578483cedb3e3619108d2d5a21380dfecf8ffd/emoji-0.6.0.tar.gz (51kB)\n",
            "\r\u001b[K     |██████▍                         | 10kB 15.7MB/s eta 0:00:01\r\u001b[K     |████████████▉                   | 20kB 9.3MB/s eta 0:00:01\r\u001b[K     |███████████████████▎            | 30kB 7.7MB/s eta 0:00:01\r\u001b[K     |█████████████████████████▊      | 40kB 6.9MB/s eta 0:00:01\r\u001b[K     |████████████████████████████████| 51kB 2.8MB/s \n",
            "\u001b[?25hBuilding wheels for collected packages: emoji\n",
            "  Building wheel for emoji (setup.py) ... \u001b[?25l\u001b[?25hdone\n",
            "  Created wheel for emoji: filename=emoji-0.6.0-cp36-none-any.whl size=49716 sha256=48fe42d41c12b8e5982f7d91d91ee99d976fd37ad632d4f0727548a013bb017a\n",
            "  Stored in directory: /root/.cache/pip/wheels/46/2c/8b/9dcf5216ca68e14e0320e283692dce8ae321cdc01e73e17796\n",
            "Successfully built emoji\n",
            "Installing collected packages: emoji\n",
            "Successfully installed emoji-0.6.0\n",
            "Collecting talos\n",
            "\u001b[?25l  Downloading https://files.pythonhosted.org/packages/4e/90/2455415b2a2170ad649b66d79ea74ff1af546c012836a2b621323a5fabfd/talos-1.0-py3-none-any.whl (53kB)\n",
            "\u001b[K     |████████████████████████████████| 61kB 3.4MB/s \n",
            "\u001b[?25hCollecting statsmodels>=0.11.0\n",
            "\u001b[?25l  Downloading https://files.pythonhosted.org/packages/be/4c/9e2435ca6645d6bafa2b51bb11f0a365b28934a2ffe9d6e339d67130926d/statsmodels-0.12.1-cp36-cp36m-manylinux1_x86_64.whl (9.5MB)\n",
            "\u001b[K     |████████████████████████████████| 9.5MB 6.9MB/s \n",
            "\u001b[?25hCollecting kerasplotlib\n",
            "  Downloading https://files.pythonhosted.org/packages/7b/b7/31663d3b5ea9afd8c2c6ffa06d3c4e118ef363e12dc75b7c49fb6a2d22aa/kerasplotlib-0.1.6.tar.gz\n",
            "Requirement already satisfied: pandas in /usr/local/lib/python3.6/dist-packages (from talos) (1.1.4)\n",
            "Requirement already satisfied: tqdm in /usr/local/lib/python3.6/dist-packages (from talos) (4.41.1)\n",
            "Collecting astetik\n",
            "\u001b[?25l  Downloading https://files.pythonhosted.org/packages/03/c1/b40ed42915c66d54728a6059de0d35088b329a677f01e9c6f50a71b5b361/astetik-1.11.1-py3-none-any.whl (5.4MB)\n",
            "\u001b[K     |████████████████████████████████| 5.4MB 19.6MB/s \n",
            "\u001b[?25hCollecting chances\n",
            "  Downloading https://files.pythonhosted.org/packages/fa/d8/d61112d7476dc3074b855f1edd8556cde9b49b7106853f0b060109dd4c82/chances-0.1.9.tar.gz\n",
            "Requirement already satisfied: requests in /usr/local/lib/python3.6/dist-packages (from talos) (2.23.0)\n",
            "Requirement already satisfied: sklearn in /usr/local/lib/python3.6/dist-packages (from talos) (0.0)\n",
            "Requirement already satisfied: numpy in /usr/local/lib/python3.6/dist-packages (from talos) (1.18.5)\n",
            "Requirement already satisfied: tensorflow>=2.0.0 in /usr/local/lib/python3.6/dist-packages (from talos) (2.3.0)\n",
            "Collecting wrangle\n",
            "  Downloading https://files.pythonhosted.org/packages/85/35/bc729e377417613f2d062a890faea5d649ef1a554df21499e9c3a4a5501a/wrangle-0.6.7.tar.gz\n",
            "Requirement already satisfied: patsy>=0.5 in /usr/local/lib/python3.6/dist-packages (from statsmodels>=0.11.0->talos) (0.5.1)\n",
            "Requirement already satisfied: scipy>=1.1 in /usr/local/lib/python3.6/dist-packages (from statsmodels>=0.11.0->talos) (1.4.1)\n",
            "Requirement already satisfied: ipython in /usr/local/lib/python3.6/dist-packages (from kerasplotlib->talos) (5.5.0)\n",
            "Requirement already satisfied: python-dateutil>=2.7.3 in /usr/local/lib/python3.6/dist-packages (from pandas->talos) (2.8.1)\n",
            "Requirement already satisfied: pytz>=2017.2 in /usr/local/lib/python3.6/dist-packages (from pandas->talos) (2018.9)\n",
            "Collecting geonamescache\n",
            "\u001b[?25l  Downloading https://files.pythonhosted.org/packages/ab/ba/b7939087621bfeb24c0f52c4b879865a9f902cda72efd119f4275400e692/geonamescache-1.2.0-py3-none-any.whl (2.6MB)\n",
            "\u001b[K     |████████████████████████████████| 2.6MB 36.6MB/s \n",
            "\u001b[?25hRequirement already satisfied: seaborn in /usr/local/lib/python3.6/dist-packages (from astetik->talos) (0.11.0)\n",
            "Requirement already satisfied: certifi>=2017.4.17 in /usr/local/lib/python3.6/dist-packages (from requests->talos) (2020.6.20)\n",
            "Requirement already satisfied: urllib3!=1.25.0,!=1.25.1,<1.26,>=1.21.1 in /usr/local/lib/python3.6/dist-packages (from requests->talos) (1.24.3)\n",
            "Requirement already satisfied: chardet<4,>=3.0.2 in /usr/local/lib/python3.6/dist-packages (from requests->talos) (3.0.4)\n",
            "Requirement already satisfied: idna<3,>=2.5 in /usr/local/lib/python3.6/dist-packages (from requests->talos) (2.10)\n",
            "Requirement already satisfied: scikit-learn in /usr/local/lib/python3.6/dist-packages (from sklearn->talos) (0.22.2.post1)\n",
            "Requirement already satisfied: termcolor>=1.1.0 in /usr/local/lib/python3.6/dist-packages (from tensorflow>=2.0.0->talos) (1.1.0)\n",
            "Requirement already satisfied: absl-py>=0.7.0 in /usr/local/lib/python3.6/dist-packages (from tensorflow>=2.0.0->talos) (0.10.0)\n",
            "Requirement already satisfied: protobuf>=3.9.2 in /usr/local/lib/python3.6/dist-packages (from tensorflow>=2.0.0->talos) (3.12.4)\n",
            "Requirement already satisfied: wheel>=0.26 in /usr/local/lib/python3.6/dist-packages (from tensorflow>=2.0.0->talos) (0.35.1)\n",
            "Requirement already satisfied: astunparse==1.6.3 in /usr/local/lib/python3.6/dist-packages (from tensorflow>=2.0.0->talos) (1.6.3)\n",
            "Requirement already satisfied: tensorboard<3,>=2.3.0 in /usr/local/lib/python3.6/dist-packages (from tensorflow>=2.0.0->talos) (2.3.0)\n",
            "Requirement already satisfied: google-pasta>=0.1.8 in /usr/local/lib/python3.6/dist-packages (from tensorflow>=2.0.0->talos) (0.2.0)\n",
            "Requirement already satisfied: grpcio>=1.8.6 in /usr/local/lib/python3.6/dist-packages (from tensorflow>=2.0.0->talos) (1.33.2)\n",
            "Requirement already satisfied: h5py<2.11.0,>=2.10.0 in /usr/local/lib/python3.6/dist-packages (from tensorflow>=2.0.0->talos) (2.10.0)\n",
            "Requirement already satisfied: wrapt>=1.11.1 in /usr/local/lib/python3.6/dist-packages (from tensorflow>=2.0.0->talos) (1.12.1)\n",
            "Requirement already satisfied: six>=1.12.0 in /usr/local/lib/python3.6/dist-packages (from tensorflow>=2.0.0->talos) (1.15.0)\n",
            "Requirement already satisfied: opt-einsum>=2.3.2 in /usr/local/lib/python3.6/dist-packages (from tensorflow>=2.0.0->talos) (3.3.0)\n",
            "Requirement already satisfied: gast==0.3.3 in /usr/local/lib/python3.6/dist-packages (from tensorflow>=2.0.0->talos) (0.3.3)\n",
            "Requirement already satisfied: keras-preprocessing<1.2,>=1.1.1 in /usr/local/lib/python3.6/dist-packages (from tensorflow>=2.0.0->talos) (1.1.2)\n",
            "Requirement already satisfied: tensorflow-estimator<2.4.0,>=2.3.0 in /usr/local/lib/python3.6/dist-packages (from tensorflow>=2.0.0->talos) (2.3.0)\n",
            "Requirement already satisfied: keras in /usr/local/lib/python3.6/dist-packages (from wrangle->talos) (2.4.3)\n",
            "Requirement already satisfied: traitlets>=4.2 in /usr/local/lib/python3.6/dist-packages (from ipython->kerasplotlib->talos) (4.3.3)\n",
            "Requirement already satisfied: pexpect; sys_platform != \"win32\" in /usr/local/lib/python3.6/dist-packages (from ipython->kerasplotlib->talos) (4.8.0)\n",
            "Requirement already satisfied: simplegeneric>0.8 in /usr/local/lib/python3.6/dist-packages (from ipython->kerasplotlib->talos) (0.8.1)\n",
            "Requirement already satisfied: pickleshare in /usr/local/lib/python3.6/dist-packages (from ipython->kerasplotlib->talos) (0.7.5)\n",
            "Requirement already satisfied: prompt-toolkit<2.0.0,>=1.0.4 in /usr/local/lib/python3.6/dist-packages (from ipython->kerasplotlib->talos) (1.0.18)\n",
            "Requirement already satisfied: decorator in /usr/local/lib/python3.6/dist-packages (from ipython->kerasplotlib->talos) (4.4.2)\n",
            "Requirement already satisfied: setuptools>=18.5 in /usr/local/lib/python3.6/dist-packages (from ipython->kerasplotlib->talos) (50.3.2)\n",
            "Requirement already satisfied: pygments in /usr/local/lib/python3.6/dist-packages (from ipython->kerasplotlib->talos) (2.6.1)\n",
            "Requirement already satisfied: matplotlib>=2.2 in /usr/local/lib/python3.6/dist-packages (from seaborn->astetik->talos) (3.2.2)\n",
            "Requirement already satisfied: joblib>=0.11 in /usr/local/lib/python3.6/dist-packages (from scikit-learn->sklearn->talos) (0.17.0)\n",
            "Requirement already satisfied: google-auth<2,>=1.6.3 in /usr/local/lib/python3.6/dist-packages (from tensorboard<3,>=2.3.0->tensorflow>=2.0.0->talos) (1.17.2)\n",
            "Requirement already satisfied: tensorboard-plugin-wit>=1.6.0 in /usr/local/lib/python3.6/dist-packages (from tensorboard<3,>=2.3.0->tensorflow>=2.0.0->talos) (1.7.0)\n",
            "Requirement already satisfied: werkzeug>=0.11.15 in /usr/local/lib/python3.6/dist-packages (from tensorboard<3,>=2.3.0->tensorflow>=2.0.0->talos) (1.0.1)\n",
            "Requirement already satisfied: google-auth-oauthlib<0.5,>=0.4.1 in /usr/local/lib/python3.6/dist-packages (from tensorboard<3,>=2.3.0->tensorflow>=2.0.0->talos) (0.4.2)\n",
            "Requirement already satisfied: markdown>=2.6.8 in /usr/local/lib/python3.6/dist-packages (from tensorboard<3,>=2.3.0->tensorflow>=2.0.0->talos) (3.3.3)\n",
            "Requirement already satisfied: pyyaml in /usr/local/lib/python3.6/dist-packages (from keras->wrangle->talos) (3.13)\n",
            "Requirement already satisfied: ipython-genutils in /usr/local/lib/python3.6/dist-packages (from traitlets>=4.2->ipython->kerasplotlib->talos) (0.2.0)\n",
            "Requirement already satisfied: ptyprocess>=0.5 in /usr/local/lib/python3.6/dist-packages (from pexpect; sys_platform != \"win32\"->ipython->kerasplotlib->talos) (0.6.0)\n",
            "Requirement already satisfied: wcwidth in /usr/local/lib/python3.6/dist-packages (from prompt-toolkit<2.0.0,>=1.0.4->ipython->kerasplotlib->talos) (0.2.5)\n",
            "Requirement already satisfied: pyparsing!=2.0.4,!=2.1.2,!=2.1.6,>=2.0.1 in /usr/local/lib/python3.6/dist-packages (from matplotlib>=2.2->seaborn->astetik->talos) (2.4.7)\n",
            "Requirement already satisfied: cycler>=0.10 in /usr/local/lib/python3.6/dist-packages (from matplotlib>=2.2->seaborn->astetik->talos) (0.10.0)\n",
            "Requirement already satisfied: kiwisolver>=1.0.1 in /usr/local/lib/python3.6/dist-packages (from matplotlib>=2.2->seaborn->astetik->talos) (1.3.1)\n",
            "Requirement already satisfied: pyasn1-modules>=0.2.1 in /usr/local/lib/python3.6/dist-packages (from google-auth<2,>=1.6.3->tensorboard<3,>=2.3.0->tensorflow>=2.0.0->talos) (0.2.8)\n",
            "Requirement already satisfied: rsa<5,>=3.1.4; python_version >= \"3\" in /usr/local/lib/python3.6/dist-packages (from google-auth<2,>=1.6.3->tensorboard<3,>=2.3.0->tensorflow>=2.0.0->talos) (4.6)\n",
            "Requirement already satisfied: cachetools<5.0,>=2.0.0 in /usr/local/lib/python3.6/dist-packages (from google-auth<2,>=1.6.3->tensorboard<3,>=2.3.0->tensorflow>=2.0.0->talos) (4.1.1)\n",
            "Requirement already satisfied: requests-oauthlib>=0.7.0 in /usr/local/lib/python3.6/dist-packages (from google-auth-oauthlib<0.5,>=0.4.1->tensorboard<3,>=2.3.0->tensorflow>=2.0.0->talos) (1.3.0)\n",
            "Requirement already satisfied: importlib-metadata; python_version < \"3.8\" in /usr/local/lib/python3.6/dist-packages (from markdown>=2.6.8->tensorboard<3,>=2.3.0->tensorflow>=2.0.0->talos) (2.0.0)\n",
            "Requirement already satisfied: pyasn1<0.5.0,>=0.4.6 in /usr/local/lib/python3.6/dist-packages (from pyasn1-modules>=0.2.1->google-auth<2,>=1.6.3->tensorboard<3,>=2.3.0->tensorflow>=2.0.0->talos) (0.4.8)\n",
            "Requirement already satisfied: oauthlib>=3.0.0 in /usr/local/lib/python3.6/dist-packages (from requests-oauthlib>=0.7.0->google-auth-oauthlib<0.5,>=0.4.1->tensorboard<3,>=2.3.0->tensorflow>=2.0.0->talos) (3.1.0)\n",
            "Requirement already satisfied: zipp>=0.5 in /usr/local/lib/python3.6/dist-packages (from importlib-metadata; python_version < \"3.8\"->markdown>=2.6.8->tensorboard<3,>=2.3.0->tensorflow>=2.0.0->talos) (3.4.0)\n",
            "Building wheels for collected packages: kerasplotlib, chances, wrangle\n",
            "  Building wheel for kerasplotlib (setup.py) ... \u001b[?25l\u001b[?25hdone\n",
            "  Created wheel for kerasplotlib: filename=kerasplotlib-0.1.6-cp36-none-any.whl size=3603 sha256=e84289dc2d358d5866b249575bd238649af66b38fd8e58e6db2befef76c0510e\n",
            "  Stored in directory: /root/.cache/pip/wheels/9d/d3/8c/9503a22b0a38e8b21c70ad834e4606d209193443e5c709305d\n",
            "  Building wheel for chances (setup.py) ... \u001b[?25l\u001b[?25hdone\n",
            "  Created wheel for chances: filename=chances-0.1.9-cp36-none-any.whl size=41610 sha256=907d3db9db1ff6b954118679d3f319c97c82d1872ffdb306f272ae0d897ac67b\n",
            "  Stored in directory: /root/.cache/pip/wheels/75/33/46/c871b94249bd57d17797d049b3dff8e3a09c315afb67eb14c6\n",
            "  Building wheel for wrangle (setup.py) ... \u001b[?25l\u001b[?25hdone\n",
            "  Created wheel for wrangle: filename=wrangle-0.6.7-cp36-none-any.whl size=49894 sha256=0d3051a162acaf3df8dcd6fe3304a7f7d193d3d8351a6a23bdbeadb2dfcdece4\n",
            "  Stored in directory: /root/.cache/pip/wheels/bf/1b/50/d0403ce6ef269e364894da7b50db68db14c4ac62c577561e2d\n",
            "Successfully built kerasplotlib chances wrangle\n",
            "\u001b[31mERROR: wrangle 0.6.7 has requirement scipy==1.2, but you'll have scipy 1.4.1 which is incompatible.\u001b[0m\n",
            "Installing collected packages: statsmodels, kerasplotlib, geonamescache, wrangle, astetik, chances, talos\n",
            "  Found existing installation: statsmodels 0.10.2\n",
            "    Uninstalling statsmodels-0.10.2:\n",
            "      Successfully uninstalled statsmodels-0.10.2\n",
            "Successfully installed astetik-1.11.1 chances-0.1.9 geonamescache-1.2.0 kerasplotlib-0.1.6 statsmodels-0.12.1 talos-1.0 wrangle-0.6.7\n",
            "Collecting symspellpy\n",
            "\u001b[?25l  Downloading https://files.pythonhosted.org/packages/99/af/e71fcca6a42b6a63f518b0c1627e1f67822815cb0cf71e6af05acbd75c78/symspellpy-6.7.0-py3-none-any.whl (2.6MB)\n",
            "\u001b[K     |████████████████████████████████| 2.6MB 6.0MB/s \n",
            "\u001b[?25hRequirement already satisfied: numpy>=1.13.1 in /usr/local/lib/python3.6/dist-packages (from symspellpy) (1.18.5)\n",
            "Installing collected packages: symspellpy\n",
            "Successfully installed symspellpy-6.7.0\n",
            "Collecting spacy\n",
            "\u001b[?25l  Downloading https://files.pythonhosted.org/packages/10/b5/c7a92c7ce5d4b353b70b4b5b4385687206c8b230ddfe08746ab0fd310a3a/spacy-2.3.2-cp36-cp36m-manylinux1_x86_64.whl (9.9MB)\n",
            "\u001b[K     |████████████████████████████████| 10.0MB 5.1MB/s \n",
            "\u001b[?25hRequirement already satisfied, skipping upgrade: numpy>=1.15.0 in /usr/local/lib/python3.6/dist-packages (from spacy) (1.18.5)\n",
            "Requirement already satisfied, skipping upgrade: murmurhash<1.1.0,>=0.28.0 in /usr/local/lib/python3.6/dist-packages (from spacy) (1.0.3)\n",
            "Requirement already satisfied, skipping upgrade: catalogue<1.1.0,>=0.0.7 in /usr/local/lib/python3.6/dist-packages (from spacy) (1.0.0)\n",
            "Requirement already satisfied, skipping upgrade: requests<3.0.0,>=2.13.0 in /usr/local/lib/python3.6/dist-packages (from spacy) (2.23.0)\n",
            "Requirement already satisfied, skipping upgrade: cymem<2.1.0,>=2.0.2 in /usr/local/lib/python3.6/dist-packages (from spacy) (2.0.4)\n",
            "Requirement already satisfied, skipping upgrade: setuptools in /usr/local/lib/python3.6/dist-packages (from spacy) (50.3.2)\n",
            "Collecting thinc==7.4.1\n",
            "\u001b[?25l  Downloading https://files.pythonhosted.org/packages/10/ae/ef3ae5e93639c0ef8e3eb32e3c18341e511b3c515fcfc603f4b808087651/thinc-7.4.1-cp36-cp36m-manylinux1_x86_64.whl (2.1MB)\n",
            "\u001b[K     |████████████████████████████████| 2.1MB 20.2MB/s \n",
            "\u001b[?25hRequirement already satisfied, skipping upgrade: blis<0.5.0,>=0.4.0 in /usr/local/lib/python3.6/dist-packages (from spacy) (0.4.1)\n",
            "Requirement already satisfied, skipping upgrade: preshed<3.1.0,>=3.0.2 in /usr/local/lib/python3.6/dist-packages (from spacy) (3.0.2)\n",
            "Requirement already satisfied, skipping upgrade: plac<1.2.0,>=0.9.6 in /usr/local/lib/python3.6/dist-packages (from spacy) (1.1.3)\n",
            "Requirement already satisfied, skipping upgrade: tqdm<5.0.0,>=4.38.0 in /usr/local/lib/python3.6/dist-packages (from spacy) (4.41.1)\n",
            "Requirement already satisfied, skipping upgrade: wasabi<1.1.0,>=0.4.0 in /usr/local/lib/python3.6/dist-packages (from spacy) (0.8.0)\n",
            "Requirement already satisfied, skipping upgrade: srsly<1.1.0,>=1.0.2 in /usr/local/lib/python3.6/dist-packages (from spacy) (1.0.2)\n",
            "Requirement already satisfied, skipping upgrade: importlib-metadata>=0.20; python_version < \"3.8\" in /usr/local/lib/python3.6/dist-packages (from catalogue<1.1.0,>=0.0.7->spacy) (2.0.0)\n",
            "Requirement already satisfied, skipping upgrade: certifi>=2017.4.17 in /usr/local/lib/python3.6/dist-packages (from requests<3.0.0,>=2.13.0->spacy) (2020.6.20)\n",
            "Requirement already satisfied, skipping upgrade: idna<3,>=2.5 in /usr/local/lib/python3.6/dist-packages (from requests<3.0.0,>=2.13.0->spacy) (2.10)\n",
            "Requirement already satisfied, skipping upgrade: urllib3!=1.25.0,!=1.25.1,<1.26,>=1.21.1 in /usr/local/lib/python3.6/dist-packages (from requests<3.0.0,>=2.13.0->spacy) (1.24.3)\n",
            "Requirement already satisfied, skipping upgrade: chardet<4,>=3.0.2 in /usr/local/lib/python3.6/dist-packages (from requests<3.0.0,>=2.13.0->spacy) (3.0.4)\n",
            "Requirement already satisfied, skipping upgrade: zipp>=0.5 in /usr/local/lib/python3.6/dist-packages (from importlib-metadata>=0.20; python_version < \"3.8\"->catalogue<1.1.0,>=0.0.7->spacy) (3.4.0)\n",
            "Installing collected packages: thinc, spacy\n",
            "  Found existing installation: thinc 7.4.0\n",
            "    Uninstalling thinc-7.4.0:\n",
            "      Successfully uninstalled thinc-7.4.0\n",
            "  Found existing installation: spacy 2.2.4\n",
            "    Uninstalling spacy-2.2.4:\n",
            "      Successfully uninstalled spacy-2.2.4\n",
            "Successfully installed spacy-2.3.2 thinc-7.4.1\n",
            "Collecting spacy-lookups-data\n",
            "\u001b[?25l  Downloading https://files.pythonhosted.org/packages/41/b7/d5c635e51718c874606fb08249c0fab710286240d54847dc60bad3dfceac/spacy_lookups_data-0.3.2.tar.gz (93.8MB)\n",
            "\u001b[K     |████████████████████████████████| 93.8MB 51kB/s \n",
            "\u001b[?25hRequirement already satisfied, skipping upgrade: setuptools in /usr/local/lib/python3.6/dist-packages (from spacy-lookups-data) (50.3.2)\n",
            "Building wheels for collected packages: spacy-lookups-data\n",
            "  Building wheel for spacy-lookups-data (setup.py) ... \u001b[?25l\u001b[?25hdone\n",
            "  Created wheel for spacy-lookups-data: filename=spacy_lookups_data-0.3.2-py2.py3-none-any.whl size=93807573 sha256=285ca009373bb4fd19ba1a0665be07db33ad39a570c519cfd083c59b85028d5c\n",
            "  Stored in directory: /root/.cache/pip/wheels/5b/f4/d0/bf720a06127c95d9be2a81d197a3f1998ee5fc63410944e28f\n",
            "Successfully built spacy-lookups-data\n",
            "Installing collected packages: spacy-lookups-data\n",
            "Successfully installed spacy-lookups-data-0.3.2\n",
            "Collecting en_core_web_lg==2.3.1\n",
            "\u001b[?25l  Downloading https://github.com/explosion/spacy-models/releases/download/en_core_web_lg-2.3.1/en_core_web_lg-2.3.1.tar.gz (782.7MB)\n",
            "\u001b[K     |████████████████████████████████| 782.7MB 5.9MB/s \n",
            "\u001b[?25hRequirement already satisfied: spacy<2.4.0,>=2.3.0 in /usr/local/lib/python3.6/dist-packages (from en_core_web_lg==2.3.1) (2.3.2)\n",
            "Requirement already satisfied: catalogue<1.1.0,>=0.0.7 in /usr/local/lib/python3.6/dist-packages (from spacy<2.4.0,>=2.3.0->en_core_web_lg==2.3.1) (1.0.0)\n",
            "Requirement already satisfied: murmurhash<1.1.0,>=0.28.0 in /usr/local/lib/python3.6/dist-packages (from spacy<2.4.0,>=2.3.0->en_core_web_lg==2.3.1) (1.0.3)\n",
            "Requirement already satisfied: blis<0.5.0,>=0.4.0 in /usr/local/lib/python3.6/dist-packages (from spacy<2.4.0,>=2.3.0->en_core_web_lg==2.3.1) (0.4.1)\n",
            "Requirement already satisfied: preshed<3.1.0,>=3.0.2 in /usr/local/lib/python3.6/dist-packages (from spacy<2.4.0,>=2.3.0->en_core_web_lg==2.3.1) (3.0.2)\n",
            "Requirement already satisfied: plac<1.2.0,>=0.9.6 in /usr/local/lib/python3.6/dist-packages (from spacy<2.4.0,>=2.3.0->en_core_web_lg==2.3.1) (1.1.3)\n",
            "Requirement already satisfied: wasabi<1.1.0,>=0.4.0 in /usr/local/lib/python3.6/dist-packages (from spacy<2.4.0,>=2.3.0->en_core_web_lg==2.3.1) (0.8.0)\n",
            "Requirement already satisfied: setuptools in /usr/local/lib/python3.6/dist-packages (from spacy<2.4.0,>=2.3.0->en_core_web_lg==2.3.1) (50.3.2)\n",
            "Requirement already satisfied: cymem<2.1.0,>=2.0.2 in /usr/local/lib/python3.6/dist-packages (from spacy<2.4.0,>=2.3.0->en_core_web_lg==2.3.1) (2.0.4)\n",
            "Requirement already satisfied: thinc==7.4.1 in /usr/local/lib/python3.6/dist-packages (from spacy<2.4.0,>=2.3.0->en_core_web_lg==2.3.1) (7.4.1)\n",
            "Requirement already satisfied: tqdm<5.0.0,>=4.38.0 in /usr/local/lib/python3.6/dist-packages (from spacy<2.4.0,>=2.3.0->en_core_web_lg==2.3.1) (4.41.1)\n",
            "Requirement already satisfied: srsly<1.1.0,>=1.0.2 in /usr/local/lib/python3.6/dist-packages (from spacy<2.4.0,>=2.3.0->en_core_web_lg==2.3.1) (1.0.2)\n",
            "Requirement already satisfied: numpy>=1.15.0 in /usr/local/lib/python3.6/dist-packages (from spacy<2.4.0,>=2.3.0->en_core_web_lg==2.3.1) (1.18.5)\n",
            "Requirement already satisfied: requests<3.0.0,>=2.13.0 in /usr/local/lib/python3.6/dist-packages (from spacy<2.4.0,>=2.3.0->en_core_web_lg==2.3.1) (2.23.0)\n",
            "Requirement already satisfied: importlib-metadata>=0.20; python_version < \"3.8\" in /usr/local/lib/python3.6/dist-packages (from catalogue<1.1.0,>=0.0.7->spacy<2.4.0,>=2.3.0->en_core_web_lg==2.3.1) (2.0.0)\n",
            "Requirement already satisfied: idna<3,>=2.5 in /usr/local/lib/python3.6/dist-packages (from requests<3.0.0,>=2.13.0->spacy<2.4.0,>=2.3.0->en_core_web_lg==2.3.1) (2.10)\n",
            "Requirement already satisfied: urllib3!=1.25.0,!=1.25.1,<1.26,>=1.21.1 in /usr/local/lib/python3.6/dist-packages (from requests<3.0.0,>=2.13.0->spacy<2.4.0,>=2.3.0->en_core_web_lg==2.3.1) (1.24.3)\n",
            "Requirement already satisfied: certifi>=2017.4.17 in /usr/local/lib/python3.6/dist-packages (from requests<3.0.0,>=2.13.0->spacy<2.4.0,>=2.3.0->en_core_web_lg==2.3.1) (2020.6.20)\n",
            "Requirement already satisfied: chardet<4,>=3.0.2 in /usr/local/lib/python3.6/dist-packages (from requests<3.0.0,>=2.13.0->spacy<2.4.0,>=2.3.0->en_core_web_lg==2.3.1) (3.0.4)\n",
            "Requirement already satisfied: zipp>=0.5 in /usr/local/lib/python3.6/dist-packages (from importlib-metadata>=0.20; python_version < \"3.8\"->catalogue<1.1.0,>=0.0.7->spacy<2.4.0,>=2.3.0->en_core_web_lg==2.3.1) (3.4.0)\n",
            "Building wheels for collected packages: en-core-web-lg\n",
            "  Building wheel for en-core-web-lg (setup.py) ... \u001b[?25l\u001b[?25hdone\n",
            "  Created wheel for en-core-web-lg: filename=en_core_web_lg-2.3.1-cp36-none-any.whl size=782936125 sha256=468904801fe9adda45b16a23774a7dcade4c46ba832b1a26cb496c5b38624458\n",
            "  Stored in directory: /tmp/pip-ephem-wheel-cache-n7i_k5ta/wheels/ce/4d/1b/bc6cabb6df139c5f0318927be3ae9e51363fb44d6ea328d3f4\n",
            "Successfully built en-core-web-lg\n",
            "Installing collected packages: en-core-web-lg\n",
            "Successfully installed en-core-web-lg-2.3.1\n",
            "\u001b[38;5;2m✔ Download and installation successful\u001b[0m\n",
            "You can now load the model via spacy.load('en_core_web_lg')\n"
          ],
          "name": "stdout"
        }
      ]
    },
    {
      "cell_type": "code",
      "metadata": {
        "colab": {
          "base_uri": "https://localhost:8080/"
        },
        "id": "apfwhmkixojB",
        "outputId": "e15507e3-eed5-4555-d69f-e1099bbc6da5"
      },
      "source": [
        "import pandas as pd\n",
        "import tensorflow as tf\n",
        "import csv\n",
        "import matplotlib.pyplot as plt\n",
        "import numpy as np \n",
        "import emoji\n",
        "import nltk\n",
        "from pathlib import Path\n",
        "import pickle\n",
        "from sklearn import preprocessing\n",
        "from sklearn.model_selection import train_test_split\n",
        "from tensorflow.keras.preprocessing.text import Tokenizer\n",
        "from keras.preprocessing.sequence import pad_sequences\n",
        "from keras import regularizers\n",
        "from symspellpy import SymSpell, Verbosity\n",
        "# text preprocessing\n",
        "from nltk.tokenize import word_tokenize\n",
        "import pkg_resources\n",
        "import re, string, json\n",
        "import spacy\n",
        "from tqdm.notebook import tqdm\n",
        "from nltk.stem import WordNetLemmatizer\n",
        "from sklearn.metrics import accuracy_score, f1_score, confusion_matrix\n",
        "import en_core_web_lg\n",
        "import talos\n",
        "\n",
        "nltk.download('punkt')\n",
        "nltk.download('stopwords')"
      ],
      "execution_count": 2,
      "outputs": [
        {
          "output_type": "stream",
          "text": [
            "[nltk_data] Downloading package punkt to /root/nltk_data...\n",
            "[nltk_data]   Unzipping tokenizers/punkt.zip.\n",
            "[nltk_data] Downloading package stopwords to /root/nltk_data...\n",
            "[nltk_data]   Unzipping corpora/stopwords.zip.\n"
          ],
          "name": "stdout"
        },
        {
          "output_type": "execute_result",
          "data": {
            "text/plain": [
              "True"
            ]
          },
          "metadata": {
            "tags": []
          },
          "execution_count": 2
        }
      ]
    },
    {
      "cell_type": "code",
      "metadata": {
        "id": "mKCETshs85_-"
      },
      "source": [
        "seed=10\n",
        "tf.random.set_seed(seed)"
      ],
      "execution_count": 3,
      "outputs": []
    },
    {
      "cell_type": "markdown",
      "metadata": {
        "id": "kAbPgGzYWL8l"
      },
      "source": [
        "## DATA EXPLORATORY & CLEANING\n",
        "\n",
        "Objective is to make the data as error-free as possible for the model to train on.\n",
        "- explore the data, print out the statistics to understand the dataset composition\n",
        "- Identify characters that do not contain information and does not facilitate in model training \n",
        "<br>(e.g. special symbols, special character, wrong punctuation, werid numbers, wrong spelling)\n",
        "- Remove or fill empty rows with default values\n",
        "- convert the dataset to lower- cased. "
      ]
    },
    {
      "cell_type": "markdown",
      "metadata": {
        "id": "Z7kwW3LIrN5s"
      },
      "source": [
        "### Data Exploratory"
      ]
    },
    {
      "cell_type": "code",
      "metadata": {
        "colab": {
          "base_uri": "https://localhost:8080/"
        },
        "id": "MFoWbWGw87nk",
        "outputId": "f1075512-bbad-48ad-ee82-98a7bba296fd"
      },
      "source": [
        "#reading data from csv file\n",
        "df = pd.read_csv(\"text_emotion.csv\", engine = 'python')\n",
        "\n",
        "#print out the stats of the dataset \n",
        "df.info()"
      ],
      "execution_count": 4,
      "outputs": [
        {
          "output_type": "stream",
          "text": [
            "<class 'pandas.core.frame.DataFrame'>\n",
            "RangeIndex: 40000 entries, 0 to 39999\n",
            "Data columns (total 4 columns):\n",
            " #   Column     Non-Null Count  Dtype \n",
            "---  ------     --------------  ----- \n",
            " 0   tweet_id   40000 non-null  int64 \n",
            " 1   sentiment  40000 non-null  object\n",
            " 2   author     40000 non-null  object\n",
            " 3   content    40000 non-null  object\n",
            "dtypes: int64(1), object(3)\n",
            "memory usage: 1.2+ MB\n"
          ],
          "name": "stdout"
        }
      ]
    },
    {
      "cell_type": "code",
      "metadata": {
        "colab": {
          "base_uri": "https://localhost:8080/",
          "height": 195
        },
        "id": "Fu1BVKtU9gbK",
        "outputId": "be53388a-9ea1-4020-a18f-9c9bcee2cc6b"
      },
      "source": [
        "#show first 5 of the dataset\n",
        "df.head(5)"
      ],
      "execution_count": 5,
      "outputs": [
        {
          "output_type": "execute_result",
          "data": {
            "text/html": [
              "<div>\n",
              "<style scoped>\n",
              "    .dataframe tbody tr th:only-of-type {\n",
              "        vertical-align: middle;\n",
              "    }\n",
              "\n",
              "    .dataframe tbody tr th {\n",
              "        vertical-align: top;\n",
              "    }\n",
              "\n",
              "    .dataframe thead th {\n",
              "        text-align: right;\n",
              "    }\n",
              "</style>\n",
              "<table border=\"1\" class=\"dataframe\">\n",
              "  <thead>\n",
              "    <tr style=\"text-align: right;\">\n",
              "      <th></th>\n",
              "      <th>tweet_id</th>\n",
              "      <th>sentiment</th>\n",
              "      <th>author</th>\n",
              "      <th>content</th>\n",
              "    </tr>\n",
              "  </thead>\n",
              "  <tbody>\n",
              "    <tr>\n",
              "      <th>0</th>\n",
              "      <td>1956967341</td>\n",
              "      <td>empty</td>\n",
              "      <td>xoshayzers</td>\n",
              "      <td>@tiffanylue i know  i was listenin to bad habi...</td>\n",
              "    </tr>\n",
              "    <tr>\n",
              "      <th>1</th>\n",
              "      <td>1956967666</td>\n",
              "      <td>sadness</td>\n",
              "      <td>wannamama</td>\n",
              "      <td>Layin n bed with a headache  ughhhh...waitin o...</td>\n",
              "    </tr>\n",
              "    <tr>\n",
              "      <th>2</th>\n",
              "      <td>1956967696</td>\n",
              "      <td>sadness</td>\n",
              "      <td>coolfunky</td>\n",
              "      <td>Funeral ceremony...gloomy friday...</td>\n",
              "    </tr>\n",
              "    <tr>\n",
              "      <th>3</th>\n",
              "      <td>1956967789</td>\n",
              "      <td>enthusiasm</td>\n",
              "      <td>czareaquino</td>\n",
              "      <td>wants to hang out with friends SOON!</td>\n",
              "    </tr>\n",
              "    <tr>\n",
              "      <th>4</th>\n",
              "      <td>1956968416</td>\n",
              "      <td>neutral</td>\n",
              "      <td>xkilljoyx</td>\n",
              "      <td>@dannycastillo We want to trade with someone w...</td>\n",
              "    </tr>\n",
              "  </tbody>\n",
              "</table>\n",
              "</div>"
            ],
            "text/plain": [
              "     tweet_id  ...                                            content\n",
              "0  1956967341  ...  @tiffanylue i know  i was listenin to bad habi...\n",
              "1  1956967666  ...  Layin n bed with a headache  ughhhh...waitin o...\n",
              "2  1956967696  ...                Funeral ceremony...gloomy friday...\n",
              "3  1956967789  ...               wants to hang out with friends SOON!\n",
              "4  1956968416  ...  @dannycastillo We want to trade with someone w...\n",
              "\n",
              "[5 rows x 4 columns]"
            ]
          },
          "metadata": {
            "tags": []
          },
          "execution_count": 5
        }
      ]
    },
    {
      "cell_type": "code",
      "metadata": {
        "colab": {
          "base_uri": "https://localhost:8080/"
        },
        "id": "0yb9Nb00-Zxu",
        "outputId": "7f17b165-eae7-4e6c-ecc7-b79801e34cda"
      },
      "source": [
        "#explore what are the unique sentiments that is within the dataset\n",
        "df['sentiment'].unique()"
      ],
      "execution_count": 6,
      "outputs": [
        {
          "output_type": "execute_result",
          "data": {
            "text/plain": [
              "array(['empty', 'sadness', 'enthusiasm', 'neutral', 'worry', 'surprise',\n",
              "       'love', 'fun', 'hate', 'happiness', 'boredom', 'relief', 'anger'],\n",
              "      dtype=object)"
            ]
          },
          "metadata": {
            "tags": []
          },
          "execution_count": 6
        }
      ]
    },
    {
      "cell_type": "code",
      "metadata": {
        "colab": {
          "base_uri": "https://localhost:8080/"
        },
        "id": "GsvjI4r6_auG",
        "outputId": "d7931371-1839-4596-aba7-49993ced60e5"
      },
      "source": [
        "#explore what are the unique author/username that is within the dataset\n",
        "len(df['author'].unique())"
      ],
      "execution_count": 7,
      "outputs": [
        {
          "output_type": "execute_result",
          "data": {
            "text/plain": [
              "33871"
            ]
          },
          "metadata": {
            "tags": []
          },
          "execution_count": 7
        }
      ]
    },
    {
      "cell_type": "code",
      "metadata": {
        "colab": {
          "base_uri": "https://localhost:8080/"
        },
        "id": "IKDlJuxG_z2E",
        "outputId": "d0e1976e-2e76-47b0-9501-2a13fca07ff5"
      },
      "source": [
        "#explore what are the unique content that is within the dataset (checking for duplicates)\n",
        "len(df['content'].unique())"
      ],
      "execution_count": 8,
      "outputs": [
        {
          "output_type": "execute_result",
          "data": {
            "text/plain": [
              "39827"
            ]
          },
          "metadata": {
            "tags": []
          },
          "execution_count": 8
        }
      ]
    },
    {
      "cell_type": "code",
      "metadata": {
        "colab": {
          "base_uri": "https://localhost:8080/",
          "height": 343
        },
        "id": "tMPyPX6OFsh6",
        "outputId": "dd3a6f55-9d47-4351-9c92-b8a4b23bc7b6"
      },
      "source": [
        "#check for duplication\n",
        "duplicated = df[df.duplicated(['content','sentiment'])]\n",
        "duplicated.head(10)"
      ],
      "execution_count": 9,
      "outputs": [
        {
          "output_type": "execute_result",
          "data": {
            "text/html": [
              "<div>\n",
              "<style scoped>\n",
              "    .dataframe tbody tr th:only-of-type {\n",
              "        vertical-align: middle;\n",
              "    }\n",
              "\n",
              "    .dataframe tbody tr th {\n",
              "        vertical-align: top;\n",
              "    }\n",
              "\n",
              "    .dataframe thead th {\n",
              "        text-align: right;\n",
              "    }\n",
              "</style>\n",
              "<table border=\"1\" class=\"dataframe\">\n",
              "  <thead>\n",
              "    <tr style=\"text-align: right;\">\n",
              "      <th></th>\n",
              "      <th>tweet_id</th>\n",
              "      <th>sentiment</th>\n",
              "      <th>author</th>\n",
              "      <th>content</th>\n",
              "    </tr>\n",
              "  </thead>\n",
              "  <tbody>\n",
              "    <tr>\n",
              "      <th>521</th>\n",
              "      <td>1957088574</td>\n",
              "      <td>worry</td>\n",
              "      <td>Chassidy7</td>\n",
              "      <td>Somebody please save the polar bears!</td>\n",
              "    </tr>\n",
              "    <tr>\n",
              "      <th>6591</th>\n",
              "      <td>1961366316</td>\n",
              "      <td>sadness</td>\n",
              "      <td>Zoraida1980</td>\n",
              "      <td>Headache</td>\n",
              "    </tr>\n",
              "    <tr>\n",
              "      <th>8878</th>\n",
              "      <td>1962332251</td>\n",
              "      <td>worry</td>\n",
              "      <td>letsdomusiccc</td>\n",
              "      <td>My throat hurts</td>\n",
              "    </tr>\n",
              "    <tr>\n",
              "      <th>10918</th>\n",
              "      <td>1963057544</td>\n",
              "      <td>worry</td>\n",
              "      <td>CoopInSoCal</td>\n",
              "      <td>@ericbolling Where's Dani Babb?</td>\n",
              "    </tr>\n",
              "    <tr>\n",
              "      <th>12531</th>\n",
              "      <td>1963597385</td>\n",
              "      <td>sadness</td>\n",
              "      <td>laurenc3191</td>\n",
              "      <td>not feeling too great today</td>\n",
              "    </tr>\n",
              "    <tr>\n",
              "      <th>15728</th>\n",
              "      <td>1964969733</td>\n",
              "      <td>sadness</td>\n",
              "      <td>Nickiitah</td>\n",
              "      <td>I miss you</td>\n",
              "    </tr>\n",
              "    <tr>\n",
              "      <th>15988</th>\n",
              "      <td>1965087416</td>\n",
              "      <td>neutral</td>\n",
              "      <td>BETTERIDGE6</td>\n",
              "      <td>going to work</td>\n",
              "    </tr>\n",
              "    <tr>\n",
              "      <th>17457</th>\n",
              "      <td>1965667672</td>\n",
              "      <td>neutral</td>\n",
              "      <td>Jazze820</td>\n",
              "      <td>cleaning my room</td>\n",
              "    </tr>\n",
              "    <tr>\n",
              "      <th>18130</th>\n",
              "      <td>1965893112</td>\n",
              "      <td>worry</td>\n",
              "      <td>EmperorCommodus</td>\n",
              "      <td>i have a headache</td>\n",
              "    </tr>\n",
              "    <tr>\n",
              "      <th>18472</th>\n",
              "      <td>1965978796</td>\n",
              "      <td>worry</td>\n",
              "      <td>Sw3eTiE</td>\n",
              "      <td>My back hurts</td>\n",
              "    </tr>\n",
              "  </tbody>\n",
              "</table>\n",
              "</div>"
            ],
            "text/plain": [
              "         tweet_id  ...                                content\n",
              "521    1957088574  ...  Somebody please save the polar bears!\n",
              "6591   1961366316  ...                               Headache\n",
              "8878   1962332251  ...                        My throat hurts\n",
              "10918  1963057544  ...        @ericbolling Where's Dani Babb?\n",
              "12531  1963597385  ...            not feeling too great today\n",
              "15728  1964969733  ...                             I miss you\n",
              "15988  1965087416  ...                          going to work\n",
              "17457  1965667672  ...                       cleaning my room\n",
              "18130  1965893112  ...                      i have a headache\n",
              "18472  1965978796  ...                          My back hurts\n",
              "\n",
              "[10 rows x 4 columns]"
            ]
          },
          "metadata": {
            "tags": []
          },
          "execution_count": 9
        }
      ]
    },
    {
      "cell_type": "code",
      "metadata": {
        "colab": {
          "base_uri": "https://localhost:8080/"
        },
        "id": "eK7vUDn084U5",
        "outputId": "968a0865-4617-4f9f-c113-f0e41d29a196"
      },
      "source": [
        "#show the number of unique content within each sentiments to check if there is data imbalance in each group \n",
        "data =df.drop_duplicates(subset=['content', 'sentiment'])\n",
        "sentiment_count= data['sentiment'].value_counts(sort=False)\n",
        "sentiment_count\n"
      ],
      "execution_count": 10,
      "outputs": [
        {
          "output_type": "execute_result",
          "data": {
            "text/plain": [
              "neutral       8617\n",
              "empty          827\n",
              "hate          1323\n",
              "boredom        179\n",
              "worry         8452\n",
              "enthusiasm     759\n",
              "relief        1524\n",
              "sadness       5160\n",
              "fun           1776\n",
              "surprise      2187\n",
              "anger          110\n",
              "happiness     5194\n",
              "love          3801\n",
              "Name: sentiment, dtype: int64"
            ]
          },
          "metadata": {
            "tags": []
          },
          "execution_count": 10
        }
      ]
    },
    {
      "cell_type": "markdown",
      "metadata": {
        "id": "fsR01EDkWJHI"
      },
      "source": [
        "### Plot statistics of data to understand the dataset composition \n",
        "- see number of classes and samples in each class to spot any data imbalance, therefore we will be adding additional dataset from https://www.kaggle.com/praveengovi/emotions-dataset-for-nlp to balance out the emotions\n",
        "- We will be trimming the dataset to only 6 basic emotions"
      ]
    },
    {
      "cell_type": "code",
      "metadata": {
        "colab": {
          "base_uri": "https://localhost:8080/",
          "height": 331
        },
        "id": "KiaCP4KRNgA7",
        "outputId": "073ec8ec-204d-407d-dde4-ce27300d3ac4"
      },
      "source": [
        "sentiment_count.plot.bar()"
      ],
      "execution_count": 11,
      "outputs": [
        {
          "output_type": "execute_result",
          "data": {
            "text/plain": [
              "<matplotlib.axes._subplots.AxesSubplot at 0x7f87bd374828>"
            ]
          },
          "metadata": {
            "tags": []
          },
          "execution_count": 11
        },
        {
          "output_type": "display_data",
          "data": {
            "image/png": "[encoded data removed]",
            "text/plain": [
              "<Figure size 432x288 with 1 Axes>"
            ]
          },
          "metadata": {
            "tags": [],
            "needs_background": "light"
          }
        }
      ]
    },
    {
      "cell_type": "markdown",
      "metadata": {
        "id": "_rVVxIBqrcYM"
      },
      "source": [
        "### Data cleaning \n",
        "- Remove any empty rows if any as it does not hold any value to text emotion recognition\n",
        "- Normalise text datanase into lower case as un-cased characters are regarded differently by computers as different words\n",
        "- -If info between the cased and un-cased chars needs to be used e.g. Named Entity Recognition (NER) task where words starting with capital letters are named entities in NER, leave the dataset as- is with case chars intact."
      ]
    },
    {
      "cell_type": "code",
      "metadata": {
        "id": "T8B7VjLw7YIT"
      },
      "source": [
        "emotion_train_df = pd.read_csv('train.txt', header =None, sep =';', names = ['content','sentiment'], encoding='utf-8')\n",
        "emotion_test_df = pd.read_csv('test.txt', header = None, sep =';', names = ['content','sentiment'],encoding='utf-8')\n",
        "emotion_val_df = pd.read_csv('val.txt', header = None, sep =';', names = ['content','sentiment'],encoding='utf-8')"
      ],
      "execution_count": 12,
      "outputs": []
    },
    {
      "cell_type": "code",
      "metadata": {
        "colab": {
          "base_uri": "https://localhost:8080/"
        },
        "id": "OyQ4TDGcMT33",
        "outputId": "d15fd75f-1ce4-4cd6-bf4d-906eb3b9bf63"
      },
      "source": [
        "emotion_train_df.info()\n",
        "print('\\n')\n",
        "emotion_val_df.info()\n",
        "print('\\n')\n",
        "emotion_test_df.info()"
      ],
      "execution_count": 13,
      "outputs": [
        {
          "output_type": "stream",
          "text": [
            "<class 'pandas.core.frame.DataFrame'>\n",
            "RangeIndex: 16000 entries, 0 to 15999\n",
            "Data columns (total 2 columns):\n",
            " #   Column     Non-Null Count  Dtype \n",
            "---  ------     --------------  ----- \n",
            " 0   content    16000 non-null  object\n",
            " 1   sentiment  16000 non-null  object\n",
            "dtypes: object(2)\n",
            "memory usage: 250.1+ KB\n",
            "\n",
            "\n",
            "<class 'pandas.core.frame.DataFrame'>\n",
            "RangeIndex: 2000 entries, 0 to 1999\n",
            "Data columns (total 2 columns):\n",
            " #   Column     Non-Null Count  Dtype \n",
            "---  ------     --------------  ----- \n",
            " 0   content    2000 non-null   object\n",
            " 1   sentiment  2000 non-null   object\n",
            "dtypes: object(2)\n",
            "memory usage: 31.4+ KB\n",
            "\n",
            "\n",
            "<class 'pandas.core.frame.DataFrame'>\n",
            "RangeIndex: 2000 entries, 0 to 1999\n",
            "Data columns (total 2 columns):\n",
            " #   Column     Non-Null Count  Dtype \n",
            "---  ------     --------------  ----- \n",
            " 0   content    2000 non-null   object\n",
            " 1   sentiment  2000 non-null   object\n",
            "dtypes: object(2)\n",
            "memory usage: 31.4+ KB\n"
          ],
          "name": "stdout"
        }
      ]
    },
    {
      "cell_type": "code",
      "metadata": {
        "colab": {
          "base_uri": "https://localhost:8080/"
        },
        "id": "KgKcFDRBLZlp",
        "outputId": "47808a15-e425-4bf6-c23e-f965dbd829c7"
      },
      "source": [
        "frame = [emotion_test_df, emotion_train_df, emotion_val_df]\n",
        "new_emotion_df = pd.concat(frame)\n",
        "new_emotion_df.info()"
      ],
      "execution_count": 14,
      "outputs": [
        {
          "output_type": "stream",
          "text": [
            "<class 'pandas.core.frame.DataFrame'>\n",
            "Int64Index: 20000 entries, 0 to 1999\n",
            "Data columns (total 2 columns):\n",
            " #   Column     Non-Null Count  Dtype \n",
            "---  ------     --------------  ----- \n",
            " 0   content    20000 non-null  object\n",
            " 1   sentiment  20000 non-null  object\n",
            "dtypes: object(2)\n",
            "memory usage: 468.8+ KB\n"
          ],
          "name": "stdout"
        }
      ]
    },
    {
      "cell_type": "code",
      "metadata": {
        "colab": {
          "base_uri": "https://localhost:8080/"
        },
        "id": "uuYn4EcXMOiv",
        "outputId": "6039e9a0-0e7d-4016-b814-d6054b445161"
      },
      "source": [
        "new_emotion_df['sentiment'].value_counts(sort=False)"
      ],
      "execution_count": 15,
      "outputs": [
        {
          "output_type": "execute_result",
          "data": {
            "text/plain": [
              "surprise     719\n",
              "anger       2709\n",
              "fear        2373\n",
              "joy         6761\n",
              "love        1641\n",
              "sadness     5797\n",
              "Name: sentiment, dtype: int64"
            ]
          },
          "metadata": {
            "tags": []
          },
          "execution_count": 15
        }
      ]
    },
    {
      "cell_type": "code",
      "metadata": {
        "colab": {
          "base_uri": "https://localhost:8080/"
        },
        "id": "MVJI2n9ANPbo",
        "outputId": "69fcc3c5-9f1d-4377-dc82-8d0f5ff1a66d"
      },
      "source": [
        "new_emotion_df['sentiment']= new_emotion_df['sentiment'].replace(['joy'], 'happiness')\n",
        "new_emotion_df['sentiment'].value_counts(sort=False)"
      ],
      "execution_count": 16,
      "outputs": [
        {
          "output_type": "execute_result",
          "data": {
            "text/plain": [
              "surprise      719\n",
              "anger        2709\n",
              "happiness    6761\n",
              "fear         2373\n",
              "love         1641\n",
              "sadness      5797\n",
              "Name: sentiment, dtype: int64"
            ]
          },
          "metadata": {
            "tags": []
          },
          "execution_count": 16
        }
      ]
    },
    {
      "cell_type": "code",
      "metadata": {
        "colab": {
          "base_uri": "https://localhost:8080/",
          "height": 195
        },
        "id": "8dgN3UPWC4Nx",
        "outputId": "c5e0f77e-2292-45f8-d01e-c395e413d513"
      },
      "source": [
        "# trimming of dataset to only sentiment and content\n",
        "crowdflower_df = data[['content', 'sentiment']]\n",
        "crowdflower_df.head()\n",
        "\n"
      ],
      "execution_count": 17,
      "outputs": [
        {
          "output_type": "execute_result",
          "data": {
            "text/html": [
              "<div>\n",
              "<style scoped>\n",
              "    .dataframe tbody tr th:only-of-type {\n",
              "        vertical-align: middle;\n",
              "    }\n",
              "\n",
              "    .dataframe tbody tr th {\n",
              "        vertical-align: top;\n",
              "    }\n",
              "\n",
              "    .dataframe thead th {\n",
              "        text-align: right;\n",
              "    }\n",
              "</style>\n",
              "<table border=\"1\" class=\"dataframe\">\n",
              "  <thead>\n",
              "    <tr style=\"text-align: right;\">\n",
              "      <th></th>\n",
              "      <th>content</th>\n",
              "      <th>sentiment</th>\n",
              "    </tr>\n",
              "  </thead>\n",
              "  <tbody>\n",
              "    <tr>\n",
              "      <th>0</th>\n",
              "      <td>@tiffanylue i know  i was listenin to bad habi...</td>\n",
              "      <td>empty</td>\n",
              "    </tr>\n",
              "    <tr>\n",
              "      <th>1</th>\n",
              "      <td>Layin n bed with a headache  ughhhh...waitin o...</td>\n",
              "      <td>sadness</td>\n",
              "    </tr>\n",
              "    <tr>\n",
              "      <th>2</th>\n",
              "      <td>Funeral ceremony...gloomy friday...</td>\n",
              "      <td>sadness</td>\n",
              "    </tr>\n",
              "    <tr>\n",
              "      <th>3</th>\n",
              "      <td>wants to hang out with friends SOON!</td>\n",
              "      <td>enthusiasm</td>\n",
              "    </tr>\n",
              "    <tr>\n",
              "      <th>4</th>\n",
              "      <td>@dannycastillo We want to trade with someone w...</td>\n",
              "      <td>neutral</td>\n",
              "    </tr>\n",
              "  </tbody>\n",
              "</table>\n",
              "</div>"
            ],
            "text/plain": [
              "                                             content   sentiment\n",
              "0  @tiffanylue i know  i was listenin to bad habi...       empty\n",
              "1  Layin n bed with a headache  ughhhh...waitin o...     sadness\n",
              "2                Funeral ceremony...gloomy friday...     sadness\n",
              "3               wants to hang out with friends SOON!  enthusiasm\n",
              "4  @dannycastillo We want to trade with someone w...     neutral"
            ]
          },
          "metadata": {
            "tags": []
          },
          "execution_count": 17
        }
      ]
    },
    {
      "cell_type": "code",
      "metadata": {
        "colab": {
          "base_uri": "https://localhost:8080/"
        },
        "id": "yJz42yEyD1i6",
        "outputId": "6c480a59-bada-4b59-87c9-da289161b129"
      },
      "source": [
        "# display the general info of the cleaned dataset\n",
        "crowdflower_df.info()"
      ],
      "execution_count": 18,
      "outputs": [
        {
          "output_type": "stream",
          "text": [
            "<class 'pandas.core.frame.DataFrame'>\n",
            "Int64Index: 39909 entries, 0 to 39999\n",
            "Data columns (total 2 columns):\n",
            " #   Column     Non-Null Count  Dtype \n",
            "---  ------     --------------  ----- \n",
            " 0   content    39909 non-null  object\n",
            " 1   sentiment  39909 non-null  object\n",
            "dtypes: object(2)\n",
            "memory usage: 935.4+ KB\n"
          ],
          "name": "stdout"
        }
      ]
    },
    {
      "cell_type": "code",
      "metadata": {
        "colab": {
          "base_uri": "https://localhost:8080/"
        },
        "id": "fcvlWZxM7eFV",
        "outputId": "884584f9-56c3-475f-bc7a-6ea3dff94322"
      },
      "source": [
        "crowdflower_df['sentiment']= crowdflower_df['sentiment'].replace(['hate'], 'anger')\n",
        "crowdflower_df['sentiment'] = crowdflower_df['sentiment'].replace(['worry'], 'fear')\n",
        "crowdflower_df['sentiment'].value_counts(sort=False)"
      ],
      "execution_count": 19,
      "outputs": [
        {
          "output_type": "execute_result",
          "data": {
            "text/plain": [
              "neutral       8617\n",
              "empty          827\n",
              "boredom        179\n",
              "enthusiasm     759\n",
              "relief        1524\n",
              "sadness       5160\n",
              "fun           1776\n",
              "surprise      2187\n",
              "anger         1433\n",
              "happiness     5194\n",
              "fear          8452\n",
              "love          3801\n",
              "Name: sentiment, dtype: int64"
            ]
          },
          "metadata": {
            "tags": []
          },
          "execution_count": 19
        }
      ]
    },
    {
      "cell_type": "code",
      "metadata": {
        "colab": {
          "base_uri": "https://localhost:8080/"
        },
        "id": "e01u0E-pPCRa",
        "outputId": "4a95d085-2e36-4989-f124-86d71d7e47c6"
      },
      "source": [
        "combine_frame = [crowdflower_df, new_emotion_df]\n",
        "combined_df = pd.concat(combine_frame)\n",
        "combined_df['sentiment'].value_counts(sort = False)"
      ],
      "execution_count": 20,
      "outputs": [
        {
          "output_type": "execute_result",
          "data": {
            "text/plain": [
              "enthusiasm      759\n",
              "relief         1524\n",
              "surprise       2906\n",
              "anger          4142\n",
              "fear          10825\n",
              "neutral        8617\n",
              "empty           827\n",
              "boredom         179\n",
              "sadness       10957\n",
              "fun            1776\n",
              "happiness     11955\n",
              "love           5442\n",
              "Name: sentiment, dtype: int64"
            ]
          },
          "metadata": {
            "tags": []
          },
          "execution_count": 20
        }
      ]
    },
    {
      "cell_type": "code",
      "metadata": {
        "colab": {
          "base_uri": "https://localhost:8080/",
          "height": 402
        },
        "id": "-klKGMH3TCHa",
        "outputId": "e356b3d4-12e2-4e5b-9d59-105ba6d8d4ab"
      },
      "source": [
        "combined_df[combined_df.sentiment == 'anger']"
      ],
      "execution_count": 21,
      "outputs": [
        {
          "output_type": "execute_result",
          "data": {
            "text/html": [
              "<div>\n",
              "<style scoped>\n",
              "    .dataframe tbody tr th:only-of-type {\n",
              "        vertical-align: middle;\n",
              "    }\n",
              "\n",
              "    .dataframe tbody tr th {\n",
              "        vertical-align: top;\n",
              "    }\n",
              "\n",
              "    .dataframe thead th {\n",
              "        text-align: right;\n",
              "    }\n",
              "</style>\n",
              "<table border=\"1\" class=\"dataframe\">\n",
              "  <thead>\n",
              "    <tr style=\"text-align: right;\">\n",
              "      <th></th>\n",
              "      <th>content</th>\n",
              "      <th>sentiment</th>\n",
              "    </tr>\n",
              "  </thead>\n",
              "  <tbody>\n",
              "    <tr>\n",
              "      <th>30</th>\n",
              "      <td>It is so annoying when she starts typing on he...</td>\n",
              "      <td>anger</td>\n",
              "    </tr>\n",
              "    <tr>\n",
              "      <th>86</th>\n",
              "      <td>dammit! hulu desktop has totally screwed up my...</td>\n",
              "      <td>anger</td>\n",
              "    </tr>\n",
              "    <tr>\n",
              "      <th>99</th>\n",
              "      <td>@ cayogial i wanted to come to BZ this summer ...</td>\n",
              "      <td>anger</td>\n",
              "    </tr>\n",
              "    <tr>\n",
              "      <th>101</th>\n",
              "      <td>@mrgenius23 You win ... SIGH Rakeem</td>\n",
              "      <td>anger</td>\n",
              "    </tr>\n",
              "    <tr>\n",
              "      <th>105</th>\n",
              "      <td>@soviet_star Damn, that sucks</td>\n",
              "      <td>anger</td>\n",
              "    </tr>\n",
              "    <tr>\n",
              "      <th>...</th>\n",
              "      <td>...</td>\n",
              "      <td>...</td>\n",
              "    </tr>\n",
              "    <tr>\n",
              "      <th>1982</th>\n",
              "      <td>i feel like the world is just being bitter and...</td>\n",
              "      <td>anger</td>\n",
              "    </tr>\n",
              "    <tr>\n",
              "      <th>1983</th>\n",
              "      <td>i see people who have accomplished so much mor...</td>\n",
              "      <td>anger</td>\n",
              "    </tr>\n",
              "    <tr>\n",
              "      <th>1985</th>\n",
              "      <td>i started to see a concerning pattern i d rush...</td>\n",
              "      <td>anger</td>\n",
              "    </tr>\n",
              "    <tr>\n",
              "      <th>1993</th>\n",
              "      <td>i feel so tortured by it</td>\n",
              "      <td>anger</td>\n",
              "    </tr>\n",
              "    <tr>\n",
              "      <th>1994</th>\n",
              "      <td>i feel a bit rude leaving you hanging there fr...</td>\n",
              "      <td>anger</td>\n",
              "    </tr>\n",
              "  </tbody>\n",
              "</table>\n",
              "<p>4142 rows × 2 columns</p>\n",
              "</div>"
            ],
            "text/plain": [
              "                                                content sentiment\n",
              "30    It is so annoying when she starts typing on he...     anger\n",
              "86    dammit! hulu desktop has totally screwed up my...     anger\n",
              "99    @ cayogial i wanted to come to BZ this summer ...     anger\n",
              "101                 @mrgenius23 You win ... SIGH Rakeem     anger\n",
              "105                       @soviet_star Damn, that sucks     anger\n",
              "...                                                 ...       ...\n",
              "1982  i feel like the world is just being bitter and...     anger\n",
              "1983  i see people who have accomplished so much mor...     anger\n",
              "1985  i started to see a concerning pattern i d rush...     anger\n",
              "1993                           i feel so tortured by it     anger\n",
              "1994  i feel a bit rude leaving you hanging there fr...     anger\n",
              "\n",
              "[4142 rows x 2 columns]"
            ]
          },
          "metadata": {
            "tags": []
          },
          "execution_count": 21
        }
      ]
    },
    {
      "cell_type": "code",
      "metadata": {
        "colab": {
          "base_uri": "https://localhost:8080/"
        },
        "id": "aDuSKu9_PfN1",
        "outputId": "4d6423bc-531a-48d5-9248-4a278e46fc1b"
      },
      "source": [
        "# trimming of dataset to only 7 major emotions.\n",
        "#sadness, anger, love, happiness, surprise, fear ,neutral\n",
        "dataframes = (combined_df[combined_df.sentiment == 'sadness'], combined_df[combined_df.sentiment == 'anger'], combined_df[combined_df.sentiment == 'love'], combined_df[combined_df.sentiment == 'happiness'], combined_df[combined_df.sentiment == 'surprise'], combined_df[combined_df.sentiment == 'fear'], combined_df[combined_df.sentiment == 'neutral'])\n",
        "trimmed_dataset = pd.concat(dataframes)\n",
        "trimmed_dataset['sentiment'].value_counts(sort = False)"
      ],
      "execution_count": 22,
      "outputs": [
        {
          "output_type": "execute_result",
          "data": {
            "text/plain": [
              "surprise      2906\n",
              "anger         4142\n",
              "fear         10825\n",
              "neutral       8617\n",
              "sadness      10957\n",
              "happiness    11955\n",
              "love          5442\n",
              "Name: sentiment, dtype: int64"
            ]
          },
          "metadata": {
            "tags": []
          },
          "execution_count": 22
        }
      ]
    },
    {
      "cell_type": "code",
      "metadata": {
        "id": "QjOhV1rVDTEp"
      },
      "source": [
        "def build_vocabulary(texts):\n",
        "    \"\"\"\n",
        "    input: list of list of words\n",
        "    output: dictionary of words and their count\n",
        "    \"\"\"\n",
        "    print('build vocabulary')\n",
        "    sentences = texts.apply(lambda x: x.split()).values\n",
        "    vocab = {}\n",
        "    for sentence in tqdm(sentences):\n",
        "        for word in sentence:\n",
        "            try:\n",
        "                vocab[word] += 1\n",
        "            except KeyError:\n",
        "                vocab[word] = 1\n",
        "    return vocab\n",
        "\n",
        "import operator\n",
        "def check_coverage(vocab, embeddings_index):\n",
        "    '''\n",
        "    input: vocabulary, embedding index\n",
        "    output: list of unknown words; also prints the vocabulary coverage of embeddings and the % of comments text covered by the embeddings\n",
        "    '''\n",
        "    known_words = {}\n",
        "    unknown_words = {}\n",
        "    nb_known_words = 0\n",
        "    nb_unknown_words = 0\n",
        "    for word in tqdm(vocab.keys()):\n",
        "        try:\n",
        "            known_words[word] = embeddings_index[word]\n",
        "            nb_known_words += vocab[word]\n",
        "        except:\n",
        "            unknown_words[word] = vocab[word]\n",
        "            nb_unknown_words += vocab[word]\n",
        "            pass\n",
        "    print('Found embeddings for {:.3%} of vocabulary'.format(len(known_words)/len(vocab)))\n",
        "    print('Found embeddings for {:.3%} of all text'.format(nb_known_words/(nb_known_words + nb_unknown_words)))\n",
        "    unknown_words = sorted(unknown_words.items(), key=operator.itemgetter(1))[::-1]\n",
        "    return unknown_words"
      ],
      "execution_count": 23,
      "outputs": []
    },
    {
      "cell_type": "markdown",
      "metadata": {
        "id": "RPlFwDP9h76-"
      },
      "source": [
        "#### Remove any duplicates of white space, punctuations and URLs:\n",
        "This is done via a simple regex replace. By doing regex cleaning we will not have multiple sizes of reticence and exclamation point markings. Additionally, the removal of URL will reduce the number of distinct tokens that we have during tokenisation later\n",
        "\n",
        "**Note: `_replace_urls` is used before `clean_punctuation` to prevent replacement of complex punctuations use within urls.**\n",
        "\n"
      ]
    },
    {
      "cell_type": "code",
      "metadata": {
        "id": "mbJNPlc1KT6b"
      },
      "source": [
        "def clean_regex(sentence_list):\n",
        "    corrected_sentence_list = []\n",
        "    print(\"Normalizing whitespaces and punctuation\")\n",
        "    for sentence in tqdm(sentence_list):\n",
        "        _text = _replace_urls(sentence)\n",
        "        _text = _clean_punctuation(_text)\n",
        "        _text = _normalize_whitespace(_text)\n",
        "        corrected_sentence_list.append(_text)\n",
        "    return corrected_sentence_list\n",
        "\n",
        "#replace any URLs with a <URL> tag\n",
        "def _replace_urls(text):\n",
        "    url_regex = r'(https?:\\/\\/(?:www\\.|(?!www))[a-zA-Z0-9][a-zA-Z0-9-]+[a-zA-Z0-9]\\.[^\\s]{2,}|www\\.[a-zA-Z0-9][a-zA-Z0-9-]+[a-zA-Z0-9]\\.[^\\s]{2,}|https?:\\/\\/(?:www\\.|(?!www))[a-zA-Z0-9]+\\.[^\\s]{2,}|www\\.[a-zA-Z0-9]+\\.[^\\s]{2,})'\n",
        "    text = re.sub(url_regex, \"<URL>\", text)\n",
        "    return text\n",
        "\n",
        "# Simplifies doubled or more complex punctuation with the exception of '...'\n",
        "def _clean_punctuation(text):\n",
        "  \n",
        "    sentence = str(text)\n",
        "    #sentence = re.sub(r'[^A-Za-z0-9(),!;?\\'\\`\\\"]1+', r'\\1', sentence)\n",
        "    sentence = re.sub(r'([!?,;])\\1+', r'\\1', sentence)\n",
        "    sentence = re.sub(r'\\.{2,}', r'...', sentence)\n",
        "    #sentence = re.sub(r\"\\s{2,}\", ' ', sentence)\n",
        "    sentence = sentence.strip()\n",
        "    return sentence\n",
        "\n",
        "# Normalizes whitespaces by removing duplicates\n",
        "def _normalize_whitespace(text):\n",
        "  \n",
        "    sentence = str(text)\n",
        "    sentence = re.sub(r\"//t\",r\"\\t\", sentence)\n",
        "    sentence = re.sub(r\"( )\\1+\",r\"\\1\", sentence)\n",
        "    sentence = re.sub(r\"(\\n)\\1+\",r\"\\1\", sentence)\n",
        "    sentence = re.sub(r\"(\\r)\\1+\",r\"\\1\", sentence)\n",
        "    sentence = re.sub(r\"(\\t)\\1+\",r\"\\1\", sentence)\n",
        "    return sentence.strip(\" \")\n",
        "    "
      ],
      "execution_count": 24,
      "outputs": []
    },
    {
      "cell_type": "markdown",
      "metadata": {
        "id": "F1KZOSOsh-Um"
      },
      "source": [
        "#### Substitution of contractions:\n",
        "As data is from social media, slang and  contraction are commonly used. By using\n",
        "a list of contractions from Wikipedia, we loop through the sentences and replace the contractions for their actual words. This allow for better sentence structuring for tokenization. "
      ]
    },
    {
      "cell_type": "code",
      "metadata": {
        "id": "SUcj4ompiBPG"
      },
      "source": [
        "def replace_contractions_abbervations(sentence_list):\n",
        "    contraction_list = json.loads(open('english_contractions.json', 'r').read())\n",
        "    abbervation_list = json.loads(open('abbervations.json', 'r').read())\n",
        "    corrected_sentence_list = []\n",
        "    print(\"Normalizing contractions\")\n",
        "    for sentence in tqdm(sentence_list):\n",
        "        corrected_sentence = _normalize_contractions_text(sentence, contraction_list)\n",
        "        corrected_sentence_list.append(_normalize_abbervations_text(corrected_sentence, abbervation_list))\n",
        "    return corrected_sentence_list\n",
        "\n",
        "# replace english contractions with actual words\n",
        "def _normalize_contractions_text(text, contractions):\n",
        "    new_token_list = []\n",
        "    token_list = text.split()\n",
        "    for word_pos in range(len(token_list)):\n",
        "        word = token_list[word_pos]\n",
        "        first_upper = False\n",
        "        if word[0].isupper():\n",
        "            first_upper = True\n",
        "        if word.lower() in contractions:\n",
        "            replacement = contractions[word.lower()]\n",
        "            if first_upper:\n",
        "                replacement = replacement[0].upper()+replacement[1:]\n",
        "            replacement_tokens = replacement.split()\n",
        "            if len(replacement_tokens)>1:\n",
        "                new_token_list.append(replacement_tokens[0])\n",
        "                new_token_list.append(replacement_tokens[1])\n",
        "            else:\n",
        "                new_token_list.append(replacement_tokens[0])\n",
        "        else:\n",
        "            new_token_list.append(word)\n",
        "    sentence = \" \".join(new_token_list).strip(\" \")\n",
        "    return sentence\n",
        "\n",
        "# replace abbervations with actual words\n",
        "def _normalize_abbervations_text(text, abbervations):\n",
        "    new_token_list = []\n",
        "    token_list = text.split()\n",
        "    for word_pos in range(len(token_list)):\n",
        "        word = token_list[word_pos]\n",
        "        first_upper = False\n",
        "        if word[0].isupper():\n",
        "            first_upper = True\n",
        "        if word.lower() in abbervations:\n",
        "            replacement = abbervations[word.lower()]\n",
        "            if first_upper:\n",
        "                replacement = replacement[0].upper()+replacement[1:]\n",
        "            replacement_tokens = replacement.split()\n",
        "            if len(replacement_tokens)>1:\n",
        "                new_token_list.append(replacement_tokens[0])\n",
        "                new_token_list.append(replacement_tokens[1])\n",
        "            else:\n",
        "                new_token_list.append(replacement_tokens[0])\n",
        "        else:\n",
        "            new_token_list.append(word)\n",
        "    sentence = \" \".join(new_token_list).strip(\" \")\n",
        "    return sentence"
      ],
      "execution_count": 25,
      "outputs": []
    },
    {
      "cell_type": "markdown",
      "metadata": {
        "id": "qKL_vXqKinob"
      },
      "source": [
        "#### Spell Correction:\n",
        "Given that most spelling correcting dictionaries lack important contextual words, so consider slangs as misspells. Spelling correction is tricky as it may cauuse unwanted changes.\n",
        "\n",
        "However, i decided to use `symspellpy` for spelling correction due to its computational efficiency. An alternatice approach is through a deep learning model to do spelling correction based on context e.g. Word2Vect\n"
      ]
    },
    {
      "cell_type": "code",
      "metadata": {
        "id": "JBCwLvVYbDgT"
      },
      "source": [
        "def spelling_correction(sentence_list):\n",
        "    max_edit_distance_dictionary= 3\n",
        "    prefix_length = 4\n",
        "    spellchecker = SymSpell(max_edit_distance_dictionary, prefix_length)\n",
        "    dictionary_path = pkg_resources.resource_filename(\n",
        "        \"symspellpy\", \"frequency_dictionary_en_82_765.txt\")\n",
        "    bigram_path = pkg_resources.resource_filename(\n",
        "        \"symspellpy\", \"frequency_bigramdictionary_en_243_342.txt\")\n",
        "    spellchecker.load_dictionary(dictionary_path, term_index=0, count_index=1)\n",
        "    spellchecker.load_bigram_dictionary(dictionary_path, term_index=0, count_index=2)\n",
        "    corrected_sentence_list = []\n",
        "    print(\"Spell correcting\")\n",
        "    for sentence in tqdm(sentence_list):\n",
        "        corrected_sentence_list.append(_spelling_correction_text(sentence, spellchecker))\n",
        "    return corrected_sentence_list\n",
        "\n",
        "\n",
        "# Spelling correction is done via pyspellchecker module. It works over a tokenized sentence and only the token representations are changed.\n",
        "def _spelling_correction_text(text, spellchecker):\n",
        "\n",
        "    if len(text) < 1:\n",
        "        return \"\"\n",
        "    #Spell checker config\n",
        "    max_edit_distance_lookup = 2\n",
        "    suggestion_verbosity = Verbosity.TOP # TOP, CLOSEST, ALL\n",
        "    #End of Spell checker config\n",
        "    token_list = text.split()\n",
        "    for word_pos in range(len(token_list)):\n",
        "        word = token_list[word_pos]\n",
        "        if word is None:\n",
        "            token_list[word_pos] = \"\"\n",
        "            continue\n",
        "        if not '\\n' in word and word not in string.punctuation and not is_numeric(word) and not (word.lower() in spellchecker.words.keys()):\n",
        "            suggestions = spellchecker.lookup(word.lower(), suggestion_verbosity, max_edit_distance_lookup)\n",
        "            #Checks first uppercase to conserve the case.\n",
        "            upperfirst = word[0].isupper()\n",
        "            #Checks for correction suggestions.\n",
        "            if len(suggestions) > 0:\n",
        "                correction = suggestions[0].term\n",
        "                replacement = correction\n",
        "            #We call our _reduce_exaggerations function if no suggestion is found. Maybe there are repeated chars.\n",
        "            else:\n",
        "                replacement = _reduce_exaggerations(word)\n",
        "            #Takes the case back to the word.\n",
        "            if upperfirst:\n",
        "                replacement = replacement[0].upper()+replacement[1:]\n",
        "            word = replacement\n",
        "            token_list[word_pos] = word\n",
        "    return \" \".join(token_list).strip()\n",
        "\n",
        "\"\"\"\n",
        "Auxiliary function to help with slang replacement.\n",
        "Examples:\n",
        "    gud -> good\n",
        "    layin -> laying\n",
        "\"\"\"\n",
        "def _reduce_exaggerations(text):\n",
        "    correction = str(text)\n",
        "    #TODO work on complexity reduction.\n",
        "    return correction\n",
        "\n",
        "def is_numeric(text):\n",
        "    for char in text:\n",
        "        if not (char in \"0123456789\" or char in \",%.$\"):\n",
        "            return False\n",
        "    return True\n"
      ],
      "execution_count": 26,
      "outputs": []
    },
    {
      "cell_type": "markdown",
      "metadata": {
        "id": "4GYj1qK2izvs"
      },
      "source": [
        "#### Lemmatization:\n",
        "We will be using spaCy for lemmatizing the dataset. As spaCy is fast and straightforward. Hashtags and mentions are also removed during preprocessing as it does not benefit us during text emotion classification.\n"
      ]
    },
    {
      "cell_type": "code",
      "metadata": {
        "id": "DuDdTX6bjBlH"
      },
      "source": [
        "def lemmatization(sentence_list, sentiment):\n",
        "    nlp = en_core_web_lg.load()\n",
        "    lemmatized=[]\n",
        "    i = 0\n",
        "    print(\"Lemmatizing Sentences\")\n",
        "    for sentence in tqdm(sentence_list):\n",
        "        lemmatized.append([_lemmatize_text(sentence, nlp).strip(), sentiment[i]])\n",
        "        i+=1\n",
        "    return lemmatized\n",
        "\n",
        "def _lemmatize_text(sentence, nlp):\n",
        "    sent = \"\"\n",
        "    doc = nlp(sentence)\n",
        "    for token in doc:\n",
        "        if '@' in token.text:\n",
        "            sent+=\" @MENTION\"\n",
        "        elif '#' in token.text:\n",
        "            sent+= \" #HASHTAG\"\n",
        "        else:\n",
        "            sent+=\" \"+token.lemma_\n",
        "    return sent"
      ],
      "execution_count": 27,
      "outputs": []
    },
    {
      "cell_type": "markdown",
      "metadata": {
        "id": "nkJ9JjK6i3wj"
      },
      "source": [
        "#### Finally, we join all steps in using a “pipeline” function:"
      ]
    },
    {
      "cell_type": "code",
      "metadata": {
        "id": "NjxAd3XNi-zl"
      },
      "source": [
        "def normalization_pipeline(sentences, sentiment):\n",
        "    print(\"##############################\")\n",
        "    print(\"Starting Normalization Process\")\n",
        "    sentences = clean_regex(sentences)\n",
        "    sentences = replace_contractions_abbervations(sentences)\n",
        "    sentences = spelling_correction(sentences)\n",
        "    sentences = lemmatization(sentences, sentiment)\n",
        "    print(\"Normalization Process Finished\")\n",
        "    print(\"##############################\")\n",
        "    return sentences"
      ],
      "execution_count": 28,
      "outputs": []
    },
    {
      "cell_type": "code",
      "metadata": {
        "id": "ptV9uUuIX3Os"
      },
      "source": [
        "def train_test_datasplit(input_data):\n",
        "    train_data, test_data = train_test_split(input_data, test_size=0.15)\n",
        "    return train_data.reset_index(drop=True), test_data.reset_index(drop=True)"
      ],
      "execution_count": 29,
      "outputs": []
    },
    {
      "cell_type": "code",
      "metadata": {
        "colab": {
          "base_uri": "https://localhost:8080/"
        },
        "id": "9ET_vDeIL0hs",
        "outputId": "5dc04772-88d1-44f6-c15e-05c8a72310a9"
      },
      "source": [
        "trimmed_dataset[\"sentiment\"]= trimmed_dataset[\"sentiment\"].astype('category')\n",
        "print(trimmed_dataset.dtypes)\n",
        "trimmed_dataset[\"Categorical_sentiment\"]=trimmed_dataset[\"sentiment\"].cat.codes\n",
        "trimmed_dataset['Categorical_sentiment'].value_counts(sort = False)"
      ],
      "execution_count": 30,
      "outputs": [
        {
          "output_type": "stream",
          "text": [
            "content        object\n",
            "sentiment    category\n",
            "dtype: object\n"
          ],
          "name": "stdout"
        },
        {
          "output_type": "execute_result",
          "data": {
            "text/plain": [
              "0     4142\n",
              "1    10825\n",
              "2    11955\n",
              "3     5442\n",
              "4     8617\n",
              "5    10957\n",
              "6     2906\n",
              "Name: Categorical_sentiment, dtype: int64"
            ]
          },
          "metadata": {
            "tags": []
          },
          "execution_count": 30
        }
      ]
    },
    {
      "cell_type": "code",
      "metadata": {
        "colab": {
          "base_uri": "https://localhost:8080/",
          "height": 346,
          "referenced_widgets": [
            "93d576c46bbc42d6905b442330be612c",
            "dbcf70f2030f4d0b9bcc8c7cbca3639f",
            "0c0633fc11094b74923de74cabb600e9",
            "2a2009dd1aa94075be92cac24d52bf74",
            "64b4249b70b44106bf15512b9e2bd9ca",
            "8665ee6d32934336bd20c5f125f24c99",
            "ef2f57708b8a4f5fbbe8608634bf4c1a",
            "fc16cd56ffcc4a2a810f7254aa428acd",
            "fc76a91325214f09b824114531246010",
            "9d00a00f6df64eff849433ca845eb25f",
            "a39ab1ec85d94ef5a0c1756c1489555d",
            "cc3ff6d6378941e885555b0b2cc4d40e",
            "cbad84a94843441babb8a206b18146f4",
            "81c2c4c838c34d938482a180a38946aa",
            "14cba47332c24a19b62727fe771585f4",
            "b4a246f571eb46f983b7f3c80fcacb48",
            "605b7c96ee7443768b0544c47601e6a2",
            "7c1c91b31af2406b9c32557a54db28ea",
            "eeacf6ec52894509aa7fc3f85a6a1825",
            "f1f8fdaef1e740b8ad160f1bd33b3b0b",
            "3d15a5fbcfb04e8da9253ee86762fe2c",
            "fb50dcda928d441eb80480b405480d20",
            "3331a2e2f0bf4b89823adf9af169a675",
            "a0222e095ce74f659df1dc34bc633a3e",
            "6a37683745f34724ab24bfeb7761d3d1",
            "77f011b2be524046a7f928ac461a2b81",
            "fa7138beed5a411485291e94279e0c47",
            "766ba5188cd242dca2dd9b9a2d942b37",
            "743b5615a5dd462e88c0489a2b0dda7b",
            "cf92c052100442ec85904f61187d78ae",
            "335485ac188d4d7b9cecd0e76cd802b4",
            "f340dfca29a64ec58626e645b0fd9d77"
          ]
        },
        "id": "gcrl3WpDjrb-",
        "outputId": "f0aedfb4-c61f-4c41-9da4-c88c57012c4d"
      },
      "source": [
        "normalized = normalization_pipeline(trimmed_dataset['content'].values.tolist(), trimmed_dataset['sentiment'].values.tolist())\n"
      ],
      "execution_count": 31,
      "outputs": [
        {
          "output_type": "stream",
          "text": [
            "##############################\n",
            "Starting Normalization Process\n",
            "Normalizing whitespaces and punctuation\n"
          ],
          "name": "stdout"
        },
        {
          "output_type": "display_data",
          "data": {
            "application/vnd.jupyter.widget-view+json": {
              "model_id": "93d576c46bbc42d6905b442330be612c",
              "version_minor": 0,
              "version_major": 2
            },
            "text/plain": [
              "HBox(children=(FloatProgress(value=0.0, max=54844.0), HTML(value='')))"
            ]
          },
          "metadata": {
            "tags": []
          }
        },
        {
          "output_type": "stream",
          "text": [
            "\n",
            "Normalizing contractions\n"
          ],
          "name": "stdout"
        },
        {
          "output_type": "display_data",
          "data": {
            "application/vnd.jupyter.widget-view+json": {
              "model_id": "fc76a91325214f09b824114531246010",
              "version_minor": 0,
              "version_major": 2
            },
            "text/plain": [
              "HBox(children=(FloatProgress(value=0.0, max=54844.0), HTML(value='')))"
            ]
          },
          "metadata": {
            "tags": []
          }
        },
        {
          "output_type": "stream",
          "text": [
            "\n",
            "Spell correcting\n"
          ],
          "name": "stdout"
        },
        {
          "output_type": "display_data",
          "data": {
            "application/vnd.jupyter.widget-view+json": {
              "model_id": "605b7c96ee7443768b0544c47601e6a2",
              "version_minor": 0,
              "version_major": 2
            },
            "text/plain": [
              "HBox(children=(FloatProgress(value=0.0, max=54844.0), HTML(value='')))"
            ]
          },
          "metadata": {
            "tags": []
          }
        },
        {
          "output_type": "stream",
          "text": [
            "\n",
            "Lemmatizing Sentences\n"
          ],
          "name": "stdout"
        },
        {
          "output_type": "display_data",
          "data": {
            "application/vnd.jupyter.widget-view+json": {
              "model_id": "6a37683745f34724ab24bfeb7761d3d1",
              "version_minor": 0,
              "version_major": 2
            },
            "text/plain": [
              "HBox(children=(FloatProgress(value=0.0, max=54844.0), HTML(value='')))"
            ]
          },
          "metadata": {
            "tags": []
          }
        },
        {
          "output_type": "stream",
          "text": [
            "\n",
            "Normalization Process Finished\n",
            "##############################\n"
          ],
          "name": "stdout"
        }
      ]
    },
    {
      "cell_type": "code",
      "metadata": {
        "id": "iar1C_Ctl9L7",
        "colab": {
          "base_uri": "https://localhost:8080/",
          "height": 195
        },
        "outputId": "14fb689f-f915-4cd6-f4bc-b357e406407a"
      },
      "source": [
        "from pandas import DataFrame\n",
        "\n",
        "normalized_df = DataFrame (normalized, columns=['content', 'sentiment'])\n",
        "normalized_df.head()"
      ],
      "execution_count": 32,
      "outputs": [
        {
          "output_type": "execute_result",
          "data": {
            "text/html": [
              "<div>\n",
              "<style scoped>\n",
              "    .dataframe tbody tr th:only-of-type {\n",
              "        vertical-align: middle;\n",
              "    }\n",
              "\n",
              "    .dataframe tbody tr th {\n",
              "        vertical-align: top;\n",
              "    }\n",
              "\n",
              "    .dataframe thead th {\n",
              "        text-align: right;\n",
              "    }\n",
              "</style>\n",
              "<table border=\"1\" class=\"dataframe\">\n",
              "  <thead>\n",
              "    <tr style=\"text-align: right;\">\n",
              "      <th></th>\n",
              "      <th>content</th>\n",
              "      <th>sentiment</th>\n",
              "    </tr>\n",
              "  </thead>\n",
              "  <tbody>\n",
              "    <tr>\n",
              "      <th>0</th>\n",
              "      <td>lay a bed with a headache ughhhh ... waitin on...</td>\n",
              "      <td>sadness</td>\n",
              "    </tr>\n",
              "    <tr>\n",
              "      <th>1</th>\n",
              "      <td>funeral ceremony ... gloomy friday ...</td>\n",
              "      <td>sadness</td>\n",
              "    </tr>\n",
              "    <tr>\n",
              "      <th>2</th>\n",
              "      <td>-PRON- should be sleep but -PRON- be not think...</td>\n",
              "      <td>sadness</td>\n",
              "    </tr>\n",
              "    <tr>\n",
              "      <th>3</th>\n",
              "      <td>@MENTION Charlene -PRON- love -PRON- miss -PRON-</td>\n",
              "      <td>sadness</td>\n",
              "    </tr>\n",
              "    <tr>\n",
              "      <th>4</th>\n",
              "      <td>@MENTION -PRON- be sorry at least -PRON- be Fr...</td>\n",
              "      <td>sadness</td>\n",
              "    </tr>\n",
              "  </tbody>\n",
              "</table>\n",
              "</div>"
            ],
            "text/plain": [
              "                                             content sentiment\n",
              "0  lay a bed with a headache ughhhh ... waitin on...   sadness\n",
              "1             funeral ceremony ... gloomy friday ...   sadness\n",
              "2  -PRON- should be sleep but -PRON- be not think...   sadness\n",
              "3   @MENTION Charlene -PRON- love -PRON- miss -PRON-   sadness\n",
              "4  @MENTION -PRON- be sorry at least -PRON- be Fr...   sadness"
            ]
          },
          "metadata": {
            "tags": []
          },
          "execution_count": 32
        }
      ]
    },
    {
      "cell_type": "code",
      "metadata": {
        "id": "WhKMKzWy6HFb"
      },
      "source": [
        "def train_test_split_data(input_data):\n",
        "    train_data, test_data = train_test_split(input_data, test_size=0.15)\n",
        "    return train_data.reset_index(drop=True), test_data.reset_index(drop=True)"
      ],
      "execution_count": 33,
      "outputs": []
    },
    {
      "cell_type": "code",
      "metadata": {
        "id": "nAMChQ2AdZS8"
      },
      "source": [
        "#convert everything to lower case\n",
        "normalized_df['content']=normalized_df['content'].str.lower()"
      ],
      "execution_count": 34,
      "outputs": []
    },
    {
      "cell_type": "code",
      "metadata": {
        "id": "74akHYFUdiJM"
      },
      "source": [
        "x_train, x_test, y_train, y_test = train_test_split(normalized_df['content'], normalized_df['sentiment'], test_size=0.2)"
      ],
      "execution_count": 35,
      "outputs": []
    },
    {
      "cell_type": "code",
      "metadata": {
        "id": "M5UEpMfrd07D",
        "colab": {
          "base_uri": "https://localhost:8080/"
        },
        "outputId": "9db59c9d-1459-452c-94de-49072100ee7e"
      },
      "source": [
        "y_test.value_counts(sort=False)"
      ],
      "execution_count": 36,
      "outputs": [
        {
          "output_type": "execute_result",
          "data": {
            "text/plain": [
              "surprise      577\n",
              "neutral      1755\n",
              "anger         831\n",
              "happiness    2373\n",
              "fear         2156\n",
              "love         1137\n",
              "sadness      2140\n",
              "Name: sentiment, dtype: int64"
            ]
          },
          "metadata": {
            "tags": []
          },
          "execution_count": 36
        }
      ]
    },
    {
      "cell_type": "markdown",
      "metadata": {
        "id": "Y8V2tQNRf4JX"
      },
      "source": [
        "we do normalization over via:\n",
        "- Removal of duplicate whitespaces and punctuation.\n",
        "- Accent removal (if your data includes diacritical marks from ‘foreign’ languages — this helps to reduce errors related to encoding type).\n",
        "- Capital letter removal (often, working with lowercase words deliver better results. In some cases, however, capital letters are very important to extract information, like names and locations).\n",
        "- Removal or substitution of special characters/emojis (e.g.: remove hashtags).\n",
        "- Substitution of contractions (very common in English; e.g.: ‘I’m’→‘I am’).\n",
        "- Transform word numerals into numbers (eg.: ‘twenty three’→‘23’).\n",
        "- Substitution of values for their type (e.g.: ‘$50’→‘MONEY’).\n",
        "- Acronym normalization (e.g.: ‘US’→‘United States’/‘U.S.A’) and abbreviation normalization (e.g.: ‘btw’→‘by the way’).\n",
        "- Spell correction (one could say that a word can be misspelled infinite ways, so spell corrections reduce the vocabulary variation by “correcting”) — this is very important if you’re dealing with open user inputs, such as tweets, IMs and emails.\n",
        "- Removal of gender/ time /grade variation with Stemming or Lemmatization.\n",
        "- Stop word removal ."
      ]
    },
    {
      "cell_type": "markdown",
      "metadata": {
        "id": "YStv9HlTiX7w"
      },
      "source": [
        "# 3. Text Representation\n",
        "- Vectorizing text using Term Frequency technique (Term Frequency(TF) — Inverse Dense Frequency(IDF))\n",
        "\n",
        "- Tokenize with our preprocess_and_tokenize\n",
        "- Find it’s TF = (Number of repetitions of word in a document) / (# of words in a document)\n",
        "IDF = log(# of documents / # of documents containing the word)"
      ]
    },
    {
      "cell_type": "code",
      "metadata": {
        "id": "nFrOH3Txo_4r"
      },
      "source": [
        "def plot_confusion_matrix(y_true, y_pred, classes,\n",
        "                          normalize=False,\n",
        "                          title=None,\n",
        "                          cmap=plt.cm.Blues):\n",
        "    '''\n",
        "    This function prints and plots the confusion matrix.\n",
        "    Normalization can be applied by setting `normalize=True`.\n",
        "    '''\n",
        "    if not title:\n",
        "        if normalize:\n",
        "            title = 'Normalized confusion matrix'\n",
        "        else:\n",
        "            title = 'Confusion matrix, without normalization'\n",
        "\n",
        "    # Compute confusion matrix\n",
        "    cm = confusion_matrix(y_true, y_pred)\n",
        "\n",
        "    if normalize:\n",
        "        cm = cm.astype('float') / cm.sum(axis=1)[:, np.newaxis]\n",
        "\n",
        "    fig, ax = plt.subplots()\n",
        "    \n",
        "    # Set size\n",
        "    fig.set_size_inches(12.5, 7.5)\n",
        "    im = ax.imshow(cm, interpolation='nearest', cmap=cmap)\n",
        "    ax.figure.colorbar(im, ax=ax)\n",
        "    ax.grid(False)\n",
        "    \n",
        "    # We want to show all ticks...\n",
        "    ax.set(xticks=np.arange(cm.shape[1]),\n",
        "           yticks=np.arange(cm.shape[0]),\n",
        "           # ... and label them with the respective list entries\n",
        "           xticklabels=classes, yticklabels=classes,\n",
        "           title=title,\n",
        "           ylabel='True label',\n",
        "           xlabel='Predicted label')\n",
        "\n",
        "    # Rotate the tick labels and set their alignment.\n",
        "    plt.setp(ax.get_xticklabels(), rotation=45, ha=\"right\",\n",
        "             rotation_mode=\"anchor\")\n",
        "\n",
        "    # Loop over data dimensions and create text annotations.\n",
        "    fmt = '.2f' if normalize else 'd'\n",
        "    thresh = cm.max() / 2.\n",
        "    for i in range(cm.shape[0]):\n",
        "        for j in range(cm.shape[1]):\n",
        "            ax.text(j, i, format(cm[i, j], fmt),\n",
        "                    ha=\"center\", va=\"center\",\n",
        "                    color=\"white\" if cm[i, j] > thresh else \"black\")\n",
        "    fig.tight_layout()\n",
        "    return ax"
      ],
      "execution_count": 37,
      "outputs": []
    },
    {
      "cell_type": "code",
      "metadata": {
        "id": "jVGHIc3xmnlv"
      },
      "source": [
        "from sklearn.model_selection import train_test_split\n",
        "from sklearn.metrics import accuracy_score, f1_score, confusion_matrix\n",
        "\n",
        "# feature extraction / vectorization\n",
        "from sklearn.feature_extraction.text import CountVectorizer, TfidfVectorizer\n",
        "\n",
        "# classifiers\n",
        "from sklearn.naive_bayes import MultinomialNB\n",
        "from sklearn.linear_model import LogisticRegression, SGDClassifier\n",
        "from sklearn.ensemble import RandomForestClassifier\n",
        "from sklearn.svm import LinearSVC\n",
        "from sklearn.pipeline import Pipeline\n",
        "\n",
        "docs = map(''.join, normalized_df[['content']].values.tolist())\n",
        "\n",
        "# TFIDF, unigrams and bigrams\n",
        "vect = TfidfVectorizer(sublinear_tf=True, norm='l2', ngram_range=(1, 2))\n",
        "\n",
        "# fit on our complete corpus\n",
        "vect.fit_transform(docs)\n",
        "\n",
        "# transform testing and training datasets to vectors\n",
        "X_train_vect = vect.transform(x_train)\n",
        "X_test_vect = vect.transform(x_test)"
      ],
      "execution_count": 38,
      "outputs": []
    },
    {
      "cell_type": "code",
      "metadata": {
        "id": "Lv0h_b16nhmh",
        "colab": {
          "base_uri": "https://localhost:8080/",
          "height": 750
        },
        "outputId": "db11222b-56df-4492-e8c2-71ede8af642f"
      },
      "source": [
        "class_names = ['anger', 'sadness', 'fear', 'surprise', 'happiness', 'love' ,'neutral']\n",
        "\n",
        "nb = MultinomialNB()\n",
        "\n",
        "nb.fit(X_train_vect, y_train)\n",
        "\n",
        "ynb_pred = nb.predict(X_test_vect)\n",
        "\n",
        "\n",
        "print(\"Accuracy: {:.2f}%\".format(accuracy_score(y_test, ynb_pred) * 100))\n",
        "print(\"\\nF1 Score: {:.2f}\".format(f1_score(y_test, ynb_pred, average='micro') * 100))\n",
        "print(\"\\nCOnfusion Matrix:\\n\", confusion_matrix(y_test, ynb_pred))\n",
        "\n",
        "# Plot normalized confusion matrix\n",
        "plot_confusion_matrix(y_test, ynb_pred, classes=class_names, normalize=True, title='Normalized confusion matrix')\n",
        "plt.show()"
      ],
      "execution_count": 39,
      "outputs": [
        {
          "output_type": "stream",
          "text": [
            "Accuracy: 44.09%\n",
            "\n",
            "F1 Score: 44.09\n",
            "\n",
            "COnfusion Matrix:\n",
            " [[  21  195  251    0    5  359    0]\n",
            " [   0 1212  499    6   27  412    0]\n",
            " [   0  220 2022   22   19   90    0]\n",
            " [   0  139  794   61   19  124    0]\n",
            " [   0  701  704   12  142  196    0]\n",
            " [   0  464  287    1   10 1378    0]\n",
            " [   0  206  250    6   22   93    0]]\n"
          ],
          "name": "stdout"
        },
        {
          "output_type": "display_data",
          "data": {
            "image/png": "[encoded data removed]",
            "text/plain": [
              "<Figure size 900x540 with 2 Axes>"
            ]
          },
          "metadata": {
            "tags": [],
            "needs_background": "light"
          }
        }
      ]
    },
    {
      "cell_type": "code",
      "metadata": {
        "id": "9w62KlVDqMm_",
        "colab": {
          "base_uri": "https://localhost:8080/",
          "height": 750
        },
        "outputId": "3a7dc6aa-7ddc-445f-8e11-9abdfb92402b"
      },
      "source": [
        "svc = LinearSVC(tol=1e-05)\n",
        "svc.fit(X_train_vect, y_train)\n",
        "\n",
        "ysvm_pred = svc.predict(X_test_vect)\n",
        "\n",
        "print(\"Accuracy: {:.2f}%\".format(accuracy_score(y_test, ysvm_pred) * 100))\n",
        "print(\"\\nF1 Score: {:.2f}\".format(f1_score(y_test, ysvm_pred, average='micro') * 100))\n",
        "print(\"\\nCOnfusion Matrix:\\n\", confusion_matrix(y_test, ysvm_pred))\n",
        "\n",
        "plot_confusion_matrix(y_test, ysvm_pred, classes=class_names, normalize=True, title='Normalized confusion matrix')\n",
        "plt.show()"
      ],
      "execution_count": 40,
      "outputs": [
        {
          "output_type": "stream",
          "text": [
            "Accuracy: 54.81%\n",
            "\n",
            "F1 Score: 54.81\n",
            "\n",
            "COnfusion Matrix:\n",
            " [[ 488  121   42    5   56  116    3]\n",
            " [  34 1061  182   50  424  358   47]\n",
            " [  11  168 1610  161  312   85   26]\n",
            " [   8   91  315  494  151   67   11]\n",
            " [  19  368  220   78  904  146   20]\n",
            " [  54  363  109   42  205 1358    9]\n",
            " [   7  125   86   35  158   69   97]]\n"
          ],
          "name": "stdout"
        },
        {
          "output_type": "display_data",
          "data": {
            "image/png": "[encoded data removed]",
            "text/plain": [
              "<Figure size 900x540 with 2 Axes>"
            ]
          },
          "metadata": {
            "tags": [],
            "needs_background": "light"
          }
        }
      ]
    },
    {
      "cell_type": "code",
      "metadata": {
        "id": "BhEq9ZH2t75I"
      },
      "source": [
        "#Create pipeline with our tf-idf vectorizer and LinearSVC model\n",
        "svm_model = Pipeline([\n",
        "    ('tfidf', vect),\n",
        "    ('clf', svc),\n",
        "])"
      ],
      "execution_count": 41,
      "outputs": []
    },
    {
      "cell_type": "code",
      "metadata": {
        "id": "_1MZIzlkt9OB"
      },
      "source": [
        "# save the model\n",
        "filename = 'tfidf_svm.sav'\n",
        "pickle.dump(svm_model, open(filename, 'wb'))"
      ],
      "execution_count": 42,
      "outputs": []
    },
    {
      "cell_type": "code",
      "metadata": {
        "id": "Lhnkk4XguLIS",
        "colab": {
          "base_uri": "https://localhost:8080/"
        },
        "outputId": "708ecdf0-ce5b-4a13-e64d-a0934822d513"
      },
      "source": [
        "model = pickle.load(open(filename, 'rb'))\n",
        "\n",
        "message = 'delivery was damn late and my pizza is cold!' \n",
        "model.predict([message])"
      ],
      "execution_count": 43,
      "outputs": [
        {
          "output_type": "execute_result",
          "data": {
            "text/plain": [
              "array(['fear'], dtype=object)"
            ]
          },
          "metadata": {
            "tags": []
          },
          "execution_count": 43
        }
      ]
    },
    {
      "cell_type": "markdown",
      "metadata": {
        "id": "q34a5X5nuvrG"
      },
      "source": [
        "## Emotion Classification in texts using CNN and Word2Vec\n",
        "\n",
        "####Embedding Layer\n",
        "Word Embedding is a representation of text where words that have the similar meaning have a similar representation. We will use 300 dimentional word vectors pre-trained on wikipedia articles. We can also train the w2v model with our data, however our dataset is quite small and trained word vectors might not be as good as using pretrained w2v.\n",
        "\n",
        "#####Deep Network\n",
        "Though text data is one-dimensional, we can use 1D convolutional neural networks to extract features from our data. The result of each convolution will fire when a special pattern is detected. By varying the size of the kernels and concatenating their outputs, you’re allowing yourself to detect patterns of multiples sizes (2, 3, or 5 adjacent words). Patterns could be expressions like “I hate”, “very good” and therefore CNNs can identify them in the sentence regardless of their position.\n",
        "\n",
        "#### Fully Connected Layer\n",
        "The fully connected layer takes the deep representation from the RNN/LSTM/GRU and transforms it into the final output classes or class scores. This component is comprised of fully connected layers along with batch normalization and optionally dropout layers for regularization.\n",
        "Output Layer\n",
        "Based on the problem at hand, this layer can have either Sigmoid for binary classification or Softmax for both binary and multi classification output.\n"
      ]
    },
    {
      "cell_type": "code",
      "metadata": {
        "id": "auiTJFFlvCBd"
      },
      "source": [
        "# preparing input to our model\n",
        "from keras.preprocessing.text import Tokenizer\n",
        "from keras.preprocessing.sequence import pad_sequences\n",
        "from keras.utils import to_categorical\n",
        "\n",
        "# keras layers\n",
        "from keras.models import Sequential\n",
        "from keras.layers import Embedding, Conv1D, GlobalMaxPooling1D, Dense"
      ],
      "execution_count": 44,
      "outputs": []
    },
    {
      "cell_type": "code",
      "metadata": {
        "id": "On1hQl59vdUz"
      },
      "source": [
        "# Number of labels: 'anger', 'sadness', 'fear', 'surprise', 'happiness', 'love' ,'neutral'\n",
        "num_classes = 7\n",
        "\n",
        "# Number of dimensions for word embedding\n",
        "embed_num_dims = 300\n",
        "\n",
        "# Max input length (max number of words) \n",
        "max_seq_len = 500\n",
        "\n",
        "class_names = ['anger', 'sadness', 'fear', 'surprise', 'happiness', 'love' ,'neutral']"
      ],
      "execution_count": 45,
      "outputs": []
    },
    {
      "cell_type": "code",
      "metadata": {
        "id": "ac-y3bs-y1Kk"
      },
      "source": [
        "def clean_text(data):\n",
        "    \n",
        "    # tekenization using nltk\n",
        "    data = word_tokenize(data)\n",
        "    \n",
        "    return data\n",
        "\n",
        "\n",
        "texts = [' '.join(clean_text(text)) for text in normalized_df.content]\n",
        "\n",
        "texts_train = [' '.join(clean_text(text)) for text in x_train]\n",
        "texts_test = [' '.join(clean_text(text)) for text in x_test]"
      ],
      "execution_count": 46,
      "outputs": []
    },
    {
      "cell_type": "code",
      "metadata": {
        "id": "q-3wFzhzzhy3",
        "colab": {
          "base_uri": "https://localhost:8080/"
        },
        "outputId": "eee76d49-d423-401b-a8ac-eb68c1055ca1"
      },
      "source": [
        "print(texts_train[92])"
      ],
      "execution_count": 47,
      "outputs": [
        {
          "output_type": "stream",
          "text": [
            "i feel like -pron- deserve to be hate and i want -pron- to know exactly how much i do\n"
          ],
          "name": "stdout"
        }
      ]
    },
    {
      "cell_type": "code",
      "metadata": {
        "id": "HQYr5clkwO9w",
        "colab": {
          "base_uri": "https://localhost:8080/"
        },
        "outputId": "57bde2f0-a02f-4e20-ddf2-bbf846febdb2"
      },
      "source": [
        "tokenizer = Tokenizer()\n",
        "tokenizer.fit_on_texts(normalized_df.content)\n",
        "\n",
        "sequence_train = tokenizer.texts_to_sequences(texts_train)\n",
        "sequence_test = tokenizer.texts_to_sequences(texts_test)\n",
        "\n",
        "index_of_words = tokenizer.word_index\n",
        "\n",
        "# vacab size is number of unique words + reserved 0 index for padding\n",
        "vocab_size = len(index_of_words) + 1\n",
        "\n",
        "print('Number of unique words: {}'.format(len(index_of_words)))"
      ],
      "execution_count": 48,
      "outputs": [
        {
          "output_type": "stream",
          "text": [
            "Number of unique words: 24151\n"
          ],
          "name": "stdout"
        }
      ]
    },
    {
      "cell_type": "code",
      "metadata": {
        "id": "GdpK-lA_znq1",
        "colab": {
          "base_uri": "https://localhost:8080/"
        },
        "outputId": "3ce1f430-48eb-4e5f-8b36-f33d43e6ee59"
      },
      "source": [
        "X_train_pad = pad_sequences(sequence_train, maxlen = max_seq_len )\n",
        "X_test_pad = pad_sequences(sequence_test, maxlen = max_seq_len )\n",
        "\n",
        "X_train_pad"
      ],
      "execution_count": 49,
      "outputs": [
        {
          "output_type": "execute_result",
          "data": {
            "text/plain": [
              "array([[   0,    0,    0, ...,    5,  206,   42],\n",
              "       [   0,    0,    0, ...,    2, 2490, 1333],\n",
              "       [   0,    0,    0, ...,  190,   31, 1469],\n",
              "       ...,\n",
              "       [   0,    0,    0, ..., 8959,    8, 4846],\n",
              "       [   0,    0,    0, ...,  144,   99,   86],\n",
              "       [   0,    0,    0, ...,   12,    1,  243]], dtype=int32)"
            ]
          },
          "metadata": {
            "tags": []
          },
          "execution_count": 49
        }
      ]
    },
    {
      "cell_type": "code",
      "metadata": {
        "id": "-XnmJ4UWzrXA"
      },
      "source": [
        "encoding = {\n",
        "    'anger': 0,\n",
        "    'sadness': 1,\n",
        "    'fear': 2,\n",
        "    'surprise': 3,\n",
        "    'happiness': 4,\n",
        "    'love': 5,\n",
        "    'neutral': 6\n",
        "}\n",
        "\n",
        "# Integer labels\n",
        "y_train = [encoding[x] for x in y_train]\n",
        "y_test = [encoding[x] for x in y_test]\n"
      ],
      "execution_count": 50,
      "outputs": []
    },
    {
      "cell_type": "code",
      "metadata": {
        "id": "ms_HjOj40evU",
        "colab": {
          "base_uri": "https://localhost:8080/"
        },
        "outputId": "8c43041c-f77c-4e2c-cd1d-0e23b5e9ddcb"
      },
      "source": [
        "y_train = to_categorical(y_train)\n",
        "y_test = to_categorical(y_test)\n",
        "\n",
        "y_train"
      ],
      "execution_count": 51,
      "outputs": [
        {
          "output_type": "execute_result",
          "data": {
            "text/plain": [
              "array([[0., 0., 0., ..., 0., 0., 1.],\n",
              "       [1., 0., 0., ..., 0., 0., 0.],\n",
              "       [0., 0., 0., ..., 0., 0., 1.],\n",
              "       ...,\n",
              "       [0., 0., 0., ..., 0., 0., 0.],\n",
              "       [0., 0., 0., ..., 0., 0., 1.],\n",
              "       [0., 0., 0., ..., 0., 0., 0.]], dtype=float32)"
            ]
          },
          "metadata": {
            "tags": []
          },
          "execution_count": 51
        }
      ]
    },
    {
      "cell_type": "code",
      "metadata": {
        "id": "E4BANFIg04_b"
      },
      "source": [
        "def create_embedding_matrix(filepath, word_index, embedding_dim):\n",
        "    vocab_size = len(word_index) + 1  # Adding again 1 because of reserved 0 index\n",
        "    embedding_matrix = np.zeros((vocab_size, embedding_dim))\n",
        "    with open(filepath) as f:\n",
        "        for line in f:\n",
        "            word, *vector = line.split()\n",
        "            if word in word_index:\n",
        "                idx = word_index[word] \n",
        "                embedding_matrix[idx] = np.array(\n",
        "                    vector, dtype=np.float32)[:embedding_dim]\n",
        "    return embedding_matrix"
      ],
      "execution_count": 52,
      "outputs": []
    },
    {
      "cell_type": "code",
      "metadata": {
        "id": "43C-gpOw1L0O",
        "colab": {
          "base_uri": "https://localhost:8080/"
        },
        "outputId": "5c8b33cd-b440-4fdb-cc47-3241c1194a64"
      },
      "source": [
        "import urllib.request\n",
        "import zipfile\n",
        "import os\n",
        "\n",
        "fname = 'embeddings/wiki-news-300d-1M.vec'\n",
        "\n",
        "if not os.path.isfile(fname):\n",
        "    print('Downloading word vectors...')\n",
        "    urllib.request.urlretrieve('https://dl.fbaipublicfiles.com/fasttext/vectors-english/wiki-news-300d-1M.vec.zip',\n",
        "                              'wiki-news-300d-1M.vec.zip')\n",
        "    print('Unzipping...')\n",
        "    with zipfile.ZipFile('wiki-news-300d-1M.vec.zip', 'r') as zip_ref:\n",
        "        zip_ref.extractall('embeddings')\n",
        "    print('done.')\n",
        "    \n",
        "    os.remove('wiki-news-300d-1M.vec.zip')"
      ],
      "execution_count": 53,
      "outputs": [
        {
          "output_type": "stream",
          "text": [
            "Downloading word vectors...\n",
            "Unzipping...\n",
            "done.\n"
          ],
          "name": "stdout"
        }
      ]
    },
    {
      "cell_type": "code",
      "metadata": {
        "id": "eii5mzO61Nws",
        "colab": {
          "base_uri": "https://localhost:8080/"
        },
        "outputId": "8c93851b-8d64-45bc-ca8e-2afe5b88ba9f"
      },
      "source": [
        "embedd_matrix = create_embedding_matrix(fname, index_of_words, embed_num_dims)\n",
        "embedd_matrix.shape"
      ],
      "execution_count": 54,
      "outputs": [
        {
          "output_type": "execute_result",
          "data": {
            "text/plain": [
              "(24152, 300)"
            ]
          },
          "metadata": {
            "tags": []
          },
          "execution_count": 54
        }
      ]
    },
    {
      "cell_type": "code",
      "metadata": {
        "id": "lkAZKREp1SOK",
        "colab": {
          "base_uri": "https://localhost:8080/"
        },
        "outputId": "7f97941f-09da-4991-d665-febb349b674b"
      },
      "source": [
        "# Inspect unseen words\n",
        "new_words = 0\n",
        "\n",
        "for word in index_of_words:\n",
        "    entry = embedd_matrix[index_of_words[word]]\n",
        "    if all(v == 0 for v in entry):\n",
        "        new_words = new_words + 1\n",
        "\n",
        "print('Words found in wiki vocab: ' + str(len(index_of_words) - new_words))\n",
        "print('New words found: ' + str(new_words))"
      ],
      "execution_count": 55,
      "outputs": [
        {
          "output_type": "stream",
          "text": [
            "Words found in wiki vocab: 19668\n",
            "New words found: 4483\n"
          ],
          "name": "stdout"
        }
      ]
    },
    {
      "cell_type": "code",
      "metadata": {
        "id": "Bep6ebnz1WND"
      },
      "source": [
        "embedd_layer = Embedding(vocab_size,\n",
        "                         embed_num_dims,\n",
        "                         input_length = max_seq_len,\n",
        "                         weights = [embedd_matrix],\n",
        "                         trainable=False)"
      ],
      "execution_count": 56,
      "outputs": []
    },
    {
      "cell_type": "code",
      "metadata": {
        "id": "5AdkDA-j9OaB"
      },
      "source": [
        "# Accuracy plot\n",
        "plt.plot(hist.history['acc'])\n",
        "plt.plot(hist.history['val_acc'])\n",
        "plt.title('model accuracy')\n",
        "plt.ylabel('accuracy')\n",
        "plt.xlabel('epoch')\n",
        "plt.legend(['train', 'validation'], loc='upper left')\n",
        "plt.show()\n",
        "\n",
        "# Loss plot\n",
        "plt.plot(hist.history['loss'])\n",
        "plt.plot(hist.history['val_loss'])\n",
        "plt.title('model loss')\n",
        "plt.ylabel('loss')\n",
        "plt.xlabel('epoch')\n",
        "plt.legend(['train', 'validation'], loc='upper left')\n",
        "plt.show()"
      ],
      "execution_count": null,
      "outputs": []
    },
    {
      "cell_type": "code",
      "metadata": {
        "id": "QXOpdKA79PlF"
      },
      "source": [
        "predictions = model.predict(X_test_pad)\n",
        "predictions = np.argmax(predictions, axis=1)\n",
        "predictions = [class_names[pred] for pred in predictions]"
      ],
      "execution_count": null,
      "outputs": []
    },
    {
      "cell_type": "code",
      "metadata": {
        "id": "hrnVXP259UI8"
      },
      "source": [
        "print(\"Accuracy: {:.2f}%\".format(accuracy_score(y_test, predictions) * 100))\n",
        "print(\"\\nF1 Score: {:.2f}\".format(f1_score(y_test, predictions, average='micro') * 100))"
      ],
      "execution_count": null,
      "outputs": []
    },
    {
      "cell_type": "code",
      "metadata": {
        "id": "m6LLni6I-Il3"
      },
      "source": [
        "# Plot normalized confusion matrix\n",
        "plot_confusion_matrix(data_test.Emotion, predictions, classes=class_names, normalize=True, title='Normalized confusion matrix')\n",
        "plt.show()"
      ],
      "execution_count": null,
      "outputs": []
    },
    {
      "cell_type": "markdown",
      "metadata": {
        "id": "mlLiG8JgcWcn"
      },
      "source": [
        "#GRU"
      ]
    },
    {
      "cell_type": "markdown",
      "metadata": {
        "id": "Xa66zLEucbEp"
      },
      "source": [
        "We will attempt to use a GRU model to test the accuracy of the model."
      ]
    },
    {
      "cell_type": "code",
      "metadata": {
        "id": "EBiZXC0DBgLR"
      },
      "source": [
        "def emotion_GRU_model(x_train, y_train, x_val, y_val):\n",
        "  from keras.models import Sequential\n",
        "  from keras import layers\n",
        "  from keras.optimizers import SGD\n",
        "  from keras.regularizers import l2\n",
        "  from keras.callbacks import EarlyStopping\n",
        "\n",
        "  with tf.device('/device:GPU:0'):\n",
        "\n",
        "    embed_dim = 128\n",
        "    hidden_size = 200\n",
        "    learning_rate=1.0\n",
        "    num_words=24200 #our vocab size\n",
        "\n",
        "\n",
        "    l2(0.1)\n",
        "\n",
        "    model = Sequential()\n",
        "    #model.add(layers.Embedding(num_words, 32)) #The embedding layer\n",
        "    model.add(embedd_layer)\n",
        "    model.add(layers.GRU(80,dropout=0.2)) #Our GRU layer\n",
        "    #model.add(layers.Dense(20,activation='relu'))\n",
        "    #model.add(layers.Dropout(0.2))\n",
        "    model.add(layers.Dense(7,activation='softmax'))\n",
        "\n",
        "    model.compile(loss = 'categorical_crossentropy', optimizer=SGD(learning_rate=learning_rate),metrics = ['accuracy'])\n",
        "    print(model.summary())\n",
        "\n",
        "    batch_size = 1024\n",
        "    epochs = 25\n",
        "\n",
        "    # simple early stopping\n",
        "    es = EarlyStopping(monitor='val_accuracy', mode='max', verbose=1, patience=5)\n",
        "\n",
        "    history= model.fit(x=x_train,y=y_train,\n",
        "                      batch_size=batch_size,\n",
        "                      epochs=epochs,\n",
        "                      callbacks=[es],\n",
        "                      validation_data=(x_val, y_val),)\n",
        "  return history, model\n",
        "\n"
      ],
      "execution_count": 57,
      "outputs": []
    },
    {
      "cell_type": "code",
      "metadata": {
        "colab": {
          "base_uri": "https://localhost:8080/"
        },
        "id": "XbMzyDDydCyv",
        "outputId": "d2dabf01-fe78-4dfa-ade5-48c38d9c3f81"
      },
      "source": [
        "GRU_history, GRU_model= emotion_GRU_model(X_train_pad, y_train,X_test_pad,y_test)"
      ],
      "execution_count": 58,
      "outputs": [
        {
          "output_type": "stream",
          "text": [
            "Model: \"sequential\"\n",
            "_________________________________________________________________\n",
            "Layer (type)                 Output Shape              Param #   \n",
            "=================================================================\n",
            "embedding (Embedding)        (None, 500, 300)          7245600   \n",
            "_________________________________________________________________\n",
            "gru (GRU)                    (None, 80)                91680     \n",
            "_________________________________________________________________\n",
            "dense (Dense)                (None, 7)                 567       \n",
            "=================================================================\n",
            "Total params: 7,337,847\n",
            "Trainable params: 92,247\n",
            "Non-trainable params: 7,245,600\n",
            "_________________________________________________________________\n",
            "None\n",
            "Epoch 1/25\n",
            "43/43 [==============================] - 24s 554ms/step - loss: 1.8228 - accuracy: 0.2498 - val_loss: 1.7875 - val_accuracy: 0.3008\n",
            "Epoch 2/25\n",
            "43/43 [==============================] - 23s 542ms/step - loss: 1.7918 - accuracy: 0.2811 - val_loss: 1.7739 - val_accuracy: 0.2727\n",
            "Epoch 3/25\n",
            "43/43 [==============================] - 23s 546ms/step - loss: 1.7760 - accuracy: 0.2969 - val_loss: 1.7320 - val_accuracy: 0.3178\n",
            "Epoch 4/25\n",
            "43/43 [==============================] - 24s 547ms/step - loss: 1.7282 - accuracy: 0.3243 - val_loss: 1.7379 - val_accuracy: 0.3029\n",
            "Epoch 5/25\n",
            "43/43 [==============================] - 24s 547ms/step - loss: 1.6845 - accuracy: 0.3401 - val_loss: 1.6161 - val_accuracy: 0.3729\n",
            "Epoch 6/25\n",
            "43/43 [==============================] - 24s 548ms/step - loss: 1.6686 - accuracy: 0.3542 - val_loss: 1.6296 - val_accuracy: 0.3655\n",
            "Epoch 7/25\n",
            "43/43 [==============================] - 24s 547ms/step - loss: 1.6452 - accuracy: 0.3583 - val_loss: 1.6626 - val_accuracy: 0.3582\n",
            "Epoch 8/25\n",
            "43/43 [==============================] - 24s 549ms/step - loss: 1.6235 - accuracy: 0.3677 - val_loss: 1.6570 - val_accuracy: 0.3496\n",
            "Epoch 9/25\n",
            "43/43 [==============================] - 24s 554ms/step - loss: 1.6174 - accuracy: 0.3793 - val_loss: 1.6711 - val_accuracy: 0.3499\n",
            "Epoch 10/25\n",
            "43/43 [==============================] - 24s 547ms/step - loss: 1.5971 - accuracy: 0.3892 - val_loss: 1.6010 - val_accuracy: 0.3704\n",
            "Epoch 00010: early stopping\n"
          ],
          "name": "stdout"
        }
      ]
    },
    {
      "cell_type": "code",
      "metadata": {
        "colab": {
          "base_uri": "https://localhost:8080/",
          "height": 573
        },
        "id": "iICoMpJIzo_U",
        "outputId": "ae96ec8f-1a44-4382-a45f-e330a4284807"
      },
      "source": [
        "# Accuracy plot\n",
        "plt.plot(GRU_history.history['accuracy'])\n",
        "plt.plot(GRU_history.history['val_accuracy'])\n",
        "plt.title('model accuracy')\n",
        "plt.ylabel('accuracy')\n",
        "plt.xlabel('epoch')\n",
        "plt.legend(['train', 'validation'], loc='upper left')\n",
        "plt.show()\n",
        "\n",
        "# Loss plot\n",
        "plt.plot(GRU_history.history['loss'])\n",
        "plt.plot(GRU_history.history['val_loss'])\n",
        "plt.title('model loss')\n",
        "plt.ylabel('loss')\n",
        "plt.xlabel('epoch')\n",
        "plt.legend(['train', 'validation'], loc='upper left')\n",
        "plt.show()"
      ],
      "execution_count": 65,
      "outputs": [
        {
          "output_type": "display_data",
          "data": {
            "image/png": "[encoded data removed]",
            "text/plain": [
              "<Figure size 432x288 with 1 Axes>"
            ]
          },
          "metadata": {
            "tags": [],
            "needs_background": "light"
          }
        },
        {
          "output_type": "display_data",
          "data": {
            "image/png": "[encoded data removed]",
            "text/plain": [
              "<Figure size 432x288 with 1 Axes>"
            ]
          },
          "metadata": {
            "tags": [],
            "needs_background": "light"
          }
        }
      ]
    }
  ]
}