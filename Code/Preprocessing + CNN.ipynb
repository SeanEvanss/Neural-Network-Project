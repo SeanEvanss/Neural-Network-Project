{
  "nbformat": 4,
  "nbformat_minor": 0,
  "metadata": {
    "colab": {
      "name": "Copy of Data Preprocessing",
      "provenance": [],
      "collapsed_sections": []
    },
    "kernelspec": {
      "name": "python3",
      "display_name": "Python 3"
    },
    "widgets": {
      "application/vnd.jupyter.widget-state+json": {
        "6b8e60a231254f11a99bbadf6ea77925": {
          "model_module": "@jupyter-widgets/controls",
          "model_name": "HBoxModel",
          "state": {
            "_view_name": "HBoxView",
            "_dom_classes": [],
            "_model_name": "HBoxModel",
            "_view_module": "@jupyter-widgets/controls",
            "_model_module_version": "1.5.0",
            "_view_count": null,
            "_view_module_version": "1.5.0",
            "box_style": "",
            "layout": "IPY_MODEL_28a42e03f87143f294432f13aa063ee5",
            "_model_module": "@jupyter-widgets/controls",
            "children": [
              "IPY_MODEL_213480a59b5e4e76b826d2c985218cf4",
              "IPY_MODEL_96e43c2ae63441e884e34fe3af8e77b0"
            ]
          }
        },
        "28a42e03f87143f294432f13aa063ee5": {
          "model_module": "@jupyter-widgets/base",
          "model_name": "LayoutModel",
          "state": {
            "_view_name": "LayoutView",
            "grid_template_rows": null,
            "right": null,
            "justify_content": null,
            "_view_module": "@jupyter-widgets/base",
            "overflow": null,
            "_model_module_version": "1.2.0",
            "_view_count": null,
            "flex_flow": null,
            "width": null,
            "min_width": null,
            "border": null,
            "align_items": null,
            "bottom": null,
            "_model_module": "@jupyter-widgets/base",
            "top": null,
            "grid_column": null,
            "overflow_y": null,
            "overflow_x": null,
            "grid_auto_flow": null,
            "grid_area": null,
            "grid_template_columns": null,
            "flex": null,
            "_model_name": "LayoutModel",
            "justify_items": null,
            "grid_row": null,
            "max_height": null,
            "align_content": null,
            "visibility": null,
            "align_self": null,
            "height": null,
            "min_height": null,
            "padding": null,
            "grid_auto_rows": null,
            "grid_gap": null,
            "max_width": null,
            "order": null,
            "_view_module_version": "1.2.0",
            "grid_template_areas": null,
            "object_position": null,
            "object_fit": null,
            "grid_auto_columns": null,
            "margin": null,
            "display": null,
            "left": null
          }
        },
        "213480a59b5e4e76b826d2c985218cf4": {
          "model_module": "@jupyter-widgets/controls",
          "model_name": "FloatProgressModel",
          "state": {
            "_view_name": "ProgressView",
            "style": "IPY_MODEL_dbae9008d80f49d89eb2492531f48131",
            "_dom_classes": [],
            "description": "100%",
            "_model_name": "FloatProgressModel",
            "bar_style": "success",
            "max": 54844,
            "_view_module": "@jupyter-widgets/controls",
            "_model_module_version": "1.5.0",
            "value": 54844,
            "_view_count": null,
            "_view_module_version": "1.5.0",
            "orientation": "horizontal",
            "min": 0,
            "description_tooltip": null,
            "_model_module": "@jupyter-widgets/controls",
            "layout": "IPY_MODEL_9f1627e43fb44e9393f1905fee670d18"
          }
        },
        "96e43c2ae63441e884e34fe3af8e77b0": {
          "model_module": "@jupyter-widgets/controls",
          "model_name": "HTMLModel",
          "state": {
            "_view_name": "HTMLView",
            "style": "IPY_MODEL_4578e376694a47a4a4fda5de0dc5fcb9",
            "_dom_classes": [],
            "description": "",
            "_model_name": "HTMLModel",
            "placeholder": "​",
            "_view_module": "@jupyter-widgets/controls",
            "_model_module_version": "1.5.0",
            "value": " 54844/54844 [00:01&lt;00:00, 29580.53it/s]",
            "_view_count": null,
            "_view_module_version": "1.5.0",
            "description_tooltip": null,
            "_model_module": "@jupyter-widgets/controls",
            "layout": "IPY_MODEL_63c9a0a48ccd452db3db699d687e9abd"
          }
        },
        "dbae9008d80f49d89eb2492531f48131": {
          "model_module": "@jupyter-widgets/controls",
          "model_name": "ProgressStyleModel",
          "state": {
            "_view_name": "StyleView",
            "_model_name": "ProgressStyleModel",
            "description_width": "initial",
            "_view_module": "@jupyter-widgets/base",
            "_model_module_version": "1.5.0",
            "_view_count": null,
            "_view_module_version": "1.2.0",
            "bar_color": null,
            "_model_module": "@jupyter-widgets/controls"
          }
        },
        "9f1627e43fb44e9393f1905fee670d18": {
          "model_module": "@jupyter-widgets/base",
          "model_name": "LayoutModel",
          "state": {
            "_view_name": "LayoutView",
            "grid_template_rows": null,
            "right": null,
            "justify_content": null,
            "_view_module": "@jupyter-widgets/base",
            "overflow": null,
            "_model_module_version": "1.2.0",
            "_view_count": null,
            "flex_flow": null,
            "width": null,
            "min_width": null,
            "border": null,
            "align_items": null,
            "bottom": null,
            "_model_module": "@jupyter-widgets/base",
            "top": null,
            "grid_column": null,
            "overflow_y": null,
            "overflow_x": null,
            "grid_auto_flow": null,
            "grid_area": null,
            "grid_template_columns": null,
            "flex": null,
            "_model_name": "LayoutModel",
            "justify_items": null,
            "grid_row": null,
            "max_height": null,
            "align_content": null,
            "visibility": null,
            "align_self": null,
            "height": null,
            "min_height": null,
            "padding": null,
            "grid_auto_rows": null,
            "grid_gap": null,
            "max_width": null,
            "order": null,
            "_view_module_version": "1.2.0",
            "grid_template_areas": null,
            "object_position": null,
            "object_fit": null,
            "grid_auto_columns": null,
            "margin": null,
            "display": null,
            "left": null
          }
        },
        "4578e376694a47a4a4fda5de0dc5fcb9": {
          "model_module": "@jupyter-widgets/controls",
          "model_name": "DescriptionStyleModel",
          "state": {
            "_view_name": "StyleView",
            "_model_name": "DescriptionStyleModel",
            "description_width": "",
            "_view_module": "@jupyter-widgets/base",
            "_model_module_version": "1.5.0",
            "_view_count": null,
            "_view_module_version": "1.2.0",
            "_model_module": "@jupyter-widgets/controls"
          }
        },
        "63c9a0a48ccd452db3db699d687e9abd": {
          "model_module": "@jupyter-widgets/base",
          "model_name": "LayoutModel",
          "state": {
            "_view_name": "LayoutView",
            "grid_template_rows": null,
            "right": null,
            "justify_content": null,
            "_view_module": "@jupyter-widgets/base",
            "overflow": null,
            "_model_module_version": "1.2.0",
            "_view_count": null,
            "flex_flow": null,
            "width": null,
            "min_width": null,
            "border": null,
            "align_items": null,
            "bottom": null,
            "_model_module": "@jupyter-widgets/base",
            "top": null,
            "grid_column": null,
            "overflow_y": null,
            "overflow_x": null,
            "grid_auto_flow": null,
            "grid_area": null,
            "grid_template_columns": null,
            "flex": null,
            "_model_name": "LayoutModel",
            "justify_items": null,
            "grid_row": null,
            "max_height": null,
            "align_content": null,
            "visibility": null,
            "align_self": null,
            "height": null,
            "min_height": null,
            "padding": null,
            "grid_auto_rows": null,
            "grid_gap": null,
            "max_width": null,
            "order": null,
            "_view_module_version": "1.2.0",
            "grid_template_areas": null,
            "object_position": null,
            "object_fit": null,
            "grid_auto_columns": null,
            "margin": null,
            "display": null,
            "left": null
          }
        },
        "f642754dfe4f4fc7ab3e1302bf8adccf": {
          "model_module": "@jupyter-widgets/controls",
          "model_name": "HBoxModel",
          "state": {
            "_view_name": "HBoxView",
            "_dom_classes": [],
            "_model_name": "HBoxModel",
            "_view_module": "@jupyter-widgets/controls",
            "_model_module_version": "1.5.0",
            "_view_count": null,
            "_view_module_version": "1.5.0",
            "box_style": "",
            "layout": "IPY_MODEL_8e9bddf271864ddd97549856b42165d4",
            "_model_module": "@jupyter-widgets/controls",
            "children": [
              "IPY_MODEL_d8d1ecb038954a4296774ac8fb55dcca",
              "IPY_MODEL_deae0ad2fcb84715af77c889f890b5e5"
            ]
          }
        },
        "8e9bddf271864ddd97549856b42165d4": {
          "model_module": "@jupyter-widgets/base",
          "model_name": "LayoutModel",
          "state": {
            "_view_name": "LayoutView",
            "grid_template_rows": null,
            "right": null,
            "justify_content": null,
            "_view_module": "@jupyter-widgets/base",
            "overflow": null,
            "_model_module_version": "1.2.0",
            "_view_count": null,
            "flex_flow": null,
            "width": null,
            "min_width": null,
            "border": null,
            "align_items": null,
            "bottom": null,
            "_model_module": "@jupyter-widgets/base",
            "top": null,
            "grid_column": null,
            "overflow_y": null,
            "overflow_x": null,
            "grid_auto_flow": null,
            "grid_area": null,
            "grid_template_columns": null,
            "flex": null,
            "_model_name": "LayoutModel",
            "justify_items": null,
            "grid_row": null,
            "max_height": null,
            "align_content": null,
            "visibility": null,
            "align_self": null,
            "height": null,
            "min_height": null,
            "padding": null,
            "grid_auto_rows": null,
            "grid_gap": null,
            "max_width": null,
            "order": null,
            "_view_module_version": "1.2.0",
            "grid_template_areas": null,
            "object_position": null,
            "object_fit": null,
            "grid_auto_columns": null,
            "margin": null,
            "display": null,
            "left": null
          }
        },
        "d8d1ecb038954a4296774ac8fb55dcca": {
          "model_module": "@jupyter-widgets/controls",
          "model_name": "FloatProgressModel",
          "state": {
            "_view_name": "ProgressView",
            "style": "IPY_MODEL_94f0fded9e1a45ee9625a187efba74ba",
            "_dom_classes": [],
            "description": "100%",
            "_model_name": "FloatProgressModel",
            "bar_style": "success",
            "max": 54844,
            "_view_module": "@jupyter-widgets/controls",
            "_model_module_version": "1.5.0",
            "value": 54844,
            "_view_count": null,
            "_view_module_version": "1.5.0",
            "orientation": "horizontal",
            "min": 0,
            "description_tooltip": null,
            "_model_module": "@jupyter-widgets/controls",
            "layout": "IPY_MODEL_eb26d817d4d64bef961a83df35cbeb1f"
          }
        },
        "deae0ad2fcb84715af77c889f890b5e5": {
          "model_module": "@jupyter-widgets/controls",
          "model_name": "HTMLModel",
          "state": {
            "_view_name": "HTMLView",
            "style": "IPY_MODEL_3a6b76bca7c44fc197fb541c43de1d66",
            "_dom_classes": [],
            "description": "",
            "_model_name": "HTMLModel",
            "placeholder": "​",
            "_view_module": "@jupyter-widgets/controls",
            "_model_module_version": "1.5.0",
            "value": " 54844/54844 [00:00&lt;00:00, 72501.34it/s]",
            "_view_count": null,
            "_view_module_version": "1.5.0",
            "description_tooltip": null,
            "_model_module": "@jupyter-widgets/controls",
            "layout": "IPY_MODEL_71fbd4a452d048209fd9939b8589f575"
          }
        },
        "94f0fded9e1a45ee9625a187efba74ba": {
          "model_module": "@jupyter-widgets/controls",
          "model_name": "ProgressStyleModel",
          "state": {
            "_view_name": "StyleView",
            "_model_name": "ProgressStyleModel",
            "description_width": "initial",
            "_view_module": "@jupyter-widgets/base",
            "_model_module_version": "1.5.0",
            "_view_count": null,
            "_view_module_version": "1.2.0",
            "bar_color": null,
            "_model_module": "@jupyter-widgets/controls"
          }
        },
        "eb26d817d4d64bef961a83df35cbeb1f": {
          "model_module": "@jupyter-widgets/base",
          "model_name": "LayoutModel",
          "state": {
            "_view_name": "LayoutView",
            "grid_template_rows": null,
            "right": null,
            "justify_content": null,
            "_view_module": "@jupyter-widgets/base",
            "overflow": null,
            "_model_module_version": "1.2.0",
            "_view_count": null,
            "flex_flow": null,
            "width": null,
            "min_width": null,
            "border": null,
            "align_items": null,
            "bottom": null,
            "_model_module": "@jupyter-widgets/base",
            "top": null,
            "grid_column": null,
            "overflow_y": null,
            "overflow_x": null,
            "grid_auto_flow": null,
            "grid_area": null,
            "grid_template_columns": null,
            "flex": null,
            "_model_name": "LayoutModel",
            "justify_items": null,
            "grid_row": null,
            "max_height": null,
            "align_content": null,
            "visibility": null,
            "align_self": null,
            "height": null,
            "min_height": null,
            "padding": null,
            "grid_auto_rows": null,
            "grid_gap": null,
            "max_width": null,
            "order": null,
            "_view_module_version": "1.2.0",
            "grid_template_areas": null,
            "object_position": null,
            "object_fit": null,
            "grid_auto_columns": null,
            "margin": null,
            "display": null,
            "left": null
          }
        },
        "3a6b76bca7c44fc197fb541c43de1d66": {
          "model_module": "@jupyter-widgets/controls",
          "model_name": "DescriptionStyleModel",
          "state": {
            "_view_name": "StyleView",
            "_model_name": "DescriptionStyleModel",
            "description_width": "",
            "_view_module": "@jupyter-widgets/base",
            "_model_module_version": "1.5.0",
            "_view_count": null,
            "_view_module_version": "1.2.0",
            "_model_module": "@jupyter-widgets/controls"
          }
        },
        "71fbd4a452d048209fd9939b8589f575": {
          "model_module": "@jupyter-widgets/base",
          "model_name": "LayoutModel",
          "state": {
            "_view_name": "LayoutView",
            "grid_template_rows": null,
            "right": null,
            "justify_content": null,
            "_view_module": "@jupyter-widgets/base",
            "overflow": null,
            "_model_module_version": "1.2.0",
            "_view_count": null,
            "flex_flow": null,
            "width": null,
            "min_width": null,
            "border": null,
            "align_items": null,
            "bottom": null,
            "_model_module": "@jupyter-widgets/base",
            "top": null,
            "grid_column": null,
            "overflow_y": null,
            "overflow_x": null,
            "grid_auto_flow": null,
            "grid_area": null,
            "grid_template_columns": null,
            "flex": null,
            "_model_name": "LayoutModel",
            "justify_items": null,
            "grid_row": null,
            "max_height": null,
            "align_content": null,
            "visibility": null,
            "align_self": null,
            "height": null,
            "min_height": null,
            "padding": null,
            "grid_auto_rows": null,
            "grid_gap": null,
            "max_width": null,
            "order": null,
            "_view_module_version": "1.2.0",
            "grid_template_areas": null,
            "object_position": null,
            "object_fit": null,
            "grid_auto_columns": null,
            "margin": null,
            "display": null,
            "left": null
          }
        },
        "559b915b698c4af189cd012b5143ac68": {
          "model_module": "@jupyter-widgets/controls",
          "model_name": "HBoxModel",
          "state": {
            "_view_name": "HBoxView",
            "_dom_classes": [],
            "_model_name": "HBoxModel",
            "_view_module": "@jupyter-widgets/controls",
            "_model_module_version": "1.5.0",
            "_view_count": null,
            "_view_module_version": "1.5.0",
            "box_style": "",
            "layout": "IPY_MODEL_666c30627e58408dab1bd7687983ed3f",
            "_model_module": "@jupyter-widgets/controls",
            "children": [
              "IPY_MODEL_8f2f33073ef04026b950bdf90962d267",
              "IPY_MODEL_742e7bc277e341848452f630545c2f9b"
            ]
          }
        },
        "666c30627e58408dab1bd7687983ed3f": {
          "model_module": "@jupyter-widgets/base",
          "model_name": "LayoutModel",
          "state": {
            "_view_name": "LayoutView",
            "grid_template_rows": null,
            "right": null,
            "justify_content": null,
            "_view_module": "@jupyter-widgets/base",
            "overflow": null,
            "_model_module_version": "1.2.0",
            "_view_count": null,
            "flex_flow": null,
            "width": null,
            "min_width": null,
            "border": null,
            "align_items": null,
            "bottom": null,
            "_model_module": "@jupyter-widgets/base",
            "top": null,
            "grid_column": null,
            "overflow_y": null,
            "overflow_x": null,
            "grid_auto_flow": null,
            "grid_area": null,
            "grid_template_columns": null,
            "flex": null,
            "_model_name": "LayoutModel",
            "justify_items": null,
            "grid_row": null,
            "max_height": null,
            "align_content": null,
            "visibility": null,
            "align_self": null,
            "height": null,
            "min_height": null,
            "padding": null,
            "grid_auto_rows": null,
            "grid_gap": null,
            "max_width": null,
            "order": null,
            "_view_module_version": "1.2.0",
            "grid_template_areas": null,
            "object_position": null,
            "object_fit": null,
            "grid_auto_columns": null,
            "margin": null,
            "display": null,
            "left": null
          }
        },
        "8f2f33073ef04026b950bdf90962d267": {
          "model_module": "@jupyter-widgets/controls",
          "model_name": "FloatProgressModel",
          "state": {
            "_view_name": "ProgressView",
            "style": "IPY_MODEL_a8ad3ab26aa7481e9b30817a7480c395",
            "_dom_classes": [],
            "description": "100%",
            "_model_name": "FloatProgressModel",
            "bar_style": "success",
            "max": 54844,
            "_view_module": "@jupyter-widgets/controls",
            "_model_module_version": "1.5.0",
            "value": 54844,
            "_view_count": null,
            "_view_module_version": "1.5.0",
            "orientation": "horizontal",
            "min": 0,
            "description_tooltip": null,
            "_model_module": "@jupyter-widgets/controls",
            "layout": "IPY_MODEL_84e841ec4e6a4fcea140bc2327bec8ff"
          }
        },
        "742e7bc277e341848452f630545c2f9b": {
          "model_module": "@jupyter-widgets/controls",
          "model_name": "HTMLModel",
          "state": {
            "_view_name": "HTMLView",
            "style": "IPY_MODEL_7ba4d8125d274b909f7c9e665e220704",
            "_dom_classes": [],
            "description": "",
            "_model_name": "HTMLModel",
            "placeholder": "​",
            "_view_module": "@jupyter-widgets/controls",
            "_model_module_version": "1.5.0",
            "value": " 54844/54844 [04:40&lt;00:00, 195.60it/s]",
            "_view_count": null,
            "_view_module_version": "1.5.0",
            "description_tooltip": null,
            "_model_module": "@jupyter-widgets/controls",
            "layout": "IPY_MODEL_2ca9a5c071534f909811be104f543c6f"
          }
        },
        "a8ad3ab26aa7481e9b30817a7480c395": {
          "model_module": "@jupyter-widgets/controls",
          "model_name": "ProgressStyleModel",
          "state": {
            "_view_name": "StyleView",
            "_model_name": "ProgressStyleModel",
            "description_width": "initial",
            "_view_module": "@jupyter-widgets/base",
            "_model_module_version": "1.5.0",
            "_view_count": null,
            "_view_module_version": "1.2.0",
            "bar_color": null,
            "_model_module": "@jupyter-widgets/controls"
          }
        },
        "84e841ec4e6a4fcea140bc2327bec8ff": {
          "model_module": "@jupyter-widgets/base",
          "model_name": "LayoutModel",
          "state": {
            "_view_name": "LayoutView",
            "grid_template_rows": null,
            "right": null,
            "justify_content": null,
            "_view_module": "@jupyter-widgets/base",
            "overflow": null,
            "_model_module_version": "1.2.0",
            "_view_count": null,
            "flex_flow": null,
            "width": null,
            "min_width": null,
            "border": null,
            "align_items": null,
            "bottom": null,
            "_model_module": "@jupyter-widgets/base",
            "top": null,
            "grid_column": null,
            "overflow_y": null,
            "overflow_x": null,
            "grid_auto_flow": null,
            "grid_area": null,
            "grid_template_columns": null,
            "flex": null,
            "_model_name": "LayoutModel",
            "justify_items": null,
            "grid_row": null,
            "max_height": null,
            "align_content": null,
            "visibility": null,
            "align_self": null,
            "height": null,
            "min_height": null,
            "padding": null,
            "grid_auto_rows": null,
            "grid_gap": null,
            "max_width": null,
            "order": null,
            "_view_module_version": "1.2.0",
            "grid_template_areas": null,
            "object_position": null,
            "object_fit": null,
            "grid_auto_columns": null,
            "margin": null,
            "display": null,
            "left": null
          }
        },
        "7ba4d8125d274b909f7c9e665e220704": {
          "model_module": "@jupyter-widgets/controls",
          "model_name": "DescriptionStyleModel",
          "state": {
            "_view_name": "StyleView",
            "_model_name": "DescriptionStyleModel",
            "description_width": "",
            "_view_module": "@jupyter-widgets/base",
            "_model_module_version": "1.5.0",
            "_view_count": null,
            "_view_module_version": "1.2.0",
            "_model_module": "@jupyter-widgets/controls"
          }
        },
        "2ca9a5c071534f909811be104f543c6f": {
          "model_module": "@jupyter-widgets/base",
          "model_name": "LayoutModel",
          "state": {
            "_view_name": "LayoutView",
            "grid_template_rows": null,
            "right": null,
            "justify_content": null,
            "_view_module": "@jupyter-widgets/base",
            "overflow": null,
            "_model_module_version": "1.2.0",
            "_view_count": null,
            "flex_flow": null,
            "width": null,
            "min_width": null,
            "border": null,
            "align_items": null,
            "bottom": null,
            "_model_module": "@jupyter-widgets/base",
            "top": null,
            "grid_column": null,
            "overflow_y": null,
            "overflow_x": null,
            "grid_auto_flow": null,
            "grid_area": null,
            "grid_template_columns": null,
            "flex": null,
            "_model_name": "LayoutModel",
            "justify_items": null,
            "grid_row": null,
            "max_height": null,
            "align_content": null,
            "visibility": null,
            "align_self": null,
            "height": null,
            "min_height": null,
            "padding": null,
            "grid_auto_rows": null,
            "grid_gap": null,
            "max_width": null,
            "order": null,
            "_view_module_version": "1.2.0",
            "grid_template_areas": null,
            "object_position": null,
            "object_fit": null,
            "grid_auto_columns": null,
            "margin": null,
            "display": null,
            "left": null
          }
        },
        "a092c4132c7e48e180b47ccd73c17e06": {
          "model_module": "@jupyter-widgets/controls",
          "model_name": "HBoxModel",
          "state": {
            "_view_name": "HBoxView",
            "_dom_classes": [],
            "_model_name": "HBoxModel",
            "_view_module": "@jupyter-widgets/controls",
            "_model_module_version": "1.5.0",
            "_view_count": null,
            "_view_module_version": "1.5.0",
            "box_style": "",
            "layout": "IPY_MODEL_0f792f21b81245cd837ea824da3e4673",
            "_model_module": "@jupyter-widgets/controls",
            "children": [
              "IPY_MODEL_d8c91e80a581421fa0141efaf9818278",
              "IPY_MODEL_1212c40e078c46fd951a1ed0edb717db"
            ]
          }
        },
        "0f792f21b81245cd837ea824da3e4673": {
          "model_module": "@jupyter-widgets/base",
          "model_name": "LayoutModel",
          "state": {
            "_view_name": "LayoutView",
            "grid_template_rows": null,
            "right": null,
            "justify_content": null,
            "_view_module": "@jupyter-widgets/base",
            "overflow": null,
            "_model_module_version": "1.2.0",
            "_view_count": null,
            "flex_flow": null,
            "width": null,
            "min_width": null,
            "border": null,
            "align_items": null,
            "bottom": null,
            "_model_module": "@jupyter-widgets/base",
            "top": null,
            "grid_column": null,
            "overflow_y": null,
            "overflow_x": null,
            "grid_auto_flow": null,
            "grid_area": null,
            "grid_template_columns": null,
            "flex": null,
            "_model_name": "LayoutModel",
            "justify_items": null,
            "grid_row": null,
            "max_height": null,
            "align_content": null,
            "visibility": null,
            "align_self": null,
            "height": null,
            "min_height": null,
            "padding": null,
            "grid_auto_rows": null,
            "grid_gap": null,
            "max_width": null,
            "order": null,
            "_view_module_version": "1.2.0",
            "grid_template_areas": null,
            "object_position": null,
            "object_fit": null,
            "grid_auto_columns": null,
            "margin": null,
            "display": null,
            "left": null
          }
        },
        "d8c91e80a581421fa0141efaf9818278": {
          "model_module": "@jupyter-widgets/controls",
          "model_name": "FloatProgressModel",
          "state": {
            "_view_name": "ProgressView",
            "style": "IPY_MODEL_1efab8a6aabf4dac867198cd3c8d4c3f",
            "_dom_classes": [],
            "description": "100%",
            "_model_name": "FloatProgressModel",
            "bar_style": "success",
            "max": 54844,
            "_view_module": "@jupyter-widgets/controls",
            "_model_module_version": "1.5.0",
            "value": 54844,
            "_view_count": null,
            "_view_module_version": "1.5.0",
            "orientation": "horizontal",
            "min": 0,
            "description_tooltip": null,
            "_model_module": "@jupyter-widgets/controls",
            "layout": "IPY_MODEL_4565aa085cce4600ba509f581de6350b"
          }
        },
        "1212c40e078c46fd951a1ed0edb717db": {
          "model_module": "@jupyter-widgets/controls",
          "model_name": "HTMLModel",
          "state": {
            "_view_name": "HTMLView",
            "style": "IPY_MODEL_4d4abc7e54d44fb4a0dfdd76c37432c3",
            "_dom_classes": [],
            "description": "",
            "_model_name": "HTMLModel",
            "placeholder": "​",
            "_view_module": "@jupyter-widgets/controls",
            "_model_module_version": "1.5.0",
            "value": " 54844/54844 [15:37&lt;00:00, 58.51it/s]",
            "_view_count": null,
            "_view_module_version": "1.5.0",
            "description_tooltip": null,
            "_model_module": "@jupyter-widgets/controls",
            "layout": "IPY_MODEL_8a187ae4f4f34c8a8161dd16da34cd9e"
          }
        },
        "1efab8a6aabf4dac867198cd3c8d4c3f": {
          "model_module": "@jupyter-widgets/controls",
          "model_name": "ProgressStyleModel",
          "state": {
            "_view_name": "StyleView",
            "_model_name": "ProgressStyleModel",
            "description_width": "initial",
            "_view_module": "@jupyter-widgets/base",
            "_model_module_version": "1.5.0",
            "_view_count": null,
            "_view_module_version": "1.2.0",
            "bar_color": null,
            "_model_module": "@jupyter-widgets/controls"
          }
        },
        "4565aa085cce4600ba509f581de6350b": {
          "model_module": "@jupyter-widgets/base",
          "model_name": "LayoutModel",
          "state": {
            "_view_name": "LayoutView",
            "grid_template_rows": null,
            "right": null,
            "justify_content": null,
            "_view_module": "@jupyter-widgets/base",
            "overflow": null,
            "_model_module_version": "1.2.0",
            "_view_count": null,
            "flex_flow": null,
            "width": null,
            "min_width": null,
            "border": null,
            "align_items": null,
            "bottom": null,
            "_model_module": "@jupyter-widgets/base",
            "top": null,
            "grid_column": null,
            "overflow_y": null,
            "overflow_x": null,
            "grid_auto_flow": null,
            "grid_area": null,
            "grid_template_columns": null,
            "flex": null,
            "_model_name": "LayoutModel",
            "justify_items": null,
            "grid_row": null,
            "max_height": null,
            "align_content": null,
            "visibility": null,
            "align_self": null,
            "height": null,
            "min_height": null,
            "padding": null,
            "grid_auto_rows": null,
            "grid_gap": null,
            "max_width": null,
            "order": null,
            "_view_module_version": "1.2.0",
            "grid_template_areas": null,
            "object_position": null,
            "object_fit": null,
            "grid_auto_columns": null,
            "margin": null,
            "display": null,
            "left": null
          }
        },
        "4d4abc7e54d44fb4a0dfdd76c37432c3": {
          "model_module": "@jupyter-widgets/controls",
          "model_name": "DescriptionStyleModel",
          "state": {
            "_view_name": "StyleView",
            "_model_name": "DescriptionStyleModel",
            "description_width": "",
            "_view_module": "@jupyter-widgets/base",
            "_model_module_version": "1.5.0",
            "_view_count": null,
            "_view_module_version": "1.2.0",
            "_model_module": "@jupyter-widgets/controls"
          }
        },
        "8a187ae4f4f34c8a8161dd16da34cd9e": {
          "model_module": "@jupyter-widgets/base",
          "model_name": "LayoutModel",
          "state": {
            "_view_name": "LayoutView",
            "grid_template_rows": null,
            "right": null,
            "justify_content": null,
            "_view_module": "@jupyter-widgets/base",
            "overflow": null,
            "_model_module_version": "1.2.0",
            "_view_count": null,
            "flex_flow": null,
            "width": null,
            "min_width": null,
            "border": null,
            "align_items": null,
            "bottom": null,
            "_model_module": "@jupyter-widgets/base",
            "top": null,
            "grid_column": null,
            "overflow_y": null,
            "overflow_x": null,
            "grid_auto_flow": null,
            "grid_area": null,
            "grid_template_columns": null,
            "flex": null,
            "_model_name": "LayoutModel",
            "justify_items": null,
            "grid_row": null,
            "max_height": null,
            "align_content": null,
            "visibility": null,
            "align_self": null,
            "height": null,
            "min_height": null,
            "padding": null,
            "grid_auto_rows": null,
            "grid_gap": null,
            "max_width": null,
            "order": null,
            "_view_module_version": "1.2.0",
            "grid_template_areas": null,
            "object_position": null,
            "object_fit": null,
            "grid_auto_columns": null,
            "margin": null,
            "display": null,
            "left": null
          }
        }
      }
    },
    "accelerator": "GPU"
  },
  "cells": [
    {
      "cell_type": "markdown",
      "metadata": {
        "id": "M_Di_6UFw8WL"
      },
      "source": [
        "# Text Preprocesing\n",
        "\n"
      ]
    },
    {
      "cell_type": "markdown",
      "metadata": {
        "id": "IGwvHc-AqmGt"
      },
      "source": [
        "## Installing Dependency\n"
      ]
    },
    {
      "cell_type": "code",
      "metadata": {
        "colab": {
          "base_uri": "https://localhost:8080/"
        },
        "id": "2wwbZlNAxhQU",
        "outputId": "4ba908f6-4867-4b16-e869-ed180c2ba97d"
      },
      "source": [
        "!pip install emoji\n",
        "!pip install symspellpy\n",
        "!pip install -U spacy\n",
        "!pip install -U spacy-lookups-data\n",
        "!python -m spacy download en_core_web_lg"
      ],
      "execution_count": null,
      "outputs": [
        {
          "output_type": "stream",
          "text": [
            "Requirement already satisfied: emoji in /usr/local/lib/python3.6/dist-packages (0.6.0)\n",
            "Requirement already satisfied: symspellpy in /usr/local/lib/python3.6/dist-packages (6.7.0)\n",
            "Requirement already satisfied: numpy>=1.13.1 in /usr/local/lib/python3.6/dist-packages (from symspellpy) (1.18.5)\n",
            "Requirement already up-to-date: spacy in /usr/local/lib/python3.6/dist-packages (2.3.2)\n",
            "Requirement already satisfied, skipping upgrade: thinc==7.4.1 in /usr/local/lib/python3.6/dist-packages (from spacy) (7.4.1)\n",
            "Requirement already satisfied, skipping upgrade: murmurhash<1.1.0,>=0.28.0 in /usr/local/lib/python3.6/dist-packages (from spacy) (1.0.3)\n",
            "Requirement already satisfied, skipping upgrade: srsly<1.1.0,>=1.0.2 in /usr/local/lib/python3.6/dist-packages (from spacy) (1.0.2)\n",
            "Requirement already satisfied, skipping upgrade: catalogue<1.1.0,>=0.0.7 in /usr/local/lib/python3.6/dist-packages (from spacy) (1.0.0)\n",
            "Requirement already satisfied, skipping upgrade: requests<3.0.0,>=2.13.0 in /usr/local/lib/python3.6/dist-packages (from spacy) (2.23.0)\n",
            "Requirement already satisfied, skipping upgrade: wasabi<1.1.0,>=0.4.0 in /usr/local/lib/python3.6/dist-packages (from spacy) (0.8.0)\n",
            "Requirement already satisfied, skipping upgrade: tqdm<5.0.0,>=4.38.0 in /usr/local/lib/python3.6/dist-packages (from spacy) (4.41.1)\n",
            "Requirement already satisfied, skipping upgrade: numpy>=1.15.0 in /usr/local/lib/python3.6/dist-packages (from spacy) (1.18.5)\n",
            "Requirement already satisfied, skipping upgrade: plac<1.2.0,>=0.9.6 in /usr/local/lib/python3.6/dist-packages (from spacy) (1.1.3)\n",
            "Requirement already satisfied, skipping upgrade: blis<0.5.0,>=0.4.0 in /usr/local/lib/python3.6/dist-packages (from spacy) (0.4.1)\n",
            "Requirement already satisfied, skipping upgrade: setuptools in /usr/local/lib/python3.6/dist-packages (from spacy) (50.3.2)\n",
            "Requirement already satisfied, skipping upgrade: preshed<3.1.0,>=3.0.2 in /usr/local/lib/python3.6/dist-packages (from spacy) (3.0.2)\n",
            "Requirement already satisfied, skipping upgrade: cymem<2.1.0,>=2.0.2 in /usr/local/lib/python3.6/dist-packages (from spacy) (2.0.4)\n",
            "Requirement already satisfied, skipping upgrade: importlib-metadata>=0.20; python_version < \"3.8\" in /usr/local/lib/python3.6/dist-packages (from catalogue<1.1.0,>=0.0.7->spacy) (2.0.0)\n",
            "Requirement already satisfied, skipping upgrade: urllib3!=1.25.0,!=1.25.1,<1.26,>=1.21.1 in /usr/local/lib/python3.6/dist-packages (from requests<3.0.0,>=2.13.0->spacy) (1.24.3)\n",
            "Requirement already satisfied, skipping upgrade: idna<3,>=2.5 in /usr/local/lib/python3.6/dist-packages (from requests<3.0.0,>=2.13.0->spacy) (2.10)\n",
            "Requirement already satisfied, skipping upgrade: certifi>=2017.4.17 in /usr/local/lib/python3.6/dist-packages (from requests<3.0.0,>=2.13.0->spacy) (2020.6.20)\n",
            "Requirement already satisfied, skipping upgrade: chardet<4,>=3.0.2 in /usr/local/lib/python3.6/dist-packages (from requests<3.0.0,>=2.13.0->spacy) (3.0.4)\n",
            "Requirement already satisfied, skipping upgrade: zipp>=0.5 in /usr/local/lib/python3.6/dist-packages (from importlib-metadata>=0.20; python_version < \"3.8\"->catalogue<1.1.0,>=0.0.7->spacy) (3.4.0)\n",
            "Requirement already up-to-date: spacy-lookups-data in /usr/local/lib/python3.6/dist-packages (0.3.2)\n",
            "Requirement already satisfied, skipping upgrade: setuptools in /usr/local/lib/python3.6/dist-packages (from spacy-lookups-data) (50.3.2)\n",
            "Requirement already satisfied: en_core_web_lg==2.3.1 from https://github.com/explosion/spacy-models/releases/download/en_core_web_lg-2.3.1/en_core_web_lg-2.3.1.tar.gz#egg=en_core_web_lg==2.3.1 in /usr/local/lib/python3.6/dist-packages (2.3.1)\n",
            "Requirement already satisfied: spacy<2.4.0,>=2.3.0 in /usr/local/lib/python3.6/dist-packages (from en_core_web_lg==2.3.1) (2.3.2)\n",
            "Requirement already satisfied: cymem<2.1.0,>=2.0.2 in /usr/local/lib/python3.6/dist-packages (from spacy<2.4.0,>=2.3.0->en_core_web_lg==2.3.1) (2.0.4)\n",
            "Requirement already satisfied: murmurhash<1.1.0,>=0.28.0 in /usr/local/lib/python3.6/dist-packages (from spacy<2.4.0,>=2.3.0->en_core_web_lg==2.3.1) (1.0.3)\n",
            "Requirement already satisfied: requests<3.0.0,>=2.13.0 in /usr/local/lib/python3.6/dist-packages (from spacy<2.4.0,>=2.3.0->en_core_web_lg==2.3.1) (2.23.0)\n",
            "Requirement already satisfied: plac<1.2.0,>=0.9.6 in /usr/local/lib/python3.6/dist-packages (from spacy<2.4.0,>=2.3.0->en_core_web_lg==2.3.1) (1.1.3)\n",
            "Requirement already satisfied: wasabi<1.1.0,>=0.4.0 in /usr/local/lib/python3.6/dist-packages (from spacy<2.4.0,>=2.3.0->en_core_web_lg==2.3.1) (0.8.0)\n",
            "Requirement already satisfied: thinc==7.4.1 in /usr/local/lib/python3.6/dist-packages (from spacy<2.4.0,>=2.3.0->en_core_web_lg==2.3.1) (7.4.1)\n",
            "Requirement already satisfied: numpy>=1.15.0 in /usr/local/lib/python3.6/dist-packages (from spacy<2.4.0,>=2.3.0->en_core_web_lg==2.3.1) (1.18.5)\n",
            "Requirement already satisfied: tqdm<5.0.0,>=4.38.0 in /usr/local/lib/python3.6/dist-packages (from spacy<2.4.0,>=2.3.0->en_core_web_lg==2.3.1) (4.41.1)\n",
            "Requirement already satisfied: preshed<3.1.0,>=3.0.2 in /usr/local/lib/python3.6/dist-packages (from spacy<2.4.0,>=2.3.0->en_core_web_lg==2.3.1) (3.0.2)\n",
            "Requirement already satisfied: blis<0.5.0,>=0.4.0 in /usr/local/lib/python3.6/dist-packages (from spacy<2.4.0,>=2.3.0->en_core_web_lg==2.3.1) (0.4.1)\n",
            "Requirement already satisfied: catalogue<1.1.0,>=0.0.7 in /usr/local/lib/python3.6/dist-packages (from spacy<2.4.0,>=2.3.0->en_core_web_lg==2.3.1) (1.0.0)\n",
            "Requirement already satisfied: setuptools in /usr/local/lib/python3.6/dist-packages (from spacy<2.4.0,>=2.3.0->en_core_web_lg==2.3.1) (50.3.2)\n",
            "Requirement already satisfied: srsly<1.1.0,>=1.0.2 in /usr/local/lib/python3.6/dist-packages (from spacy<2.4.0,>=2.3.0->en_core_web_lg==2.3.1) (1.0.2)\n",
            "Requirement already satisfied: idna<3,>=2.5 in /usr/local/lib/python3.6/dist-packages (from requests<3.0.0,>=2.13.0->spacy<2.4.0,>=2.3.0->en_core_web_lg==2.3.1) (2.10)\n",
            "Requirement already satisfied: urllib3!=1.25.0,!=1.25.1,<1.26,>=1.21.1 in /usr/local/lib/python3.6/dist-packages (from requests<3.0.0,>=2.13.0->spacy<2.4.0,>=2.3.0->en_core_web_lg==2.3.1) (1.24.3)\n",
            "Requirement already satisfied: certifi>=2017.4.17 in /usr/local/lib/python3.6/dist-packages (from requests<3.0.0,>=2.13.0->spacy<2.4.0,>=2.3.0->en_core_web_lg==2.3.1) (2020.6.20)\n",
            "Requirement already satisfied: chardet<4,>=3.0.2 in /usr/local/lib/python3.6/dist-packages (from requests<3.0.0,>=2.13.0->spacy<2.4.0,>=2.3.0->en_core_web_lg==2.3.1) (3.0.4)\n",
            "Requirement already satisfied: importlib-metadata>=0.20; python_version < \"3.8\" in /usr/local/lib/python3.6/dist-packages (from catalogue<1.1.0,>=0.0.7->spacy<2.4.0,>=2.3.0->en_core_web_lg==2.3.1) (2.0.0)\n",
            "Requirement already satisfied: zipp>=0.5 in /usr/local/lib/python3.6/dist-packages (from importlib-metadata>=0.20; python_version < \"3.8\"->catalogue<1.1.0,>=0.0.7->spacy<2.4.0,>=2.3.0->en_core_web_lg==2.3.1) (3.4.0)\n",
            "\u001b[38;5;2m✔ Download and installation successful\u001b[0m\n",
            "You can now load the model via spacy.load('en_core_web_lg')\n"
          ],
          "name": "stdout"
        }
      ]
    },
    {
      "cell_type": "code",
      "metadata": {
        "colab": {
          "base_uri": "https://localhost:8080/"
        },
        "id": "apfwhmkixojB",
        "outputId": "90f60fc9-db89-498d-efdc-5e9853a7188a"
      },
      "source": [
        "import pandas as pd\n",
        "import tensorflow as tf\n",
        "import csv\n",
        "import matplotlib.pyplot as plt\n",
        "import numpy as np \n",
        "import emoji\n",
        "import nltk\n",
        "from pathlib import Path\n",
        "import pickle\n",
        "from sklearn import preprocessing\n",
        "from sklearn.model_selection import train_test_split\n",
        "from tensorflow.keras.preprocessing.text import Tokenizer\n",
        "from keras.preprocessing.sequence import pad_sequences\n",
        "from keras import regularizers\n",
        "from symspellpy import SymSpell, Verbosity\n",
        "# text preprocessing\n",
        "from nltk.tokenize import word_tokenize\n",
        "import pkg_resources\n",
        "import re, string, json\n",
        "import spacy\n",
        "from tqdm.notebook import tqdm\n",
        "from nltk.stem import WordNetLemmatizer\n",
        "from sklearn.metrics import accuracy_score, f1_score, confusion_matrix\n",
        "\n",
        "nltk.download('punkt')\n",
        "nltk.download('stopwords')"
      ],
      "execution_count": null,
      "outputs": [
        {
          "output_type": "stream",
          "text": [
            "[nltk_data] Downloading package punkt to /root/nltk_data...\n",
            "[nltk_data]   Package punkt is already up-to-date!\n",
            "[nltk_data] Downloading package stopwords to /root/nltk_data...\n",
            "[nltk_data]   Package stopwords is already up-to-date!\n"
          ],
          "name": "stdout"
        },
        {
          "output_type": "execute_result",
          "data": {
            "text/plain": [
              "True"
            ]
          },
          "metadata": {
            "tags": []
          },
          "execution_count": 2
        }
      ]
    },
    {
      "cell_type": "code",
      "metadata": {
        "id": "mKCETshs85_-"
      },
      "source": [
        "seed=10\n",
        "tf.random.set_seed(seed)"
      ],
      "execution_count": null,
      "outputs": []
    },
    {
      "cell_type": "markdown",
      "metadata": {
        "id": "kAbPgGzYWL8l"
      },
      "source": [
        "## DATA EXPLORATORY & CLEANING\n",
        "\n",
        "Objective is to make the data as error-free as possible for the model to train on.\n",
        "- explore the data, print out the statistics to understand the dataset composition\n",
        "- Identify characters that do not contain information and does not facilitate in model training \n",
        "<br>(e.g. special symbols, special character, wrong punctuation, werid numbers, wrong spelling)\n",
        "- Remove or fill empty rows with default values\n",
        "- convert the dataset to lower- cased. "
      ]
    },
    {
      "cell_type": "markdown",
      "metadata": {
        "id": "Z7kwW3LIrN5s"
      },
      "source": [
        "### Data Exploratory"
      ]
    },
    {
      "cell_type": "code",
      "metadata": {
        "colab": {
          "base_uri": "https://localhost:8080/"
        },
        "id": "MFoWbWGw87nk",
        "outputId": "f162a999-5018-4720-aa81-e5c4f8c28525"
      },
      "source": [
        "#reading data from csv file\n",
        "df = pd.read_csv(\"text_emotion.csv\", engine = 'python')\n",
        "\n",
        "#print out the stats of the dataset \n",
        "df.info()"
      ],
      "execution_count": null,
      "outputs": [
        {
          "output_type": "stream",
          "text": [
            "<class 'pandas.core.frame.DataFrame'>\n",
            "RangeIndex: 40000 entries, 0 to 39999\n",
            "Data columns (total 4 columns):\n",
            " #   Column     Non-Null Count  Dtype \n",
            "---  ------     --------------  ----- \n",
            " 0   tweet_id   40000 non-null  int64 \n",
            " 1   sentiment  40000 non-null  object\n",
            " 2   author     40000 non-null  object\n",
            " 3   content    40000 non-null  object\n",
            "dtypes: int64(1), object(3)\n",
            "memory usage: 1.2+ MB\n"
          ],
          "name": "stdout"
        }
      ]
    },
    {
      "cell_type": "code",
      "metadata": {
        "colab": {
          "base_uri": "https://localhost:8080/",
          "height": 202
        },
        "id": "Fu1BVKtU9gbK",
        "outputId": "ac9759c6-5e78-4ace-d774-1323c0800ea5"
      },
      "source": [
        "#show first 5 of the dataset\n",
        "df.head(5)"
      ],
      "execution_count": null,
      "outputs": [
        {
          "output_type": "execute_result",
          "data": {
            "text/html": [
              "<div>\n",
              "<style scoped>\n",
              "    .dataframe tbody tr th:only-of-type {\n",
              "        vertical-align: middle;\n",
              "    }\n",
              "\n",
              "    .dataframe tbody tr th {\n",
              "        vertical-align: top;\n",
              "    }\n",
              "\n",
              "    .dataframe thead th {\n",
              "        text-align: right;\n",
              "    }\n",
              "</style>\n",
              "<table border=\"1\" class=\"dataframe\">\n",
              "  <thead>\n",
              "    <tr style=\"text-align: right;\">\n",
              "      <th></th>\n",
              "      <th>tweet_id</th>\n",
              "      <th>sentiment</th>\n",
              "      <th>author</th>\n",
              "      <th>content</th>\n",
              "    </tr>\n",
              "  </thead>\n",
              "  <tbody>\n",
              "    <tr>\n",
              "      <th>0</th>\n",
              "      <td>1956967341</td>\n",
              "      <td>empty</td>\n",
              "      <td>xoshayzers</td>\n",
              "      <td>@tiffanylue i know  i was listenin to bad habi...</td>\n",
              "    </tr>\n",
              "    <tr>\n",
              "      <th>1</th>\n",
              "      <td>1956967666</td>\n",
              "      <td>sadness</td>\n",
              "      <td>wannamama</td>\n",
              "      <td>Layin n bed with a headache  ughhhh...waitin o...</td>\n",
              "    </tr>\n",
              "    <tr>\n",
              "      <th>2</th>\n",
              "      <td>1956967696</td>\n",
              "      <td>sadness</td>\n",
              "      <td>coolfunky</td>\n",
              "      <td>Funeral ceremony...gloomy friday...</td>\n",
              "    </tr>\n",
              "    <tr>\n",
              "      <th>3</th>\n",
              "      <td>1956967789</td>\n",
              "      <td>enthusiasm</td>\n",
              "      <td>czareaquino</td>\n",
              "      <td>wants to hang out with friends SOON!</td>\n",
              "    </tr>\n",
              "    <tr>\n",
              "      <th>4</th>\n",
              "      <td>1956968416</td>\n",
              "      <td>neutral</td>\n",
              "      <td>xkilljoyx</td>\n",
              "      <td>@dannycastillo We want to trade with someone w...</td>\n",
              "    </tr>\n",
              "  </tbody>\n",
              "</table>\n",
              "</div>"
            ],
            "text/plain": [
              "     tweet_id  ...                                            content\n",
              "0  1956967341  ...  @tiffanylue i know  i was listenin to bad habi...\n",
              "1  1956967666  ...  Layin n bed with a headache  ughhhh...waitin o...\n",
              "2  1956967696  ...                Funeral ceremony...gloomy friday...\n",
              "3  1956967789  ...               wants to hang out with friends SOON!\n",
              "4  1956968416  ...  @dannycastillo We want to trade with someone w...\n",
              "\n",
              "[5 rows x 4 columns]"
            ]
          },
          "metadata": {
            "tags": []
          },
          "execution_count": 5
        }
      ]
    },
    {
      "cell_type": "code",
      "metadata": {
        "colab": {
          "base_uri": "https://localhost:8080/"
        },
        "id": "0yb9Nb00-Zxu",
        "outputId": "7ceea766-3e7e-4241-d541-bfc0a8cbe269"
      },
      "source": [
        "#explore what are the unique sentiments that is within the dataset\n",
        "df['sentiment'].unique()"
      ],
      "execution_count": null,
      "outputs": [
        {
          "output_type": "execute_result",
          "data": {
            "text/plain": [
              "array(['empty', 'sadness', 'enthusiasm', 'neutral', 'worry', 'surprise',\n",
              "       'love', 'fun', 'hate', 'happiness', 'boredom', 'relief', 'anger'],\n",
              "      dtype=object)"
            ]
          },
          "metadata": {
            "tags": []
          },
          "execution_count": 6
        }
      ]
    },
    {
      "cell_type": "code",
      "metadata": {
        "colab": {
          "base_uri": "https://localhost:8080/"
        },
        "id": "GsvjI4r6_auG",
        "outputId": "4d34d000-4d5a-4cf6-f3c5-def1bd5fbc27"
      },
      "source": [
        "#explore what are the unique author/username that is within the dataset\n",
        "len(df['author'].unique())"
      ],
      "execution_count": null,
      "outputs": [
        {
          "output_type": "execute_result",
          "data": {
            "text/plain": [
              "33871"
            ]
          },
          "metadata": {
            "tags": []
          },
          "execution_count": 7
        }
      ]
    },
    {
      "cell_type": "code",
      "metadata": {
        "colab": {
          "base_uri": "https://localhost:8080/"
        },
        "id": "IKDlJuxG_z2E",
        "outputId": "60ca1b80-5d6f-4425-9350-edc90a2997aa"
      },
      "source": [
        "#explore what are the unique content that is within the dataset (checking for duplicates)\n",
        "len(df['content'].unique())"
      ],
      "execution_count": null,
      "outputs": [
        {
          "output_type": "execute_result",
          "data": {
            "text/plain": [
              "39827"
            ]
          },
          "metadata": {
            "tags": []
          },
          "execution_count": 8
        }
      ]
    },
    {
      "cell_type": "code",
      "metadata": {
        "colab": {
          "base_uri": "https://localhost:8080/",
          "height": 355
        },
        "id": "tMPyPX6OFsh6",
        "outputId": "9c606b58-cda3-469b-91bc-ff9f31b4ac95"
      },
      "source": [
        "#check for duplication\n",
        "duplicated = df[df.duplicated(['content','sentiment'])]\n",
        "duplicated.head(10)"
      ],
      "execution_count": null,
      "outputs": [
        {
          "output_type": "execute_result",
          "data": {
            "text/html": [
              "<div>\n",
              "<style scoped>\n",
              "    .dataframe tbody tr th:only-of-type {\n",
              "        vertical-align: middle;\n",
              "    }\n",
              "\n",
              "    .dataframe tbody tr th {\n",
              "        vertical-align: top;\n",
              "    }\n",
              "\n",
              "    .dataframe thead th {\n",
              "        text-align: right;\n",
              "    }\n",
              "</style>\n",
              "<table border=\"1\" class=\"dataframe\">\n",
              "  <thead>\n",
              "    <tr style=\"text-align: right;\">\n",
              "      <th></th>\n",
              "      <th>tweet_id</th>\n",
              "      <th>sentiment</th>\n",
              "      <th>author</th>\n",
              "      <th>content</th>\n",
              "    </tr>\n",
              "  </thead>\n",
              "  <tbody>\n",
              "    <tr>\n",
              "      <th>521</th>\n",
              "      <td>1957088574</td>\n",
              "      <td>worry</td>\n",
              "      <td>Chassidy7</td>\n",
              "      <td>Somebody please save the polar bears!</td>\n",
              "    </tr>\n",
              "    <tr>\n",
              "      <th>6591</th>\n",
              "      <td>1961366316</td>\n",
              "      <td>sadness</td>\n",
              "      <td>Zoraida1980</td>\n",
              "      <td>Headache</td>\n",
              "    </tr>\n",
              "    <tr>\n",
              "      <th>8878</th>\n",
              "      <td>1962332251</td>\n",
              "      <td>worry</td>\n",
              "      <td>letsdomusiccc</td>\n",
              "      <td>My throat hurts</td>\n",
              "    </tr>\n",
              "    <tr>\n",
              "      <th>10918</th>\n",
              "      <td>1963057544</td>\n",
              "      <td>worry</td>\n",
              "      <td>CoopInSoCal</td>\n",
              "      <td>@ericbolling Where's Dani Babb?</td>\n",
              "    </tr>\n",
              "    <tr>\n",
              "      <th>12531</th>\n",
              "      <td>1963597385</td>\n",
              "      <td>sadness</td>\n",
              "      <td>laurenc3191</td>\n",
              "      <td>not feeling too great today</td>\n",
              "    </tr>\n",
              "    <tr>\n",
              "      <th>15728</th>\n",
              "      <td>1964969733</td>\n",
              "      <td>sadness</td>\n",
              "      <td>Nickiitah</td>\n",
              "      <td>I miss you</td>\n",
              "    </tr>\n",
              "    <tr>\n",
              "      <th>15988</th>\n",
              "      <td>1965087416</td>\n",
              "      <td>neutral</td>\n",
              "      <td>BETTERIDGE6</td>\n",
              "      <td>going to work</td>\n",
              "    </tr>\n",
              "    <tr>\n",
              "      <th>17457</th>\n",
              "      <td>1965667672</td>\n",
              "      <td>neutral</td>\n",
              "      <td>Jazze820</td>\n",
              "      <td>cleaning my room</td>\n",
              "    </tr>\n",
              "    <tr>\n",
              "      <th>18130</th>\n",
              "      <td>1965893112</td>\n",
              "      <td>worry</td>\n",
              "      <td>EmperorCommodus</td>\n",
              "      <td>i have a headache</td>\n",
              "    </tr>\n",
              "    <tr>\n",
              "      <th>18472</th>\n",
              "      <td>1965978796</td>\n",
              "      <td>worry</td>\n",
              "      <td>Sw3eTiE</td>\n",
              "      <td>My back hurts</td>\n",
              "    </tr>\n",
              "  </tbody>\n",
              "</table>\n",
              "</div>"
            ],
            "text/plain": [
              "         tweet_id  ...                                content\n",
              "521    1957088574  ...  Somebody please save the polar bears!\n",
              "6591   1961366316  ...                               Headache\n",
              "8878   1962332251  ...                        My throat hurts\n",
              "10918  1963057544  ...        @ericbolling Where's Dani Babb?\n",
              "12531  1963597385  ...            not feeling too great today\n",
              "15728  1964969733  ...                             I miss you\n",
              "15988  1965087416  ...                          going to work\n",
              "17457  1965667672  ...                       cleaning my room\n",
              "18130  1965893112  ...                      i have a headache\n",
              "18472  1965978796  ...                          My back hurts\n",
              "\n",
              "[10 rows x 4 columns]"
            ]
          },
          "metadata": {
            "tags": []
          },
          "execution_count": 9
        }
      ]
    },
    {
      "cell_type": "code",
      "metadata": {
        "colab": {
          "base_uri": "https://localhost:8080/"
        },
        "id": "eK7vUDn084U5",
        "outputId": "c030991d-15aa-48f5-a375-ff99432730df"
      },
      "source": [
        "#show the number of unique content within each sentiments to check if there is data imbalance in each group \n",
        "data =df.drop_duplicates(subset=['content', 'sentiment'])\n",
        "sentiment_count= data['sentiment'].value_counts(sort=False)\n",
        "sentiment_count\n"
      ],
      "execution_count": null,
      "outputs": [
        {
          "output_type": "execute_result",
          "data": {
            "text/plain": [
              "surprise      2187\n",
              "neutral       8617\n",
              "empty          827\n",
              "relief        1524\n",
              "hate          1323\n",
              "anger          110\n",
              "fun           1776\n",
              "worry         8452\n",
              "happiness     5194\n",
              "boredom        179\n",
              "love          3801\n",
              "enthusiasm     759\n",
              "sadness       5160\n",
              "Name: sentiment, dtype: int64"
            ]
          },
          "metadata": {
            "tags": []
          },
          "execution_count": 10
        }
      ]
    },
    {
      "cell_type": "markdown",
      "metadata": {
        "id": "fsR01EDkWJHI"
      },
      "source": [
        "### Plot statistics of data to understand the dataset composition \n",
        "- see number of classes and samples in each class to spot any data imbalance, therefore we will be adding additional dataset from https://www.kaggle.com/praveengovi/emotions-dataset-for-nlp to balance out the emotions\n",
        "- We will be trimming the dataset to only 6 basic emotions"
      ]
    },
    {
      "cell_type": "code",
      "metadata": {
        "colab": {
          "base_uri": "https://localhost:8080/",
          "height": 331
        },
        "id": "KiaCP4KRNgA7",
        "outputId": "70b78f25-353e-43c1-fcc3-595fd73b515d"
      },
      "source": [
        "sentiment_count.plot.bar()"
      ],
      "execution_count": null,
      "outputs": [
        {
          "output_type": "execute_result",
          "data": {
            "text/plain": [
              "<matplotlib.axes._subplots.AxesSubplot at 0x7f7cc9cd0cf8>"
            ]
          },
          "metadata": {
            "tags": []
          },
          "execution_count": 11
        },
        {
          "output_type": "display_data",
          "data": {
            "image/png": "[encoded data removed]",
            "text/plain": [
              "<Figure size 432x288 with 1 Axes>"
            ]
          },
          "metadata": {
            "tags": [],
            "needs_background": "light"
          }
        }
      ]
    },
    {
      "cell_type": "markdown",
      "metadata": {
        "id": "_rVVxIBqrcYM"
      },
      "source": [
        "### Data cleaning \n",
        "- Remove any empty rows if any as it does not hold any value to text emotion recognition\n",
        "- Normalise text datanase into lower case as un-cased characters are regarded differently by computers as different words\n",
        "- -If info between the cased and un-cased chars needs to be used e.g. Named Entity Recognition (NER) task where words starting with capital letters are named entities in NER, leave the dataset as- is with case chars intact."
      ]
    },
    {
      "cell_type": "code",
      "metadata": {
        "id": "T8B7VjLw7YIT"
      },
      "source": [
        "emotion_train_df = pd.read_csv('train.txt', header =None, sep =';', names = ['content','sentiment'], encoding='utf-8')\n",
        "emotion_test_df = pd.read_csv('test.txt', header = None, sep =';', names = ['content','sentiment'],encoding='utf-8')\n",
        "emotion_val_df = pd.read_csv('val.txt', header = None, sep =';', names = ['content','sentiment'],encoding='utf-8')"
      ],
      "execution_count": null,
      "outputs": []
    },
    {
      "cell_type": "code",
      "metadata": {
        "colab": {
          "base_uri": "https://localhost:8080/"
        },
        "id": "OyQ4TDGcMT33",
        "outputId": "8d3e2a92-3dc8-47c4-f9b0-01d1e9f3cbea"
      },
      "source": [
        "emotion_train_df.info()\n",
        "print('\\n')\n",
        "emotion_val_df.info()\n",
        "print('\\n')\n",
        "emotion_test_df.info()"
      ],
      "execution_count": null,
      "outputs": [
        {
          "output_type": "stream",
          "text": [
            "<class 'pandas.core.frame.DataFrame'>\n",
            "RangeIndex: 16000 entries, 0 to 15999\n",
            "Data columns (total 2 columns):\n",
            " #   Column     Non-Null Count  Dtype \n",
            "---  ------     --------------  ----- \n",
            " 0   content    16000 non-null  object\n",
            " 1   sentiment  16000 non-null  object\n",
            "dtypes: object(2)\n",
            "memory usage: 250.1+ KB\n",
            "\n",
            "\n",
            "<class 'pandas.core.frame.DataFrame'>\n",
            "RangeIndex: 2000 entries, 0 to 1999\n",
            "Data columns (total 2 columns):\n",
            " #   Column     Non-Null Count  Dtype \n",
            "---  ------     --------------  ----- \n",
            " 0   content    2000 non-null   object\n",
            " 1   sentiment  2000 non-null   object\n",
            "dtypes: object(2)\n",
            "memory usage: 31.4+ KB\n",
            "\n",
            "\n",
            "<class 'pandas.core.frame.DataFrame'>\n",
            "RangeIndex: 2000 entries, 0 to 1999\n",
            "Data columns (total 2 columns):\n",
            " #   Column     Non-Null Count  Dtype \n",
            "---  ------     --------------  ----- \n",
            " 0   content    2000 non-null   object\n",
            " 1   sentiment  2000 non-null   object\n",
            "dtypes: object(2)\n",
            "memory usage: 31.4+ KB\n"
          ],
          "name": "stdout"
        }
      ]
    },
    {
      "cell_type": "code",
      "metadata": {
        "colab": {
          "base_uri": "https://localhost:8080/"
        },
        "id": "KgKcFDRBLZlp",
        "outputId": "9a99c86b-a906-4622-e371-23bd3e091c19"
      },
      "source": [
        "frame = [emotion_test_df, emotion_train_df, emotion_val_df]\n",
        "new_emotion_df = pd.concat(frame)\n",
        "new_emotion_df.info()"
      ],
      "execution_count": null,
      "outputs": [
        {
          "output_type": "stream",
          "text": [
            "<class 'pandas.core.frame.DataFrame'>\n",
            "Int64Index: 20000 entries, 0 to 1999\n",
            "Data columns (total 2 columns):\n",
            " #   Column     Non-Null Count  Dtype \n",
            "---  ------     --------------  ----- \n",
            " 0   content    20000 non-null  object\n",
            " 1   sentiment  20000 non-null  object\n",
            "dtypes: object(2)\n",
            "memory usage: 468.8+ KB\n"
          ],
          "name": "stdout"
        }
      ]
    },
    {
      "cell_type": "code",
      "metadata": {
        "colab": {
          "base_uri": "https://localhost:8080/"
        },
        "id": "uuYn4EcXMOiv",
        "outputId": "b8bfc882-15e5-4161-b891-54e58a0db594"
      },
      "source": [
        "new_emotion_df['sentiment'].value_counts(sort=False)"
      ],
      "execution_count": null,
      "outputs": [
        {
          "output_type": "execute_result",
          "data": {
            "text/plain": [
              "surprise     719\n",
              "joy         6761\n",
              "love        1641\n",
              "fear        2373\n",
              "anger       2709\n",
              "sadness     5797\n",
              "Name: sentiment, dtype: int64"
            ]
          },
          "metadata": {
            "tags": []
          },
          "execution_count": 15
        }
      ]
    },
    {
      "cell_type": "code",
      "metadata": {
        "colab": {
          "base_uri": "https://localhost:8080/"
        },
        "id": "MVJI2n9ANPbo",
        "outputId": "75d6ec42-1f0a-45a3-8b97-505faedd35be"
      },
      "source": [
        "new_emotion_df['sentiment']= new_emotion_df['sentiment'].replace(['joy'], 'happiness')\n",
        "new_emotion_df['sentiment'].value_counts(sort=False)"
      ],
      "execution_count": null,
      "outputs": [
        {
          "output_type": "execute_result",
          "data": {
            "text/plain": [
              "surprise      719\n",
              "love         1641\n",
              "fear         2373\n",
              "anger        2709\n",
              "happiness    6761\n",
              "sadness      5797\n",
              "Name: sentiment, dtype: int64"
            ]
          },
          "metadata": {
            "tags": []
          },
          "execution_count": 16
        }
      ]
    },
    {
      "cell_type": "code",
      "metadata": {
        "colab": {
          "base_uri": "https://localhost:8080/",
          "height": 202
        },
        "id": "8dgN3UPWC4Nx",
        "outputId": "779570aa-241f-4478-8038-103a73243b14"
      },
      "source": [
        "# trimming of dataset to only sentiment and content\n",
        "crowdflower_df = data[['content', 'sentiment']]\n",
        "crowdflower_df.head()\n",
        "\n"
      ],
      "execution_count": null,
      "outputs": [
        {
          "output_type": "execute_result",
          "data": {
            "text/html": [
              "<div>\n",
              "<style scoped>\n",
              "    .dataframe tbody tr th:only-of-type {\n",
              "        vertical-align: middle;\n",
              "    }\n",
              "\n",
              "    .dataframe tbody tr th {\n",
              "        vertical-align: top;\n",
              "    }\n",
              "\n",
              "    .dataframe thead th {\n",
              "        text-align: right;\n",
              "    }\n",
              "</style>\n",
              "<table border=\"1\" class=\"dataframe\">\n",
              "  <thead>\n",
              "    <tr style=\"text-align: right;\">\n",
              "      <th></th>\n",
              "      <th>content</th>\n",
              "      <th>sentiment</th>\n",
              "    </tr>\n",
              "  </thead>\n",
              "  <tbody>\n",
              "    <tr>\n",
              "      <th>0</th>\n",
              "      <td>@tiffanylue i know  i was listenin to bad habi...</td>\n",
              "      <td>empty</td>\n",
              "    </tr>\n",
              "    <tr>\n",
              "      <th>1</th>\n",
              "      <td>Layin n bed with a headache  ughhhh...waitin o...</td>\n",
              "      <td>sadness</td>\n",
              "    </tr>\n",
              "    <tr>\n",
              "      <th>2</th>\n",
              "      <td>Funeral ceremony...gloomy friday...</td>\n",
              "      <td>sadness</td>\n",
              "    </tr>\n",
              "    <tr>\n",
              "      <th>3</th>\n",
              "      <td>wants to hang out with friends SOON!</td>\n",
              "      <td>enthusiasm</td>\n",
              "    </tr>\n",
              "    <tr>\n",
              "      <th>4</th>\n",
              "      <td>@dannycastillo We want to trade with someone w...</td>\n",
              "      <td>neutral</td>\n",
              "    </tr>\n",
              "  </tbody>\n",
              "</table>\n",
              "</div>"
            ],
            "text/plain": [
              "                                             content   sentiment\n",
              "0  @tiffanylue i know  i was listenin to bad habi...       empty\n",
              "1  Layin n bed with a headache  ughhhh...waitin o...     sadness\n",
              "2                Funeral ceremony...gloomy friday...     sadness\n",
              "3               wants to hang out with friends SOON!  enthusiasm\n",
              "4  @dannycastillo We want to trade with someone w...     neutral"
            ]
          },
          "metadata": {
            "tags": []
          },
          "execution_count": 17
        }
      ]
    },
    {
      "cell_type": "code",
      "metadata": {
        "colab": {
          "base_uri": "https://localhost:8080/"
        },
        "id": "yJz42yEyD1i6",
        "outputId": "b8637d6d-f8f7-4d78-87b1-92a2fa82be1f"
      },
      "source": [
        "# display the general info of the cleaned dataset\n",
        "crowdflower_df.info()"
      ],
      "execution_count": null,
      "outputs": [
        {
          "output_type": "stream",
          "text": [
            "<class 'pandas.core.frame.DataFrame'>\n",
            "Int64Index: 39909 entries, 0 to 39999\n",
            "Data columns (total 2 columns):\n",
            " #   Column     Non-Null Count  Dtype \n",
            "---  ------     --------------  ----- \n",
            " 0   content    39909 non-null  object\n",
            " 1   sentiment  39909 non-null  object\n",
            "dtypes: object(2)\n",
            "memory usage: 935.4+ KB\n"
          ],
          "name": "stdout"
        }
      ]
    },
    {
      "cell_type": "code",
      "metadata": {
        "colab": {
          "base_uri": "https://localhost:8080/"
        },
        "id": "fcvlWZxM7eFV",
        "outputId": "aede87d3-9569-49f0-95ed-432654c66f68"
      },
      "source": [
        "crowdflower_df['sentiment']= crowdflower_df['sentiment'].replace(['hate'], 'anger')\n",
        "crowdflower_df['sentiment'] = crowdflower_df['sentiment'].replace(['worry'], 'fear')\n",
        "crowdflower_df['sentiment'].value_counts(sort=False)"
      ],
      "execution_count": null,
      "outputs": [
        {
          "output_type": "stream",
          "text": [
            "/usr/local/lib/python3.6/dist-packages/ipykernel_launcher.py:1: SettingWithCopyWarning: \n",
            "A value is trying to be set on a copy of a slice from a DataFrame.\n",
            "Try using .loc[row_indexer,col_indexer] = value instead\n",
            "\n",
            "See the caveats in the documentation: https://pandas.pydata.org/pandas-docs/stable/user_guide/indexing.html#returning-a-view-versus-a-copy\n",
            "  \"\"\"Entry point for launching an IPython kernel.\n",
            "/usr/local/lib/python3.6/dist-packages/ipykernel_launcher.py:2: SettingWithCopyWarning: \n",
            "A value is trying to be set on a copy of a slice from a DataFrame.\n",
            "Try using .loc[row_indexer,col_indexer] = value instead\n",
            "\n",
            "See the caveats in the documentation: https://pandas.pydata.org/pandas-docs/stable/user_guide/indexing.html#returning-a-view-versus-a-copy\n",
            "  \n"
          ],
          "name": "stderr"
        },
        {
          "output_type": "execute_result",
          "data": {
            "text/plain": [
              "surprise      2187\n",
              "neutral       8617\n",
              "empty          827\n",
              "relief        1524\n",
              "fear          8452\n",
              "anger         1433\n",
              "fun           1776\n",
              "happiness     5194\n",
              "boredom        179\n",
              "love          3801\n",
              "enthusiasm     759\n",
              "sadness       5160\n",
              "Name: sentiment, dtype: int64"
            ]
          },
          "metadata": {
            "tags": []
          },
          "execution_count": 19
        }
      ]
    },
    {
      "cell_type": "code",
      "metadata": {
        "colab": {
          "base_uri": "https://localhost:8080/"
        },
        "id": "e01u0E-pPCRa",
        "outputId": "ded9d2f9-0d6c-48d0-843c-8e53d8dda66a"
      },
      "source": [
        "combine_frame = [crowdflower_df, new_emotion_df]\n",
        "combined_df = pd.concat(combine_frame)\n",
        "combined_df['sentiment'].value_counts(sort = False)"
      ],
      "execution_count": null,
      "outputs": [
        {
          "output_type": "execute_result",
          "data": {
            "text/plain": [
              "surprise       2906\n",
              "neutral        8617\n",
              "anger          4142\n",
              "fun            1776\n",
              "happiness     11955\n",
              "love           5442\n",
              "enthusiasm      759\n",
              "sadness       10957\n",
              "empty           827\n",
              "relief         1524\n",
              "fear          10825\n",
              "boredom         179\n",
              "Name: sentiment, dtype: int64"
            ]
          },
          "metadata": {
            "tags": []
          },
          "execution_count": 20
        }
      ]
    },
    {
      "cell_type": "code",
      "metadata": {
        "colab": {
          "base_uri": "https://localhost:8080/",
          "height": 415
        },
        "id": "-klKGMH3TCHa",
        "outputId": "037c3b39-fa2b-4629-fa35-85ce76cf7dc3"
      },
      "source": [
        "combined_df[combined_df.sentiment == 'anger']"
      ],
      "execution_count": null,
      "outputs": [
        {
          "output_type": "execute_result",
          "data": {
            "text/html": [
              "<div>\n",
              "<style scoped>\n",
              "    .dataframe tbody tr th:only-of-type {\n",
              "        vertical-align: middle;\n",
              "    }\n",
              "\n",
              "    .dataframe tbody tr th {\n",
              "        vertical-align: top;\n",
              "    }\n",
              "\n",
              "    .dataframe thead th {\n",
              "        text-align: right;\n",
              "    }\n",
              "</style>\n",
              "<table border=\"1\" class=\"dataframe\">\n",
              "  <thead>\n",
              "    <tr style=\"text-align: right;\">\n",
              "      <th></th>\n",
              "      <th>content</th>\n",
              "      <th>sentiment</th>\n",
              "    </tr>\n",
              "  </thead>\n",
              "  <tbody>\n",
              "    <tr>\n",
              "      <th>30</th>\n",
              "      <td>It is so annoying when she starts typing on he...</td>\n",
              "      <td>anger</td>\n",
              "    </tr>\n",
              "    <tr>\n",
              "      <th>86</th>\n",
              "      <td>dammit! hulu desktop has totally screwed up my...</td>\n",
              "      <td>anger</td>\n",
              "    </tr>\n",
              "    <tr>\n",
              "      <th>99</th>\n",
              "      <td>@ cayogial i wanted to come to BZ this summer ...</td>\n",
              "      <td>anger</td>\n",
              "    </tr>\n",
              "    <tr>\n",
              "      <th>101</th>\n",
              "      <td>@mrgenius23 You win ... SIGH Rakeem</td>\n",
              "      <td>anger</td>\n",
              "    </tr>\n",
              "    <tr>\n",
              "      <th>105</th>\n",
              "      <td>@soviet_star Damn, that sucks</td>\n",
              "      <td>anger</td>\n",
              "    </tr>\n",
              "    <tr>\n",
              "      <th>...</th>\n",
              "      <td>...</td>\n",
              "      <td>...</td>\n",
              "    </tr>\n",
              "    <tr>\n",
              "      <th>1982</th>\n",
              "      <td>i feel like the world is just being bitter and...</td>\n",
              "      <td>anger</td>\n",
              "    </tr>\n",
              "    <tr>\n",
              "      <th>1983</th>\n",
              "      <td>i see people who have accomplished so much mor...</td>\n",
              "      <td>anger</td>\n",
              "    </tr>\n",
              "    <tr>\n",
              "      <th>1985</th>\n",
              "      <td>i started to see a concerning pattern i d rush...</td>\n",
              "      <td>anger</td>\n",
              "    </tr>\n",
              "    <tr>\n",
              "      <th>1993</th>\n",
              "      <td>i feel so tortured by it</td>\n",
              "      <td>anger</td>\n",
              "    </tr>\n",
              "    <tr>\n",
              "      <th>1994</th>\n",
              "      <td>i feel a bit rude leaving you hanging there fr...</td>\n",
              "      <td>anger</td>\n",
              "    </tr>\n",
              "  </tbody>\n",
              "</table>\n",
              "<p>4142 rows × 2 columns</p>\n",
              "</div>"
            ],
            "text/plain": [
              "                                                content sentiment\n",
              "30    It is so annoying when she starts typing on he...     anger\n",
              "86    dammit! hulu desktop has totally screwed up my...     anger\n",
              "99    @ cayogial i wanted to come to BZ this summer ...     anger\n",
              "101                 @mrgenius23 You win ... SIGH Rakeem     anger\n",
              "105                       @soviet_star Damn, that sucks     anger\n",
              "...                                                 ...       ...\n",
              "1982  i feel like the world is just being bitter and...     anger\n",
              "1983  i see people who have accomplished so much mor...     anger\n",
              "1985  i started to see a concerning pattern i d rush...     anger\n",
              "1993                           i feel so tortured by it     anger\n",
              "1994  i feel a bit rude leaving you hanging there fr...     anger\n",
              "\n",
              "[4142 rows x 2 columns]"
            ]
          },
          "metadata": {
            "tags": []
          },
          "execution_count": 21
        }
      ]
    },
    {
      "cell_type": "code",
      "metadata": {
        "colab": {
          "base_uri": "https://localhost:8080/"
        },
        "id": "aDuSKu9_PfN1",
        "outputId": "dbbae641-ba54-4d15-e4d3-effa126f0266"
      },
      "source": [
        "# trimming of dataset to only 7 major emotions.\n",
        "#sadness, anger, love, happiness, surprise, fear ,neutral\n",
        "dataframes = (combined_df[combined_df.sentiment == 'sadness'], combined_df[combined_df.sentiment == 'anger'], combined_df[combined_df.sentiment == 'love'], combined_df[combined_df.sentiment == 'happiness'], combined_df[combined_df.sentiment == 'surprise'], combined_df[combined_df.sentiment == 'fear'], combined_df[combined_df.sentiment == 'neutral'])\n",
        "trimmed_dataset = pd.concat(dataframes)\n",
        "trimmed_dataset['sentiment'].value_counts(sort = False)"
      ],
      "execution_count": null,
      "outputs": [
        {
          "output_type": "execute_result",
          "data": {
            "text/plain": [
              "surprise      2906\n",
              "neutral       8617\n",
              "anger         4142\n",
              "happiness    11955\n",
              "love          5442\n",
              "sadness      10957\n",
              "fear         10825\n",
              "Name: sentiment, dtype: int64"
            ]
          },
          "metadata": {
            "tags": []
          },
          "execution_count": 22
        }
      ]
    },
    {
      "cell_type": "code",
      "metadata": {
        "id": "QjOhV1rVDTEp"
      },
      "source": [
        "def build_vocabulary(texts):\n",
        "    \"\"\"\n",
        "    input: list of list of words\n",
        "    output: dictionary of words and their count\n",
        "    \"\"\"\n",
        "    print('build vocabulary')\n",
        "    sentences = texts.apply(lambda x: x.split()).values\n",
        "    vocab = {}\n",
        "    for sentence in tqdm(sentences):\n",
        "        for word in sentence:\n",
        "            try:\n",
        "                vocab[word] += 1\n",
        "            except KeyError:\n",
        "                vocab[word] = 1\n",
        "    return vocab\n",
        "\n",
        "import operator\n",
        "def check_coverage(vocab, embeddings_index):\n",
        "    '''\n",
        "    input: vocabulary, embedding index\n",
        "    output: list of unknown words; also prints the vocabulary coverage of embeddings and the % of comments text covered by the embeddings\n",
        "    '''\n",
        "    known_words = {}\n",
        "    unknown_words = {}\n",
        "    nb_known_words = 0\n",
        "    nb_unknown_words = 0\n",
        "    for word in tqdm(vocab.keys()):\n",
        "        try:\n",
        "            known_words[word] = embeddings_index[word]\n",
        "            nb_known_words += vocab[word]\n",
        "        except:\n",
        "            unknown_words[word] = vocab[word]\n",
        "            nb_unknown_words += vocab[word]\n",
        "            pass\n",
        "    print('Found embeddings for {:.3%} of vocabulary'.format(len(known_words)/len(vocab)))\n",
        "    print('Found embeddings for {:.3%} of all text'.format(nb_known_words/(nb_known_words + nb_unknown_words)))\n",
        "    unknown_words = sorted(unknown_words.items(), key=operator.itemgetter(1))[::-1]\n",
        "    return unknown_words"
      ],
      "execution_count": null,
      "outputs": []
    },
    {
      "cell_type": "markdown",
      "metadata": {
        "id": "RPlFwDP9h76-"
      },
      "source": [
        "#### Remove any duplicates of white space, punctuations and URLs:\n",
        "This is done via a simple regex replace. By doing regex cleaning we will not have multiple sizes of reticence and exclamation point markings. Additionally, the removal of URL will reduce the number of distinct tokens that we have during tokenisation later\n",
        "\n",
        "**Note: `_replace_urls` is used before `clean_punctuation` to prevent replacement of complex punctuations use within urls.**\n",
        "\n"
      ]
    },
    {
      "cell_type": "code",
      "metadata": {
        "id": "mbJNPlc1KT6b"
      },
      "source": [
        "def clean_regex(sentence_list):\n",
        "    corrected_sentence_list = []\n",
        "    print(\"Normalizing whitespaces and punctuation\")\n",
        "    for sentence in tqdm(sentence_list):\n",
        "        _text = _replace_urls(sentence)\n",
        "        _text = _clean_punctuation(_text)\n",
        "        _text = _normalize_whitespace(_text)\n",
        "        corrected_sentence_list.append(_text)\n",
        "    return corrected_sentence_list\n",
        "\n",
        "#replace any URLs with a <URL> tag\n",
        "def _replace_urls(text):\n",
        "    url_regex = r'(https?:\\/\\/(?:www\\.|(?!www))[a-zA-Z0-9][a-zA-Z0-9-]+[a-zA-Z0-9]\\.[^\\s]{2,}|www\\.[a-zA-Z0-9][a-zA-Z0-9-]+[a-zA-Z0-9]\\.[^\\s]{2,}|https?:\\/\\/(?:www\\.|(?!www))[a-zA-Z0-9]+\\.[^\\s]{2,}|www\\.[a-zA-Z0-9]+\\.[^\\s]{2,})'\n",
        "    text = re.sub(url_regex, \"<URL>\", text)\n",
        "    return text\n",
        "\n",
        "# Simplifies doubled or more complex punctuation with the exception of '...'\n",
        "def _clean_punctuation(text):\n",
        "  \n",
        "    sentence = str(text)\n",
        "    #sentence = re.sub(r'[^A-Za-z0-9(),!;?\\'\\`\\\"]1+', r'\\1', sentence)\n",
        "    sentence = re.sub(r'([!?,;])\\1+', r'\\1', sentence)\n",
        "    sentence = re.sub(r'\\.{2,}', r'...', sentence)\n",
        "    #sentence = re.sub(r\"\\s{2,}\", ' ', sentence)\n",
        "    sentence = sentence.strip()\n",
        "    return sentence\n",
        "\n",
        "# Normalizes whitespaces by removing duplicates\n",
        "def _normalize_whitespace(text):\n",
        "  \n",
        "    sentence = str(text)\n",
        "    sentence = re.sub(r\"//t\",r\"\\t\", sentence)\n",
        "    sentence = re.sub(r\"( )\\1+\",r\"\\1\", sentence)\n",
        "    sentence = re.sub(r\"(\\n)\\1+\",r\"\\1\", sentence)\n",
        "    sentence = re.sub(r\"(\\r)\\1+\",r\"\\1\", sentence)\n",
        "    sentence = re.sub(r\"(\\t)\\1+\",r\"\\1\", sentence)\n",
        "    return sentence.strip(\" \")\n",
        "    "
      ],
      "execution_count": null,
      "outputs": []
    },
    {
      "cell_type": "markdown",
      "metadata": {
        "id": "F1KZOSOsh-Um"
      },
      "source": [
        "#### Substitution of contractions:\n",
        "As data is from social media, slang and  contraction are commonly used. By using\n",
        "a list of contractions from Wikipedia, we loop through the sentences and replace the contractions for their actual words. This allow for better sentence structuring for tokenization. "
      ]
    },
    {
      "cell_type": "code",
      "metadata": {
        "id": "SUcj4ompiBPG"
      },
      "source": [
        "def replace_contractions_abbervations(sentence_list):\n",
        "    contraction_list = json.loads(open('english_contractions.json', 'r').read())\n",
        "    abbervation_list = json.loads(open('abbervations.json', 'r').read())\n",
        "    corrected_sentence_list = []\n",
        "    print(\"Normalizing contractions\")\n",
        "    for sentence in tqdm(sentence_list):\n",
        "        corrected_sentence = _normalize_contractions_text(sentence, contraction_list)\n",
        "        corrected_sentence_list.append(_normalize_abbervations_text(corrected_sentence, abbervation_list))\n",
        "    return corrected_sentence_list\n",
        "\n",
        "# replace english contractions with actual words\n",
        "def _normalize_contractions_text(text, contractions):\n",
        "    new_token_list = []\n",
        "    token_list = text.split()\n",
        "    for word_pos in range(len(token_list)):\n",
        "        word = token_list[word_pos]\n",
        "        first_upper = False\n",
        "        if word[0].isupper():\n",
        "            first_upper = True\n",
        "        if word.lower() in contractions:\n",
        "            replacement = contractions[word.lower()]\n",
        "            if first_upper:\n",
        "                replacement = replacement[0].upper()+replacement[1:]\n",
        "            replacement_tokens = replacement.split()\n",
        "            if len(replacement_tokens)>1:\n",
        "                new_token_list.append(replacement_tokens[0])\n",
        "                new_token_list.append(replacement_tokens[1])\n",
        "            else:\n",
        "                new_token_list.append(replacement_tokens[0])\n",
        "        else:\n",
        "            new_token_list.append(word)\n",
        "    sentence = \" \".join(new_token_list).strip(\" \")\n",
        "    return sentence\n",
        "\n",
        "# replace abbervations with actual words\n",
        "def _normalize_abbervations_text(text, abbervations):\n",
        "    new_token_list = []\n",
        "    token_list = text.split()\n",
        "    for word_pos in range(len(token_list)):\n",
        "        word = token_list[word_pos]\n",
        "        first_upper = False\n",
        "        if word[0].isupper():\n",
        "            first_upper = True\n",
        "        if word.lower() in abbervations:\n",
        "            replacement = abbervations[word.lower()]\n",
        "            if first_upper:\n",
        "                replacement = replacement[0].upper()+replacement[1:]\n",
        "            replacement_tokens = replacement.split()\n",
        "            if len(replacement_tokens)>1:\n",
        "                new_token_list.append(replacement_tokens[0])\n",
        "                new_token_list.append(replacement_tokens[1])\n",
        "            else:\n",
        "                new_token_list.append(replacement_tokens[0])\n",
        "        else:\n",
        "            new_token_list.append(word)\n",
        "    sentence = \" \".join(new_token_list).strip(\" \")\n",
        "    return sentence"
      ],
      "execution_count": null,
      "outputs": []
    },
    {
      "cell_type": "markdown",
      "metadata": {
        "id": "qKL_vXqKinob"
      },
      "source": [
        "#### Spell Correction:\n",
        "Given that most spelling correcting dictionaries lack important contextual words, so consider slangs as misspells. Spelling correction is tricky as it may cauuse unwanted changes.\n",
        "\n",
        "However, i decided to use `symspellpy` for spelling correction due to its computational efficiency. An alternatice approach is through a deep learning model to do spelling correction based on context e.g. Word2Vect\n"
      ]
    },
    {
      "cell_type": "code",
      "metadata": {
        "id": "JBCwLvVYbDgT"
      },
      "source": [
        "def spelling_correction(sentence_list):\n",
        "    max_edit_distance_dictionary= 3\n",
        "    prefix_length = 4\n",
        "    spellchecker = SymSpell(max_edit_distance_dictionary, prefix_length)\n",
        "    dictionary_path = pkg_resources.resource_filename(\n",
        "        \"symspellpy\", \"frequency_dictionary_en_82_765.txt\")\n",
        "    bigram_path = pkg_resources.resource_filename(\n",
        "        \"symspellpy\", \"frequency_bigramdictionary_en_243_342.txt\")\n",
        "    spellchecker.load_dictionary(dictionary_path, term_index=0, count_index=1)\n",
        "    spellchecker.load_bigram_dictionary(dictionary_path, term_index=0, count_index=2)\n",
        "    corrected_sentence_list = []\n",
        "    print(\"Spell correcting\")\n",
        "    for sentence in tqdm(sentence_list):\n",
        "        corrected_sentence_list.append(_spelling_correction_text(sentence, spellchecker))\n",
        "    return corrected_sentence_list\n",
        "\n",
        "\n",
        "# Spelling correction is done via pyspellchecker module. It works over a tokenized sentence and only the token representations are changed.\n",
        "def _spelling_correction_text(text, spellchecker):\n",
        "\n",
        "    if len(text) < 1:\n",
        "        return \"\"\n",
        "    #Spell checker config\n",
        "    max_edit_distance_lookup = 2\n",
        "    suggestion_verbosity = Verbosity.TOP # TOP, CLOSEST, ALL\n",
        "    #End of Spell checker config\n",
        "    token_list = text.split()\n",
        "    for word_pos in range(len(token_list)):\n",
        "        word = token_list[word_pos]\n",
        "        if word is None:\n",
        "            token_list[word_pos] = \"\"\n",
        "            continue\n",
        "        if not '\\n' in word and word not in string.punctuation and not is_numeric(word) and not (word.lower() in spellchecker.words.keys()):\n",
        "            suggestions = spellchecker.lookup(word.lower(), suggestion_verbosity, max_edit_distance_lookup)\n",
        "            #Checks first uppercase to conserve the case.\n",
        "            upperfirst = word[0].isupper()\n",
        "            #Checks for correction suggestions.\n",
        "            if len(suggestions) > 0:\n",
        "                correction = suggestions[0].term\n",
        "                replacement = correction\n",
        "            #We call our _reduce_exaggerations function if no suggestion is found. Maybe there are repeated chars.\n",
        "            else:\n",
        "                replacement = _reduce_exaggerations(word)\n",
        "            #Takes the case back to the word.\n",
        "            if upperfirst:\n",
        "                replacement = replacement[0].upper()+replacement[1:]\n",
        "            word = replacement\n",
        "            token_list[word_pos] = word\n",
        "    return \" \".join(token_list).strip()\n",
        "\n",
        "\"\"\"\n",
        "Auxiliary function to help with slang replacement.\n",
        "Examples:\n",
        "    gud -> good\n",
        "    layin -> laying\n",
        "\"\"\"\n",
        "def _reduce_exaggerations(text):\n",
        "    correction = str(text)\n",
        "    #TODO work on complexity reduction.\n",
        "    return correction\n",
        "\n",
        "def is_numeric(text):\n",
        "    for char in text:\n",
        "        if not (char in \"0123456789\" or char in \",%.$\"):\n",
        "            return False\n",
        "    return True\n"
      ],
      "execution_count": null,
      "outputs": []
    },
    {
      "cell_type": "markdown",
      "metadata": {
        "id": "4GYj1qK2izvs"
      },
      "source": [
        "#### Lemmatization:\n",
        "We will be using spaCy for lemmatizing the dataset. As spaCy is fast and straightforward. Hashtags and mentions are also removed during preprocessing as it does not benefit us during text emotion classification.\n"
      ]
    },
    {
      "cell_type": "code",
      "metadata": {
        "id": "DuDdTX6bjBlH"
      },
      "source": [
        "def lemmatization(sentence_list, sentiment):\n",
        "    nlp = spacy.load(\"en_core_web_lg\")\n",
        "    lemmatized=[]\n",
        "    i = 0\n",
        "    print(\"Lemmatizing Sentences\")\n",
        "    for sentence in tqdm(sentence_list):\n",
        "        lemmatized.append([_lemmatize_text(sentence, nlp).strip(), sentiment[i]])\n",
        "        i+=1\n",
        "    return lemmatized\n",
        "\n",
        "def _lemmatize_text(sentence, nlp):\n",
        "    sent = \"\"\n",
        "    doc = nlp(sentence)\n",
        "    for token in doc:\n",
        "        if '@' in token.text:\n",
        "            sent+=\" @MENTION\"\n",
        "        elif '#' in token.text:\n",
        "            sent+= \" #HASHTAG\"\n",
        "        else:\n",
        "            sent+=\" \"+token.lemma_\n",
        "    return sent"
      ],
      "execution_count": null,
      "outputs": []
    },
    {
      "cell_type": "markdown",
      "metadata": {
        "id": "nkJ9JjK6i3wj"
      },
      "source": [
        "#### Finally, we join all steps in using a “pipeline” function:"
      ]
    },
    {
      "cell_type": "code",
      "metadata": {
        "id": "NjxAd3XNi-zl"
      },
      "source": [
        "def normalization_pipeline(sentences, sentiment):\n",
        "    print(\"##############################\")\n",
        "    print(\"Starting Normalization Process\")\n",
        "    sentences = clean_regex(sentences)\n",
        "    sentences = replace_contractions_abbervations(sentences)\n",
        "    sentences = spelling_correction(sentences)\n",
        "    sentences = lemmatization(sentences, sentiment)\n",
        "    print(\"Normalization Process Finished\")\n",
        "    print(\"##############################\")\n",
        "    return sentences"
      ],
      "execution_count": null,
      "outputs": []
    },
    {
      "cell_type": "code",
      "metadata": {
        "id": "ptV9uUuIX3Os"
      },
      "source": [
        "def train_test_datasplit(input_data):\n",
        "    train_data, test_data = train_test_split(input_data, test_size=0.15)\n",
        "    return train_data.reset_index(drop=True), test_data.reset_index(drop=True)"
      ],
      "execution_count": null,
      "outputs": []
    },
    {
      "cell_type": "code",
      "metadata": {
        "colab": {
          "base_uri": "https://localhost:8080/"
        },
        "id": "9ET_vDeIL0hs",
        "outputId": "eae20b42-81b0-4728-e4bf-eecdc07271c0"
      },
      "source": [
        "trimmed_dataset[\"sentiment\"]= trimmed_dataset[\"sentiment\"].astype('category')\n",
        "print(trimmed_dataset.dtypes)\n",
        "trimmed_dataset[\"Categorical_sentiment\"]=trimmed_dataset[\"sentiment\"].cat.codes\n",
        "trimmed_dataset['Categorical_sentiment'].value_counts(sort = False)"
      ],
      "execution_count": null,
      "outputs": [
        {
          "output_type": "stream",
          "text": [
            "content        object\n",
            "sentiment    category\n",
            "dtype: object\n"
          ],
          "name": "stdout"
        },
        {
          "output_type": "execute_result",
          "data": {
            "text/plain": [
              "0     4142\n",
              "1    10825\n",
              "2    11955\n",
              "3     5442\n",
              "4     8617\n",
              "5    10957\n",
              "6     2906\n",
              "Name: Categorical_sentiment, dtype: int64"
            ]
          },
          "metadata": {
            "tags": []
          },
          "execution_count": 30
        }
      ]
    },
    {
      "cell_type": "code",
      "metadata": {
        "colab": {
          "base_uri": "https://localhost:8080/",
          "height": 353,
          "referenced_widgets": [
            "6b8e60a231254f11a99bbadf6ea77925",
            "28a42e03f87143f294432f13aa063ee5",
            "213480a59b5e4e76b826d2c985218cf4",
            "96e43c2ae63441e884e34fe3af8e77b0",
            "dbae9008d80f49d89eb2492531f48131",
            "9f1627e43fb44e9393f1905fee670d18",
            "4578e376694a47a4a4fda5de0dc5fcb9",
            "63c9a0a48ccd452db3db699d687e9abd",
            "f642754dfe4f4fc7ab3e1302bf8adccf",
            "8e9bddf271864ddd97549856b42165d4",
            "d8d1ecb038954a4296774ac8fb55dcca",
            "deae0ad2fcb84715af77c889f890b5e5",
            "94f0fded9e1a45ee9625a187efba74ba",
            "eb26d817d4d64bef961a83df35cbeb1f",
            "3a6b76bca7c44fc197fb541c43de1d66",
            "71fbd4a452d048209fd9939b8589f575",
            "559b915b698c4af189cd012b5143ac68",
            "666c30627e58408dab1bd7687983ed3f",
            "8f2f33073ef04026b950bdf90962d267",
            "742e7bc277e341848452f630545c2f9b",
            "a8ad3ab26aa7481e9b30817a7480c395",
            "84e841ec4e6a4fcea140bc2327bec8ff",
            "7ba4d8125d274b909f7c9e665e220704",
            "2ca9a5c071534f909811be104f543c6f",
            "a092c4132c7e48e180b47ccd73c17e06",
            "0f792f21b81245cd837ea824da3e4673",
            "d8c91e80a581421fa0141efaf9818278",
            "1212c40e078c46fd951a1ed0edb717db",
            "1efab8a6aabf4dac867198cd3c8d4c3f",
            "4565aa085cce4600ba509f581de6350b",
            "4d4abc7e54d44fb4a0dfdd76c37432c3",
            "8a187ae4f4f34c8a8161dd16da34cd9e"
          ]
        },
        "id": "gcrl3WpDjrb-",
        "outputId": "90be844b-b6e4-4fba-fadf-bd263d54c5a6"
      },
      "source": [
        "normalized = normalization_pipeline(trimmed_dataset['content'].values.tolist(), trimmed_dataset['sentiment'].values.tolist())\n"
      ],
      "execution_count": null,
      "outputs": [
        {
          "output_type": "stream",
          "text": [
            "##############################\n",
            "Starting Normalization Process\n",
            "Normalizing whitespaces and punctuation\n"
          ],
          "name": "stdout"
        },
        {
          "output_type": "display_data",
          "data": {
            "application/vnd.jupyter.widget-view+json": {
              "model_id": "6b8e60a231254f11a99bbadf6ea77925",
              "version_minor": 0,
              "version_major": 2
            },
            "text/plain": [
              "HBox(children=(FloatProgress(value=0.0, max=54844.0), HTML(value='')))"
            ]
          },
          "metadata": {
            "tags": []
          }
        },
        {
          "output_type": "stream",
          "text": [
            "\n",
            "Normalizing contractions\n"
          ],
          "name": "stdout"
        },
        {
          "output_type": "display_data",
          "data": {
            "application/vnd.jupyter.widget-view+json": {
              "model_id": "f642754dfe4f4fc7ab3e1302bf8adccf",
              "version_minor": 0,
              "version_major": 2
            },
            "text/plain": [
              "HBox(children=(FloatProgress(value=0.0, max=54844.0), HTML(value='')))"
            ]
          },
          "metadata": {
            "tags": []
          }
        },
        {
          "output_type": "stream",
          "text": [
            "\n",
            "Spell correcting\n"
          ],
          "name": "stdout"
        },
        {
          "output_type": "display_data",
          "data": {
            "application/vnd.jupyter.widget-view+json": {
              "model_id": "559b915b698c4af189cd012b5143ac68",
              "version_minor": 0,
              "version_major": 2
            },
            "text/plain": [
              "HBox(children=(FloatProgress(value=0.0, max=54844.0), HTML(value='')))"
            ]
          },
          "metadata": {
            "tags": []
          }
        },
        {
          "output_type": "stream",
          "text": [
            "\n",
            "Lemmatizing Sentences\n"
          ],
          "name": "stdout"
        },
        {
          "output_type": "display_data",
          "data": {
            "application/vnd.jupyter.widget-view+json": {
              "model_id": "a092c4132c7e48e180b47ccd73c17e06",
              "version_minor": 0,
              "version_major": 2
            },
            "text/plain": [
              "HBox(children=(FloatProgress(value=0.0, max=54844.0), HTML(value='')))"
            ]
          },
          "metadata": {
            "tags": []
          }
        },
        {
          "output_type": "stream",
          "text": [
            "\n",
            "Normalization Process Finished\n",
            "##############################\n"
          ],
          "name": "stdout"
        }
      ]
    },
    {
      "cell_type": "code",
      "metadata": {
        "colab": {
          "base_uri": "https://localhost:8080/",
          "height": 202
        },
        "id": "iar1C_Ctl9L7",
        "outputId": "a5571a5c-9481-4419-c833-a3b4d8d4a388"
      },
      "source": [
        "from pandas import DataFrame\n",
        "\n",
        "normalized_df = DataFrame (normalized, columns=['content', 'sentiment'])\n",
        "normalized_df.head()"
      ],
      "execution_count": null,
      "outputs": [
        {
          "output_type": "execute_result",
          "data": {
            "text/html": [
              "<div>\n",
              "<style scoped>\n",
              "    .dataframe tbody tr th:only-of-type {\n",
              "        vertical-align: middle;\n",
              "    }\n",
              "\n",
              "    .dataframe tbody tr th {\n",
              "        vertical-align: top;\n",
              "    }\n",
              "\n",
              "    .dataframe thead th {\n",
              "        text-align: right;\n",
              "    }\n",
              "</style>\n",
              "<table border=\"1\" class=\"dataframe\">\n",
              "  <thead>\n",
              "    <tr style=\"text-align: right;\">\n",
              "      <th></th>\n",
              "      <th>content</th>\n",
              "      <th>sentiment</th>\n",
              "    </tr>\n",
              "  </thead>\n",
              "  <tbody>\n",
              "    <tr>\n",
              "      <th>0</th>\n",
              "      <td>lay a bed with a headache ughhhh ... waitin on...</td>\n",
              "      <td>sadness</td>\n",
              "    </tr>\n",
              "    <tr>\n",
              "      <th>1</th>\n",
              "      <td>funeral ceremony ... gloomy friday ...</td>\n",
              "      <td>sadness</td>\n",
              "    </tr>\n",
              "    <tr>\n",
              "      <th>2</th>\n",
              "      <td>-PRON- should be sleep but -PRON- be not think...</td>\n",
              "      <td>sadness</td>\n",
              "    </tr>\n",
              "    <tr>\n",
              "      <th>3</th>\n",
              "      <td>@MENTION Charlene -PRON- love -PRON- miss -PRON-</td>\n",
              "      <td>sadness</td>\n",
              "    </tr>\n",
              "    <tr>\n",
              "      <th>4</th>\n",
              "      <td>@MENTION -PRON- be sorry at least -PRON- be Fr...</td>\n",
              "      <td>sadness</td>\n",
              "    </tr>\n",
              "  </tbody>\n",
              "</table>\n",
              "</div>"
            ],
            "text/plain": [
              "                                             content sentiment\n",
              "0  lay a bed with a headache ughhhh ... waitin on...   sadness\n",
              "1             funeral ceremony ... gloomy friday ...   sadness\n",
              "2  -PRON- should be sleep but -PRON- be not think...   sadness\n",
              "3   @MENTION Charlene -PRON- love -PRON- miss -PRON-   sadness\n",
              "4  @MENTION -PRON- be sorry at least -PRON- be Fr...   sadness"
            ]
          },
          "metadata": {
            "tags": []
          },
          "execution_count": 32
        }
      ]
    },
    {
      "cell_type": "code",
      "metadata": {
        "id": "WhKMKzWy6HFb"
      },
      "source": [
        "def train_test_split_data(input_data):\n",
        "    train_data, test_data = train_test_split(input_data, test_size=0.15)\n",
        "    return train_data.reset_index(drop=True), test_data.reset_index(drop=True)"
      ],
      "execution_count": null,
      "outputs": []
    },
    {
      "cell_type": "code",
      "metadata": {
        "id": "oJdbaiws6Kna"
      },
      "source": [
        ""
      ],
      "execution_count": null,
      "outputs": []
    },
    {
      "cell_type": "code",
      "metadata": {
        "id": "nAMChQ2AdZS8"
      },
      "source": [
        "#convert everything to lower case\n",
        "normalized_df['content']=normalized_df['content'].str.lower()"
      ],
      "execution_count": null,
      "outputs": []
    },
    {
      "cell_type": "code",
      "metadata": {
        "id": "74akHYFUdiJM"
      },
      "source": [
        "x_train, x_test, y_train, y_test = train_test_split(normalized_df['content'], normalized_df['sentiment'], test_size=0.2)"
      ],
      "execution_count": null,
      "outputs": []
    },
    {
      "cell_type": "code",
      "metadata": {
        "id": "0iBlJBP_pz54"
      },
      "source": [
        "y_test_dataset = y_test"
      ],
      "execution_count": null,
      "outputs": []
    },
    {
      "cell_type": "code",
      "metadata": {
        "colab": {
          "base_uri": "https://localhost:8080/"
        },
        "id": "M5UEpMfrd07D",
        "outputId": "934c3d2c-c48a-43cb-863e-f49d5d097564"
      },
      "source": [
        "y_test.value_counts(sort=False)"
      ],
      "execution_count": null,
      "outputs": [
        {
          "output_type": "execute_result",
          "data": {
            "text/plain": [
              "surprise      585\n",
              "neutral      1699\n",
              "love         1075\n",
              "fear         2220\n",
              "anger         777\n",
              "happiness    2375\n",
              "sadness      2238\n",
              "Name: sentiment, dtype: int64"
            ]
          },
          "metadata": {
            "tags": []
          },
          "execution_count": 37
        }
      ]
    },
    {
      "cell_type": "markdown",
      "metadata": {
        "id": "YStv9HlTiX7w"
      },
      "source": [
        "# 3. Text Representation\n",
        "- Vectorizing text using Term Frequency technique (Term Frequency(TF) — Inverse Dense Frequency(IDF))\n",
        "\n",
        "- Tokenize with our preprocess_and_tokenize\n",
        "- Find it’s TF = (Number of repetitions of word in a document) / (# of words in a document)\n",
        "IDF = log(# of documents / # of documents containing the word)"
      ]
    },
    {
      "cell_type": "code",
      "metadata": {
        "id": "nFrOH3Txo_4r"
      },
      "source": [
        "def plot_confusion_matrix(y_true, y_pred, classes,\n",
        "                          normalize=False,\n",
        "                          title=None,\n",
        "                          cmap=plt.cm.Blues):\n",
        "    '''\n",
        "    This function prints and plots the confusion matrix.\n",
        "    Normalization can be applied by setting `normalize=True`.\n",
        "    '''\n",
        "    if not title:\n",
        "        if normalize:\n",
        "            title = 'Normalized confusion matrix'\n",
        "        else:\n",
        "            title = 'Confusion matrix, without normalization'\n",
        "\n",
        "    # Compute confusion matrix\n",
        "    cm = confusion_matrix(y_true, y_pred)\n",
        "\n",
        "    if normalize:\n",
        "        cm = cm.astype('float') / cm.sum(axis=1)[:, np.newaxis]\n",
        "\n",
        "    fig, ax = plt.subplots()\n",
        "    \n",
        "    # Set size\n",
        "    fig.set_size_inches(12.5, 7.5)\n",
        "    im = ax.imshow(cm, interpolation='nearest', cmap=cmap)\n",
        "    ax.figure.colorbar(im, ax=ax)\n",
        "    ax.grid(False)\n",
        "    \n",
        "    # We want to show all ticks...\n",
        "    ax.set(xticks=np.arange(cm.shape[1]),\n",
        "           yticks=np.arange(cm.shape[0]),\n",
        "           # ... and label them with the respective list entries\n",
        "           xticklabels=classes, yticklabels=classes,\n",
        "           title=title,\n",
        "           ylabel='True label',\n",
        "           xlabel='Predicted label')\n",
        "\n",
        "    # Rotate the tick labels and set their alignment.\n",
        "    plt.setp(ax.get_xticklabels(), rotation=45, ha=\"right\",\n",
        "             rotation_mode=\"anchor\")\n",
        "\n",
        "    # Loop over data dimensions and create text annotations.\n",
        "    fmt = '.2f' if normalize else 'd'\n",
        "    thresh = cm.max() / 2.\n",
        "    for i in range(cm.shape[0]):\n",
        "        for j in range(cm.shape[1]):\n",
        "            ax.text(j, i, format(cm[i, j], fmt),\n",
        "                    ha=\"center\", va=\"center\",\n",
        "                    color=\"white\" if cm[i, j] > thresh else \"black\")\n",
        "    fig.tight_layout()\n",
        "    return ax"
      ],
      "execution_count": null,
      "outputs": []
    },
    {
      "cell_type": "code",
      "metadata": {
        "id": "jVGHIc3xmnlv"
      },
      "source": [
        "from sklearn.model_selection import train_test_split\n",
        "from sklearn.metrics import accuracy_score, f1_score, confusion_matrix\n",
        "\n",
        "# feature extraction / vectorization\n",
        "from sklearn.feature_extraction.text import CountVectorizer, TfidfVectorizer\n",
        "\n",
        "# classifiers\n",
        "from sklearn.naive_bayes import MultinomialNB\n",
        "from sklearn.linear_model import LogisticRegression, SGDClassifier\n",
        "from sklearn.ensemble import RandomForestClassifier\n",
        "from sklearn.svm import LinearSVC\n",
        "from sklearn.pipeline import Pipeline\n",
        "\n",
        "docs = map(''.join, normalized_df[['content']].values.tolist())\n",
        "\n",
        "# TFIDF, unigrams and bigrams\n",
        "vect = TfidfVectorizer(sublinear_tf=True, norm='l2', ngram_range=(1, 2))\n",
        "\n",
        "# fit on our complete corpus\n",
        "vect.fit_transform(docs)\n",
        "\n",
        "# transform testing and training datasets to vectors\n",
        "X_train_vect = vect.transform(x_train)\n",
        "X_test_vect = vect.transform(x_test)"
      ],
      "execution_count": null,
      "outputs": []
    },
    {
      "cell_type": "markdown",
      "metadata": {
        "id": "OhTzeOMhpOxj"
      },
      "source": [
        "####Multinominal Naive Bayes classifiers"
      ]
    },
    {
      "cell_type": "code",
      "metadata": {
        "colab": {
          "base_uri": "https://localhost:8080/",
          "height": 757
        },
        "id": "Lv0h_b16nhmh",
        "outputId": "8bd4902b-b78e-494c-835e-7db8c92284fe"
      },
      "source": [
        "class_names = ['anger', 'sadness', 'fear', 'surprise', 'happiness', 'love' ,'neutral']\n",
        "\n",
        "nb = MultinomialNB()\n",
        "\n",
        "nb.fit(X_train_vect, y_train)\n",
        "\n",
        "ynb_pred = nb.predict(X_test_vect)\n",
        "\n",
        "\n",
        "print(\"Accuracy: {:.2f}%\".format(accuracy_score(y_test, ynb_pred) * 100))\n",
        "print(\"\\nF1 Score: {:.2f}\".format(f1_score(y_test, ynb_pred, average='micro') * 100))\n",
        "print(\"\\nCOnfusion Matrix:\\n\", confusion_matrix(y_test, ynb_pred))\n",
        "\n",
        "# Plot normalized confusion matrix\n",
        "plot_confusion_matrix(y_test, ynb_pred, classes=class_names, normalize=True, title='Normalized confusion matrix')\n",
        "plt.show()"
      ],
      "execution_count": null,
      "outputs": [
        {
          "output_type": "stream",
          "text": [
            "Accuracy: 45.25%\n",
            "\n",
            "F1 Score: 45.25\n",
            "\n",
            "COnfusion Matrix:\n",
            " [[  18  173  244    0    1  341    0]\n",
            " [   0 1235  534    4   20  427    0]\n",
            " [   0  172 2069    9   43   82    0]\n",
            " [   0  135  773   56   14   97    0]\n",
            " [   1  629  718    9  157  185    0]\n",
            " [   0  487  310    0   13 1428    0]\n",
            " [   0  212  274    0   16   83    0]]\n"
          ],
          "name": "stdout"
        },
        {
          "output_type": "display_data",
          "data": {
            "image/png": "[encoded data removed]",
            "text/plain": [
              "<Figure size 900x540 with 2 Axes>"
            ]
          },
          "metadata": {
            "tags": [],
            "needs_background": "light"
          }
        }
      ]
    },
    {
      "cell_type": "markdown",
      "metadata": {
        "id": "hFOGLDHNplhB"
      },
      "source": [
        "#### Random Forest Classifier"
      ]
    },
    {
      "cell_type": "code",
      "metadata": {
        "colab": {
          "base_uri": "https://localhost:8080/",
          "height": 757
        },
        "id": "6J7SkTnLoZxY",
        "outputId": "33d13ff8-8ead-4f38-dbe7-a36910b0ccc6"
      },
      "source": [
        "rf = RandomForestClassifier(n_estimators=50)\n",
        "rf.fit(X_train_vect, y_train)\n",
        "\n",
        "yrf_pred = rf.predict(X_test_vect)\n",
        "\n",
        "print(\"Accuracy: {:.2f}%\".format(accuracy_score(y_test, yrf_pred) * 100))\n",
        "print(\"\\nF1 Score: {:.2f}\".format(f1_score(y_test, yrf_pred, average='micro') * 100))\n",
        "print(\"\\nCOnfusion Matrix:\\n\", confusion_matrix(y_test, yrf_pred))\n",
        "\n",
        "plot_confusion_matrix(y_test, yrf_pred, classes=class_names, normalize=True, title='Normalized confusion matrix')\n",
        "plt.show()"
      ],
      "execution_count": null,
      "outputs": [
        {
          "output_type": "stream",
          "text": [
            "Accuracy: 48.66%\n",
            "\n",
            "F1 Score: 48.66\n",
            "\n",
            "COnfusion Matrix:\n",
            " [[ 240  128  165    4   90  149    1]\n",
            " [  22 1064  294   35  509  282   14]\n",
            " [   4  211 1582   78  393  102    5]\n",
            " [   2  128  369  316  174   80    6]\n",
            " [   6  403  173   45  984   82    6]\n",
            " [  20  471  348   18  269 1108    4]\n",
            " [   6  180  121   14  163   57   44]]\n"
          ],
          "name": "stdout"
        },
        {
          "output_type": "display_data",
          "data": {
            "image/png": "[encoded data removed]",
            "text/plain": [
              "<Figure size 900x540 with 2 Axes>"
            ]
          },
          "metadata": {
            "tags": [],
            "needs_background": "light"
          }
        }
      ]
    },
    {
      "cell_type": "markdown",
      "metadata": {
        "id": "lgEjstlnqX8H"
      },
      "source": [
        "#### Logistic Regression "
      ]
    },
    {
      "cell_type": "code",
      "metadata": {
        "colab": {
          "base_uri": "https://localhost:8080/",
          "height": 896
        },
        "id": "CpHc7q4LqI_V",
        "outputId": "0973fcc0-7e2b-4680-9b52-a73c24f967da"
      },
      "source": [
        "log = LogisticRegression(solver='lbfgs', multi_class='auto', max_iter=200)\n",
        "log.fit(X_train_vect, y_train)\n",
        "\n",
        "ylog_pred = log.predict(X_test_vect)\n",
        "\n",
        "print(\"Accuracy: {:.2f}%\".format(accuracy_score(y_test, ylog_pred) * 100))\n",
        "print(\"\\nF1 Score: {:.2f}\".format(f1_score(y_test, ylog_pred, average='micro') * 100))\n",
        "print(\"\\nCOnfusion Matrix:\\n\", confusion_matrix(y_test, ylog_pred))\n",
        "\n",
        "plot_confusion_matrix(y_test, ylog_pred, classes=class_names, normalize=True, title='Normalized confusion matrix')\n",
        "plt.show()"
      ],
      "execution_count": null,
      "outputs": [
        {
          "output_type": "stream",
          "text": [
            "/usr/local/lib/python3.6/dist-packages/sklearn/linear_model/_logistic.py:940: ConvergenceWarning: lbfgs failed to converge (status=1):\n",
            "STOP: TOTAL NO. of ITERATIONS REACHED LIMIT.\n",
            "\n",
            "Increase the number of iterations (max_iter) or scale the data as shown in:\n",
            "    https://scikit-learn.org/stable/modules/preprocessing.html\n",
            "Please also refer to the documentation for alternative solver options:\n",
            "    https://scikit-learn.org/stable/modules/linear_model.html#logistic-regression\n",
            "  extra_warning_msg=_LOGISTIC_SOLVER_CONVERGENCE_MSG)\n"
          ],
          "name": "stderr"
        },
        {
          "output_type": "stream",
          "text": [
            "Accuracy: 54.25%\n",
            "\n",
            "F1 Score: 54.25\n",
            "\n",
            "COnfusion Matrix:\n",
            " [[ 322  133  101    6   71  143    1]\n",
            " [  30 1137  212   41  459  336    5]\n",
            " [   4  147 1690   93  357   82    2]\n",
            " [   3   93  358  392  163   63    3]\n",
            " [   4  360  192   43  988  104    8]\n",
            " [  22  446  147   26  213 1381    3]\n",
            " [   2  183  125   18  156   60   41]]\n"
          ],
          "name": "stdout"
        },
        {
          "output_type": "display_data",
          "data": {
            "image/png": "[encoded data removed]",
            "text/plain": [
              "<Figure size 900x540 with 2 Axes>"
            ]
          },
          "metadata": {
            "tags": [],
            "needs_background": "light"
          }
        }
      ]
    },
    {
      "cell_type": "markdown",
      "metadata": {
        "id": "rlaDj7XtqxMV"
      },
      "source": [
        "#### SVM "
      ]
    },
    {
      "cell_type": "code",
      "metadata": {
        "colab": {
          "base_uri": "https://localhost:8080/",
          "height": 757
        },
        "id": "9w62KlVDqMm_",
        "outputId": "6b738a30-2739-46cc-8b0f-b406f6bac8f8"
      },
      "source": [
        "svc = LinearSVC(tol=1e-05)\n",
        "svc.fit(X_train_vect, y_train)\n",
        "\n",
        "ysvm_pred = svc.predict(X_test_vect)\n",
        "\n",
        "print(\"Accuracy: {:.2f}%\".format(accuracy_score(y_test, ysvm_pred) * 100))\n",
        "print(\"\\nF1 Score: {:.2f}\".format(f1_score(y_test, ysvm_pred, average='micro') * 100))\n",
        "print(\"\\nCOnfusion Matrix:\\n\", confusion_matrix(y_test, ysvm_pred))\n",
        "\n",
        "plot_confusion_matrix(y_test, ysvm_pred, classes=class_names, normalize=True, title='Normalized confusion matrix')\n",
        "plt.show()"
      ],
      "execution_count": null,
      "outputs": [
        {
          "output_type": "stream",
          "text": [
            "Accuracy: 55.77%\n",
            "\n",
            "F1 Score: 55.77\n",
            "\n",
            "COnfusion Matrix:\n",
            " [[ 441  125   45    9   57   98    2]\n",
            " [  48 1111  186   55  432  360   28]\n",
            " [  12  123 1673  143  339   69   16]\n",
            " [   7   82  302  477  139   57   11]\n",
            " [  13  345  219   63  881  148   30]\n",
            " [  45  393  112   44  212 1414   18]\n",
            " [   9  146   91   29  146   44  120]]\n"
          ],
          "name": "stdout"
        },
        {
          "output_type": "display_data",
          "data": {
            "image/png": "[encoded data removed]",
            "text/plain": [
              "<Figure size 900x540 with 2 Axes>"
            ]
          },
          "metadata": {
            "tags": [],
            "needs_background": "light"
          }
        }
      ]
    },
    {
      "cell_type": "code",
      "metadata": {
        "id": "BhEq9ZH2t75I"
      },
      "source": [
        "#Create pipeline with our tf-idf vectorizer and LinearSVC model\n",
        "svm_model = Pipeline([\n",
        "    ('tfidf', vect),\n",
        "    ('clf', svc),\n",
        "])"
      ],
      "execution_count": null,
      "outputs": []
    },
    {
      "cell_type": "code",
      "metadata": {
        "id": "_1MZIzlkt9OB"
      },
      "source": [
        "# save the model\n",
        "filename = 'tfidf_svm.sav'\n",
        "pickle.dump(svm_model, open(filename, 'wb'))"
      ],
      "execution_count": null,
      "outputs": []
    },
    {
      "cell_type": "code",
      "metadata": {
        "colab": {
          "base_uri": "https://localhost:8080/"
        },
        "id": "Lhnkk4XguLIS",
        "outputId": "0278daef-6690-4ea2-c298-9af9714673ef"
      },
      "source": [
        "model = pickle.load(open(filename, 'rb'))\n",
        "\n",
        "message = 'delivery was damn late and my pizza is cold!' \n",
        "model.predict([message])"
      ],
      "execution_count": null,
      "outputs": [
        {
          "output_type": "execute_result",
          "data": {
            "text/plain": [
              "array(['fear'], dtype=object)"
            ]
          },
          "metadata": {
            "tags": []
          },
          "execution_count": 46
        }
      ]
    },
    {
      "cell_type": "markdown",
      "metadata": {
        "id": "q34a5X5nuvrG"
      },
      "source": [
        "## Emotion Classification in texts using CNN and Word2Vec\n",
        "\n",
        "####Embedding Layer\n",
        "Word Embedding is a representation of text where words that have the similar meaning have a similar representation. We will use 300 dimentional word vectors pre-trained on wikipedia articles. We can also train the w2v model with our data, however our dataset is quite small and trained word vectors might not be as good as using pretrained w2v.\n",
        "\n",
        "#####Deep Network\n",
        "Though text data is one-dimensional, we can use 1D convolutional neural networks to extract features from our data. The result of each convolution will fire when a special pattern is detected. By varying the size of the kernels and concatenating their outputs, you’re allowing yourself to detect patterns of multiples sizes (2, 3, or 5 adjacent words). Patterns could be expressions like “I hate”, “very good” and therefore CNNs can identify them in the sentence regardless of their position.\n",
        "\n",
        "#### Fully Connected Layer\n",
        "The fully connected layer takes the deep representation from the RNN/LSTM/GRU and transforms it into the final output classes or class scores. This component is comprised of fully connected layers along with batch normalization and optionally dropout layers for regularization.\n",
        "Output Layer\n",
        "Based on the problem at hand, this layer can have either Sigmoid for binary classification or Softmax for both binary and multi classification output.\n"
      ]
    },
    {
      "cell_type": "code",
      "metadata": {
        "id": "auiTJFFlvCBd"
      },
      "source": [
        "# preparing input to our model\n",
        "from keras.preprocessing.text import Tokenizer\n",
        "from keras.preprocessing.sequence import pad_sequences\n",
        "from keras.utils import to_categorical\n",
        "\n",
        "# keras layers\n",
        "from keras.models import Sequential\n",
        "from keras.layers import Embedding, Conv1D, GlobalMaxPooling1D, Dense"
      ],
      "execution_count": null,
      "outputs": []
    },
    {
      "cell_type": "code",
      "metadata": {
        "id": "On1hQl59vdUz"
      },
      "source": [
        "# Number of labels: 'anger', 'sadness', 'fear', 'surprise', 'happiness', 'love' ,'neutral'\n",
        "num_classes = 7\n",
        "\n",
        "# Number of dimensions for word embedding\n",
        "embed_num_dims = 300\n",
        "\n",
        "# Max input length (max number of words) \n",
        "max_seq_len = 500\n",
        "\n",
        "class_names = ['anger', 'sadness', 'fear', 'surprise', 'happiness', 'love' ,'neutral']"
      ],
      "execution_count": null,
      "outputs": []
    },
    {
      "cell_type": "code",
      "metadata": {
        "id": "ac-y3bs-y1Kk"
      },
      "source": [
        "def clean_text(data):\n",
        "    \n",
        "    # tekenization using nltk\n",
        "    data = word_tokenize(data)\n",
        "    \n",
        "    return data\n",
        "\n",
        "\n",
        "texts = [' '.join(clean_text(text)) for text in normalized_df.content]\n",
        "\n",
        "texts_train = [' '.join(clean_text(text)) for text in x_train]\n",
        "texts_test = [' '.join(clean_text(text)) for text in x_test]"
      ],
      "execution_count": null,
      "outputs": []
    },
    {
      "cell_type": "code",
      "metadata": {
        "colab": {
          "base_uri": "https://localhost:8080/"
        },
        "id": "q-3wFzhzzhy3",
        "outputId": "8a8d21f7-3731-4b40-ed71-abb22f15fba0"
      },
      "source": [
        "print(texts_train[92])"
      ],
      "execution_count": null,
      "outputs": [
        {
          "output_type": "stream",
          "text": [
            "@ mention forget to answer -pron- kindle question yesterday honestly have not use -pron- much have two paperback book i want 2 read first\n"
          ],
          "name": "stdout"
        }
      ]
    },
    {
      "cell_type": "code",
      "metadata": {
        "colab": {
          "base_uri": "https://localhost:8080/"
        },
        "id": "HQYr5clkwO9w",
        "outputId": "ce05689f-4640-4e53-962c-12d4769d4908"
      },
      "source": [
        "tokenizer = Tokenizer()\n",
        "tokenizer.fit_on_texts(normalized_df.content)\n",
        "\n",
        "sequence_train = tokenizer.texts_to_sequences(texts_train)\n",
        "sequence_test = tokenizer.texts_to_sequences(texts_test)\n",
        "\n",
        "index_of_words = tokenizer.word_index\n",
        "\n",
        "# vacab size is number of unique words + reserved 0 index for padding\n",
        "vocab_size = len(index_of_words) + 1\n",
        "\n",
        "print('Number of unique words: {}'.format(len(index_of_words)))"
      ],
      "execution_count": null,
      "outputs": [
        {
          "output_type": "stream",
          "text": [
            "Number of unique words: 24151\n"
          ],
          "name": "stdout"
        }
      ]
    },
    {
      "cell_type": "code",
      "metadata": {
        "colab": {
          "base_uri": "https://localhost:8080/"
        },
        "id": "GdpK-lA_znq1",
        "outputId": "86d0087d-42d1-4cab-b17b-d450f88cd1c6"
      },
      "source": [
        "X_train_pad = pad_sequences(sequence_train, maxlen = max_seq_len )\n",
        "X_test_pad = pad_sequences(sequence_test, maxlen = max_seq_len )\n",
        "\n",
        "X_train_pad"
      ],
      "execution_count": null,
      "outputs": [
        {
          "output_type": "execute_result",
          "data": {
            "text/plain": [
              "array([[   0,    0,    0, ...,    8,   72,  112],\n",
              "       [   0,    0,    0, ...,    6,   13,   89],\n",
              "       [   0,    0,    0, ..., 1163,   47, 2035],\n",
              "       ...,\n",
              "       [   0,    0,    0, ..., 9853,    1, 3594],\n",
              "       [   0,    0,    0, ...,   50,    5,  339],\n",
              "       [   0,    0,    0, ...,    0,    0,    9]], dtype=int32)"
            ]
          },
          "metadata": {
            "tags": []
          },
          "execution_count": 52
        }
      ]
    },
    {
      "cell_type": "code",
      "metadata": {
        "id": "-XnmJ4UWzrXA"
      },
      "source": [
        "encoding = {\n",
        "    'anger': 0,\n",
        "    'sadness': 1,\n",
        "    'fear': 2,\n",
        "    'surprise': 3,\n",
        "    'happiness': 4,\n",
        "    'love': 5,\n",
        "    'neutral': 6\n",
        "}\n",
        "\n",
        "# Integer labels\n",
        "y_train = [encoding[x] for x in y_train]\n",
        "y_test = [encoding[x] for x in y_test]\n"
      ],
      "execution_count": null,
      "outputs": []
    },
    {
      "cell_type": "code",
      "metadata": {
        "colab": {
          "base_uri": "https://localhost:8080/"
        },
        "id": "ms_HjOj40evU",
        "outputId": "e57bed0d-e4d8-4508-d5f6-ff43927176ae"
      },
      "source": [
        "y_train = to_categorical(y_train)\n",
        "y_test = to_categorical(y_test)\n",
        "\n",
        "y_train"
      ],
      "execution_count": null,
      "outputs": [
        {
          "output_type": "execute_result",
          "data": {
            "text/plain": [
              "array([[1., 0., 0., ..., 0., 0., 0.],\n",
              "       [1., 0., 0., ..., 0., 0., 0.],\n",
              "       [0., 1., 0., ..., 0., 0., 0.],\n",
              "       ...,\n",
              "       [0., 0., 0., ..., 0., 1., 0.],\n",
              "       [0., 0., 0., ..., 0., 0., 1.],\n",
              "       [0., 0., 0., ..., 0., 0., 1.]], dtype=float32)"
            ]
          },
          "metadata": {
            "tags": []
          },
          "execution_count": 54
        }
      ]
    },
    {
      "cell_type": "code",
      "metadata": {
        "id": "E4BANFIg04_b"
      },
      "source": [
        "def create_embedding_matrix(filepath, word_index, embedding_dim):\n",
        "    vocab_size = len(word_index) + 1  # Adding again 1 because of reserved 0 index\n",
        "    embedding_matrix = np.zeros((vocab_size, embedding_dim))\n",
        "    with open(filepath) as f:\n",
        "        for line in f:\n",
        "            word, *vector = line.split()\n",
        "            if word in word_index:\n",
        "                idx = word_index[word] \n",
        "                embedding_matrix[idx] = np.array(\n",
        "                    vector, dtype=np.float32)[:embedding_dim]\n",
        "    return embedding_matrix"
      ],
      "execution_count": null,
      "outputs": []
    },
    {
      "cell_type": "code",
      "metadata": {
        "colab": {
          "base_uri": "https://localhost:8080/"
        },
        "id": "43C-gpOw1L0O",
        "outputId": "ce266204-59c2-4b48-e9b5-6f19442faa61"
      },
      "source": [
        "import urllib.request\n",
        "import zipfile\n",
        "import os\n",
        "\n",
        "fname = 'embeddings/wiki-news-300d-1M.vec'\n",
        "\n",
        "if not os.path.isfile(fname):\n",
        "    print('Downloading word vectors...')\n",
        "    urllib.request.urlretrieve('https://dl.fbaipublicfiles.com/fasttext/vectors-english/wiki-news-300d-1M.vec.zip',\n",
        "                              'wiki-news-300d-1M.vec.zip')\n",
        "    print('Unzipping...')\n",
        "    with zipfile.ZipFile('wiki-news-300d-1M.vec.zip', 'r') as zip_ref:\n",
        "        zip_ref.extractall('embeddings')\n",
        "    print('done.')\n",
        "    \n",
        "    os.remove('wiki-news-300d-1M.vec.zip')"
      ],
      "execution_count": null,
      "outputs": [
        {
          "output_type": "stream",
          "text": [
            "Downloading word vectors...\n",
            "Unzipping...\n",
            "done.\n"
          ],
          "name": "stdout"
        }
      ]
    },
    {
      "cell_type": "code",
      "metadata": {
        "colab": {
          "base_uri": "https://localhost:8080/"
        },
        "id": "eii5mzO61Nws",
        "outputId": "515b09df-581b-4864-864d-525aad32362b"
      },
      "source": [
        "embedd_matrix = create_embedding_matrix(fname, index_of_words, embed_num_dims)\n",
        "embedd_matrix.shape"
      ],
      "execution_count": null,
      "outputs": [
        {
          "output_type": "execute_result",
          "data": {
            "text/plain": [
              "(24152, 300)"
            ]
          },
          "metadata": {
            "tags": []
          },
          "execution_count": 57
        }
      ]
    },
    {
      "cell_type": "code",
      "metadata": {
        "colab": {
          "base_uri": "https://localhost:8080/"
        },
        "id": "lkAZKREp1SOK",
        "outputId": "2d501a23-d500-4b1b-a774-33c4fda70fab"
      },
      "source": [
        "# Inspect unseen words\n",
        "new_words = 0\n",
        "\n",
        "for word in index_of_words:\n",
        "    entry = embedd_matrix[index_of_words[word]]\n",
        "    if all(v == 0 for v in entry):\n",
        "        new_words = new_words + 1\n",
        "\n",
        "print('Words found in wiki vocab: ' + str(len(index_of_words) - new_words))\n",
        "print('New words found: ' + str(new_words))"
      ],
      "execution_count": null,
      "outputs": [
        {
          "output_type": "stream",
          "text": [
            "Words found in wiki vocab: 19668\n",
            "New words found: 4483\n"
          ],
          "name": "stdout"
        }
      ]
    },
    {
      "cell_type": "code",
      "metadata": {
        "id": "Bep6ebnz1WND"
      },
      "source": [
        "embedd_layer = Embedding(vocab_size,\n",
        "                         embed_num_dims,\n",
        "                         input_length = max_seq_len,\n",
        "                         weights = [embedd_matrix],\n",
        "                         trainable=False)"
      ],
      "execution_count": null,
      "outputs": []
    },
    {
      "cell_type": "code",
      "metadata": {
        "id": "oYXoTsBP1biC"
      },
      "source": [
        "# Convolution\n",
        "kernel_size = 3\n",
        "filters = 256\n",
        "learning_rate=0.1\n",
        "\n",
        "model = Sequential()\n",
        "model.add(embedd_layer)\n",
        "model.add(Conv1D(filters, kernel_size, activation='relu'))\n",
        "model.add(GlobalMaxPooling1D())\n",
        "model.add(Dense(256, activation='relu'))\n",
        "model.add(Dense(num_classes, activation='softmax'))"
      ],
      "execution_count": null,
      "outputs": []
    },
    {
      "cell_type": "code",
      "metadata": {
        "colab": {
          "base_uri": "https://localhost:8080/"
        },
        "id": "l8MUVNm71gV9",
        "outputId": "9ed250e6-dba2-40cc-a5c3-f1e8da60844b"
      },
      "source": [
        "from keras.optimizers import SGD\n",
        "model.compile(loss = 'categorical_crossentropy', optimizer=SGD(learning_rate=learning_rate), metrics = ['accuracy'])\n",
        "model.summary()"
      ],
      "execution_count": null,
      "outputs": [
        {
          "output_type": "stream",
          "text": [
            "Model: \"sequential\"\n",
            "_________________________________________________________________\n",
            "Layer (type)                 Output Shape              Param #   \n",
            "=================================================================\n",
            "embedding (Embedding)        (None, 500, 300)          7245600   \n",
            "_________________________________________________________________\n",
            "conv1d (Conv1D)              (None, 498, 256)          230656    \n",
            "_________________________________________________________________\n",
            "global_max_pooling1d (Global (None, 256)               0         \n",
            "_________________________________________________________________\n",
            "dense (Dense)                (None, 256)               65792     \n",
            "_________________________________________________________________\n",
            "dense_1 (Dense)              (None, 7)                 1799      \n",
            "=================================================================\n",
            "Total params: 7,543,847\n",
            "Trainable params: 298,247\n",
            "Non-trainable params: 7,245,600\n",
            "_________________________________________________________________\n"
          ],
          "name": "stdout"
        }
      ]
    },
    {
      "cell_type": "code",
      "metadata": {
        "colab": {
          "base_uri": "https://localhost:8080/"
        },
        "id": "BZ1uehlR1jm6",
        "outputId": "ab4ef563-2568-4dac-bb61-b511685b0170"
      },
      "source": [
        "batch_size = 256\n",
        "epochs = 15\n",
        "\n",
        "hist = model.fit(X_train_pad, y_train, \n",
        "                 batch_size=batch_size,\n",
        "                 epochs=epochs,\n",
        "                 validation_data=(X_test_pad,y_test))"
      ],
      "execution_count": null,
      "outputs": [
        {
          "output_type": "stream",
          "text": [
            "Epoch 1/15\n",
            "172/172 [==============================] - 10s 56ms/step - loss: 1.3934 - accuracy: 0.4712 - val_loss: 1.3609 - val_accuracy: 0.4710\n",
            "Epoch 2/15\n",
            "172/172 [==============================] - 10s 55ms/step - loss: 1.3167 - accuracy: 0.5096 - val_loss: 1.2953 - val_accuracy: 0.5253\n",
            "Epoch 3/15\n",
            "172/172 [==============================] - 10s 55ms/step - loss: 1.2677 - accuracy: 0.5271 - val_loss: 1.2552 - val_accuracy: 0.5315\n",
            "Epoch 4/15\n",
            "172/172 [==============================] - 10s 56ms/step - loss: 1.2191 - accuracy: 0.5430 - val_loss: 1.2217 - val_accuracy: 0.5406\n",
            "Epoch 5/15\n",
            "172/172 [==============================] - 10s 55ms/step - loss: 1.1848 - accuracy: 0.5558 - val_loss: 1.2594 - val_accuracy: 0.5292\n",
            "Epoch 6/15\n",
            "172/172 [==============================] - 9s 55ms/step - loss: 1.1513 - accuracy: 0.5688 - val_loss: 1.1933 - val_accuracy: 0.5556\n",
            "Epoch 7/15\n",
            "172/172 [==============================] - 9s 55ms/step - loss: 1.1282 - accuracy: 0.5794 - val_loss: 1.1641 - val_accuracy: 0.5632\n",
            "Epoch 8/15\n",
            "172/172 [==============================] - 10s 56ms/step - loss: 1.0996 - accuracy: 0.5897 - val_loss: 1.1755 - val_accuracy: 0.5576\n",
            "Epoch 9/15\n",
            "172/172 [==============================] - 9s 55ms/step - loss: 1.0821 - accuracy: 0.5955 - val_loss: 1.1755 - val_accuracy: 0.5542\n",
            "Epoch 10/15\n",
            "172/172 [==============================] - 9s 55ms/step - loss: 1.0678 - accuracy: 0.5995 - val_loss: 1.1300 - val_accuracy: 0.5792\n",
            "Epoch 11/15\n",
            "172/172 [==============================] - 9s 55ms/step - loss: 1.0441 - accuracy: 0.6114 - val_loss: 1.2275 - val_accuracy: 0.5349\n",
            "Epoch 12/15\n",
            "172/172 [==============================] - 9s 55ms/step - loss: 1.0282 - accuracy: 0.6158 - val_loss: 1.2885 - val_accuracy: 0.5266\n",
            "Epoch 13/15\n",
            "172/172 [==============================] - 9s 55ms/step - loss: 1.0033 - accuracy: 0.6255 - val_loss: 1.2143 - val_accuracy: 0.5534\n",
            "Epoch 14/15\n",
            "172/172 [==============================] - 9s 55ms/step - loss: 1.0001 - accuracy: 0.6242 - val_loss: 1.1705 - val_accuracy: 0.5661\n",
            "Epoch 15/15\n",
            "172/172 [==============================] - 9s 55ms/step - loss: 0.9829 - accuracy: 0.6342 - val_loss: 1.3099 - val_accuracy: 0.5398\n"
          ],
          "name": "stdout"
        }
      ]
    },
    {
      "cell_type": "code",
      "metadata": {
        "colab": {
          "base_uri": "https://localhost:8080/",
          "height": 573
        },
        "id": "5AdkDA-j9OaB",
        "outputId": "9d50c3e1-e0a9-483f-9027-4688c7e6d832"
      },
      "source": [
        "# Accuracy plot\n",
        "plt.plot(hist.history['accuracy'])\n",
        "plt.plot(hist.history['val_accuracy'])\n",
        "plt.title('model accuracy')\n",
        "plt.ylabel('accuracy')\n",
        "plt.xlabel('epoch')\n",
        "plt.legend(['train', 'validation'], loc='upper left')\n",
        "plt.show()\n",
        "\n",
        "# Loss plot\n",
        "plt.plot(hist.history['loss'])\n",
        "plt.plot(hist.history['val_loss'])\n",
        "plt.title('model loss')\n",
        "plt.ylabel('loss')\n",
        "plt.xlabel('epoch')\n",
        "plt.legend(['train', 'validation'], loc='upper left')\n",
        "plt.show()"
      ],
      "execution_count": null,
      "outputs": [
        {
          "output_type": "display_data",
          "data": {
            "image/png": "[encoded data removed]",
            "text/plain": [
              "<Figure size 432x288 with 1 Axes>"
            ]
          },
          "metadata": {
            "tags": [],
            "needs_background": "light"
          }
        },
        {
          "output_type": "display_data",
          "data": {
            "image/png": "[encoded data removed]",
            "text/plain": [
              "<Figure size 432x288 with 1 Axes>"
            ]
          },
          "metadata": {
            "tags": [],
            "needs_background": "light"
          }
        }
      ]
    },
    {
      "cell_type": "code",
      "metadata": {
        "id": "QXOpdKA79PlF"
      },
      "source": [
        "predictions = model.predict(X_test_pad)\n",
        "predictions = np.argmax(predictions, axis=1)\n",
        "predictions = [class_names[pred] for pred in predictions]"
      ],
      "execution_count": null,
      "outputs": []
    },
    {
      "cell_type": "code",
      "metadata": {
        "colab": {
          "base_uri": "https://localhost:8080/"
        },
        "id": "-quT9_RGpGcZ",
        "outputId": "04cd8ef0-b681-495c-956b-2f11a271e7ac"
      },
      "source": [
        "y_train.shape"
      ],
      "execution_count": null,
      "outputs": [
        {
          "output_type": "execute_result",
          "data": {
            "text/plain": [
              "(43875, 7)"
            ]
          },
          "metadata": {
            "tags": []
          },
          "execution_count": 69
        }
      ]
    },
    {
      "cell_type": "code",
      "metadata": {
        "colab": {
          "base_uri": "https://localhost:8080/"
        },
        "id": "hrnVXP259UI8",
        "outputId": "da9fe17b-779f-47c7-e8be-5bcb68119cd7"
      },
      "source": [
        "print(\"Accuracy: {:.2f}%\".format(accuracy_score(y_test_dataset, predictions) * 100))\n",
        "print(\"\\nF1 Score: {:.2f}\".format(f1_score(y_test_dataset, predictions, average='micro') * 100))"
      ],
      "execution_count": null,
      "outputs": [
        {
          "output_type": "stream",
          "text": [
            "Accuracy: 53.98%\n",
            "\n",
            "F1 Score: 53.98\n"
          ],
          "name": "stdout"
        }
      ]
    },
    {
      "cell_type": "code",
      "metadata": {
        "colab": {
          "base_uri": "https://localhost:8080/",
          "height": 549
        },
        "id": "m6LLni6I-Il3",
        "outputId": "ba84050b-6e1a-47a0-ac88-d92b42f933b0"
      },
      "source": [
        "# Plot normalized confusion matrix\n",
        "plot_confusion_matrix(y_test_dataset, predictions, classes=class_names, normalize=True, title='Normalized confusion matrix')\n",
        "plt.show()"
      ],
      "execution_count": null,
      "outputs": [
        {
          "output_type": "display_data",
          "data": {
            "image/png": "[encoded data removed]",
            "text/plain": [
              "<Figure size 900x540 with 2 Axes>"
            ]
          },
          "metadata": {
            "tags": [],
            "needs_background": "light"
          }
        }
      ]
    },
    {
      "cell_type": "code",
      "metadata": {
        "colab": {
          "base_uri": "https://localhost:8080/"
        },
        "id": "epSrWxqeBTQC",
        "outputId": "7ebc0340-35c8-4893-c989-04eb599d567b"
      },
      "source": [
        "print('Message: {}\\nPredicted: {}'.format(x_test, predictions))"
      ],
      "execution_count": null,
      "outputs": [
        {
          "output_type": "stream",
          "text": [
            "Message: 376                                 @mention i miss -pron-\n",
            "3886     no santa cruz for -pron- but -pron- do have an...\n",
            "31778                  i should not feel altogether mellow\n",
            "21893    @mention -pron- usually do if there be choice ...\n",
            "39583    -pron- monitor will not turn on this can only ...\n",
            "                               ...                        \n",
            "21703                                   @mention thank ppm\n",
            "53763    @mention may -pron- please have a couple promo...\n",
            "53860    good morning just go to bed -pron- feel and al...\n",
            "30231    i be feel so amused at the man a tone that i t...\n",
            "34242    take the most amazing power nap every now -pro...\n",
            "Name: content, Length: 10969, dtype: object\n",
            "Predicted: ['sadness', 'happiness', 'happiness', 'happiness', 'fear', 'surprise', 'neutral', 'surprise', 'fear', 'sadness', 'happiness', 'neutral', 'fear', 'happiness', 'neutral', 'happiness', 'sadness', 'sadness', 'neutral', 'fear', 'neutral', 'fear', 'neutral', 'neutral', 'neutral', 'neutral', 'neutral', 'neutral', 'happiness', 'happiness', 'happiness', 'happiness', 'sadness', 'happiness', 'sadness', 'happiness', 'happiness', 'happiness', 'happiness', 'surprise', 'neutral', 'happiness', 'happiness', 'neutral', 'happiness', 'sadness', 'neutral', 'fear', 'sadness', 'fear', 'sadness', 'love', 'happiness', 'sadness', 'sadness', 'happiness', 'neutral', 'neutral', 'fear', 'fear', 'sadness', 'neutral', 'happiness', 'happiness', 'fear', 'anger', 'sadness', 'neutral', 'neutral', 'neutral', 'happiness', 'neutral', 'love', 'sadness', 'neutral', 'sadness', 'neutral', 'fear', 'happiness', 'happiness', 'neutral', 'happiness', 'surprise', 'happiness', 'fear', 'neutral', 'happiness', 'fear', 'fear', 'happiness', 'happiness', 'neutral', 'happiness', 'sadness', 'sadness', 'sadness', 'fear', 'happiness', 'neutral', 'anger', 'neutral', 'neutral', 'happiness', 'neutral', 'fear', 'happiness', 'neutral', 'happiness', 'neutral', 'fear', 'happiness', 'sadness', 'neutral', 'neutral', 'sadness', 'fear', 'neutral', 'neutral', 'neutral', 'love', 'sadness', 'neutral', 'neutral', 'sadness', 'happiness', 'neutral', 'neutral', 'neutral', 'anger', 'fear', 'fear', 'fear', 'happiness', 'fear', 'anger', 'happiness', 'neutral', 'surprise', 'sadness', 'neutral', 'fear', 'fear', 'happiness', 'fear', 'happiness', 'fear', 'sadness', 'anger', 'neutral', 'happiness', 'fear', 'neutral', 'fear', 'neutral', 'neutral', 'fear', 'anger', 'fear', 'happiness', 'sadness', 'sadness', 'neutral', 'neutral', 'neutral', 'sadness', 'sadness', 'fear', 'fear', 'neutral', 'neutral', 'sadness', 'sadness', 'sadness', 'neutral', 'happiness', 'happiness', 'sadness', 'neutral', 'neutral', 'sadness', 'happiness', 'neutral', 'anger', 'happiness', 'sadness', 'happiness', 'neutral', 'sadness', 'neutral', 'neutral', 'fear', 'neutral', 'neutral', 'happiness', 'fear', 'happiness', 'sadness', 'neutral', 'fear', 'fear', 'sadness', 'neutral', 'neutral', 'neutral', 'neutral', 'fear', 'sadness', 'happiness', 'happiness', 'happiness', 'fear', 'sadness', 'happiness', 'fear', 'happiness', 'neutral', 'fear', 'sadness', 'neutral', 'happiness', 'fear', 'surprise', 'fear', 'neutral', 'sadness', 'happiness', 'neutral', 'fear', 'fear', 'sadness', 'fear', 'fear', 'neutral', 'happiness', 'happiness', 'sadness', 'fear', 'sadness', 'fear', 'sadness', 'neutral', 'fear', 'fear', 'sadness', 'happiness', 'fear', 'happiness', 'anger', 'neutral', 'neutral', 'neutral', 'happiness', 'neutral', 'fear', 'neutral', 'neutral', 'neutral', 'fear', 'neutral', 'neutral', 'happiness', 'fear', 'anger', 'fear', 'happiness', 'anger', 'happiness', 'happiness', 'sadness', 'sadness', 'happiness', 'sadness', 'fear', 'fear', 'happiness', 'sadness', 'sadness', 'fear', 'fear', 'sadness', 'neutral', 'neutral', 'sadness', 'neutral', 'sadness', 'neutral', 'fear', 'fear', 'neutral', 'fear', 'fear', 'happiness', 'fear', 'fear', 'fear', 'neutral', 'love', 'neutral', 'surprise', 'fear', 'happiness', 'neutral', 'fear', 'happiness', 'fear', 'happiness', 'sadness', 'sadness', 'fear', 'happiness', 'happiness', 'neutral', 'happiness', 'happiness', 'neutral', 'fear', 'sadness', 'neutral', 'neutral', 'happiness', 'neutral', 'neutral', 'neutral', 'fear', 'fear', 'neutral', 'sadness', 'happiness', 'fear', 'happiness', 'neutral', 'neutral', 'fear', 'neutral', 'neutral', 'neutral', 'fear', 'fear', 'fear', 'fear', 'fear', 'neutral', 'fear', 'happiness', 'sadness', 'happiness', 'fear', 'happiness', 'fear', 'happiness', 'happiness', 'sadness', 'happiness', 'neutral', 'happiness', 'happiness', 'neutral', 'sadness', 'neutral', 'neutral', 'sadness', 'fear', 'sadness', 'neutral', 'sadness', 'neutral', 'happiness', 'happiness', 'sadness', 'sadness', 'happiness', 'fear', 'love', 'happiness', 'happiness', 'fear', 'fear', 'sadness', 'happiness', 'sadness', 'anger', 'fear', 'sadness', 'neutral', 'fear', 'fear', 'neutral', 'happiness', 'fear', 'fear', 'happiness', 'neutral', 'fear', 'happiness', 'happiness', 'happiness', 'surprise', 'fear', 'happiness', 'sadness', 'sadness', 'surprise', 'neutral', 'happiness', 'fear', 'neutral', 'fear', 'fear', 'neutral', 'fear', 'fear', 'happiness', 'neutral', 'happiness', 'neutral', 'neutral', 'fear', 'neutral', 'neutral', 'sadness', 'fear', 'happiness', 'neutral', 'sadness', 'neutral', 'neutral', 'happiness', 'neutral', 'fear', 'neutral', 'neutral', 'happiness', 'happiness', 'fear', 'fear', 'fear', 'neutral', 'fear', 'neutral', 'fear', 'sadness', 'fear', 'fear', 'neutral', 'fear', 'happiness', 'happiness', 'neutral', 'neutral', 'neutral', 'sadness', 'happiness', 'sadness', 'sadness', 'fear', 'fear', 'sadness', 'sadness', 'happiness', 'neutral', 'neutral', 'fear', 'fear', 'sadness', 'neutral', 'neutral', 'happiness', 'sadness', 'happiness', 'fear', 'neutral', 'happiness', 'sadness', 'neutral', 'sadness', 'fear', 'sadness', 'sadness', 'surprise', 'happiness', 'neutral', 'happiness', 'sadness', 'fear', 'neutral', 'fear', 'sadness', 'sadness', 'anger', 'fear', 'happiness', 'fear', 'fear', 'happiness', 'happiness', 'fear', 'happiness', 'sadness', 'sadness', 'fear', 'sadness', 'fear', 'fear', 'fear', 'fear', 'fear', 'fear', 'sadness', 'happiness', 'neutral', 'fear', 'happiness', 'happiness', 'fear', 'sadness', 'fear', 'happiness', 'neutral', 'neutral', 'happiness', 'neutral', 'happiness', 'happiness', 'fear', 'sadness', 'fear', 'fear', 'happiness', 'neutral', 'sadness', 'neutral', 'fear', 'neutral', 'happiness', 'fear', 'fear', 'neutral', 'neutral', 'neutral', 'happiness', 'sadness', 'fear', 'neutral', 'neutral', 'anger', 'sadness', 'fear', 'happiness', 'anger', 'happiness', 'neutral', 'sadness', 'sadness', 'fear', 'neutral', 'fear', 'happiness', 'anger', 'sadness', 'neutral', 'sadness', 'sadness', 'sadness', 'fear', 'fear', 'fear', 'neutral', 'neutral', 'surprise', 'fear', 'neutral', 'neutral', 'neutral', 'happiness', 'fear', 'neutral', 'fear', 'happiness', 'happiness', 'sadness', 'fear', 'fear', 'happiness', 'fear', 'happiness', 'sadness', 'neutral', 'neutral', 'neutral', 'fear', 'sadness', 'neutral', 'neutral', 'happiness', 'fear', 'neutral', 'neutral', 'neutral', 'happiness', 'surprise', 'fear', 'happiness', 'happiness', 'sadness', 'sadness', 'happiness', 'happiness', 'happiness', 'sadness', 'sadness', 'neutral', 'fear', 'fear', 'happiness', 'fear', 'sadness', 'sadness', 'neutral', 'fear', 'happiness', 'happiness', 'fear', 'neutral', 'happiness', 'neutral', 'happiness', 'happiness', 'love', 'happiness', 'sadness', 'neutral', 'fear', 'fear', 'happiness', 'happiness', 'fear', 'fear', 'fear', 'happiness', 'happiness', 'sadness', 'fear', 'neutral', 'happiness', 'sadness', 'neutral', 'happiness', 'neutral', 'love', 'happiness', 'happiness', 'sadness', 'neutral', 'fear', 'anger', 'fear', 'happiness', 'neutral', 'neutral', 'fear', 'neutral', 'neutral', 'fear', 'fear', 'happiness', 'fear', 'fear', 'sadness', 'sadness', 'fear', 'happiness', 'fear', 'sadness', 'happiness', 'neutral', 'sadness', 'happiness', 'fear', 'fear', 'neutral', 'sadness', 'neutral', 'happiness', 'happiness', 'sadness', 'anger', 'neutral', 'sadness', 'neutral', 'fear', 'sadness', 'happiness', 'happiness', 'happiness', 'happiness', 'fear', 'sadness', 'neutral', 'sadness', 'neutral', 'neutral', 'sadness', 'fear', 'fear', 'fear', 'sadness', 'fear', 'sadness', 'happiness', 'neutral', 'neutral', 'sadness', 'fear', 'neutral', 'love', 'sadness', 'neutral', 'neutral', 'sadness', 'happiness', 'sadness', 'fear', 'happiness', 'neutral', 'fear', 'fear', 'fear', 'happiness', 'neutral', 'sadness', 'fear', 'neutral', 'happiness', 'neutral', 'neutral', 'neutral', 'neutral', 'neutral', 'fear', 'sadness', 'happiness', 'neutral', 'neutral', 'sadness', 'happiness', 'happiness', 'fear', 'happiness', 'happiness', 'sadness', 'happiness', 'happiness', 'neutral', 'sadness', 'fear', 'fear', 'happiness', 'neutral', 'happiness', 'fear', 'neutral', 'neutral', 'happiness', 'happiness', 'fear', 'fear', 'neutral', 'happiness', 'anger', 'fear', 'happiness', 'happiness', 'happiness', 'happiness', 'neutral', 'happiness', 'neutral', 'happiness', 'sadness', 'happiness', 'happiness', 'happiness', 'anger', 'happiness', 'sadness', 'happiness', 'sadness', 'sadness', 'neutral', 'fear', 'neutral', 'happiness', 'happiness', 'neutral', 'neutral', 'neutral', 'happiness', 'happiness', 'neutral', 'fear', 'sadness', 'happiness', 'sadness', 'neutral', 'fear', 'happiness', 'neutral', 'fear', 'happiness', 'neutral', 'neutral', 'fear', 'neutral', 'fear', 'neutral', 'fear', 'neutral', 'sadness', 'neutral', 'sadness', 'sadness', 'fear', 'neutral', 'happiness', 'happiness', 'neutral', 'fear', 'fear', 'fear', 'happiness', 'fear', 'sadness', 'neutral', 'happiness', 'neutral', 'happiness', 'fear', 'happiness', 'love', 'neutral', 'fear', 'fear', 'sadness', 'neutral', 'anger', 'happiness', 'fear', 'love', 'happiness', 'happiness', 'love', 'sadness', 'neutral', 'sadness', 'sadness', 'happiness', 'fear', 'happiness', 'happiness', 'fear', 'neutral', 'fear', 'fear', 'neutral', 'neutral', 'fear', 'happiness', 'happiness', 'fear', 'sadness', 'neutral', 'happiness', 'happiness', 'fear', 'fear', 'fear', 'fear', 'fear', 'fear', 'fear', 'fear', 'sadness', 'happiness', 'neutral', 'anger', 'sadness', 'happiness', 'fear', 'happiness', 'fear', 'neutral', 'fear', 'happiness', 'sadness', 'sadness', 'sadness', 'fear', 'happiness', 'sadness', 'fear', 'neutral', 'fear', 'fear', 'happiness', 'sadness', 'anger', 'sadness', 'love', 'fear', 'happiness', 'sadness', 'sadness', 'sadness', 'happiness', 'fear', 'neutral', 'neutral', 'fear', 'neutral', 'neutral', 'happiness', 'neutral', 'sadness', 'sadness', 'sadness', 'happiness', 'fear', 'surprise', 'sadness', 'happiness', 'sadness', 'happiness', 'happiness', 'neutral', 'fear', 'fear', 'fear', 'happiness', 'neutral', 'neutral', 'fear', 'sadness', 'sadness', 'fear', 'neutral', 'neutral', 'fear', 'fear', 'sadness', 'sadness', 'fear', 'fear', 'happiness', 'happiness', 'neutral', 'neutral', 'fear', 'neutral', 'neutral', 'sadness', 'fear', 'fear', 'fear', 'sadness', 'anger', 'fear', 'fear', 'neutral', 'sadness', 'fear', 'love', 'sadness', 'sadness', 'neutral', 'surprise', 'sadness', 'neutral', 'fear', 'happiness', 'neutral', 'happiness', 'fear', 'happiness', 'happiness', 'neutral', 'neutral', 'happiness', 'fear', 'neutral', 'neutral', 'neutral', 'fear', 'fear', 'sadness', 'neutral', 'fear', 'happiness', 'fear', 'happiness', 'happiness', 'fear', 'anger', 'sadness', 'neutral', 'happiness', 'neutral', 'happiness', 'happiness', 'happiness', 'neutral', 'fear', 'sadness', 'happiness', 'sadness', 'sadness', 'neutral', 'fear', 'neutral', 'happiness', 'neutral', 'happiness', 'fear', 'neutral', 'fear', 'happiness', 'neutral', 'neutral', 'sadness', 'happiness', 'neutral', 'fear', 'fear', 'neutral', 'sadness', 'happiness', 'neutral', 'happiness', 'neutral', 'fear', 'neutral', 'happiness', 'neutral', 'happiness', 'sadness', 'sadness', 'neutral', 'happiness', 'neutral', 'surprise', 'fear', 'sadness', 'happiness', 'sadness', 'neutral', 'surprise', 'happiness', 'sadness', 'fear', 'happiness', 'fear', 'neutral', 'happiness', 'neutral', 'fear', 'happiness', 'neutral', 'happiness', 'sadness', 'fear', 'fear', 'neutral', 'happiness', 'neutral', 'fear', 'neutral', 'neutral', 'sadness', 'happiness', 'sadness', 'neutral', 'sadness', 'fear', 'happiness', 'neutral', 'sadness', 'neutral', 'fear', 'fear', 'sadness', 'neutral', 'anger', 'fear', 'fear', 'happiness', 'anger', 'neutral', 'happiness', 'sadness', 'fear', 'happiness', 'happiness', 'neutral', 'sadness', 'love', 'sadness', 'fear', 'neutral', 'sadness', 'fear', 'happiness', 'neutral', 'sadness', 'fear', 'happiness', 'sadness', 'neutral', 'happiness', 'fear', 'fear', 'fear', 'fear', 'sadness', 'sadness', 'fear', 'happiness', 'neutral', 'fear', 'fear', 'sadness', 'sadness', 'fear', 'fear', 'happiness', 'neutral', 'happiness', 'fear', 'fear', 'fear', 'fear', 'sadness', 'neutral', 'happiness', 'happiness', 'anger', 'sadness', 'happiness', 'happiness', 'neutral', 'fear', 'sadness', 'neutral', 'happiness', 'happiness', 'sadness', 'neutral', 'anger', 'neutral', 'fear', 'fear', 'neutral', 'fear', 'happiness', 'happiness', 'happiness', 'happiness', 'sadness', 'sadness', 'sadness', 'neutral', 'happiness', 'fear', 'neutral', 'neutral', 'neutral', 'sadness', 'sadness', 'happiness', 'neutral', 'neutral', 'fear', 'happiness', 'neutral', 'happiness', 'fear', 'happiness', 'sadness', 'happiness', 'happiness', 'fear', 'happiness', 'happiness', 'neutral', 'happiness', 'neutral', 'neutral', 'happiness', 'fear', 'happiness', 'neutral', 'happiness', 'neutral', 'happiness', 'happiness', 'happiness', 'fear', 'happiness', 'sadness', 'happiness', 'happiness', 'neutral', 'fear', 'sadness', 'fear', 'neutral', 'neutral', 'fear', 'fear', 'happiness', 'sadness', 'neutral', 'happiness', 'neutral', 'fear', 'love', 'sadness', 'sadness', 'sadness', 'happiness', 'fear', 'happiness', 'fear', 'happiness', 'fear', 'fear', 'sadness', 'sadness', 'sadness', 'happiness', 'fear', 'fear', 'sadness', 'neutral', 'fear', 'happiness', 'neutral', 'fear', 'happiness', 'sadness', 'neutral', 'sadness', 'sadness', 'fear', 'sadness', 'neutral', 'neutral', 'fear', 'neutral', 'happiness', 'neutral', 'happiness', 'fear', 'neutral', 'neutral', 'neutral', 'neutral', 'sadness', 'fear', 'fear', 'fear', 'happiness', 'neutral', 'sadness', 'happiness', 'fear', 'neutral', 'sadness', 'anger', 'happiness', 'neutral', 'neutral', 'happiness', 'sadness', 'happiness', 'neutral', 'sadness', 'happiness', 'neutral', 'sadness', 'fear', 'neutral', 'neutral', 'neutral', 'anger', 'happiness', 'sadness', 'sadness', 'sadness', 'sadness', 'anger', 'sadness', 'happiness', 'sadness', 'fear', 'fear', 'happiness', 'anger', 'anger', 'fear', 'sadness', 'neutral', 'neutral', 'neutral', 'happiness', 'happiness', 'neutral', 'neutral', 'happiness', 'fear', 'anger', 'neutral', 'neutral', 'fear', 'neutral', 'happiness', 'fear', 'neutral', 'sadness', 'happiness', 'sadness', 'neutral', 'sadness', 'sadness', 'fear', 'neutral', 'neutral', 'neutral', 'sadness', 'happiness', 'neutral', 'happiness', 'fear', 'happiness', 'sadness', 'happiness', 'neutral', 'neutral', 'happiness', 'neutral', 'neutral', 'fear', 'happiness', 'fear', 'neutral', 'sadness', 'happiness', 'fear', 'fear', 'neutral', 'sadness', 'happiness', 'fear', 'sadness', 'fear', 'sadness', 'neutral', 'neutral', 'neutral', 'anger', 'neutral', 'happiness', 'fear', 'fear', 'sadness', 'sadness', 'neutral', 'sadness', 'sadness', 'neutral', 'neutral', 'neutral', 'neutral', 'fear', 'neutral', 'neutral', 'sadness', 'happiness', 'sadness', 'neutral', 'sadness', 'sadness', 'happiness', 'fear', 'fear', 'neutral', 'happiness', 'sadness', 'happiness', 'happiness', 'happiness', 'neutral', 'love', 'fear', 'fear', 'sadness', 'fear', 'fear', 'sadness', 'fear', 'fear', 'fear', 'sadness', 'happiness', 'happiness', 'sadness', 'neutral', 'fear', 'sadness', 'neutral', 'fear', 'neutral', 'happiness', 'happiness', 'neutral', 'happiness', 'neutral', 'neutral', 'happiness', 'happiness', 'fear', 'sadness', 'sadness', 'neutral', 'happiness', 'neutral', 'happiness', 'neutral', 'fear', 'neutral', 'neutral', 'happiness', 'happiness', 'neutral', 'happiness', 'sadness', 'happiness', 'happiness', 'fear', 'fear', 'sadness', 'happiness', 'neutral', 'anger', 'sadness', 'sadness', 'neutral', 'sadness', 'fear', 'happiness', 'happiness', 'neutral', 'happiness', 'neutral', 'fear', 'happiness', 'happiness', 'fear', 'anger', 'happiness', 'fear', 'sadness', 'neutral', 'neutral', 'sadness', 'fear', 'happiness', 'happiness', 'fear', 'fear', 'neutral', 'anger', 'neutral', 'neutral', 'happiness', 'fear', 'neutral', 'fear', 'happiness', 'happiness', 'fear', 'happiness', 'fear', 'happiness', 'fear', 'neutral', 'happiness', 'happiness', 'neutral', 'sadness', 'sadness', 'happiness', 'neutral', 'sadness', 'sadness', 'neutral', 'sadness', 'sadness', 'fear', 'happiness', 'sadness', 'neutral', 'sadness', 'fear', 'fear', 'happiness', 'happiness', 'happiness', 'sadness', 'sadness', 'happiness', 'fear', 'neutral', 'love', 'fear', 'happiness', 'sadness', 'fear', 'neutral', 'sadness', 'sadness', 'neutral', 'sadness', 'neutral', 'neutral', 'happiness', 'happiness', 'happiness', 'happiness', 'happiness', 'neutral', 'happiness', 'happiness', 'happiness', 'happiness', 'fear', 'neutral', 'neutral', 'sadness', 'fear', 'sadness', 'happiness', 'neutral', 'happiness', 'fear', 'sadness', 'anger', 'happiness', 'fear', 'sadness', 'happiness', 'neutral', 'happiness', 'happiness', 'neutral', 'neutral', 'happiness', 'happiness', 'sadness', 'anger', 'sadness', 'fear', 'neutral', 'happiness', 'neutral', 'neutral', 'happiness', 'neutral', 'happiness', 'fear', 'fear', 'neutral', 'happiness', 'neutral', 'fear', 'neutral', 'happiness', 'sadness', 'happiness', 'sadness', 'fear', 'fear', 'neutral', 'happiness', 'sadness', 'sadness', 'neutral', 'neutral', 'happiness', 'neutral', 'neutral', 'happiness', 'happiness', 'neutral', 'happiness', 'fear', 'neutral', 'happiness', 'sadness', 'sadness', 'sadness', 'love', 'happiness', 'sadness', 'happiness', 'neutral', 'sadness', 'happiness', 'happiness', 'happiness', 'happiness', 'happiness', 'neutral', 'neutral', 'sadness', 'fear', 'happiness', 'happiness', 'neutral', 'neutral', 'neutral', 'sadness', 'sadness', 'sadness', 'happiness', 'neutral', 'neutral', 'sadness', 'anger', 'sadness', 'neutral', 'happiness', 'sadness', 'neutral', 'sadness', 'neutral', 'happiness', 'happiness', 'sadness', 'sadness', 'happiness', 'sadness', 'sadness', 'fear', 'neutral', 'happiness', 'sadness', 'fear', 'happiness', 'sadness', 'happiness', 'neutral', 'neutral', 'neutral', 'neutral', 'happiness', 'fear', 'sadness', 'sadness', 'happiness', 'fear', 'happiness', 'happiness', 'sadness', 'neutral', 'fear', 'happiness', 'sadness', 'fear', 'fear', 'neutral', 'neutral', 'fear', 'fear', 'neutral', 'neutral', 'fear', 'happiness', 'fear', 'neutral', 'fear', 'happiness', 'happiness', 'fear', 'fear', 'neutral', 'fear', 'sadness', 'neutral', 'neutral', 'neutral', 'sadness', 'neutral', 'happiness', 'fear', 'sadness', 'fear', 'fear', 'happiness', 'sadness', 'neutral', 'sadness', 'neutral', 'happiness', 'happiness', 'happiness', 'fear', 'neutral', 'fear', 'fear', 'happiness', 'neutral', 'neutral', 'happiness', 'happiness', 'happiness', 'neutral', 'neutral', 'happiness', 'sadness', 'happiness', 'fear', 'neutral', 'neutral', 'sadness', 'sadness', 'neutral', 'neutral', 'sadness', 'sadness', 'happiness', 'sadness', 'happiness', 'neutral', 'fear', 'neutral', 'neutral', 'sadness', 'sadness', 'neutral', 'fear', 'neutral', 'sadness', 'fear', 'fear', 'neutral', 'happiness', 'happiness', 'sadness', 'fear', 'fear', 'neutral', 'sadness', 'neutral', 'fear', 'anger', 'fear', 'happiness', 'happiness', 'happiness', 'love', 'fear', 'sadness', 'fear', 'happiness', 'fear', 'neutral', 'sadness', 'fear', 'fear', 'fear', 'happiness', 'happiness', 'sadness', 'fear', 'happiness', 'fear', 'anger', 'neutral', 'sadness', 'neutral', 'neutral', 'happiness', 'fear', 'happiness', 'sadness', 'fear', 'fear', 'sadness', 'fear', 'fear', 'sadness', 'neutral', 'fear', 'neutral', 'happiness', 'sadness', 'fear', 'happiness', 'fear', 'fear', 'neutral', 'neutral', 'happiness', 'neutral', 'happiness', 'sadness', 'fear', 'neutral', 'fear', 'neutral', 'happiness', 'fear', 'fear', 'sadness', 'fear', 'sadness', 'anger', 'fear', 'neutral', 'sadness', 'fear', 'sadness', 'sadness', 'sadness', 'anger', 'happiness', 'neutral', 'fear', 'neutral', 'neutral', 'neutral', 'neutral', 'fear', 'fear', 'neutral', 'neutral', 'fear', 'happiness', 'neutral', 'sadness', 'sadness', 'sadness', 'neutral', 'anger', 'sadness', 'happiness', 'neutral', 'neutral', 'sadness', 'fear', 'sadness', 'neutral', 'happiness', 'neutral', 'happiness', 'fear', 'fear', 'sadness', 'sadness', 'fear', 'happiness', 'fear', 'fear', 'happiness', 'fear', 'neutral', 'neutral', 'fear', 'neutral', 'sadness', 'neutral', 'happiness', 'neutral', 'happiness', 'sadness', 'happiness', 'happiness', 'neutral', 'fear', 'neutral', 'sadness', 'happiness', 'happiness', 'neutral', 'sadness', 'neutral', 'sadness', 'happiness', 'happiness', 'happiness', 'fear', 'fear', 'happiness', 'anger', 'happiness', 'neutral', 'fear', 'fear', 'neutral', 'sadness', 'happiness', 'neutral', 'sadness', 'neutral', 'neutral', 'neutral', 'neutral', 'neutral', 'sadness', 'neutral', 'neutral', 'fear', 'fear', 'happiness', 'neutral', 'fear', 'happiness', 'neutral', 'happiness', 'happiness', 'sadness', 'happiness', 'love', 'sadness', 'fear', 'neutral', 'happiness', 'neutral', 'fear', 'neutral', 'sadness', 'happiness', 'happiness', 'neutral', 'sadness', 'neutral', 'neutral', 'neutral', 'fear', 'happiness', 'happiness', 'fear', 'sadness', 'happiness', 'happiness', 'neutral', 'happiness', 'fear', 'fear', 'fear', 'fear', 'sadness', 'anger', 'anger', 'fear', 'neutral', 'happiness', 'neutral', 'love', 'fear', 'happiness', 'happiness', 'fear', 'neutral', 'anger', 'sadness', 'anger', 'neutral', 'happiness', 'neutral', 'neutral', 'happiness', 'neutral', 'neutral', 'fear', 'fear', 'happiness', 'sadness', 'anger', 'neutral', 'happiness', 'neutral', 'happiness', 'neutral', 'fear', 'fear', 'sadness', 'neutral', 'neutral', 'fear', 'happiness', 'neutral', 'fear', 'fear', 'sadness', 'happiness', 'neutral', 'neutral', 'fear', 'neutral', 'fear', 'sadness', 'anger', 'love', 'neutral', 'neutral', 'happiness', 'neutral', 'happiness', 'neutral', 'sadness', 'neutral', 'fear', 'fear', 'sadness', 'happiness', 'sadness', 'fear', 'neutral', 'fear', 'happiness', 'happiness', 'happiness', 'fear', 'fear', 'anger', 'sadness', 'happiness', 'sadness', 'neutral', 'happiness', 'neutral', 'happiness', 'neutral', 'sadness', 'happiness', 'neutral', 'happiness', 'happiness', 'neutral', 'neutral', 'neutral', 'sadness', 'neutral', 'happiness', 'fear', 'happiness', 'happiness', 'neutral', 'neutral', 'fear', 'neutral', 'sadness', 'happiness', 'happiness', 'sadness', 'fear', 'surprise', 'fear', 'neutral', 'neutral', 'fear', 'fear', 'sadness', 'happiness', 'sadness', 'neutral', 'happiness', 'sadness', 'neutral', 'neutral', 'sadness', 'neutral', 'happiness', 'happiness', 'neutral', 'neutral', 'fear', 'fear', 'fear', 'happiness', 'neutral', 'happiness', 'fear', 'neutral', 'happiness', 'happiness', 'happiness', 'fear', 'happiness', 'happiness', 'sadness', 'neutral', 'fear', 'sadness', 'surprise', 'sadness', 'neutral', 'neutral', 'neutral', 'happiness', 'anger', 'happiness', 'fear', 'neutral', 'sadness', 'fear', 'fear', 'sadness', 'sadness', 'neutral', 'fear', 'fear', 'fear', 'sadness', 'fear', 'fear', 'neutral', 'sadness', 'fear', 'fear', 'neutral', 'sadness', 'happiness', 'sadness', 'sadness', 'happiness', 'happiness', 'neutral', 'sadness', 'fear', 'neutral', 'fear', 'sadness', 'sadness', 'fear', 'neutral', 'happiness', 'fear', 'neutral', 'happiness', 'neutral', 'happiness', 'neutral', 'happiness', 'neutral', 'fear', 'happiness', 'happiness', 'happiness', 'happiness', 'fear', 'happiness', 'happiness', 'happiness', 'fear', 'neutral', 'fear', 'sadness', 'happiness', 'happiness', 'fear', 'happiness', 'neutral', 'sadness', 'happiness', 'sadness', 'sadness', 'neutral', 'happiness', 'happiness', 'fear', 'sadness', 'happiness', 'neutral', 'neutral', 'sadness', 'fear', 'happiness', 'fear', 'fear', 'sadness', 'sadness', 'sadness', 'happiness', 'sadness', 'sadness', 'happiness', 'sadness', 'happiness', 'fear', 'happiness', 'happiness', 'sadness', 'happiness', 'fear', 'sadness', 'neutral', 'fear', 'happiness', 'happiness', 'sadness', 'sadness', 'fear', 'happiness', 'fear', 'fear', 'surprise', 'happiness', 'happiness', 'sadness', 'happiness', 'surprise', 'sadness', 'fear', 'happiness', 'sadness', 'neutral', 'fear', 'neutral', 'sadness', 'fear', 'fear', 'fear', 'sadness', 'fear', 'neutral', 'sadness', 'neutral', 'fear', 'happiness', 'happiness', 'fear', 'neutral', 'fear', 'sadness', 'fear', 'happiness', 'fear', 'love', 'fear', 'fear', 'neutral', 'fear', 'neutral', 'surprise', 'happiness', 'neutral', 'fear', 'fear', 'neutral', 'neutral', 'happiness', 'happiness', 'sadness', 'neutral', 'neutral', 'fear', 'happiness', 'happiness', 'happiness', 'happiness', 'neutral', 'fear', 'fear', 'sadness', 'fear', 'happiness', 'fear', 'happiness', 'happiness', 'anger', 'neutral', 'fear', 'sadness', 'neutral', 'neutral', 'neutral', 'happiness', 'sadness', 'neutral', 'neutral', 'fear', 'fear', 'sadness', 'happiness', 'sadness', 'happiness', 'neutral', 'sadness', 'fear', 'neutral', 'neutral', 'surprise', 'happiness', 'happiness', 'fear', 'happiness', 'sadness', 'neutral', 'neutral', 'anger', 'fear', 'happiness', 'fear', 'happiness', 'happiness', 'neutral', 'happiness', 'fear', 'happiness', 'fear', 'fear', 'happiness', 'happiness', 'happiness', 'sadness', 'happiness', 'sadness', 'fear', 'sadness', 'neutral', 'neutral', 'neutral', 'happiness', 'happiness', 'sadness', 'fear', 'neutral', 'sadness', 'neutral', 'fear', 'neutral', 'fear', 'sadness', 'neutral', 'neutral', 'happiness', 'neutral', 'fear', 'sadness', 'fear', 'happiness', 'neutral', 'sadness', 'sadness', 'happiness', 'sadness', 'neutral', 'sadness', 'happiness', 'sadness', 'sadness', 'neutral', 'neutral', 'happiness', 'sadness', 'sadness', 'neutral', 'neutral', 'anger', 'sadness', 'sadness', 'fear', 'happiness', 'anger', 'sadness', 'happiness', 'sadness', 'neutral', 'neutral', 'neutral', 'happiness', 'fear', 'happiness', 'sadness', 'fear', 'fear', 'fear', 'fear', 'neutral', 'anger', 'happiness', 'neutral', 'neutral', 'fear', 'happiness', 'neutral', 'sadness', 'happiness', 'happiness', 'neutral', 'neutral', 'fear', 'neutral', 'neutral', 'happiness', 'neutral', 'sadness', 'neutral', 'happiness', 'happiness', 'happiness', 'fear', 'sadness', 'neutral', 'happiness', 'anger', 'sadness', 'sadness', 'happiness', 'neutral', 'sadness', 'surprise', 'neutral', 'neutral', 'fear', 'sadness', 'happiness', 'sadness', 'sadness', 'fear', 'sadness', 'happiness', 'fear', 'fear', 'fear', 'neutral', 'neutral', 'sadness', 'fear', 'sadness', 'fear', 'neutral', 'fear', 'fear', 'neutral', 'happiness', 'happiness', 'neutral', 'happiness', 'happiness', 'neutral', 'neutral', 'neutral', 'neutral', 'sadness', 'anger', 'neutral', 'neutral', 'sadness', 'sadness', 'fear', 'fear', 'sadness', 'sadness', 'sadness', 'love', 'neutral', 'fear', 'happiness', 'sadness', 'sadness', 'happiness', 'neutral', 'sadness', 'happiness', 'sadness', 'fear', 'happiness', 'neutral', 'fear', 'surprise', 'fear', 'sadness', 'happiness', 'happiness', 'fear', 'happiness', 'neutral', 'happiness', 'fear', 'sadness', 'neutral', 'happiness', 'neutral', 'neutral', 'happiness', 'anger', 'neutral', 'happiness', 'anger', 'anger', 'happiness', 'fear', 'fear', 'neutral', 'happiness', 'neutral', 'happiness', 'fear', 'fear', 'fear', 'fear', 'happiness', 'love', 'happiness', 'fear', 'fear', 'neutral', 'happiness', 'sadness', 'fear', 'sadness', 'fear', 'neutral', 'happiness', 'happiness', 'neutral', 'sadness', 'sadness', 'anger', 'happiness', 'neutral', 'neutral', 'happiness', 'neutral', 'happiness', 'sadness', 'happiness', 'sadness', 'sadness', 'sadness', 'sadness', 'happiness', 'happiness', 'happiness', 'happiness', 'fear', 'happiness', 'fear', 'happiness', 'neutral', 'sadness', 'happiness', 'sadness', 'neutral', 'neutral', 'sadness', 'fear', 'neutral', 'sadness', 'fear', 'fear', 'neutral', 'neutral', 'fear', 'neutral', 'happiness', 'neutral', 'sadness', 'neutral', 'fear', 'neutral', 'fear', 'happiness', 'happiness', 'neutral', 'neutral', 'happiness', 'happiness', 'happiness', 'neutral', 'neutral', 'happiness', 'fear', 'happiness', 'fear', 'neutral', 'neutral', 'neutral', 'neutral', 'neutral', 'happiness', 'neutral', 'neutral', 'neutral', 'neutral', 'neutral', 'happiness', 'happiness', 'fear', 'anger', 'happiness', 'happiness', 'love', 'sadness', 'neutral', 'happiness', 'sadness', 'happiness', 'happiness', 'neutral', 'neutral', 'sadness', 'sadness', 'neutral', 'happiness', 'neutral', 'happiness', 'fear', 'neutral', 'neutral', 'neutral', 'sadness', 'neutral', 'surprise', 'fear', 'fear', 'fear', 'fear', 'neutral', 'fear', 'sadness', 'sadness', 'fear', 'neutral', 'happiness', 'happiness', 'sadness', 'neutral', 'fear', 'fear', 'neutral', 'happiness', 'happiness', 'neutral', 'neutral', 'neutral', 'fear', 'sadness', 'neutral', 'fear', 'anger', 'fear', 'happiness', 'happiness', 'happiness', 'sadness', 'happiness', 'fear', 'happiness', 'sadness', 'neutral', 'fear', 'happiness', 'fear', 'happiness', 'happiness', 'happiness', 'anger', 'sadness', 'neutral', 'fear', 'fear', 'sadness', 'sadness', 'happiness', 'fear', 'sadness', 'neutral', 'sadness', 'happiness', 'happiness', 'happiness', 'fear', 'neutral', 'neutral', 'neutral', 'happiness', 'happiness', 'neutral', 'happiness', 'sadness', 'surprise', 'happiness', 'sadness', 'fear', 'happiness', 'neutral', 'sadness', 'neutral', 'fear', 'surprise', 'sadness', 'happiness', 'fear', 'happiness', 'neutral', 'neutral', 'neutral', 'neutral', 'fear', 'sadness', 'happiness', 'sadness', 'happiness', 'happiness', 'happiness', 'neutral', 'neutral', 'neutral', 'neutral', 'neutral', 'fear', 'sadness', 'fear', 'neutral', 'sadness', 'neutral', 'happiness', 'happiness', 'anger', 'love', 'sadness', 'happiness', 'happiness', 'neutral', 'fear', 'neutral', 'neutral', 'happiness', 'sadness', 'fear', 'neutral', 'neutral', 'neutral', 'neutral', 'fear', 'neutral', 'fear', 'happiness', 'sadness', 'neutral', 'neutral', 'happiness', 'anger', 'sadness', 'happiness', 'happiness', 'happiness', 'fear', 'neutral', 'sadness', 'fear', 'neutral', 'neutral', 'happiness', 'neutral', 'sadness', 'neutral', 'anger', 'happiness', 'fear', 'sadness', 'happiness', 'happiness', 'happiness', 'neutral', 'fear', 'happiness', 'neutral', 'neutral', 'fear', 'fear', 'neutral', 'fear', 'neutral', 'sadness', 'neutral', 'happiness', 'neutral', 'sadness', 'fear', 'neutral', 'fear', 'fear', 'neutral', 'fear', 'fear', 'happiness', 'happiness', 'anger', 'fear', 'fear', 'sadness', 'fear', 'neutral', 'happiness', 'sadness', 'fear', 'anger', 'fear', 'sadness', 'sadness', 'fear', 'fear', 'happiness', 'happiness', 'fear', 'fear', 'neutral', 'sadness', 'neutral', 'fear', 'fear', 'neutral', 'fear', 'happiness', 'happiness', 'fear', 'fear', 'neutral', 'fear', 'fear', 'happiness', 'happiness', 'neutral', 'fear', 'happiness', 'happiness', 'neutral', 'happiness', 'sadness', 'fear', 'fear', 'neutral', 'sadness', 'fear', 'happiness', 'fear', 'happiness', 'happiness', 'neutral', 'sadness', 'fear', 'neutral', 'fear', 'happiness', 'happiness', 'fear', 'happiness', 'happiness', 'happiness', 'fear', 'happiness', 'fear', 'neutral', 'happiness', 'happiness', 'happiness', 'happiness', 'sadness', 'sadness', 'happiness', 'neutral', 'fear', 'neutral', 'neutral', 'fear', 'fear', 'happiness', 'sadness', 'neutral', 'sadness', 'sadness', 'neutral', 'sadness', 'happiness', 'sadness', 'anger', 'fear', 'happiness', 'neutral', 'fear', 'sadness', 'sadness', 'fear', 'sadness', 'sadness', 'neutral', 'happiness', 'happiness', 'sadness', 'neutral', 'fear', 'fear', 'fear', 'fear', 'neutral', 'neutral', 'sadness', 'fear', 'happiness', 'neutral', 'fear', 'neutral', 'sadness', 'fear', 'neutral', 'fear', 'neutral', 'fear', 'happiness', 'fear', 'neutral', 'sadness', 'neutral', 'sadness', 'sadness', 'sadness', 'sadness', 'sadness', 'neutral', 'happiness', 'sadness', 'sadness', 'happiness', 'happiness', 'neutral', 'happiness', 'sadness', 'neutral', 'neutral', 'happiness', 'neutral', 'happiness', 'neutral', 'fear', 'fear', 'sadness', 'neutral', 'happiness', 'happiness', 'neutral', 'fear', 'happiness', 'anger', 'fear', 'neutral', 'neutral', 'anger', 'sadness', 'neutral', 'sadness', 'neutral', 'neutral', 'sadness', 'sadness', 'fear', 'happiness', 'sadness', 'fear', 'sadness', 'fear', 'fear', 'happiness', 'neutral', 'happiness', 'neutral', 'happiness', 'happiness', 'sadness', 'fear', 'fear', 'happiness', 'neutral', 'happiness', 'sadness', 'sadness', 'sadness', 'anger', 'fear', 'neutral', 'neutral', 'neutral', 'neutral', 'neutral', 'happiness', 'fear', 'neutral', 'happiness', 'fear', 'neutral', 'sadness', 'neutral', 'fear', 'sadness', 'sadness', 'neutral', 'sadness', 'sadness', 'fear', 'sadness', 'neutral', 'sadness', 'happiness', 'sadness', 'neutral', 'anger', 'happiness', 'happiness', 'fear', 'sadness', 'fear', 'happiness', 'happiness', 'happiness', 'neutral', 'neutral', 'surprise', 'sadness', 'fear', 'neutral', 'happiness', 'fear', 'neutral', 'fear', 'happiness', 'happiness', 'fear', 'neutral', 'sadness', 'neutral', 'neutral', 'sadness', 'fear', 'fear', 'fear', 'neutral', 'neutral', 'sadness', 'neutral', 'sadness', 'neutral', 'fear', 'sadness', 'happiness', 'happiness', 'neutral', 'fear', 'fear', 'happiness', 'fear', 'sadness', 'fear', 'fear', 'fear', 'sadness', 'fear', 'happiness', 'neutral', 'fear', 'neutral', 'neutral', 'neutral', 'happiness', 'fear', 'love', 'fear', 'fear', 'happiness', 'neutral', 'fear', 'fear', 'fear', 'fear', 'neutral', 'sadness', 'neutral', 'sadness', 'neutral', 'happiness', 'happiness', 'neutral', 'fear', 'neutral', 'neutral', 'fear', 'fear', 'happiness', 'happiness', 'neutral', 'happiness', 'happiness', 'fear', 'sadness', 'happiness', 'neutral', 'happiness', 'fear', 'fear', 'happiness', 'fear', 'neutral', 'fear', 'happiness', 'fear', 'fear', 'happiness', 'happiness', 'fear', 'neutral', 'fear', 'neutral', 'fear', 'happiness', 'neutral', 'neutral', 'happiness', 'neutral', 'fear', 'neutral', 'neutral', 'fear', 'happiness', 'sadness', 'happiness', 'happiness', 'anger', 'happiness', 'neutral', 'fear', 'neutral', 'happiness', 'neutral', 'neutral', 'sadness', 'sadness', 'fear', 'sadness', 'happiness', 'fear', 'fear', 'neutral', 'neutral', 'happiness', 'sadness', 'happiness', 'neutral', 'happiness', 'happiness', 'neutral', 'fear', 'neutral', 'happiness', 'happiness', 'fear', 'happiness', 'fear', 'sadness', 'happiness', 'neutral', 'sadness', 'happiness', 'neutral', 'happiness', 'neutral', 'neutral', 'anger', 'fear', 'neutral', 'fear', 'sadness', 'neutral', 'neutral', 'sadness', 'neutral', 'sadness', 'anger', 'neutral', 'sadness', 'happiness', 'neutral', 'happiness', 'fear', 'happiness', 'happiness', 'neutral', 'happiness', 'happiness', 'neutral', 'sadness', 'fear', 'neutral', 'neutral', 'fear', 'sadness', 'sadness', 'happiness', 'fear', 'sadness', 'happiness', 'happiness', 'neutral', 'neutral', 'fear', 'neutral', 'sadness', 'sadness', 'neutral', 'happiness', 'fear', 'sadness', 'fear', 'happiness', 'happiness', 'fear', 'happiness', 'neutral', 'fear', 'happiness', 'fear', 'happiness', 'happiness', 'happiness', 'sadness', 'happiness', 'happiness', 'fear', 'fear', 'anger', 'neutral', 'neutral', 'happiness', 'fear', 'fear', 'happiness', 'neutral', 'sadness', 'fear', 'surprise', 'happiness', 'happiness', 'fear', 'happiness', 'sadness', 'fear', 'sadness', 'neutral', 'sadness', 'neutral', 'fear', 'happiness', 'sadness', 'neutral', 'fear', 'sadness', 'neutral', 'neutral', 'neutral', 'neutral', 'fear', 'fear', 'neutral', 'neutral', 'neutral', 'neutral', 'neutral', 'neutral', 'neutral', 'neutral', 'fear', 'happiness', 'fear', 'neutral', 'sadness', 'happiness', 'sadness', 'happiness', 'sadness', 'sadness', 'happiness', 'fear', 'neutral', 'fear', 'happiness', 'sadness', 'happiness', 'happiness', 'fear', 'neutral', 'sadness', 'happiness', 'fear', 'fear', 'fear', 'sadness', 'fear', 'anger', 'sadness', 'neutral', 'fear', 'neutral', 'happiness', 'fear', 'happiness', 'fear', 'fear', 'neutral', 'neutral', 'neutral', 'happiness', 'neutral', 'neutral', 'neutral', 'neutral', 'neutral', 'fear', 'surprise', 'neutral', 'fear', 'fear', 'neutral', 'neutral', 'neutral', 'neutral', 'neutral', 'neutral', 'neutral', 'love', 'neutral', 'anger', 'sadness', 'fear', 'happiness', 'happiness', 'neutral', 'anger', 'neutral', 'fear', 'fear', 'happiness', 'fear', 'happiness', 'neutral', 'neutral', 'neutral', 'happiness', 'fear', 'neutral', 'neutral', 'sadness', 'neutral', 'sadness', 'happiness', 'neutral', 'fear', 'neutral', 'sadness', 'happiness', 'sadness', 'neutral', 'neutral', 'neutral', 'fear', 'sadness', 'fear', 'fear', 'fear', 'anger', 'fear', 'happiness', 'neutral', 'sadness', 'fear', 'neutral', 'fear', 'neutral', 'happiness', 'happiness', 'fear', 'neutral', 'happiness', 'fear', 'fear', 'surprise', 'neutral', 'neutral', 'happiness', 'anger', 'happiness', 'fear', 'neutral', 'neutral', 'sadness', 'neutral', 'sadness', 'happiness', 'neutral', 'fear', 'happiness', 'happiness', 'happiness', 'anger', 'sadness', 'neutral', 'fear', 'neutral', 'happiness', 'happiness', 'happiness', 'fear', 'fear', 'sadness', 'happiness', 'fear', 'neutral', 'happiness', 'neutral', 'happiness', 'fear', 'sadness', 'neutral', 'fear', 'sadness', 'neutral', 'fear', 'happiness', 'neutral', 'happiness', 'love', 'happiness', 'fear', 'sadness', 'fear', 'happiness', 'sadness', 'fear', 'fear', 'sadness', 'neutral', 'fear', 'happiness', 'love', 'neutral', 'happiness', 'fear', 'fear', 'happiness', 'sadness', 'surprise', 'neutral', 'sadness', 'neutral', 'sadness', 'sadness', 'neutral', 'neutral', 'neutral', 'fear', 'neutral', 'neutral', 'fear', 'neutral', 'fear', 'anger', 'sadness', 'fear', 'fear', 'fear', 'neutral', 'neutral', 'neutral', 'fear', 'neutral', 'fear', 'neutral', 'neutral', 'neutral', 'fear', 'happiness', 'neutral', 'sadness', 'fear', 'happiness', 'fear', 'fear', 'sadness', 'happiness', 'fear', 'neutral', 'happiness', 'happiness', 'happiness', 'happiness', 'happiness', 'fear', 'fear', 'fear', 'neutral', 'neutral', 'happiness', 'happiness', 'fear', 'sadness', 'fear', 'happiness', 'neutral', 'sadness', 'fear', 'anger', 'sadness', 'neutral', 'neutral', 'happiness', 'fear', 'neutral', 'fear', 'neutral', 'happiness', 'happiness', 'sadness', 'fear', 'happiness', 'neutral', 'sadness', 'happiness', 'neutral', 'love', 'fear', 'happiness', 'sadness', 'sadness', 'happiness', 'sadness', 'anger', 'neutral', 'happiness', 'fear', 'happiness', 'fear', 'happiness', 'happiness', 'neutral', 'fear', 'happiness', 'fear', 'neutral', 'neutral', 'neutral', 'fear', 'neutral', 'sadness', 'happiness', 'neutral', 'neutral', 'happiness', 'happiness', 'anger', 'happiness', 'anger', 'neutral', 'neutral', 'sadness', 'happiness', 'neutral', 'happiness', 'anger', 'fear', 'happiness', 'sadness', 'happiness', 'happiness', 'sadness', 'fear', 'neutral', 'fear', 'happiness', 'neutral', 'happiness', 'fear', 'neutral', 'anger', 'sadness', 'happiness', 'neutral', 'neutral', 'fear', 'fear', 'happiness', 'sadness', 'sadness', 'happiness', 'neutral', 'neutral', 'happiness', 'sadness', 'happiness', 'neutral', 'love', 'fear', 'happiness', 'happiness', 'neutral', 'neutral', 'happiness', 'happiness', 'surprise', 'happiness', 'neutral', 'happiness', 'sadness', 'sadness', 'neutral', 'happiness', 'fear', 'neutral', 'neutral', 'happiness', 'neutral', 'fear', 'happiness', 'happiness', 'fear', 'happiness', 'fear', 'happiness', 'fear', 'sadness', 'happiness', 'neutral', 'neutral', 'neutral', 'fear', 'happiness', 'happiness', 'fear', 'happiness', 'neutral', 'fear', 'neutral', 'fear', 'neutral', 'fear', 'neutral', 'happiness', 'happiness', 'sadness', 'sadness', 'sadness', 'fear', 'happiness', 'happiness', 'sadness', 'neutral', 'neutral', 'fear', 'neutral', 'sadness', 'sadness', 'neutral', 'neutral', 'fear', 'sadness', 'happiness', 'neutral', 'fear', 'happiness', 'sadness', 'fear', 'sadness', 'fear', 'sadness', 'sadness', 'happiness', 'neutral', 'happiness', 'neutral', 'neutral', 'sadness', 'neutral', 'happiness', 'sadness', 'happiness', 'fear', 'sadness', 'neutral', 'happiness', 'fear', 'happiness', 'neutral', 'sadness', 'happiness', 'sadness', 'neutral', 'happiness', 'happiness', 'sadness', 'neutral', 'fear', 'neutral', 'happiness', 'happiness', 'happiness', 'happiness', 'happiness', 'anger', 'neutral', 'happiness', 'sadness', 'sadness', 'happiness', 'neutral', 'happiness', 'happiness', 'sadness', 'neutral', 'happiness', 'sadness', 'neutral', 'neutral', 'sadness', 'happiness', 'fear', 'sadness', 'happiness', 'happiness', 'sadness', 'fear', 'sadness', 'happiness', 'happiness', 'neutral', 'neutral', 'happiness', 'happiness', 'sadness', 'fear', 'neutral', 'happiness', 'happiness', 'sadness', 'sadness', 'fear', 'neutral', 'happiness', 'happiness', 'sadness', 'happiness', 'sadness', 'neutral', 'sadness', 'sadness', 'fear', 'fear', 'neutral', 'happiness', 'neutral', 'neutral', 'happiness', 'sadness', 'fear', 'happiness', 'happiness', 'sadness', 'fear', 'neutral', 'sadness', 'neutral', 'fear', 'neutral', 'sadness', 'sadness', 'sadness', 'fear', 'neutral', 'neutral', 'sadness', 'happiness', 'happiness', 'neutral', 'fear', 'neutral', 'sadness', 'neutral', 'happiness', 'happiness', 'fear', 'happiness', 'fear', 'sadness', 'sadness', 'sadness', 'fear', 'neutral', 'sadness', 'fear', 'happiness', 'neutral', 'neutral', 'sadness', 'fear', 'neutral', 'neutral', 'sadness', 'fear', 'sadness', 'fear', 'sadness', 'sadness', 'happiness', 'sadness', 'neutral', 'happiness', 'neutral', 'fear', 'neutral', 'neutral', 'sadness', 'neutral', 'happiness', 'fear', 'neutral', 'fear', 'fear', 'neutral', 'happiness', 'happiness', 'neutral', 'happiness', 'neutral', 'fear', 'anger', 'neutral', 'neutral', 'neutral', 'happiness', 'happiness', 'sadness', 'happiness', 'neutral', 'sadness', 'fear', 'happiness', 'sadness', 'fear', 'happiness', 'happiness', 'anger', 'neutral', 'neutral', 'neutral', 'happiness', 'neutral', 'sadness', 'neutral', 'fear', 'happiness', 'happiness', 'fear', 'happiness', 'happiness', 'sadness', 'fear', 'fear', 'neutral', 'fear', 'fear', 'happiness', 'happiness', 'happiness', 'neutral', 'happiness', 'happiness', 'fear', 'happiness', 'fear', 'fear', 'sadness', 'fear', 'happiness', 'sadness', 'neutral', 'happiness', 'happiness', 'fear', 'neutral', 'sadness', 'happiness', 'fear', 'happiness', 'sadness', 'neutral', 'sadness', 'sadness', 'surprise', 'neutral', 'fear', 'sadness', 'sadness', 'happiness', 'sadness', 'neutral', 'sadness', 'neutral', 'happiness', 'happiness', 'happiness', 'neutral', 'happiness', 'happiness', 'fear', 'sadness', 'fear', 'happiness', 'sadness', 'sadness', 'happiness', 'happiness', 'happiness', 'happiness', 'sadness', 'happiness', 'neutral', 'neutral', 'happiness', 'neutral', 'fear', 'fear', 'fear', 'neutral', 'fear', 'fear', 'sadness', 'fear', 'neutral', 'neutral', 'neutral', 'sadness', 'sadness', 'neutral', 'neutral', 'happiness', 'happiness', 'neutral', 'sadness', 'neutral', 'surprise', 'neutral', 'happiness', 'neutral', 'neutral', 'neutral', 'happiness', 'anger', 'neutral', 'fear', 'happiness', 'neutral', 'neutral', 'fear', 'sadness', 'sadness', 'anger', 'happiness', 'happiness', 'fear', 'happiness', 'neutral', 'surprise', 'sadness', 'happiness', 'sadness', 'happiness', 'fear', 'neutral', 'neutral', 'neutral', 'fear', 'sadness', 'fear', 'fear', 'fear', 'neutral', 'anger', 'happiness', 'neutral', 'neutral', 'neutral', 'sadness', 'happiness', 'happiness', 'neutral', 'fear', 'neutral', 'sadness', 'fear', 'happiness', 'happiness', 'sadness', 'neutral', 'sadness', 'love', 'fear', 'sadness', 'sadness', 'fear', 'sadness', 'happiness', 'happiness', 'sadness', 'neutral', 'anger', 'happiness', 'happiness', 'happiness', 'fear', 'sadness', 'sadness', 'neutral', 'fear', 'fear', 'happiness', 'fear', 'happiness', 'fear', 'sadness', 'happiness', 'fear', 'fear', 'neutral', 'happiness', 'sadness', 'fear', 'neutral', 'sadness', 'fear', 'sadness', 'sadness', 'happiness', 'neutral', 'happiness', 'sadness', 'sadness', 'neutral', 'fear', 'sadness', 'neutral', 'sadness', 'happiness', 'neutral', 'happiness', 'happiness', 'happiness', 'fear', 'happiness', 'happiness', 'fear', 'fear', 'happiness', 'fear', 'neutral', 'sadness', 'fear', 'fear', 'neutral', 'happiness', 'fear', 'sadness', 'happiness', 'fear', 'fear', 'sadness', 'sadness', 'happiness', 'fear', 'fear', 'happiness', 'anger', 'neutral', 'fear', 'sadness', 'sadness', 'anger', 'sadness', 'anger', 'sadness', 'happiness', 'fear', 'sadness', 'sadness', 'happiness', 'fear', 'happiness', 'sadness', 'neutral', 'neutral', 'neutral', 'happiness', 'happiness', 'sadness', 'happiness', 'happiness', 'fear', 'neutral', 'sadness', 'neutral', 'neutral', 'neutral', 'neutral', 'fear', 'fear', 'neutral', 'fear', 'fear', 'happiness', 'happiness', 'fear', 'neutral', 'fear', 'neutral', 'happiness', 'neutral', 'happiness', 'happiness', 'happiness', 'neutral', 'fear', 'sadness', 'fear', 'fear', 'fear', 'happiness', 'neutral', 'neutral', 'fear', 'sadness', 'happiness', 'happiness', 'fear', 'happiness', 'neutral', 'sadness', 'sadness', 'happiness', 'neutral', 'neutral', 'fear', 'happiness', 'neutral', 'fear', 'fear', 'happiness', 'fear', 'fear', 'happiness', 'fear', 'happiness', 'neutral', 'neutral', 'neutral', 'sadness', 'anger', 'happiness', 'happiness', 'sadness', 'sadness', 'happiness', 'neutral', 'fear', 'neutral', 'sadness', 'happiness', 'happiness', 'fear', 'fear', 'neutral', 'fear', 'sadness', 'fear', 'sadness', 'happiness', 'neutral', 'sadness', 'fear', 'sadness', 'happiness', 'happiness', 'happiness', 'fear', 'fear', 'neutral', 'neutral', 'neutral', 'fear', 'fear', 'neutral', 'neutral', 'neutral', 'happiness', 'fear', 'happiness', 'happiness', 'happiness', 'happiness', 'happiness', 'neutral', 'happiness', 'fear', 'sadness', 'sadness', 'neutral', 'sadness', 'neutral', 'sadness', 'fear', 'neutral', 'surprise', 'neutral', 'sadness', 'surprise', 'happiness', 'happiness', 'happiness', 'neutral', 'sadness', 'happiness', 'fear', 'fear', 'neutral', 'fear', 'sadness', 'sadness', 'happiness', 'sadness', 'fear', 'happiness', 'happiness', 'sadness', 'happiness', 'fear', 'sadness', 'neutral', 'sadness', 'fear', 'fear', 'happiness', 'neutral', 'fear', 'happiness', 'fear', 'happiness', 'fear', 'neutral', 'fear', 'neutral', 'neutral', 'fear', 'fear', 'sadness', 'fear', 'neutral', 'neutral', 'sadness', 'happiness', 'neutral', 'neutral', 'fear', 'happiness', 'happiness', 'sadness', 'fear', 'happiness', 'happiness', 'neutral', 'sadness', 'fear', 'fear', 'happiness', 'neutral', 'neutral', 'neutral', 'fear', 'happiness', 'fear', 'neutral', 'sadness', 'sadness', 'fear', 'neutral', 'happiness', 'neutral', 'neutral', 'sadness', 'sadness', 'sadness', 'happiness', 'fear', 'happiness', 'sadness', 'sadness', 'neutral', 'happiness', 'neutral', 'neutral', 'fear', 'neutral', 'fear', 'neutral', 'happiness', 'neutral', 'happiness', 'neutral', 'sadness', 'neutral', 'happiness', 'anger', 'happiness', 'fear', 'happiness', 'neutral', 'neutral', 'neutral', 'happiness', 'sadness', 'happiness', 'sadness', 'happiness', 'sadness', 'sadness', 'fear', 'fear', 'neutral', 'happiness', 'neutral', 'neutral', 'sadness', 'happiness', 'fear', 'neutral', 'neutral', 'happiness', 'neutral', 'fear', 'sadness', 'happiness', 'anger', 'neutral', 'happiness', 'happiness', 'sadness', 'sadness', 'happiness', 'happiness', 'happiness', 'happiness', 'happiness', 'fear', 'happiness', 'happiness', 'fear', 'neutral', 'fear', 'happiness', 'sadness', 'fear', 'neutral', 'happiness', 'fear', 'fear', 'happiness', 'happiness', 'happiness', 'happiness', 'anger', 'sadness', 'neutral', 'fear', 'fear', 'happiness', 'happiness', 'anger', 'fear', 'fear', 'neutral', 'fear', 'neutral', 'neutral', 'happiness', 'fear', 'anger', 'happiness', 'neutral', 'happiness', 'happiness', 'sadness', 'neutral', 'fear', 'happiness', 'sadness', 'neutral', 'fear', 'happiness', 'sadness', 'happiness', 'fear', 'neutral', 'happiness', 'fear', 'happiness', 'happiness', 'sadness', 'sadness', 'happiness', 'sadness', 'neutral', 'neutral', 'fear', 'neutral', 'sadness', 'neutral', 'sadness', 'fear', 'happiness', 'neutral', 'sadness', 'neutral', 'happiness', 'neutral', 'fear', 'fear', 'surprise', 'fear', 'sadness', 'neutral', 'sadness', 'happiness', 'happiness', 'neutral', 'happiness', 'sadness', 'fear', 'neutral', 'happiness', 'fear', 'neutral', 'happiness', 'neutral', 'surprise', 'happiness', 'happiness', 'happiness', 'neutral', 'happiness', 'fear', 'happiness', 'happiness', 'neutral', 'fear', 'happiness', 'happiness', 'fear', 'neutral', 'neutral', 'neutral', 'sadness', 'fear', 'sadness', 'happiness', 'fear', 'neutral', 'neutral', 'happiness', 'sadness', 'sadness', 'sadness', 'fear', 'fear', 'sadness', 'happiness', 'sadness', 'sadness', 'love', 'neutral', 'neutral', 'fear', 'happiness', 'fear', 'happiness', 'sadness', 'neutral', 'happiness', 'fear', 'happiness', 'happiness', 'sadness', 'fear', 'neutral', 'fear', 'fear', 'happiness', 'fear', 'happiness', 'happiness', 'anger', 'happiness', 'happiness', 'happiness', 'happiness', 'sadness', 'happiness', 'happiness', 'neutral', 'neutral', 'happiness', 'sadness', 'happiness', 'sadness', 'neutral', 'neutral', 'fear', 'fear', 'fear', 'fear', 'fear', 'sadness', 'sadness', 'happiness', 'surprise', 'fear', 'neutral', 'happiness', 'happiness', 'fear', 'neutral', 'fear', 'fear', 'neutral', 'happiness', 'happiness', 'neutral', 'anger', 'happiness', 'fear', 'happiness', 'fear', 'sadness', 'neutral', 'neutral', 'sadness', 'sadness', 'fear', 'sadness', 'happiness', 'neutral', 'neutral', 'fear', 'sadness', 'sadness', 'sadness', 'neutral', 'neutral', 'fear', 'neutral', 'happiness', 'happiness', 'neutral', 'sadness', 'happiness', 'happiness', 'neutral', 'sadness', 'happiness', 'sadness', 'happiness', 'happiness', 'sadness', 'fear', 'happiness', 'neutral', 'neutral', 'fear', 'fear', 'fear', 'sadness', 'fear', 'neutral', 'fear', 'fear', 'neutral', 'neutral', 'sadness', 'neutral', 'fear', 'fear', 'happiness', 'fear', 'sadness', 'anger', 'happiness', 'happiness', 'fear', 'happiness', 'neutral', 'anger', 'sadness', 'happiness', 'sadness', 'neutral', 'neutral', 'sadness', 'happiness', 'fear', 'happiness', 'neutral', 'fear', 'happiness', 'sadness', 'happiness', 'neutral', 'neutral', 'fear', 'fear', 'fear', 'fear', 'neutral', 'anger', 'fear', 'neutral', 'neutral', 'happiness', 'fear', 'fear', 'sadness', 'sadness', 'fear', 'fear', 'sadness', 'happiness', 'neutral', 'happiness', 'happiness', 'neutral', 'fear', 'neutral', 'neutral', 'happiness', 'happiness', 'neutral', 'sadness', 'fear', 'happiness', 'neutral', 'happiness', 'sadness', 'sadness', 'fear', 'neutral', 'neutral', 'happiness', 'surprise', 'happiness', 'happiness', 'fear', 'fear', 'happiness', 'sadness', 'neutral', 'happiness', 'happiness', 'sadness', 'neutral', 'happiness', 'fear', 'neutral', 'anger', 'happiness', 'happiness', 'happiness', 'happiness', 'neutral', 'sadness', 'neutral', 'fear', 'happiness', 'neutral', 'neutral', 'happiness', 'sadness', 'fear', 'anger', 'fear', 'fear', 'happiness', 'happiness', 'happiness', 'happiness', 'fear', 'sadness', 'happiness', 'happiness', 'neutral', 'sadness', 'fear', 'happiness', 'fear', 'fear', 'fear', 'happiness', 'happiness', 'neutral', 'happiness', 'neutral', 'neutral', 'happiness', 'happiness', 'fear', 'fear', 'fear', 'happiness', 'anger', 'neutral', 'fear', 'happiness', 'anger', 'sadness', 'sadness', 'happiness', 'happiness', 'happiness', 'sadness', 'sadness', 'neutral', 'neutral', 'fear', 'fear', 'sadness', 'sadness', 'neutral', 'sadness', 'neutral', 'fear', 'fear', 'neutral', 'fear', 'sadness', 'fear', 'fear', 'anger', 'love', 'happiness', 'happiness', 'neutral', 'happiness', 'fear', 'happiness', 'happiness', 'happiness', 'neutral', 'fear', 'neutral', 'neutral', 'neutral', 'happiness', 'neutral', 'happiness', 'neutral', 'fear', 'fear', 'fear', 'neutral', 'neutral', 'sadness', 'neutral', 'neutral', 'neutral', 'neutral', 'happiness', 'neutral', 'fear', 'happiness', 'fear', 'happiness', 'fear', 'happiness', 'sadness', 'happiness', 'neutral', 'fear', 'neutral', 'neutral', 'sadness', 'neutral', 'fear', 'neutral', 'fear', 'sadness', 'neutral', 'fear', 'neutral', 'sadness', 'neutral', 'happiness', 'happiness', 'happiness', 'happiness', 'fear', 'neutral', 'neutral', 'neutral', 'fear', 'sadness', 'fear', 'sadness', 'love', 'happiness', 'surprise', 'happiness', 'neutral', 'sadness', 'happiness', 'sadness', 'happiness', 'fear', 'happiness', 'neutral', 'happiness', 'happiness', 'neutral', 'happiness', 'happiness', 'happiness', 'fear', 'happiness', 'sadness', 'sadness', 'fear', 'fear', 'happiness', 'sadness', 'fear', 'fear', 'happiness', 'happiness', 'sadness', 'happiness', 'neutral', 'neutral', 'sadness', 'happiness', 'neutral', 'neutral', 'sadness', 'sadness', 'fear', 'sadness', 'neutral', 'neutral', 'fear', 'sadness', 'happiness', 'sadness', 'neutral', 'happiness', 'surprise', 'happiness', 'happiness', 'happiness', 'happiness', 'happiness', 'happiness', 'fear', 'sadness', 'neutral', 'neutral', 'fear', 'fear', 'neutral', 'happiness', 'neutral', 'neutral', 'happiness', 'fear', 'happiness', 'fear', 'fear', 'happiness', 'neutral', 'happiness', 'sadness', 'sadness', 'fear', 'fear', 'happiness', 'happiness', 'sadness', 'sadness', 'fear', 'neutral', 'neutral', 'neutral', 'fear', 'fear', 'fear', 'happiness', 'fear', 'neutral', 'neutral', 'happiness', 'anger', 'sadness', 'neutral', 'neutral', 'fear', 'fear', 'neutral', 'neutral', 'neutral', 'fear', 'neutral', 'fear', 'happiness', 'happiness', 'sadness', 'happiness', 'neutral', 'happiness', 'happiness', 'sadness', 'sadness', 'neutral', 'happiness', 'happiness', 'fear', 'fear', 'neutral', 'fear', 'neutral', 'happiness', 'happiness', 'fear', 'happiness', 'happiness', 'happiness', 'neutral', 'fear', 'happiness', 'happiness', 'sadness', 'happiness', 'fear', 'neutral', 'sadness', 'anger', 'fear', 'neutral', 'neutral', 'neutral', 'happiness', 'happiness', 'neutral', 'sadness', 'love', 'fear', 'neutral', 'fear', 'neutral', 'sadness', 'neutral', 'happiness', 'sadness', 'happiness', 'happiness', 'happiness', 'happiness', 'sadness', 'happiness', 'fear', 'fear', 'neutral', 'sadness', 'sadness', 'sadness', 'sadness', 'neutral', 'neutral', 'sadness', 'surprise', 'neutral', 'fear', 'happiness', 'fear', 'fear', 'happiness', 'fear', 'neutral', 'neutral', 'neutral', 'neutral', 'happiness', 'happiness', 'happiness', 'fear', 'fear', 'fear', 'sadness', 'neutral', 'surprise', 'happiness', 'sadness', 'neutral', 'fear', 'neutral', 'fear', 'neutral', 'happiness', 'neutral', 'sadness', 'neutral', 'neutral', 'fear', 'fear', 'neutral', 'happiness', 'fear', 'happiness', 'happiness', 'happiness', 'happiness', 'neutral', 'happiness', 'fear', 'sadness', 'fear', 'fear', 'fear', 'fear', 'sadness', 'happiness', 'neutral', 'sadness', 'sadness', 'fear', 'fear', 'neutral', 'sadness', 'sadness', 'happiness', 'happiness', 'neutral', 'sadness', 'neutral', 'neutral', 'neutral', 'fear', 'sadness', 'happiness', 'neutral', 'happiness', 'surprise', 'happiness', 'neutral', 'happiness', 'neutral', 'fear', 'neutral', 'fear', 'happiness', 'happiness', 'neutral', 'happiness', 'happiness', 'sadness', 'fear', 'happiness', 'sadness', 'anger', 'fear', 'happiness', 'neutral', 'happiness', 'sadness', 'sadness', 'fear', 'neutral', 'happiness', 'fear', 'neutral', 'happiness', 'neutral', 'sadness', 'sadness', 'fear', 'sadness', 'neutral', 'neutral', 'happiness', 'fear', 'happiness', 'sadness', 'happiness', 'neutral', 'sadness', 'sadness', 'fear', 'happiness', 'fear', 'fear', 'neutral', 'happiness', 'love', 'happiness', 'fear', 'neutral', 'happiness', 'happiness', 'fear', 'happiness', 'neutral', 'fear', 'sadness', 'sadness', 'happiness', 'neutral', 'sadness', 'neutral', 'neutral', 'neutral', 'sadness', 'surprise', 'fear', 'happiness', 'anger', 'sadness', 'anger', 'sadness', 'fear', 'fear', 'neutral', 'happiness', 'love', 'fear', 'fear', 'happiness', 'sadness', 'fear', 'happiness', 'fear', 'sadness', 'fear', 'neutral', 'fear', 'neutral', 'fear', 'sadness', 'sadness', 'happiness', 'fear', 'neutral', 'fear', 'sadness', 'happiness', 'neutral', 'happiness', 'sadness', 'sadness', 'happiness', 'sadness', 'sadness', 'fear', 'sadness', 'happiness', 'fear', 'fear', 'happiness', 'happiness', 'neutral', 'sadness', 'fear', 'happiness', 'neutral', 'neutral', 'happiness', 'fear', 'happiness', 'anger', 'neutral', 'sadness', 'sadness', 'happiness', 'sadness', 'neutral', 'happiness', 'fear', 'sadness', 'fear', 'sadness', 'fear', 'neutral', 'happiness', 'sadness', 'neutral', 'fear', 'sadness', 'fear', 'neutral', 'happiness', 'happiness', 'happiness', 'happiness', 'neutral', 'happiness', 'neutral', 'sadness', 'neutral', 'happiness', 'sadness', 'anger', 'neutral', 'neutral', 'happiness', 'fear', 'neutral', 'fear', 'fear', 'anger', 'neutral', 'neutral', 'happiness', 'happiness', 'neutral', 'neutral', 'fear', 'fear', 'neutral', 'fear', 'happiness', 'sadness', 'fear', 'sadness', 'fear', 'neutral', 'fear', 'happiness', 'neutral', 'sadness', 'fear', 'love', 'happiness', 'happiness', 'sadness', 'happiness', 'fear', 'sadness', 'anger', 'happiness', 'happiness', 'sadness', 'fear', 'fear', 'happiness', 'fear', 'neutral', 'happiness', 'anger', 'fear', 'happiness', 'neutral', 'neutral', 'fear', 'neutral', 'happiness', 'happiness', 'fear', 'neutral', 'fear', 'neutral', 'happiness', 'sadness', 'fear', 'anger', 'happiness', 'sadness', 'fear', 'anger', 'sadness', 'fear', 'happiness', 'fear', 'sadness', 'happiness', 'happiness', 'neutral', 'fear', 'neutral', 'neutral', 'sadness', 'fear', 'neutral', 'happiness', 'fear', 'fear', 'fear', 'neutral', 'fear', 'neutral', 'sadness', 'neutral', 'happiness', 'sadness', 'neutral', 'neutral', 'sadness', 'neutral', 'neutral', 'sadness', 'love', 'sadness', 'neutral', 'sadness', 'happiness', 'sadness', 'fear', 'happiness', 'happiness', 'fear', 'fear', 'love', 'fear', 'neutral', 'fear', 'neutral', 'neutral', 'neutral', 'fear', 'sadness', 'neutral', 'sadness', 'neutral', 'sadness', 'neutral', 'sadness', 'fear', 'anger', 'neutral', 'love', 'fear', 'fear', 'happiness', 'happiness', 'neutral', 'neutral', 'happiness', 'fear', 'fear', 'neutral', 'sadness', 'sadness', 'sadness', 'fear', 'fear', 'happiness', 'happiness', 'neutral', 'happiness', 'neutral', 'sadness', 'neutral', 'anger', 'happiness', 'sadness', 'fear', 'fear', 'happiness', 'neutral', 'fear', 'happiness', 'neutral', 'happiness', 'fear', 'neutral', 'neutral', 'happiness', 'happiness', 'neutral', 'fear', 'neutral', 'happiness', 'sadness', 'sadness', 'neutral', 'happiness', 'fear', 'fear', 'fear', 'happiness', 'fear', 'neutral', 'neutral', 'neutral', 'neutral', 'fear', 'happiness', 'neutral', 'neutral', 'neutral', 'neutral', 'anger', 'fear', 'neutral', 'neutral', 'neutral', 'surprise', 'fear', 'neutral', 'happiness', 'fear', 'happiness', 'neutral', 'neutral', 'fear', 'happiness', 'happiness', 'happiness', 'neutral', 'neutral', 'fear', 'happiness', 'anger', 'neutral', 'fear', 'neutral', 'sadness', 'neutral', 'neutral', 'happiness', 'neutral', 'neutral', 'happiness', 'happiness', 'happiness', 'sadness', 'sadness', 'neutral', 'happiness', 'fear', 'happiness', 'happiness', 'happiness', 'anger', 'happiness', 'neutral', 'fear', 'fear', 'fear', 'fear', 'happiness', 'sadness', 'sadness', 'happiness', 'happiness', 'sadness', 'fear', 'fear', 'happiness', 'happiness', 'neutral', 'happiness', 'sadness', 'happiness', 'neutral', 'love', 'fear', 'neutral', 'neutral', 'happiness', 'fear', 'neutral', 'neutral', 'happiness', 'neutral', 'neutral', 'neutral', 'sadness', 'sadness', 'neutral', 'happiness', 'neutral', 'neutral', 'neutral', 'fear', 'fear', 'happiness', 'happiness', 'fear', 'fear', 'neutral', 'sadness', 'sadness', 'neutral', 'neutral', 'neutral', 'sadness', 'neutral', 'sadness', 'happiness', 'fear', 'happiness', 'happiness', 'sadness', 'fear', 'fear', 'neutral', 'happiness', 'fear', 'neutral', 'happiness', 'fear', 'sadness', 'fear', 'happiness', 'neutral', 'neutral', 'happiness', 'neutral', 'happiness', 'neutral', 'neutral', 'fear', 'happiness', 'sadness', 'sadness', 'fear', 'happiness', 'happiness', 'fear', 'sadness', 'sadness', 'happiness', 'neutral', 'fear', 'happiness', 'sadness', 'sadness', 'happiness', 'fear', 'fear', 'neutral', 'fear', 'neutral', 'neutral', 'happiness', 'neutral', 'neutral', 'happiness', 'sadness', 'fear', 'neutral', 'happiness', 'sadness', 'happiness', 'neutral', 'happiness', 'happiness', 'sadness', 'fear', 'neutral', 'happiness', 'fear', 'fear', 'anger', 'neutral', 'happiness', 'fear', 'fear', 'fear', 'neutral', 'sadness', 'happiness', 'happiness', 'happiness', 'fear', 'happiness', 'sadness', 'fear', 'fear', 'fear', 'neutral', 'neutral', 'fear', 'sadness', 'happiness', 'fear', 'neutral', 'fear', 'fear', 'neutral', 'neutral', 'fear', 'happiness', 'neutral', 'happiness', 'neutral', 'happiness', 'fear', 'fear', 'neutral', 'sadness', 'fear', 'happiness', 'fear', 'happiness', 'sadness', 'happiness', 'neutral', 'sadness', 'fear', 'love', 'happiness', 'neutral', 'anger', 'neutral', 'happiness', 'neutral', 'neutral', 'happiness', 'happiness', 'happiness', 'neutral', 'neutral', 'sadness', 'neutral', 'fear', 'sadness', 'sadness', 'happiness', 'happiness', 'happiness', 'happiness', 'fear', 'neutral', 'happiness', 'neutral', 'neutral', 'neutral', 'fear', 'happiness', 'neutral', 'neutral', 'neutral', 'sadness', 'happiness', 'neutral', 'neutral', 'sadness', 'neutral', 'neutral', 'love', 'fear', 'neutral', 'happiness', 'neutral', 'neutral', 'fear', 'fear', 'sadness', 'sadness', 'sadness', 'fear', 'fear', 'neutral', 'happiness', 'fear', 'neutral', 'neutral', 'fear', 'happiness', 'happiness', 'neutral', 'fear', 'happiness', 'anger', 'happiness', 'neutral', 'neutral', 'neutral', 'surprise', 'neutral', 'fear', 'fear', 'neutral', 'neutral', 'fear', 'sadness', 'happiness', 'happiness', 'sadness', 'happiness', 'fear', 'fear', 'sadness', 'sadness', 'neutral', 'happiness', 'neutral', 'neutral', 'happiness', 'sadness', 'neutral', 'neutral', 'fear', 'fear', 'happiness', 'sadness', 'neutral', 'happiness', 'neutral', 'sadness', 'fear', 'neutral', 'neutral', 'happiness', 'fear', 'anger', 'happiness', 'happiness', 'sadness', 'neutral', 'happiness', 'happiness', 'neutral', 'happiness', 'happiness', 'neutral', 'sadness', 'happiness', 'sadness', 'fear', 'happiness', 'happiness', 'neutral', 'neutral', 'happiness', 'neutral', 'sadness', 'neutral', 'sadness', 'neutral', 'neutral', 'neutral', 'neutral', 'neutral', 'happiness', 'neutral', 'neutral', 'fear', 'neutral', 'neutral', 'happiness', 'neutral', 'neutral', 'sadness', 'happiness', 'happiness', 'sadness', 'neutral', 'neutral', 'happiness', 'fear', 'neutral', 'happiness', 'fear', 'fear', 'sadness', 'happiness', 'happiness', 'sadness', 'neutral', 'fear', 'happiness', 'happiness', 'fear', 'happiness', 'neutral', 'happiness', 'neutral', 'neutral', 'sadness', 'fear', 'fear', 'neutral', 'neutral', 'sadness', 'fear', 'sadness', 'neutral', 'neutral', 'sadness', 'neutral', 'happiness', 'neutral', 'neutral', 'neutral', 'neutral', 'fear', 'neutral', 'neutral', 'neutral', 'sadness', 'fear', 'fear', 'happiness', 'neutral', 'fear', 'neutral', 'neutral', 'happiness', 'neutral', 'fear', 'sadness', 'happiness', 'neutral', 'neutral', 'fear', 'happiness', 'neutral', 'sadness', 'neutral', 'happiness', 'happiness', 'happiness', 'neutral', 'sadness', 'fear', 'anger', 'neutral', 'fear', 'happiness', 'fear', 'neutral', 'fear', 'fear', 'neutral', 'happiness', 'sadness', 'neutral', 'sadness', 'sadness', 'sadness', 'neutral', 'happiness', 'happiness', 'happiness', 'sadness', 'sadness', 'fear', 'fear', 'sadness', 'neutral', 'happiness', 'anger', 'fear', 'neutral', 'sadness', 'sadness', 'fear', 'neutral', 'sadness', 'fear', 'fear', 'fear', 'neutral', 'sadness', 'fear', 'happiness', 'neutral', 'happiness', 'neutral', 'neutral', 'happiness', 'happiness', 'happiness', 'fear', 'neutral', 'happiness', 'fear', 'happiness', 'neutral', 'neutral', 'sadness', 'sadness', 'neutral', 'sadness', 'sadness', 'fear', 'fear', 'neutral', 'fear', 'happiness', 'neutral', 'happiness', 'happiness', 'sadness', 'fear', 'sadness', 'neutral', 'neutral', 'happiness', 'happiness', 'sadness', 'sadness', 'sadness', 'sadness', 'fear', 'sadness', 'fear', 'love', 'fear', 'sadness', 'neutral', 'happiness', 'anger', 'neutral', 'sadness', 'neutral', 'happiness', 'neutral', 'neutral', 'happiness', 'sadness', 'sadness', 'fear', 'happiness', 'neutral', 'sadness', 'happiness', 'neutral', 'fear', 'happiness', 'neutral', 'fear', 'fear', 'sadness', 'anger', 'sadness', 'fear', 'happiness', 'neutral', 'sadness', 'neutral', 'love', 'anger', 'sadness', 'neutral', 'neutral', 'neutral', 'neutral', 'happiness', 'happiness', 'fear', 'sadness', 'happiness', 'happiness', 'happiness', 'fear', 'fear', 'neutral', 'fear', 'fear', 'sadness', 'fear', 'happiness', 'neutral', 'sadness', 'neutral', 'neutral', 'happiness', 'happiness', 'neutral', 'sadness', 'sadness', 'happiness', 'happiness', 'neutral', 'happiness', 'happiness', 'sadness', 'sadness', 'neutral', 'fear', 'happiness', 'neutral', 'happiness', 'sadness', 'neutral', 'neutral', 'happiness', 'happiness', 'sadness', 'neutral', 'sadness', 'neutral', 'happiness', 'love', 'fear', 'anger', 'happiness', 'fear', 'happiness', 'happiness', 'neutral', 'fear', 'sadness', 'neutral', 'happiness', 'neutral', 'happiness', 'neutral', 'neutral', 'happiness', 'happiness', 'fear', 'fear', 'fear', 'happiness', 'neutral', 'sadness', 'fear', 'neutral', 'neutral', 'neutral', 'neutral', 'fear', 'neutral', 'neutral', 'happiness', 'happiness', 'fear', 'neutral', 'fear', 'happiness', 'happiness', 'neutral', 'happiness', 'neutral', 'fear', 'sadness', 'happiness', 'happiness', 'happiness', 'fear', 'fear', 'fear', 'sadness', 'neutral', 'fear', 'fear', 'fear', 'fear', 'neutral', 'fear', 'happiness', 'neutral', 'sadness', 'happiness', 'fear', 'sadness', 'neutral', 'fear', 'fear', 'happiness', 'neutral', 'sadness', 'neutral', 'sadness', 'neutral', 'happiness', 'anger', 'sadness', 'happiness', 'happiness', 'happiness', 'fear', 'neutral', 'fear', 'happiness', 'neutral', 'happiness', 'fear', 'happiness', 'fear', 'neutral', 'happiness', 'happiness', 'neutral', 'sadness', 'sadness', 'neutral', 'happiness', 'happiness', 'sadness', 'neutral', 'sadness', 'fear', 'fear', 'fear', 'happiness', 'neutral', 'neutral', 'happiness', 'love', 'sadness', 'sadness', 'neutral', 'neutral', 'happiness', 'fear', 'fear', 'neutral', 'neutral', 'anger', 'neutral', 'neutral', 'sadness', 'fear', 'neutral', 'fear', 'neutral', 'sadness', 'happiness', 'fear', 'sadness', 'happiness', 'happiness', 'happiness', 'happiness', 'neutral', 'happiness', 'happiness', 'sadness', 'neutral', 'neutral', 'fear', 'neutral', 'happiness', 'fear', 'sadness', 'neutral', 'neutral', 'neutral', 'happiness', 'neutral', 'fear', 'sadness', 'neutral', 'happiness', 'neutral', 'fear', 'neutral', 'fear', 'happiness', 'anger', 'sadness', 'sadness', 'sadness', 'neutral', 'neutral', 'neutral', 'neutral', 'neutral', 'neutral', 'fear', 'happiness', 'neutral', 'sadness', 'fear', 'neutral', 'fear', 'happiness', 'fear', 'fear', 'fear', 'sadness', 'happiness', 'happiness', 'fear', 'sadness', 'sadness', 'happiness', 'neutral', 'happiness', 'neutral', 'happiness', 'happiness', 'fear', 'sadness', 'surprise', 'fear', 'neutral', 'happiness', 'happiness', 'fear', 'happiness', 'neutral', 'neutral', 'neutral', 'sadness', 'fear', 'sadness', 'sadness', 'happiness', 'happiness', 'happiness', 'sadness', 'fear', 'fear', 'fear', 'fear', 'neutral', 'neutral', 'neutral', 'sadness', 'sadness', 'fear', 'neutral', 'happiness', 'sadness', 'neutral', 'neutral', 'fear', 'sadness', 'neutral', 'fear', 'fear', 'anger', 'happiness', 'neutral', 'sadness', 'fear', 'neutral', 'sadness', 'neutral', 'neutral', 'happiness', 'happiness', 'happiness', 'fear', 'sadness', 'neutral', 'happiness', 'sadness', 'fear', 'sadness', 'fear', 'happiness', 'sadness', 'neutral', 'happiness', 'happiness', 'fear', 'happiness', 'neutral', 'happiness', 'neutral', 'fear', 'sadness', 'fear', 'fear', 'fear', 'fear', 'sadness', 'happiness', 'fear', 'neutral', 'happiness', 'neutral', 'sadness', 'fear', 'neutral', 'sadness', 'sadness', 'sadness', 'neutral', 'sadness', 'neutral', 'sadness', 'happiness', 'neutral', 'sadness', 'neutral', 'neutral', 'fear', 'sadness', 'happiness', 'fear', 'fear', 'happiness', 'neutral', 'happiness', 'sadness', 'neutral', 'fear', 'love', 'neutral', 'sadness', 'sadness', 'fear', 'neutral', 'happiness', 'neutral', 'neutral', 'happiness', 'happiness', 'neutral', 'sadness', 'neutral', 'neutral', 'neutral', 'neutral', 'happiness', 'neutral', 'fear', 'neutral', 'happiness', 'happiness', 'love', 'fear', 'fear', 'happiness', 'neutral', 'neutral', 'fear', 'fear', 'sadness', 'fear', 'anger', 'neutral', 'neutral', 'sadness', 'fear', 'neutral', 'happiness', 'anger', 'sadness', 'neutral', 'happiness', 'happiness', 'fear', 'fear', 'neutral', 'fear', 'sadness', 'sadness', 'fear', 'fear', 'neutral', 'sadness', 'fear', 'happiness', 'anger', 'sadness', 'fear', 'neutral', 'neutral', 'neutral', 'sadness', 'happiness', 'anger', 'anger', 'fear', 'neutral', 'sadness', 'neutral', 'neutral', 'neutral', 'fear', 'fear', 'fear', 'happiness', 'fear', 'neutral', 'happiness', 'neutral', 'neutral', 'happiness', 'neutral', 'happiness', 'happiness', 'sadness', 'sadness', 'neutral', 'neutral', 'sadness', 'neutral', 'fear', 'fear', 'sadness', 'fear', 'fear', 'happiness', 'fear', 'sadness', 'sadness', 'neutral', 'fear', 'happiness', 'fear', 'fear', 'happiness', 'neutral', 'happiness', 'neutral', 'neutral', 'happiness', 'sadness', 'happiness', 'fear', 'fear', 'neutral', 'fear', 'fear', 'fear', 'happiness', 'fear', 'happiness', 'fear', 'sadness', 'happiness', 'happiness', 'happiness', 'surprise', 'neutral', 'happiness', 'neutral', 'fear', 'neutral', 'sadness', 'neutral', 'sadness', 'fear', 'anger', 'sadness', 'sadness', 'neutral', 'fear', 'fear', 'neutral', 'sadness', 'neutral', 'sadness', 'fear', 'fear', 'happiness', 'happiness', 'happiness', 'happiness', 'happiness', 'fear', 'fear', 'happiness', 'fear', 'sadness', 'fear', 'neutral', 'neutral', 'happiness', 'anger', 'neutral', 'happiness', 'fear', 'happiness', 'fear', 'neutral', 'neutral', 'sadness', 'sadness', 'neutral', 'neutral', 'neutral', 'sadness', 'neutral', 'sadness', 'neutral', 'happiness', 'fear', 'fear', 'happiness', 'neutral', 'fear', 'happiness', 'sadness', 'neutral', 'fear', 'sadness', 'happiness', 'happiness', 'fear', 'neutral', 'neutral', 'sadness', 'sadness', 'neutral', 'fear', 'neutral', 'surprise', 'neutral', 'anger', 'sadness', 'happiness', 'happiness', 'happiness', 'sadness', 'sadness', 'neutral', 'fear', 'fear', 'neutral', 'happiness', 'neutral', 'sadness', 'fear', 'sadness', 'sadness', 'happiness', 'neutral', 'fear', 'happiness', 'fear', 'fear', 'sadness', 'neutral', 'fear', 'sadness', 'fear', 'love', 'happiness', 'neutral', 'sadness', 'neutral', 'neutral', 'happiness', 'fear', 'sadness', 'fear', 'happiness', 'sadness', 'happiness', 'happiness', 'happiness', 'happiness', 'neutral', 'happiness', 'neutral', 'happiness', 'sadness', 'fear', 'neutral', 'sadness', 'neutral', 'neutral', 'anger', 'fear', 'fear', 'sadness', 'happiness', 'happiness', 'neutral', 'happiness', 'neutral', 'happiness', 'happiness', 'neutral', 'happiness', 'neutral', 'happiness', 'neutral', 'neutral', 'fear', 'fear', 'fear', 'sadness', 'happiness', 'sadness', 'fear', 'neutral', 'happiness', 'fear', 'neutral', 'sadness', 'happiness', 'fear', 'fear', 'neutral', 'sadness', 'neutral', 'happiness', 'happiness', 'neutral', 'happiness', 'sadness', 'happiness', 'neutral', 'neutral', 'happiness', 'neutral', 'fear', 'sadness', 'neutral', 'happiness', 'fear', 'happiness', 'neutral', 'anger', 'fear', 'happiness', 'sadness', 'fear', 'sadness', 'sadness', 'neutral', 'fear', 'anger', 'fear', 'anger', 'fear', 'fear', 'fear', 'sadness', 'sadness', 'surprise', 'sadness', 'fear', 'fear', 'happiness', 'happiness', 'neutral', 'anger', 'fear', 'neutral', 'sadness', 'sadness', 'neutral', 'sadness', 'anger', 'fear', 'fear', 'neutral', 'sadness', 'sadness', 'fear', 'fear', 'neutral', 'fear', 'happiness', 'fear', 'fear', 'neutral', 'fear', 'neutral', 'happiness', 'sadness', 'happiness', 'sadness', 'love', 'neutral', 'sadness', 'neutral', 'sadness', 'happiness', 'sadness', 'happiness', 'happiness', 'neutral', 'happiness', 'neutral', 'sadness', 'happiness', 'neutral', 'happiness', 'fear', 'happiness', 'fear', 'neutral', 'happiness', 'sadness', 'neutral', 'fear', 'neutral', 'happiness', 'neutral', 'fear', 'sadness', 'fear', 'fear', 'anger', 'neutral', 'neutral', 'neutral', 'happiness', 'sadness', 'happiness', 'happiness', 'fear', 'happiness', 'fear', 'neutral', 'happiness', 'fear', 'neutral', 'happiness', 'sadness', 'sadness', 'sadness', 'sadness', 'happiness', 'neutral', 'happiness', 'neutral', 'sadness', 'sadness', 'neutral', 'sadness', 'happiness', 'neutral', 'happiness', 'fear', 'sadness', 'sadness', 'happiness', 'neutral', 'neutral', 'happiness', 'neutral', 'sadness', 'happiness', 'fear', 'fear', 'neutral', 'fear', 'happiness', 'fear', 'happiness', 'sadness', 'neutral', 'neutral', 'neutral', 'neutral', 'happiness', 'happiness', 'neutral', 'happiness', 'fear', 'sadness', 'neutral', 'fear', 'sadness', 'sadness', 'anger', 'happiness', 'neutral', 'happiness', 'sadness', 'happiness', 'fear', 'sadness', 'neutral', 'happiness', 'fear', 'sadness', 'sadness', 'neutral', 'happiness', 'happiness', 'neutral', 'fear', 'fear', 'neutral', 'neutral', 'sadness', 'fear', 'happiness', 'fear', 'fear', 'fear', 'neutral', 'happiness', 'neutral', 'surprise', 'fear', 'happiness', 'neutral', 'happiness', 'happiness', 'happiness', 'sadness', 'fear', 'sadness', 'fear', 'happiness', 'happiness', 'neutral', 'happiness', 'neutral', 'sadness', 'sadness', 'neutral', 'sadness', 'happiness', 'happiness', 'sadness', 'happiness', 'happiness', 'fear', 'fear', 'happiness', 'happiness', 'sadness', 'neutral', 'fear', 'sadness', 'neutral', 'neutral', 'happiness', 'fear', 'sadness', 'fear', 'sadness', 'neutral', 'neutral', 'fear', 'neutral', 'happiness', 'sadness', 'fear', 'happiness', 'neutral', 'sadness', 'happiness', 'happiness', 'happiness', 'fear', 'fear', 'neutral', 'neutral', 'fear', 'neutral', 'happiness', 'sadness', 'sadness', 'neutral', 'happiness', 'sadness', 'happiness', 'neutral', 'neutral', 'happiness', 'sadness', 'sadness', 'fear', 'fear', 'sadness', 'fear', 'fear', 'happiness', 'neutral', 'neutral', 'fear', 'happiness', 'neutral', 'sadness', 'sadness', 'happiness', 'anger', 'sadness', 'sadness', 'neutral', 'neutral', 'happiness', 'fear', 'fear', 'happiness', 'fear', 'neutral', 'neutral', 'happiness', 'happiness', 'neutral', 'neutral', 'fear', 'fear', 'happiness', 'fear', 'happiness', 'sadness', 'anger', 'neutral', 'fear', 'sadness', 'fear', 'happiness', 'neutral', 'happiness', 'neutral', 'sadness', 'fear', 'happiness', 'neutral', 'neutral', 'neutral', 'happiness', 'fear', 'fear', 'fear', 'sadness', 'happiness', 'neutral', 'happiness', 'love', 'fear', 'neutral', 'happiness', 'happiness', 'fear', 'happiness', 'happiness', 'sadness', 'happiness', 'fear', 'happiness', 'happiness', 'neutral', 'happiness', 'sadness', 'sadness', 'neutral', 'neutral', 'fear', 'happiness', 'fear', 'neutral', 'happiness', 'fear', 'fear', 'sadness', 'neutral', 'fear', 'fear', 'happiness', 'happiness', 'sadness', 'sadness', 'neutral', 'fear', 'sadness', 'fear', 'sadness', 'happiness', 'fear', 'fear', 'fear', 'neutral', 'sadness', 'happiness', 'sadness', 'anger', 'sadness', 'happiness', 'fear', 'neutral', 'fear', 'neutral', 'happiness', 'happiness', 'happiness', 'neutral', 'neutral', 'fear', 'fear', 'fear', 'happiness', 'neutral', 'happiness', 'happiness', 'neutral', 'neutral', 'fear', 'sadness', 'happiness', 'fear', 'anger', 'anger', 'fear', 'sadness', 'happiness', 'sadness', 'fear', 'happiness', 'neutral', 'sadness', 'sadness', 'neutral', 'sadness', 'anger', 'sadness', 'happiness', 'fear', 'neutral', 'happiness', 'neutral', 'happiness', 'sadness', 'fear', 'neutral', 'neutral', 'fear', 'sadness', 'neutral', 'sadness', 'happiness', 'sadness', 'neutral', 'happiness', 'happiness', 'neutral', 'neutral', 'sadness', 'sadness', 'anger', 'sadness', 'happiness', 'fear', 'fear', 'neutral', 'fear', 'anger', 'anger', 'happiness', 'fear', 'happiness', 'neutral', 'happiness', 'neutral', 'happiness', 'happiness', 'sadness', 'happiness', 'happiness', 'happiness', 'neutral', 'sadness', 'happiness', 'happiness', 'neutral', 'happiness', 'sadness', 'neutral', 'sadness', 'fear', 'happiness', 'sadness', 'happiness', 'neutral', 'happiness', 'sadness', 'happiness', 'sadness', 'neutral', 'neutral', 'neutral', 'neutral', 'fear', 'happiness', 'neutral', 'sadness', 'sadness', 'sadness', 'neutral', 'sadness', 'neutral', 'neutral', 'neutral', 'fear', 'sadness', 'sadness', 'sadness', 'fear', 'neutral', 'fear', 'happiness', 'happiness', 'neutral', 'fear', 'neutral', 'fear', 'happiness', 'happiness', 'happiness', 'happiness', 'fear', 'fear', 'fear', 'neutral', 'happiness', 'sadness', 'sadness', 'fear', 'happiness', 'neutral', 'happiness', 'fear', 'neutral', 'sadness', 'fear', 'fear', 'neutral', 'anger', 'fear', 'happiness', 'fear', 'neutral', 'happiness', 'sadness', 'neutral', 'fear', 'happiness', 'happiness', 'fear', 'happiness', 'neutral', 'sadness', 'sadness', 'neutral', 'sadness', 'sadness', 'fear', 'happiness', 'fear', 'happiness', 'fear', 'happiness', 'sadness', 'fear', 'happiness', 'neutral', 'fear', 'sadness', 'sadness', 'happiness', 'fear', 'neutral', 'sadness', 'happiness', 'neutral', 'neutral', 'neutral', 'fear', 'fear', 'happiness', 'sadness', 'anger', 'happiness', 'sadness', 'fear', 'neutral', 'fear', 'neutral', 'happiness', 'neutral', 'anger', 'neutral', 'neutral', 'fear', 'fear', 'happiness', 'fear', 'happiness', 'neutral', 'neutral', 'sadness', 'neutral', 'neutral', 'happiness', 'happiness', 'fear', 'happiness', 'happiness', 'fear', 'neutral', 'sadness', 'neutral', 'happiness', 'fear', 'neutral', 'sadness', 'neutral', 'fear', 'happiness', 'sadness', 'neutral', 'sadness', 'neutral', 'sadness', 'fear', 'happiness', 'neutral', 'sadness', 'neutral', 'happiness', 'neutral', 'fear', 'neutral', 'fear', 'fear', 'fear', 'happiness', 'sadness', 'sadness', 'neutral', 'neutral', 'neutral', 'neutral', 'happiness', 'sadness', 'fear', 'sadness', 'surprise', 'neutral', 'anger', 'happiness', 'fear', 'fear', 'fear', 'sadness', 'sadness', 'happiness', 'happiness', 'fear', 'sadness', 'fear', 'neutral', 'happiness', 'neutral', 'sadness', 'happiness', 'fear', 'fear', 'love', 'happiness', 'sadness', 'neutral', 'sadness', 'sadness', 'fear', 'happiness', 'happiness', 'neutral', 'neutral', 'sadness', 'love', 'neutral', 'neutral', 'happiness', 'happiness', 'sadness', 'sadness', 'happiness', 'neutral', 'fear', 'happiness', 'fear', 'happiness', 'happiness', 'fear', 'fear', 'happiness', 'neutral', 'sadness', 'sadness', 'neutral', 'fear', 'neutral', 'neutral', 'happiness', 'neutral', 'happiness', 'sadness', 'sadness', 'neutral', 'sadness', 'fear', 'happiness', 'happiness', 'sadness', 'happiness', 'happiness', 'fear', 'sadness', 'happiness', 'happiness', 'fear', 'fear', 'sadness', 'happiness', 'happiness', 'anger', 'sadness', 'neutral', 'neutral', 'neutral', 'neutral', 'fear', 'neutral', 'sadness', 'neutral', 'fear', 'surprise', 'neutral', 'neutral', 'neutral', 'happiness', 'sadness', 'neutral', 'fear', 'neutral', 'happiness', 'sadness', 'fear', 'neutral', 'happiness', 'happiness', 'neutral', 'fear', 'fear', 'happiness', 'neutral', 'happiness', 'fear', 'fear', 'surprise', 'sadness', 'fear', 'neutral', 'neutral', 'sadness', 'sadness', 'fear', 'fear', 'happiness', 'happiness', 'sadness', 'sadness', 'sadness', 'neutral', 'fear', 'fear', 'fear', 'anger', 'neutral', 'happiness', 'happiness', 'happiness', 'neutral', 'sadness', 'sadness', 'happiness', 'fear', 'fear', 'happiness', 'anger', 'sadness', 'happiness', 'fear', 'happiness', 'fear', 'happiness', 'sadness', 'neutral', 'happiness', 'neutral', 'sadness', 'sadness', 'fear', 'sadness', 'fear', 'sadness', 'neutral', 'happiness', 'sadness', 'happiness', 'fear', 'happiness', 'happiness', 'neutral', 'happiness', 'neutral', 'fear', 'fear', 'happiness', 'happiness', 'fear', 'happiness', 'happiness', 'fear', 'fear', 'fear', 'surprise', 'fear', 'fear', 'fear', 'neutral', 'sadness', 'neutral', 'neutral', 'sadness', 'neutral', 'neutral', 'happiness', 'fear', 'fear', 'neutral', 'neutral', 'sadness', 'sadness', 'fear', 'neutral', 'sadness', 'surprise', 'happiness', 'happiness', 'neutral', 'neutral', 'happiness', 'happiness', 'fear', 'happiness', 'neutral', 'fear', 'fear', 'sadness', 'neutral', 'fear', 'neutral', 'neutral', 'fear', 'fear', 'neutral', 'neutral', 'fear', 'neutral', 'neutral', 'fear', 'sadness', 'neutral', 'fear', 'neutral', 'neutral', 'love', 'happiness', 'sadness', 'sadness', 'fear', 'neutral', 'neutral', 'neutral', 'fear', 'happiness', 'fear', 'fear', 'neutral', 'sadness', 'surprise', 'fear', 'fear', 'neutral', 'fear', 'fear', 'anger', 'neutral', 'anger', 'happiness', 'neutral', 'fear', 'fear', 'neutral', 'happiness', 'fear', 'fear', 'neutral', 'sadness', 'happiness', 'fear', 'happiness', 'sadness', 'fear', 'sadness', 'fear', 'happiness', 'happiness', 'fear', 'happiness', 'fear', 'sadness', 'fear', 'fear', 'fear', 'fear', 'happiness', 'neutral', 'neutral', 'neutral', 'neutral', 'fear', 'sadness', 'sadness', 'neutral', 'fear', 'fear', 'sadness', 'happiness', 'neutral', 'happiness', 'happiness', 'neutral', 'happiness', 'neutral', 'happiness', 'neutral', 'sadness', 'sadness', 'sadness', 'fear', 'fear', 'neutral', 'sadness', 'fear', 'happiness', 'fear', 'happiness', 'neutral', 'fear', 'happiness', 'sadness', 'fear', 'happiness', 'happiness', 'happiness', 'neutral', 'neutral', 'neutral', 'neutral', 'sadness', 'happiness', 'fear', 'happiness', 'happiness', 'fear', 'neutral', 'neutral', 'happiness', 'happiness', 'neutral', 'happiness', 'sadness', 'fear', 'fear', 'neutral', 'neutral', 'happiness', 'neutral', 'fear', 'happiness', 'happiness', 'fear', 'sadness', 'happiness', 'happiness', 'fear', 'neutral', 'love', 'fear', 'fear', 'neutral', 'happiness', 'neutral', 'neutral', 'neutral', 'sadness', 'happiness', 'happiness', 'neutral', 'neutral', 'happiness', 'happiness', 'neutral', 'neutral', 'sadness', 'neutral', 'happiness', 'fear', 'happiness', 'happiness', 'fear', 'sadness', 'happiness', 'neutral', 'happiness', 'happiness', 'fear', 'sadness', 'happiness', 'fear', 'neutral', 'fear', 'fear', 'sadness', 'neutral', 'neutral', 'fear', 'neutral', 'sadness', 'happiness', 'sadness', 'neutral', 'fear', 'sadness', 'fear', 'neutral', 'happiness', 'neutral', 'sadness', 'sadness', 'fear', 'fear', 'fear', 'sadness', 'neutral', 'happiness', 'sadness', 'sadness', 'neutral', 'fear', 'neutral', 'sadness', 'happiness', 'neutral', 'sadness', 'neutral', 'neutral', 'anger', 'neutral', 'happiness', 'neutral', 'sadness', 'neutral', 'happiness', 'happiness', 'sadness', 'sadness', 'neutral', 'neutral', 'happiness', 'neutral', 'fear', 'sadness', 'happiness', 'sadness', 'anger', 'neutral', 'surprise', 'happiness', 'neutral', 'neutral', 'neutral', 'happiness', 'fear', 'sadness', 'happiness', 'fear', 'sadness', 'surprise', 'sadness', 'fear', 'neutral', 'neutral', 'fear', 'happiness', 'fear', 'fear', 'neutral', 'happiness', 'happiness', 'neutral', 'fear', 'neutral', 'happiness', 'neutral', 'happiness', 'happiness', 'happiness', 'neutral', 'fear', 'neutral', 'happiness', 'fear', 'neutral', 'fear', 'happiness', 'neutral', 'happiness', 'sadness', 'happiness', 'neutral', 'neutral', 'happiness', 'happiness', 'happiness', 'sadness', 'fear', 'happiness', 'fear', 'fear', 'fear', 'fear', 'happiness', 'happiness', 'sadness', 'sadness', 'neutral', 'fear', 'sadness', 'fear', 'sadness', 'neutral', 'fear', 'happiness', 'neutral', 'happiness', 'happiness', 'happiness', 'sadness', 'neutral', 'happiness', 'happiness', 'fear', 'sadness', 'happiness', 'happiness', 'neutral', 'fear', 'happiness', 'fear', 'neutral', 'neutral', 'sadness', 'happiness', 'neutral', 'fear', 'happiness', 'happiness', 'sadness', 'sadness', 'neutral', 'fear', 'neutral', 'fear', 'fear', 'fear', 'fear', 'surprise', 'neutral', 'happiness', 'happiness', 'happiness', 'neutral', 'neutral', 'neutral', 'fear', 'happiness', 'fear', 'neutral', 'sadness', 'neutral', 'fear', 'anger', 'sadness', 'happiness', 'fear', 'happiness', 'fear', 'fear', 'neutral', 'love', 'fear', 'fear', 'happiness', 'happiness', 'happiness', 'happiness', 'sadness', 'fear', 'fear', 'neutral', 'fear', 'happiness', 'sadness', 'neutral', 'anger', 'happiness', 'sadness', 'neutral', 'happiness', 'fear', 'happiness', 'neutral', 'sadness', 'sadness', 'happiness', 'anger', 'neutral', 'neutral', 'sadness', 'sadness', 'fear', 'neutral', 'happiness', 'happiness', 'happiness', 'happiness', 'fear', 'sadness', 'happiness', 'neutral', 'happiness', 'sadness', 'neutral', 'love', 'fear', 'happiness', 'sadness', 'fear', 'happiness', 'happiness', 'anger', 'neutral', 'sadness', 'happiness', 'neutral', 'neutral', 'happiness', 'fear', 'happiness', 'happiness', 'happiness', 'neutral', 'happiness', 'happiness', 'happiness', 'love', 'sadness', 'neutral', 'happiness', 'neutral', 'happiness', 'neutral', 'neutral', 'neutral', 'neutral', 'neutral', 'happiness', 'happiness', 'fear', 'neutral', 'sadness', 'sadness', 'anger', 'fear', 'neutral', 'happiness', 'love', 'happiness', 'fear', 'neutral', 'neutral', 'neutral', 'neutral', 'happiness', 'neutral', 'neutral', 'happiness', 'neutral', 'neutral', 'neutral', 'fear', 'sadness', 'fear', 'sadness', 'anger', 'sadness', 'happiness', 'happiness', 'sadness', 'neutral', 'fear', 'happiness', 'happiness', 'neutral', 'fear', 'happiness', 'fear', 'neutral', 'neutral', 'sadness', 'sadness', 'sadness', 'happiness', 'sadness', 'neutral', 'happiness', 'happiness', 'fear', 'happiness', 'neutral', 'sadness', 'sadness', 'neutral', 'happiness', 'happiness', 'neutral', 'fear', 'fear', 'sadness', 'neutral', 'neutral', 'fear', 'neutral', 'fear', 'sadness', 'neutral', 'neutral', 'happiness', 'neutral', 'fear', 'sadness', 'fear', 'fear', 'sadness', 'happiness', 'neutral', 'neutral', 'sadness', 'fear', 'happiness', 'sadness', 'happiness', 'fear', 'fear', 'fear', 'sadness', 'fear', 'sadness', 'happiness', 'fear', 'sadness', 'neutral', 'sadness', 'happiness', 'neutral', 'neutral', 'happiness', 'happiness', 'fear', 'happiness', 'happiness', 'happiness', 'fear', 'neutral', 'love', 'fear', 'sadness', 'sadness', 'neutral', 'happiness', 'love', 'neutral', 'fear', 'neutral', 'neutral', 'happiness', 'fear', 'happiness', 'happiness', 'fear', 'happiness', 'neutral', 'happiness', 'happiness', 'neutral', 'surprise', 'happiness', 'neutral', 'fear', 'fear', 'sadness', 'fear', 'happiness', 'fear', 'neutral', 'sadness', 'happiness', 'happiness', 'happiness', 'neutral', 'neutral', 'fear', 'neutral', 'happiness', 'fear', 'sadness', 'neutral', 'sadness', 'happiness', 'fear', 'happiness', 'neutral', 'fear', 'neutral', 'fear', 'fear', 'neutral', 'neutral', 'happiness', 'fear', 'happiness', 'neutral', 'sadness', 'sadness', 'sadness', 'happiness', 'sadness', 'neutral', 'fear', 'happiness', 'fear', 'fear', 'neutral', 'sadness', 'happiness', 'fear', 'fear', 'fear', 'fear', 'fear', 'sadness', 'love', 'neutral', 'fear', 'happiness', 'happiness', 'happiness', 'happiness', 'happiness', 'happiness', 'neutral', 'fear', 'neutral', 'happiness', 'happiness', 'neutral', 'sadness', 'happiness', 'sadness', 'happiness', 'sadness', 'surprise', 'neutral', 'neutral', 'neutral', 'sadness', 'love', 'sadness', 'happiness', 'neutral', 'fear', 'anger', 'happiness', 'sadness', 'fear', 'neutral', 'neutral', 'sadness', 'fear', 'neutral', 'fear', 'neutral', 'neutral', 'neutral', 'fear', 'happiness', 'sadness', 'sadness', 'surprise', 'fear', 'neutral', 'fear', 'neutral', 'fear', 'happiness', 'fear', 'fear', 'happiness', 'fear', 'fear', 'fear', 'sadness', 'happiness', 'fear', 'neutral', 'sadness', 'fear', 'neutral', 'sadness', 'fear', 'fear', 'neutral', 'happiness', 'fear', 'neutral', 'happiness', 'neutral', 'neutral', 'happiness', 'neutral', 'neutral', 'fear', 'happiness', 'happiness', 'fear', 'happiness', 'fear', 'neutral', 'happiness', 'anger', 'sadness', 'sadness', 'sadness', 'neutral', 'neutral', 'sadness', 'love', 'sadness', 'neutral', 'sadness', 'surprise', 'happiness', 'sadness', 'fear', 'fear', 'neutral', 'sadness', 'fear', 'neutral', 'happiness', 'happiness', 'happiness', 'neutral', 'fear', 'happiness', 'neutral', 'fear', 'neutral', 'happiness', 'neutral', 'sadness', 'fear', 'neutral', 'neutral', 'fear', 'sadness', 'neutral', 'sadness', 'neutral', 'sadness', 'neutral', 'fear', 'sadness', 'sadness', 'anger', 'neutral', 'happiness', 'happiness', 'neutral', 'sadness', 'sadness', 'neutral', 'sadness', 'neutral', 'sadness', 'fear', 'happiness', 'neutral', 'fear', 'happiness', 'sadness', 'neutral', 'anger', 'fear', 'fear', 'happiness', 'neutral', 'happiness', 'neutral', 'neutral', 'happiness', 'sadness', 'sadness', 'neutral', 'happiness', 'happiness', 'neutral', 'fear', 'fear', 'fear', 'neutral', 'happiness', 'neutral', 'sadness', 'happiness', 'sadness', 'happiness', 'happiness', 'neutral', 'happiness', 'fear', 'neutral', 'neutral', 'sadness', 'neutral', 'sadness', 'happiness', 'happiness', 'happiness', 'neutral', 'neutral', 'happiness', 'neutral', 'happiness', 'happiness', 'happiness', 'happiness', 'happiness', 'happiness', 'sadness', 'surprise', 'happiness', 'sadness', 'neutral', 'fear', 'fear', 'sadness', 'fear', 'fear', 'fear', 'fear', 'happiness', 'neutral', 'neutral', 'neutral', 'fear', 'happiness', 'sadness', 'happiness', 'happiness', 'sadness', 'happiness', 'fear', 'neutral', 'sadness', 'neutral', 'fear', 'fear', 'neutral', 'fear', 'neutral', 'neutral', 'sadness', 'fear', 'neutral', 'fear', 'surprise', 'neutral', 'surprise', 'neutral', 'neutral', 'neutral', 'fear', 'happiness', 'happiness', 'happiness', 'neutral', 'fear', 'fear', 'sadness', 'anger', 'anger', 'sadness', 'fear', 'sadness', 'happiness', 'happiness', 'happiness', 'happiness', 'happiness', 'neutral', 'neutral', 'fear', 'fear', 'happiness', 'fear', 'fear', 'neutral', 'fear', 'happiness', 'neutral', 'neutral', 'fear', 'sadness', 'happiness', 'fear', 'happiness', 'sadness', 'happiness', 'sadness', 'neutral', 'happiness', 'sadness', 'fear', 'happiness', 'happiness', 'fear', 'fear', 'happiness', 'neutral', 'sadness', 'neutral', 'sadness', 'fear', 'sadness', 'neutral', 'fear', 'fear', 'fear', 'happiness', 'happiness', 'sadness', 'fear', 'happiness', 'happiness', 'sadness', 'fear', 'fear', 'fear', 'sadness', 'sadness', 'neutral', 'happiness', 'fear', 'happiness', 'fear', 'happiness', 'sadness', 'happiness', 'fear', 'fear', 'happiness', 'neutral', 'neutral', 'sadness', 'neutral', 'fear', 'sadness', 'neutral', 'sadness', 'neutral', 'neutral', 'sadness', 'fear', 'happiness', 'neutral', 'happiness', 'anger', 'happiness', 'happiness', 'happiness', 'sadness', 'neutral', 'happiness', 'fear', 'happiness', 'sadness', 'sadness', 'sadness', 'fear', 'sadness', 'sadness', 'neutral', 'neutral', 'sadness', 'happiness', 'neutral', 'sadness', 'happiness', 'sadness', 'anger', 'happiness', 'sadness', 'sadness', 'fear', 'sadness', 'happiness', 'neutral', 'fear', 'sadness', 'fear', 'neutral', 'happiness', 'neutral', 'neutral', 'neutral', 'fear', 'happiness', 'neutral', 'fear', 'sadness', 'happiness', 'neutral', 'anger', 'fear', 'sadness', 'neutral', 'fear', 'sadness', 'fear', 'sadness', 'happiness', 'happiness', 'happiness', 'fear', 'happiness', 'fear', 'fear', 'fear', 'fear', 'fear', 'sadness', 'neutral', 'neutral', 'neutral', 'happiness', 'neutral', 'happiness', 'neutral', 'sadness', 'neutral', 'happiness', 'happiness', 'sadness', 'happiness', 'fear', 'neutral', 'fear', 'fear', 'neutral', 'fear', 'happiness', 'neutral', 'happiness', 'neutral', 'neutral', 'anger', 'sadness', 'neutral', 'anger', 'neutral', 'fear', 'sadness', 'happiness', 'neutral', 'fear', 'happiness', 'fear', 'sadness', 'happiness', 'neutral', 'neutral', 'sadness', 'happiness', 'happiness', 'anger', 'neutral', 'love', 'neutral', 'sadness', 'sadness', 'sadness', 'happiness', 'happiness', 'sadness', 'fear', 'fear', 'sadness', 'neutral', 'fear', 'sadness', 'neutral', 'neutral', 'happiness', 'surprise', 'happiness', 'sadness', 'sadness', 'neutral', 'neutral', 'happiness', 'fear', 'neutral', 'neutral', 'neutral', 'sadness', 'fear', 'neutral', 'neutral', 'sadness', 'neutral', 'fear', 'fear', 'sadness', 'neutral', 'sadness', 'happiness', 'neutral', 'happiness', 'happiness', 'neutral', 'fear', 'happiness', 'neutral', 'neutral', 'neutral', 'fear', 'neutral', 'neutral', 'happiness', 'fear', 'fear', 'sadness', 'happiness', 'happiness', 'sadness', 'fear', 'sadness', 'neutral', 'neutral', 'sadness', 'anger', 'sadness', 'fear', 'neutral', 'neutral', 'happiness', 'neutral', 'anger', 'neutral', 'neutral', 'happiness', 'neutral', 'sadness', 'neutral', 'sadness', 'fear', 'neutral', 'fear', 'fear', 'neutral', 'happiness', 'neutral', 'happiness', 'fear', 'fear', 'happiness', 'neutral', 'love', 'fear', 'fear', 'happiness', 'happiness', 'neutral', 'neutral', 'fear', 'fear', 'fear', 'fear', 'neutral', 'fear', 'fear', 'neutral', 'fear', 'fear', 'surprise', 'neutral', 'sadness', 'sadness', 'neutral', 'fear', 'neutral', 'surprise', 'sadness', 'sadness', 'happiness', 'neutral', 'sadness', 'sadness', 'happiness', 'fear', 'fear', 'fear', 'neutral', 'neutral', 'sadness', 'happiness', 'neutral', 'happiness', 'fear', 'sadness', 'neutral', 'happiness', 'sadness', 'happiness', 'happiness', 'neutral', 'fear', 'fear', 'happiness', 'fear', 'neutral', 'neutral', 'sadness', 'sadness', 'sadness', 'neutral', 'sadness', 'neutral', 'neutral', 'neutral', 'neutral', 'sadness', 'neutral', 'neutral', 'happiness', 'neutral', 'fear', 'surprise', 'happiness', 'neutral', 'happiness', 'happiness', 'neutral', 'happiness', 'fear', 'fear', 'neutral', 'neutral', 'fear', 'happiness', 'neutral', 'fear', 'fear', 'love', 'happiness', 'sadness', 'neutral', 'sadness', 'fear', 'neutral', 'anger', 'sadness', 'neutral', 'happiness', 'fear', 'fear', 'sadness', 'neutral', 'sadness', 'neutral', 'happiness', 'sadness', 'neutral', 'fear', 'neutral', 'neutral', 'sadness', 'sadness', 'sadness', 'neutral', 'fear', 'anger', 'neutral', 'fear', 'neutral', 'fear', 'neutral', 'sadness', 'neutral', 'happiness', 'fear', 'fear', 'fear', 'sadness', 'love', 'happiness', 'neutral', 'happiness', 'neutral', 'fear', 'happiness', 'happiness', 'fear', 'neutral', 'happiness', 'neutral', 'happiness', 'sadness', 'happiness', 'fear', 'happiness', 'anger', 'happiness', 'fear', 'neutral', 'neutral', 'sadness', 'anger', 'neutral', 'neutral', 'happiness', 'neutral', 'fear', 'happiness', 'neutral', 'fear', 'surprise', 'fear', 'happiness', 'happiness', 'sadness', 'fear', 'sadness', 'neutral', 'neutral', 'sadness', 'fear', 'happiness', 'happiness', 'neutral', 'happiness', 'happiness', 'sadness', 'sadness', 'neutral', 'happiness', 'neutral', 'neutral', 'happiness', 'fear', 'sadness', 'fear', 'fear', 'neutral', 'happiness', 'neutral', 'happiness', 'neutral', 'fear', 'sadness', 'happiness', 'happiness', 'fear', 'happiness', 'neutral', 'neutral', 'neutral', 'sadness', 'fear', 'sadness', 'neutral', 'happiness', 'happiness', 'neutral', 'neutral', 'sadness', 'fear', 'happiness', 'happiness', 'neutral', 'sadness', 'neutral', 'sadness', 'neutral', 'fear', 'sadness', 'fear', 'sadness', 'fear', 'happiness', 'neutral', 'fear', 'neutral', 'sadness', 'neutral', 'sadness', 'happiness', 'neutral', 'neutral', 'happiness', 'neutral', 'neutral', 'happiness', 'happiness', 'neutral', 'happiness', 'sadness', 'happiness', 'neutral', 'neutral', 'neutral', 'neutral', 'fear', 'neutral', 'fear', 'neutral', 'sadness', 'fear', 'happiness', 'fear', 'happiness', 'neutral', 'happiness', 'fear', 'happiness', 'neutral', 'neutral', 'fear', 'fear', 'fear', 'neutral', 'sadness', 'fear', 'happiness', 'sadness', 'happiness', 'sadness', 'neutral', 'fear', 'happiness', 'sadness', 'neutral', 'happiness', 'fear', 'fear', 'neutral', 'happiness', 'happiness', 'neutral', 'happiness', 'fear', 'fear', 'neutral', 'happiness', 'neutral', 'fear', 'neutral', 'happiness', 'neutral', 'anger', 'fear', 'sadness', 'sadness', 'neutral', 'neutral', 'neutral', 'neutral', 'happiness', 'fear', 'happiness', 'happiness', 'fear', 'fear', 'fear', 'sadness', 'happiness', 'sadness', 'neutral', 'sadness', 'happiness', 'neutral', 'fear', 'neutral', 'happiness', 'happiness', 'neutral', 'fear', 'sadness', 'neutral', 'fear', 'neutral', 'neutral', 'happiness', 'sadness', 'fear', 'happiness', 'sadness', 'neutral', 'happiness', 'neutral', 'sadness', 'neutral', 'fear', 'neutral', 'neutral', 'neutral', 'happiness', 'neutral', 'happiness', 'happiness', 'neutral', 'happiness', 'neutral', 'neutral', 'neutral', 'fear', 'neutral', 'surprise', 'sadness', 'fear', 'happiness', 'neutral', 'happiness', 'fear', 'neutral', 'happiness', 'neutral', 'happiness', 'happiness', 'happiness', 'fear', 'sadness', 'neutral', 'happiness', 'happiness', 'neutral', 'neutral', 'happiness', 'fear', 'neutral', 'sadness', 'sadness', 'neutral', 'neutral', 'happiness', 'happiness', 'neutral', 'neutral', 'sadness', 'fear', 'fear', 'sadness', 'fear', 'happiness', 'anger', 'sadness', 'sadness', 'happiness', 'sadness', 'fear', 'neutral', 'neutral', 'sadness', 'neutral', 'fear', 'neutral', 'sadness', 'sadness', 'happiness', 'sadness', 'neutral', 'neutral', 'happiness', 'fear', 'sadness', 'sadness', 'neutral', 'sadness', 'sadness', 'happiness', 'sadness', 'sadness', 'love', 'neutral', 'happiness', 'neutral', 'happiness', 'fear', 'sadness', 'neutral', 'fear', 'sadness', 'neutral', 'sadness', 'sadness', 'happiness', 'fear', 'fear', 'happiness', 'neutral', 'fear', 'neutral', 'fear', 'fear', 'sadness', 'neutral', 'fear', 'happiness', 'neutral', 'neutral', 'anger', 'sadness', 'neutral', 'neutral', 'neutral', 'sadness', 'happiness', 'neutral', 'fear', 'happiness', 'happiness', 'neutral', 'happiness', 'sadness', 'fear', 'happiness', 'sadness', 'fear', 'neutral', 'neutral', 'fear', 'sadness', 'neutral', 'sadness', 'neutral', 'sadness', 'fear', 'sadness', 'fear', 'neutral', 'sadness', 'fear', 'neutral', 'sadness', 'neutral', 'happiness', 'happiness', 'neutral', 'neutral', 'sadness', 'neutral', 'sadness', 'fear', 'fear', 'neutral', 'happiness', 'happiness', 'neutral', 'happiness', 'happiness', 'fear', 'fear', 'neutral', 'fear', 'fear', 'happiness', 'happiness', 'happiness', 'neutral', 'neutral', 'sadness', 'happiness', 'fear', 'neutral', 'neutral', 'fear', 'neutral', 'happiness', 'happiness', 'fear', 'fear', 'fear', 'happiness', 'neutral', 'neutral', 'sadness', 'fear', 'neutral', 'fear', 'happiness', 'fear', 'neutral', 'sadness', 'happiness', 'fear', 'fear', 'neutral', 'fear', 'happiness', 'happiness', 'neutral', 'neutral', 'fear', 'happiness', 'fear', 'neutral', 'sadness', 'neutral', 'sadness', 'happiness', 'neutral', 'fear', 'happiness', 'neutral', 'happiness', 'neutral', 'sadness', 'fear', 'sadness', 'happiness', 'fear', 'sadness', 'fear', 'happiness', 'fear', 'happiness', 'happiness', 'neutral', 'sadness', 'neutral', 'neutral', 'sadness', 'happiness', 'happiness', 'fear', 'neutral', 'happiness', 'fear', 'sadness', 'happiness', 'fear', 'neutral', 'neutral', 'sadness', 'happiness', 'fear', 'neutral', 'fear', 'happiness', 'happiness', 'fear', 'sadness', 'happiness', 'fear', 'sadness', 'happiness', 'sadness', 'neutral', 'fear', 'sadness', 'neutral', 'happiness', 'fear', 'neutral', 'neutral', 'fear', 'happiness', 'neutral', 'sadness', 'sadness', 'neutral', 'fear', 'neutral', 'neutral', 'happiness', 'happiness', 'fear', 'sadness', 'neutral', 'sadness', 'fear', 'neutral', 'sadness', 'happiness', 'fear', 'neutral', 'fear', 'neutral', 'neutral', 'neutral', 'fear', 'neutral', 'happiness', 'neutral', 'fear', 'sadness', 'neutral', 'fear', 'neutral', 'sadness', 'sadness', 'fear', 'fear', 'happiness', 'neutral', 'happiness', 'sadness', 'happiness', 'fear', 'sadness', 'happiness', 'surprise', 'sadness', 'fear', 'fear', 'neutral', 'neutral', 'sadness', 'neutral', 'happiness', 'sadness', 'sadness', 'fear', 'neutral', 'neutral', 'neutral', 'happiness', 'sadness', 'neutral', 'happiness', 'fear', 'neutral', 'sadness', 'fear', 'fear', 'neutral', 'happiness', 'fear', 'sadness', 'happiness', 'happiness', 'fear', 'happiness', 'love', 'happiness', 'neutral', 'neutral', 'happiness', 'happiness', 'surprise', 'neutral', 'fear', 'neutral', 'neutral', 'happiness', 'neutral', 'fear', 'fear', 'sadness', 'anger', 'sadness', 'sadness', 'sadness', 'fear', 'sadness', 'sadness', 'happiness', 'sadness', 'neutral', 'happiness', 'sadness', 'happiness', 'happiness', 'happiness', 'fear', 'fear', 'fear', 'fear', 'neutral', 'happiness', 'sadness', 'sadness', 'fear', 'happiness', 'sadness', 'happiness', 'sadness', 'fear', 'neutral', 'neutral', 'neutral', 'happiness', 'neutral', 'fear', 'neutral', 'neutral', 'neutral', 'fear', 'happiness', 'happiness', 'fear', 'neutral', 'neutral', 'neutral', 'neutral', 'neutral', 'fear', 'fear', 'neutral', 'neutral', 'fear', 'sadness', 'fear', 'sadness', 'happiness', 'happiness', 'happiness', 'sadness', 'love', 'fear', 'fear', 'happiness', 'happiness', 'happiness', 'sadness', 'fear', 'happiness', 'sadness', 'happiness', 'fear', 'neutral', 'surprise', 'fear', 'happiness', 'sadness', 'fear', 'happiness', 'happiness', 'love', 'happiness', 'happiness', 'happiness', 'happiness', 'fear', 'neutral', 'happiness', 'sadness', 'sadness', 'neutral', 'neutral', 'sadness', 'happiness', 'sadness', 'love', 'happiness', 'neutral', 'fear', 'anger', 'happiness', 'neutral', 'happiness', 'happiness', 'fear', 'sadness', 'fear', 'sadness', 'neutral', 'happiness', 'fear', 'neutral', 'neutral', 'neutral', 'happiness', 'sadness', 'sadness', 'fear', 'sadness', 'fear', 'sadness', 'fear', 'love', 'fear', 'anger', 'fear', 'fear', 'happiness', 'happiness', 'fear', 'happiness', 'happiness', 'happiness', 'sadness', 'sadness', 'neutral', 'neutral', 'sadness', 'fear', 'fear', 'neutral', 'happiness', 'fear', 'neutral', 'sadness', 'happiness', 'happiness', 'fear', 'happiness', 'fear', 'sadness', 'happiness', 'neutral', 'happiness', 'fear', 'neutral', 'happiness', 'happiness', 'sadness', 'fear', 'neutral', 'neutral', 'fear', 'neutral', 'neutral', 'happiness', 'happiness', 'neutral', 'happiness', 'anger', 'sadness', 'sadness', 'sadness', 'happiness', 'neutral', 'fear', 'fear', 'happiness', 'neutral', 'happiness', 'neutral', 'fear', 'fear', 'neutral', 'happiness', 'sadness', 'sadness', 'fear', 'happiness', 'neutral', 'happiness', 'sadness', 'happiness', 'happiness', 'fear', 'happiness', 'neutral', 'happiness', 'anger', 'neutral', 'sadness', 'neutral', 'neutral', 'happiness', 'sadness', 'fear', 'fear', 'neutral', 'fear', 'happiness', 'neutral', 'happiness', 'happiness', 'neutral', 'fear', 'neutral', 'fear', 'happiness', 'happiness', 'happiness', 'neutral', 'neutral', 'sadness', 'happiness', 'happiness', 'fear', 'neutral', 'neutral', 'happiness', 'neutral', 'surprise', 'fear', 'neutral', 'sadness', 'anger', 'neutral', 'fear', 'happiness', 'sadness', 'neutral', 'sadness', 'fear', 'happiness', 'love', 'happiness', 'sadness', 'fear', 'neutral', 'neutral', 'sadness', 'happiness', 'fear', 'fear', 'happiness', 'neutral', 'happiness', 'fear', 'neutral', 'happiness', 'happiness', 'happiness', 'fear', 'neutral', 'fear', 'neutral', 'neutral', 'happiness', 'sadness', 'happiness', 'neutral', 'neutral', 'happiness', 'sadness', 'happiness', 'neutral', 'neutral', 'sadness', 'happiness', 'happiness', 'happiness', 'happiness', 'sadness', 'fear', 'happiness', 'happiness', 'neutral', 'sadness', 'happiness', 'sadness', 'happiness', 'fear', 'sadness', 'neutral', 'fear', 'fear', 'neutral', 'happiness', 'anger', 'fear', 'fear', 'happiness', 'neutral', 'neutral', 'anger', 'happiness', 'fear', 'happiness', 'happiness', 'sadness', 'happiness', 'surprise', 'happiness', 'neutral', 'happiness', 'anger', 'neutral', 'fear', 'happiness', 'neutral', 'fear', 'neutral', 'sadness', 'fear', 'neutral', 'neutral', 'happiness', 'neutral', 'happiness', 'sadness', 'sadness', 'sadness', 'happiness', 'neutral', 'sadness', 'fear', 'fear', 'fear', 'happiness', 'sadness', 'sadness', 'fear', 'happiness', 'sadness', 'neutral', 'neutral', 'fear', 'neutral', 'sadness', 'sadness', 'neutral', 'fear', 'neutral', 'neutral', 'neutral', 'neutral', 'sadness', 'happiness', 'fear', 'happiness', 'fear', 'sadness', 'happiness', 'happiness', 'sadness', 'fear', 'neutral', 'happiness', 'neutral', 'fear', 'sadness', 'neutral', 'fear', 'fear', 'fear', 'neutral', 'happiness', 'anger', 'happiness', 'fear', 'fear', 'fear', 'neutral', 'happiness', 'neutral', 'fear', 'happiness', 'sadness', 'neutral', 'sadness', 'sadness', 'sadness', 'sadness', 'sadness', 'neutral', 'happiness', 'neutral', 'happiness', 'fear', 'fear', 'happiness', 'sadness', 'fear', 'neutral', 'anger', 'sadness', 'sadness', 'fear', 'fear', 'sadness', 'happiness', 'neutral', 'surprise', 'fear', 'fear', 'fear', 'happiness', 'fear', 'happiness', 'neutral', 'fear', 'fear', 'fear', 'sadness', 'happiness', 'fear', 'neutral', 'neutral', 'neutral', 'sadness', 'happiness', 'fear', 'fear', 'neutral', 'sadness', 'fear', 'sadness', 'neutral', 'happiness', 'fear', 'fear', 'neutral', 'neutral', 'fear', 'happiness', 'happiness', 'neutral', 'fear', 'happiness', 'happiness', 'neutral', 'neutral', 'fear', 'happiness', 'happiness', 'happiness', 'fear', 'anger', 'sadness', 'happiness', 'neutral', 'sadness', 'sadness', 'happiness', 'fear', 'fear', 'fear', 'neutral', 'love', 'fear', 'anger', 'happiness', 'happiness', 'happiness', 'sadness', 'neutral', 'neutral', 'neutral', 'sadness', 'sadness', 'sadness', 'neutral', 'fear', 'happiness', 'fear', 'sadness', 'happiness', 'anger', 'sadness', 'happiness', 'love', 'fear', 'neutral', 'fear', 'neutral', 'happiness', 'neutral', 'neutral', 'happiness', 'happiness', 'happiness', 'neutral', 'neutral', 'neutral', 'sadness', 'sadness', 'neutral', 'neutral', 'neutral', 'neutral', 'happiness', 'neutral', 'neutral', 'sadness', 'neutral', 'happiness', 'sadness', 'fear', 'happiness', 'happiness', 'anger', 'neutral', 'fear', 'neutral', 'neutral', 'sadness', 'anger', 'sadness', 'happiness', 'sadness', 'happiness', 'fear', 'sadness', 'fear', 'anger', 'fear', 'happiness', 'neutral', 'happiness', 'happiness', 'neutral', 'fear', 'sadness', 'sadness', 'happiness', 'happiness', 'sadness', 'sadness', 'neutral', 'happiness', 'neutral', 'neutral', 'happiness', 'fear', 'sadness', 'happiness', 'neutral', 'neutral', 'fear', 'neutral', 'fear', 'sadness', 'neutral', 'happiness', 'surprise', 'neutral', 'neutral', 'sadness', 'neutral', 'neutral', 'happiness', 'happiness', 'happiness', 'fear', 'happiness', 'sadness', 'fear', 'neutral', 'happiness', 'sadness', 'happiness', 'neutral', 'neutral', 'sadness', 'neutral', 'happiness', 'neutral', 'neutral', 'happiness', 'sadness', 'happiness', 'happiness', 'sadness', 'happiness', 'neutral', 'neutral', 'fear', 'sadness', 'happiness', 'fear', 'anger', 'happiness', 'happiness', 'sadness', 'happiness', 'fear', 'neutral', 'fear', 'neutral', 'fear', 'neutral', 'neutral', 'neutral', 'neutral', 'neutral', 'happiness', 'neutral', 'happiness', 'anger', 'sadness', 'sadness', 'neutral', 'fear', 'fear', 'fear', 'neutral', 'happiness', 'sadness', 'fear', 'neutral', 'fear', 'neutral', 'neutral', 'fear', 'neutral', 'anger', 'neutral', 'neutral', 'fear', 'surprise', 'happiness', 'neutral', 'sadness', 'neutral', 'neutral', 'happiness', 'neutral', 'fear', 'neutral', 'fear', 'neutral', 'happiness', 'neutral', 'neutral', 'fear', 'fear', 'sadness', 'sadness', 'fear', 'sadness', 'neutral', 'happiness', 'happiness', 'neutral', 'happiness', 'happiness', 'neutral', 'happiness', 'sadness', 'sadness', 'fear', 'fear', 'sadness', 'fear', 'happiness', 'neutral', 'happiness', 'sadness', 'happiness', 'fear', 'love', 'neutral', 'neutral', 'surprise', 'fear', 'neutral', 'sadness', 'neutral', 'happiness', 'happiness', 'sadness', 'neutral', 'neutral', 'happiness', 'happiness', 'happiness', 'neutral', 'happiness', 'anger', 'neutral', 'neutral', 'neutral', 'sadness', 'sadness', 'fear', 'happiness', 'neutral', 'sadness', 'sadness', 'fear', 'fear', 'happiness', 'happiness', 'neutral', 'fear', 'sadness', 'neutral', 'sadness', 'fear', 'sadness', 'neutral', 'happiness', 'happiness', 'happiness', 'neutral', 'happiness', 'neutral', 'neutral', 'neutral', 'sadness', 'neutral', 'neutral', 'sadness', 'surprise', 'neutral', 'happiness', 'happiness', 'fear', 'sadness', 'happiness', 'anger', 'happiness', 'sadness', 'neutral', 'neutral', 'sadness', 'happiness', 'fear', 'happiness', 'sadness', 'happiness', 'neutral', 'neutral', 'fear', 'fear', 'neutral', 'happiness', 'fear', 'sadness', 'anger', 'neutral', 'happiness', 'happiness', 'sadness', 'fear', 'happiness', 'fear', 'happiness', 'fear', 'sadness', 'fear', 'happiness', 'sadness', 'fear', 'happiness', 'fear', 'happiness', 'happiness', 'sadness', 'happiness', 'neutral', 'sadness', 'sadness', 'happiness', 'neutral', 'fear', 'fear', 'neutral', 'sadness', 'happiness', 'happiness', 'neutral', 'sadness', 'sadness', 'fear', 'sadness', 'sadness', 'happiness', 'neutral', 'happiness', 'neutral', 'neutral', 'happiness', 'neutral', 'sadness', 'sadness', 'neutral', 'anger', 'sadness', 'neutral', 'love', 'sadness', 'happiness', 'sadness', 'fear', 'neutral', 'neutral', 'fear', 'neutral', 'sadness', 'fear', 'fear', 'fear', 'fear', 'sadness', 'happiness', 'neutral', 'fear', 'neutral', 'happiness', 'fear', 'anger', 'surprise', 'neutral', 'fear', 'fear', 'sadness', 'neutral', 'sadness', 'neutral', 'sadness', 'happiness', 'happiness', 'neutral', 'happiness', 'sadness', 'fear', 'happiness', 'happiness', 'happiness', 'neutral', 'fear', 'neutral', 'neutral', 'happiness', 'sadness', 'love', 'happiness', 'fear', 'happiness', 'neutral', 'happiness', 'neutral', 'surprise', 'neutral', 'sadness', 'sadness', 'fear', 'neutral', 'sadness', 'happiness', 'sadness', 'fear', 'happiness', 'happiness', 'fear', 'anger', 'fear', 'neutral', 'neutral', 'neutral', 'fear', 'happiness', 'happiness', 'sadness', 'fear', 'fear', 'sadness', 'happiness', 'fear', 'neutral', 'happiness', 'neutral', 'happiness', 'happiness', 'sadness', 'fear', 'neutral', 'happiness', 'fear', 'neutral', 'happiness', 'neutral', 'neutral', 'happiness', 'sadness', 'neutral', 'neutral', 'neutral', 'happiness', 'sadness', 'fear', 'neutral', 'neutral', 'neutral', 'sadness', 'happiness', 'neutral', 'happiness', 'happiness', 'fear', 'neutral', 'happiness', 'happiness', 'happiness', 'happiness', 'neutral', 'sadness', 'fear', 'happiness', 'sadness', 'fear', 'sadness', 'fear', 'neutral', 'fear', 'sadness', 'sadness', 'happiness', 'happiness', 'fear', 'happiness', 'sadness', 'happiness', 'fear', 'fear', 'fear', 'neutral', 'neutral', 'neutral', 'happiness', 'fear', 'sadness', 'sadness', 'love', 'happiness', 'neutral', 'fear', 'happiness', 'happiness', 'fear', 'neutral', 'sadness', 'fear', 'neutral', 'happiness', 'neutral', 'happiness', 'sadness', 'anger', 'fear', 'neutral', 'fear', 'happiness', 'fear', 'fear', 'happiness', 'fear', 'neutral', 'sadness', 'fear', 'fear', 'happiness', 'happiness', 'fear', 'happiness', 'happiness', 'neutral', 'happiness', 'neutral', 'fear', 'neutral', 'fear', 'sadness', 'happiness', 'fear', 'neutral', 'fear', 'fear', 'happiness', 'fear', 'sadness', 'sadness', 'neutral', 'neutral', 'neutral', 'happiness', 'happiness', 'happiness', 'fear', 'sadness', 'neutral', 'sadness', 'happiness', 'happiness', 'sadness', 'neutral', 'sadness', 'sadness', 'neutral', 'neutral', 'fear', 'fear', 'neutral', 'neutral', 'neutral', 'neutral', 'sadness', 'happiness', 'sadness', 'sadness', 'fear', 'neutral', 'anger', 'happiness', 'sadness', 'neutral', 'fear', 'sadness', 'sadness', 'anger', 'sadness', 'fear', 'sadness', 'sadness', 'happiness', 'neutral', 'sadness', 'neutral', 'fear', 'fear', 'happiness', 'neutral', 'fear', 'fear', 'happiness', 'sadness', 'sadness', 'neutral', 'sadness', 'fear', 'fear', 'sadness', 'fear', 'sadness', 'happiness', 'happiness', 'fear', 'sadness', 'fear', 'neutral', 'neutral', 'fear', 'fear', 'fear', 'fear', 'happiness', 'sadness', 'neutral', 'sadness', 'neutral', 'happiness', 'neutral', 'happiness', 'neutral', 'sadness', 'happiness', 'neutral', 'neutral', 'happiness', 'sadness', 'sadness', 'neutral', 'neutral', 'sadness', 'neutral', 'neutral', 'sadness', 'happiness', 'happiness', 'happiness', 'happiness', 'happiness', 'neutral', 'happiness', 'fear', 'happiness', 'fear', 'fear', 'neutral', 'fear', 'fear', 'fear', 'fear', 'sadness', 'happiness', 'fear', 'happiness', 'neutral', 'happiness', 'neutral', 'fear', 'fear', 'happiness', 'happiness', 'sadness', 'fear', 'happiness', 'fear', 'fear', 'neutral', 'neutral', 'happiness', 'happiness', 'anger', 'happiness', 'happiness', 'fear', 'neutral', 'neutral', 'sadness', 'fear', 'happiness', 'neutral', 'happiness', 'happiness', 'sadness', 'happiness', 'fear', 'happiness', 'sadness', 'neutral', 'happiness', 'fear', 'neutral', 'happiness', 'fear', 'neutral', 'neutral', 'neutral', 'happiness', 'happiness', 'neutral', 'sadness', 'neutral', 'sadness', 'fear', 'happiness', 'neutral', 'fear', 'neutral', 'happiness', 'happiness', 'neutral', 'neutral', 'fear', 'neutral', 'neutral', 'neutral', 'fear', 'fear', 'neutral', 'happiness', 'happiness', 'neutral', 'neutral', 'sadness', 'neutral', 'happiness', 'happiness', 'neutral', 'sadness', 'sadness', 'sadness', 'happiness', 'happiness', 'happiness', 'neutral', 'neutral', 'sadness', 'fear', 'neutral', 'sadness', 'fear', 'neutral', 'fear', 'fear', 'anger', 'surprise', 'sadness', 'anger', 'sadness', 'neutral', 'sadness', 'fear', 'neutral', 'sadness', 'neutral', 'neutral', 'sadness', 'happiness', 'fear', 'neutral', 'neutral', 'sadness', 'neutral', 'sadness', 'happiness', 'sadness', 'neutral', 'neutral', 'fear', 'sadness', 'neutral', 'happiness', 'neutral', 'sadness', 'neutral', 'fear', 'sadness', 'sadness', 'fear', 'fear', 'happiness', 'happiness', 'happiness', 'sadness', 'neutral', 'happiness', 'fear', 'happiness', 'fear', 'happiness', 'happiness', 'neutral', 'happiness', 'neutral', 'sadness', 'happiness', 'fear', 'happiness', 'happiness', 'fear', 'happiness', 'happiness', 'happiness', 'sadness', 'fear', 'neutral', 'fear', 'fear', 'fear', 'neutral', 'fear', 'happiness', 'fear', 'happiness', 'fear', 'happiness', 'fear', 'happiness', 'neutral', 'fear', 'neutral', 'happiness', 'neutral', 'neutral', 'neutral', 'happiness', 'sadness', 'sadness', 'fear', 'sadness', 'fear', 'neutral', 'sadness', 'fear', 'sadness', 'fear', 'neutral', 'fear', 'neutral', 'fear', 'happiness', 'surprise', 'happiness', 'sadness', 'sadness', 'sadness', 'happiness', 'sadness', 'neutral', 'happiness', 'sadness', 'fear', 'neutral', 'fear', 'neutral', 'fear', 'happiness', 'happiness', 'neutral', 'sadness', 'fear', 'fear', 'neutral', 'fear', 'happiness', 'sadness', 'fear', 'happiness', 'anger', 'neutral', 'fear', 'anger', 'fear', 'fear', 'happiness', 'happiness', 'surprise', 'fear', 'fear', 'happiness', 'neutral', 'sadness', 'happiness', 'sadness', 'fear', 'anger', 'fear', 'happiness', 'sadness', 'anger', 'sadness', 'neutral', 'neutral', 'sadness', 'fear', 'neutral', 'neutral', 'fear', 'fear', 'sadness', 'happiness', 'fear', 'happiness', 'sadness', 'happiness', 'neutral', 'neutral', 'happiness', 'neutral', 'neutral', 'fear', 'happiness', 'neutral', 'fear', 'sadness', 'fear', 'fear', 'fear', 'fear', 'neutral', 'happiness', 'fear', 'happiness', 'fear', 'sadness', 'neutral', 'neutral', 'neutral', 'happiness', 'fear', 'neutral', 'fear', 'neutral', 'neutral', 'neutral', 'sadness', 'neutral', 'neutral', 'fear', 'happiness', 'fear', 'fear', 'sadness', 'neutral', 'neutral', 'fear', 'fear', 'sadness', 'happiness', 'happiness', 'happiness', 'sadness', 'fear', 'sadness', 'happiness', 'happiness', 'neutral', 'neutral', 'neutral', 'fear', 'neutral', 'sadness', 'sadness', 'neutral', 'neutral', 'sadness', 'happiness', 'love', 'happiness', 'neutral', 'sadness', 'happiness', 'neutral', 'fear', 'fear', 'sadness', 'neutral', 'fear', 'anger', 'neutral', 'fear', 'neutral', 'neutral', 'happiness', 'neutral', 'happiness', 'fear', 'neutral', 'neutral', 'sadness', 'fear', 'happiness', 'neutral', 'fear', 'fear', 'fear', 'happiness', 'happiness', 'neutral', 'neutral', 'sadness', 'happiness', 'neutral', 'fear', 'happiness', 'fear', 'fear', 'happiness', 'sadness', 'happiness', 'happiness', 'happiness', 'fear', 'happiness', 'happiness', 'neutral', 'fear', 'happiness', 'happiness', 'happiness', 'neutral', 'sadness', 'neutral', 'happiness', 'fear', 'sadness', 'happiness', 'happiness', 'happiness', 'fear', 'fear', 'neutral', 'fear', 'neutral', 'neutral', 'happiness', 'fear', 'happiness', 'happiness', 'fear', 'fear', 'neutral', 'sadness', 'neutral', 'neutral', 'sadness', 'neutral', 'neutral', 'love', 'neutral', 'neutral', 'happiness', 'fear', 'anger', 'fear', 'fear', 'happiness', 'fear', 'sadness', 'sadness', 'sadness', 'happiness', 'happiness', 'happiness', 'neutral', 'happiness', 'neutral', 'fear', 'sadness', 'neutral', 'happiness', 'happiness', 'fear', 'neutral', 'neutral', 'happiness', 'neutral', 'sadness', 'neutral', 'fear', 'neutral', 'sadness', 'neutral', 'happiness', 'fear', 'happiness', 'neutral', 'fear', 'happiness', 'neutral', 'sadness', 'neutral', 'happiness', 'fear', 'neutral', 'neutral', 'happiness', 'happiness', 'neutral', 'happiness', 'neutral', 'neutral', 'fear', 'happiness', 'happiness', 'fear', 'happiness', 'fear', 'fear', 'fear', 'sadness', 'neutral', 'happiness', 'neutral', 'fear', 'sadness', 'neutral', 'sadness', 'fear', 'happiness', 'sadness', 'neutral', 'fear', 'fear', 'neutral', 'sadness', 'fear', 'neutral', 'neutral', 'neutral', 'neutral', 'neutral', 'fear', 'happiness', 'neutral', 'neutral', 'happiness', 'happiness', 'neutral', 'happiness', 'neutral', 'happiness', 'fear', 'neutral', 'neutral', 'happiness', 'neutral', 'happiness', 'fear', 'neutral', 'happiness', 'neutral', 'sadness', 'fear', 'neutral', 'neutral', 'neutral', 'neutral', 'neutral', 'fear', 'fear', 'happiness', 'happiness', 'neutral', 'sadness', 'sadness', 'neutral', 'fear', 'neutral', 'fear', 'neutral', 'fear', 'happiness', 'sadness', 'sadness', 'happiness', 'fear', 'sadness', 'fear', 'anger', 'happiness', 'fear', 'neutral', 'happiness', 'fear', 'sadness', 'sadness', 'neutral', 'neutral', 'sadness', 'fear', 'happiness', 'fear', 'neutral', 'happiness', 'fear', 'neutral', 'happiness', 'fear', 'neutral', 'sadness', 'happiness', 'neutral', 'happiness', 'neutral', 'sadness', 'happiness', 'fear', 'sadness', 'sadness', 'anger', 'neutral', 'happiness', 'happiness', 'happiness', 'neutral']\n"
          ],
          "name": "stdout"
        }
      ]
    },
    {
      "cell_type": "code",
      "metadata": {
        "colab": {
          "base_uri": "https://localhost:8080/"
        },
        "id": "CcSV4oeLBUdA",
        "outputId": "3ed7aea4-fdb5-4a8b-b660-7b19adee7fb6"
      },
      "source": [
        "import time\n",
        "\n",
        "message = ['i am concern, i am going to fail this module!']\n",
        "\n",
        "seq = tokenizer.texts_to_sequences(message)\n",
        "padded = pad_sequences(seq, maxlen=max_seq_len)\n",
        "\n",
        "start_time = time.time()\n",
        "pred = model.predict(padded)\n",
        "\n",
        "print('Message: ' + str(message))\n",
        "print('predicted: {} ({:.2f} seconds)'.format(class_names[np.argmax(pred)], (time.time() - start_time)))"
      ],
      "execution_count": null,
      "outputs": [
        {
          "output_type": "stream",
          "text": [
            "Message: ['i am concern, i am going to fail this module!']\n",
            "predicted: sadness (0.05 seconds)\n"
          ],
          "name": "stdout"
        }
      ]
    },
    {
      "cell_type": "code",
      "metadata": {
        "colab": {
          "base_uri": "https://localhost:8080/"
        },
        "id": "bsCKa8HiOnpA",
        "outputId": "9fcfa65b-3481-4a9f-f0f5-a2700d5e72b4"
      },
      "source": [
        "model.compile(loss = 'categorical_crossentropy', optimizer='adam', metrics = ['accuracy'])\n",
        "model.summary()"
      ],
      "execution_count": null,
      "outputs": [
        {
          "output_type": "stream",
          "text": [
            "Model: \"sequential\"\n",
            "_________________________________________________________________\n",
            "Layer (type)                 Output Shape              Param #   \n",
            "=================================================================\n",
            "embedding (Embedding)        (None, 500, 300)          7245600   \n",
            "_________________________________________________________________\n",
            "conv1d (Conv1D)              (None, 498, 256)          230656    \n",
            "_________________________________________________________________\n",
            "global_max_pooling1d (Global (None, 256)               0         \n",
            "_________________________________________________________________\n",
            "dense (Dense)                (None, 256)               65792     \n",
            "_________________________________________________________________\n",
            "dense_1 (Dense)              (None, 7)                 1799      \n",
            "=================================================================\n",
            "Total params: 7,543,847\n",
            "Trainable params: 298,247\n",
            "Non-trainable params: 7,245,600\n",
            "_________________________________________________________________\n"
          ],
          "name": "stdout"
        }
      ]
    },
    {
      "cell_type": "code",
      "metadata": {
        "colab": {
          "base_uri": "https://localhost:8080/"
        },
        "id": "Pb_ucZXMO0Hr",
        "outputId": "e4e08287-ebf8-4e1d-eb62-86036d47b35f"
      },
      "source": [
        "batch_size = 256\n",
        "epochs = 15\n",
        "\n",
        "hist = model.fit(X_train_pad, y_train, \n",
        "                 batch_size=batch_size,\n",
        "                 epochs=epochs,\n",
        "                 validation_data=(X_test_pad,y_test))"
      ],
      "execution_count": null,
      "outputs": [
        {
          "output_type": "stream",
          "text": [
            "Epoch 1/15\n",
            "172/172 [==============================] - 10s 57ms/step - loss: 0.9604 - accuracy: 0.6420 - val_loss: 1.1308 - val_accuracy: 0.5819\n",
            "Epoch 2/15\n",
            "172/172 [==============================] - 10s 56ms/step - loss: 0.8508 - accuracy: 0.6877 - val_loss: 1.1846 - val_accuracy: 0.5677\n",
            "Epoch 3/15\n",
            "172/172 [==============================] - 10s 56ms/step - loss: 0.7397 - accuracy: 0.7352 - val_loss: 1.2888 - val_accuracy: 0.5518\n",
            "Epoch 4/15\n",
            "172/172 [==============================] - 10s 56ms/step - loss: 0.6307 - accuracy: 0.7788 - val_loss: 1.3572 - val_accuracy: 0.5474\n",
            "Epoch 5/15\n",
            "172/172 [==============================] - 10s 56ms/step - loss: 0.5123 - accuracy: 0.8282 - val_loss: 1.4673 - val_accuracy: 0.5390\n",
            "Epoch 6/15\n",
            "172/172 [==============================] - 10s 56ms/step - loss: 0.4147 - accuracy: 0.8642 - val_loss: 1.6281 - val_accuracy: 0.5342\n",
            "Epoch 7/15\n",
            "172/172 [==============================] - 10s 56ms/step - loss: 0.3335 - accuracy: 0.8948 - val_loss: 1.7322 - val_accuracy: 0.5393\n",
            "Epoch 8/15\n",
            "172/172 [==============================] - 10s 56ms/step - loss: 0.2643 - accuracy: 0.9195 - val_loss: 1.8829 - val_accuracy: 0.5324\n",
            "Epoch 9/15\n",
            "172/172 [==============================] - 10s 56ms/step - loss: 0.2161 - accuracy: 0.9372 - val_loss: 2.0901 - val_accuracy: 0.5278\n",
            "Epoch 10/15\n",
            "172/172 [==============================] - 10s 56ms/step - loss: 0.1898 - accuracy: 0.9451 - val_loss: 2.2584 - val_accuracy: 0.5126\n",
            "Epoch 11/15\n",
            "172/172 [==============================] - 10s 56ms/step - loss: 0.1648 - accuracy: 0.9533 - val_loss: 2.2891 - val_accuracy: 0.5215\n",
            "Epoch 12/15\n",
            "172/172 [==============================] - 10s 56ms/step - loss: 0.1448 - accuracy: 0.9604 - val_loss: 2.4483 - val_accuracy: 0.5211\n",
            "Epoch 13/15\n",
            "172/172 [==============================] - 10s 56ms/step - loss: 0.1389 - accuracy: 0.9620 - val_loss: 2.6271 - val_accuracy: 0.5155\n",
            "Epoch 14/15\n",
            "172/172 [==============================] - 10s 56ms/step - loss: 0.1334 - accuracy: 0.9628 - val_loss: 2.6489 - val_accuracy: 0.5152\n",
            "Epoch 15/15\n",
            "172/172 [==============================] - 10s 56ms/step - loss: 0.1202 - accuracy: 0.9671 - val_loss: 2.6730 - val_accuracy: 0.5259\n"
          ],
          "name": "stdout"
        }
      ]
    },
    {
      "cell_type": "code",
      "metadata": {
        "colab": {
          "base_uri": "https://localhost:8080/",
          "height": 573
        },
        "id": "dXHwbi7UO2-p",
        "outputId": "63f9a70d-9749-46ee-a632-b68df69b809f"
      },
      "source": [
        "# Accuracy plot\n",
        "plt.plot(hist.history['accuracy'])\n",
        "plt.plot(hist.history['val_accuracy'])\n",
        "plt.title('model accuracy')\n",
        "plt.ylabel('accuracy')\n",
        "plt.xlabel('epoch')\n",
        "plt.legend(['train', 'validation'], loc='upper left')\n",
        "plt.show()\n",
        "\n",
        "# Loss plot\n",
        "plt.plot(hist.history['loss'])\n",
        "plt.plot(hist.history['val_loss'])\n",
        "plt.title('model loss')\n",
        "plt.ylabel('loss')\n",
        "plt.xlabel('epoch')\n",
        "plt.legend(['train', 'validation'], loc='upper left')\n",
        "plt.show()"
      ],
      "execution_count": null,
      "outputs": [
        {
          "output_type": "display_data",
          "data": {
            "image/png": "[encoded data removed]",
            "text/plain": [
              "<Figure size 432x288 with 1 Axes>"
            ]
          },
          "metadata": {
            "tags": [],
            "needs_background": "light"
          }
        },
        {
          "output_type": "display_data",
          "data": {
            "image/png": "[encoded data removed]",
            "text/plain": [
              "<Figure size 432x288 with 1 Axes>"
            ]
          },
          "metadata": {
            "tags": [],
            "needs_background": "light"
          }
        }
      ]
    },
    {
      "cell_type": "code",
      "metadata": {
        "id": "d-eMfayHBZIU"
      },
      "source": [
        "# creates a HDF5 file 'my_model.h5'\n",
        "model.save('cnn_w_Word2Vec.h5')\n",
        "\n",
        "\n",
        "from keras.models import load_model\n",
        "predictor = load_model('cnn_w_Word2Vec.h5')"
      ],
      "execution_count": null,
      "outputs": []
    },
    {
      "cell_type": "markdown",
      "metadata": {
        "id": "V3EXlSw1sR17"
      },
      "source": [
        "# Emotion Classification in short texts with BERT"
      ]
    },
    {
      "cell_type": "code",
      "metadata": {
        "colab": {
          "base_uri": "https://localhost:8080/"
        },
        "id": "DAr3s39ssQlT",
        "outputId": "581d0104-ecc9-4bf4-debc-89091682cee0"
      },
      "source": [
        "# install ktrain on Google Colab\n",
        "!pip3 install ktrain"
      ],
      "execution_count": null,
      "outputs": [
        {
          "output_type": "stream",
          "text": [
            "Collecting ktrain\n",
            "\u001b[?25l  Downloading https://files.pythonhosted.org/packages/bd/52/aa566f14064dd8904e37d2346431465f20a053df8ad89eae246dcc073dc5/ktrain-0.25.0.tar.gz (25.3MB)\n",
            "\u001b[K     |████████████████████████████████| 25.3MB 1.5MB/s \n",
            "\u001b[?25hRequirement already satisfied: scikit-learn>=0.21.3 in /usr/local/lib/python3.6/dist-packages (from ktrain) (0.22.2.post1)\n",
            "Requirement already satisfied: matplotlib>=3.0.0 in /usr/local/lib/python3.6/dist-packages (from ktrain) (3.2.2)\n",
            "Requirement already satisfied: pandas>=1.0.1 in /usr/local/lib/python3.6/dist-packages (from ktrain) (1.1.4)\n",
            "Requirement already satisfied: fastprogress>=0.1.21 in /usr/local/lib/python3.6/dist-packages (from ktrain) (1.0.0)\n",
            "Collecting keras_bert>=0.86.0\n",
            "  Downloading https://files.pythonhosted.org/packages/e2/7f/95fabd29f4502924fa3f09ff6538c5a7d290dfef2c2fe076d3d1a16e08f0/keras-bert-0.86.0.tar.gz\n",
            "Requirement already satisfied: requests in /usr/local/lib/python3.6/dist-packages (from ktrain) (2.23.0)\n",
            "Requirement already satisfied: joblib in /usr/local/lib/python3.6/dist-packages (from ktrain) (0.17.0)\n",
            "Collecting langdetect\n",
            "\u001b[?25l  Downloading https://files.pythonhosted.org/packages/56/a3/8407c1e62d5980188b4acc45ef3d94b933d14a2ebc9ef3505f22cf772570/langdetect-1.0.8.tar.gz (981kB)\n",
            "\u001b[K     |████████████████████████████████| 983kB 52.5MB/s \n",
            "\u001b[?25hRequirement already satisfied: jieba in /usr/local/lib/python3.6/dist-packages (from ktrain) (0.42.1)\n",
            "Collecting cchardet\n",
            "\u001b[?25l  Downloading https://files.pythonhosted.org/packages/a0/e5/a0b9edd8664ea3b0d3270c451ebbf86655ed9fc4c3e4c45b9afae9c2e382/cchardet-2.1.7-cp36-cp36m-manylinux2010_x86_64.whl (263kB)\n",
            "\u001b[K     |████████████████████████████████| 266kB 50.4MB/s \n",
            "\u001b[?25hRequirement already satisfied: networkx>=2.3 in /usr/local/lib/python3.6/dist-packages (from ktrain) (2.5)\n",
            "Requirement already satisfied: bokeh in /usr/local/lib/python3.6/dist-packages (from ktrain) (2.1.1)\n",
            "Collecting seqeval==0.0.19\n",
            "  Downloading https://files.pythonhosted.org/packages/93/e5/b7705156a77f742cfe4fc6f22d0c71591edb2d243328dff2f8fc0f933ab6/seqeval-0.0.19.tar.gz\n",
            "Requirement already satisfied: packaging in /usr/local/lib/python3.6/dist-packages (from ktrain) (20.4)\n",
            "Collecting transformers>=3.1.0\n",
            "\u001b[?25l  Downloading https://files.pythonhosted.org/packages/3a/83/e74092e7f24a08d751aa59b37a9fc572b2e4af3918cb66f7766c3affb1b4/transformers-3.5.1-py3-none-any.whl (1.3MB)\n",
            "\u001b[K     |████████████████████████████████| 1.3MB 56.7MB/s \n",
            "\u001b[?25hRequirement already satisfied: ipython in /usr/local/lib/python3.6/dist-packages (from ktrain) (5.5.0)\n",
            "Collecting syntok\n",
            "  Downloading https://files.pythonhosted.org/packages/8c/76/a49e73a04b3e3a14ce232e8e28a1587f8108baa665644fe8c40e307e792e/syntok-1.3.1.tar.gz\n",
            "Collecting whoosh\n",
            "\u001b[?25l  Downloading https://files.pythonhosted.org/packages/ba/19/24d0f1f454a2c1eb689ca28d2f178db81e5024f42d82729a4ff6771155cf/Whoosh-2.7.4-py2.py3-none-any.whl (468kB)\n",
            "\u001b[K     |████████████████████████████████| 471kB 49.6MB/s \n",
            "\u001b[?25hRequirement already satisfied: scipy>=0.17.0 in /usr/local/lib/python3.6/dist-packages (from scikit-learn>=0.21.3->ktrain) (1.4.1)\n",
            "Requirement already satisfied: numpy>=1.11.0 in /usr/local/lib/python3.6/dist-packages (from scikit-learn>=0.21.3->ktrain) (1.18.5)\n",
            "Requirement already satisfied: pyparsing!=2.0.4,!=2.1.2,!=2.1.6,>=2.0.1 in /usr/local/lib/python3.6/dist-packages (from matplotlib>=3.0.0->ktrain) (2.4.7)\n",
            "Requirement already satisfied: kiwisolver>=1.0.1 in /usr/local/lib/python3.6/dist-packages (from matplotlib>=3.0.0->ktrain) (1.3.1)\n",
            "Requirement already satisfied: python-dateutil>=2.1 in /usr/local/lib/python3.6/dist-packages (from matplotlib>=3.0.0->ktrain) (2.8.1)\n",
            "Requirement already satisfied: cycler>=0.10 in /usr/local/lib/python3.6/dist-packages (from matplotlib>=3.0.0->ktrain) (0.10.0)\n",
            "Requirement already satisfied: pytz>=2017.2 in /usr/local/lib/python3.6/dist-packages (from pandas>=1.0.1->ktrain) (2018.9)\n",
            "Requirement already satisfied: Keras>=2.4.3 in /usr/local/lib/python3.6/dist-packages (from keras_bert>=0.86.0->ktrain) (2.4.3)\n",
            "Collecting keras-transformer>=0.38.0\n",
            "  Downloading https://files.pythonhosted.org/packages/89/6c/d6f0c164f4cc16fbc0d0fea85f5526e87a7d2df7b077809e422a7e626150/keras-transformer-0.38.0.tar.gz\n",
            "Requirement already satisfied: idna<3,>=2.5 in /usr/local/lib/python3.6/dist-packages (from requests->ktrain) (2.10)\n",
            "Requirement already satisfied: chardet<4,>=3.0.2 in /usr/local/lib/python3.6/dist-packages (from requests->ktrain) (3.0.4)\n",
            "Requirement already satisfied: urllib3!=1.25.0,!=1.25.1,<1.26,>=1.21.1 in /usr/local/lib/python3.6/dist-packages (from requests->ktrain) (1.24.3)\n",
            "Requirement already satisfied: certifi>=2017.4.17 in /usr/local/lib/python3.6/dist-packages (from requests->ktrain) (2020.6.20)\n",
            "Requirement already satisfied: six in /usr/local/lib/python3.6/dist-packages (from langdetect->ktrain) (1.15.0)\n",
            "Requirement already satisfied: decorator>=4.3.0 in /usr/local/lib/python3.6/dist-packages (from networkx>=2.3->ktrain) (4.4.2)\n",
            "Requirement already satisfied: PyYAML>=3.10 in /usr/local/lib/python3.6/dist-packages (from bokeh->ktrain) (3.13)\n",
            "Requirement already satisfied: pillow>=4.0 in /usr/local/lib/python3.6/dist-packages (from bokeh->ktrain) (7.0.0)\n",
            "Requirement already satisfied: tornado>=5.1 in /usr/local/lib/python3.6/dist-packages (from bokeh->ktrain) (5.1.1)\n",
            "Requirement already satisfied: typing-extensions>=3.7.4 in /usr/local/lib/python3.6/dist-packages (from bokeh->ktrain) (3.7.4.3)\n",
            "Requirement already satisfied: Jinja2>=2.7 in /usr/local/lib/python3.6/dist-packages (from bokeh->ktrain) (2.11.2)\n",
            "Collecting sacremoses\n",
            "\u001b[?25l  Downloading https://files.pythonhosted.org/packages/7d/34/09d19aff26edcc8eb2a01bed8e98f13a1537005d31e95233fd48216eed10/sacremoses-0.0.43.tar.gz (883kB)\n",
            "\u001b[K     |████████████████████████████████| 890kB 44.8MB/s \n",
            "\u001b[?25hRequirement already satisfied: tqdm>=4.27 in /usr/local/lib/python3.6/dist-packages (from transformers>=3.1.0->ktrain) (4.41.1)\n",
            "Collecting tokenizers==0.9.3\n",
            "\u001b[?25l  Downloading https://files.pythonhosted.org/packages/4c/34/b39eb9994bc3c999270b69c9eea40ecc6f0e97991dba28282b9fd32d44ee/tokenizers-0.9.3-cp36-cp36m-manylinux1_x86_64.whl (2.9MB)\n",
            "\u001b[K     |████████████████████████████████| 2.9MB 50.7MB/s \n",
            "\u001b[?25hRequirement already satisfied: regex!=2019.12.17 in /usr/local/lib/python3.6/dist-packages (from transformers>=3.1.0->ktrain) (2019.12.20)\n",
            "Requirement already satisfied: dataclasses; python_version < \"3.7\" in /usr/local/lib/python3.6/dist-packages (from transformers>=3.1.0->ktrain) (0.7)\n",
            "Collecting sentencepiece==0.1.91\n",
            "\u001b[?25l  Downloading https://files.pythonhosted.org/packages/d4/a4/d0a884c4300004a78cca907a6ff9a5e9fe4f090f5d95ab341c53d28cbc58/sentencepiece-0.1.91-cp36-cp36m-manylinux1_x86_64.whl (1.1MB)\n",
            "\u001b[K     |████████████████████████████████| 1.1MB 46.5MB/s \n",
            "\u001b[?25hRequirement already satisfied: filelock in /usr/local/lib/python3.6/dist-packages (from transformers>=3.1.0->ktrain) (3.0.12)\n",
            "Requirement already satisfied: protobuf in /usr/local/lib/python3.6/dist-packages (from transformers>=3.1.0->ktrain) (3.12.4)\n",
            "Requirement already satisfied: traitlets>=4.2 in /usr/local/lib/python3.6/dist-packages (from ipython->ktrain) (4.3.3)\n",
            "Requirement already satisfied: pexpect; sys_platform != \"win32\" in /usr/local/lib/python3.6/dist-packages (from ipython->ktrain) (4.8.0)\n",
            "Requirement already satisfied: pygments in /usr/local/lib/python3.6/dist-packages (from ipython->ktrain) (2.6.1)\n",
            "Requirement already satisfied: prompt-toolkit<2.0.0,>=1.0.4 in /usr/local/lib/python3.6/dist-packages (from ipython->ktrain) (1.0.18)\n",
            "Requirement already satisfied: pickleshare in /usr/local/lib/python3.6/dist-packages (from ipython->ktrain) (0.7.5)\n",
            "Requirement already satisfied: setuptools>=18.5 in /usr/local/lib/python3.6/dist-packages (from ipython->ktrain) (50.3.2)\n",
            "Requirement already satisfied: simplegeneric>0.8 in /usr/local/lib/python3.6/dist-packages (from ipython->ktrain) (0.8.1)\n",
            "Requirement already satisfied: h5py in /usr/local/lib/python3.6/dist-packages (from Keras>=2.4.3->keras_bert>=0.86.0->ktrain) (2.10.0)\n",
            "Collecting keras-pos-embd>=0.11.0\n",
            "  Downloading https://files.pythonhosted.org/packages/09/70/b63ed8fc660da2bb6ae29b9895401c628da5740c048c190b5d7107cadd02/keras-pos-embd-0.11.0.tar.gz\n",
            "Collecting keras-multi-head>=0.27.0\n",
            "  Downloading https://files.pythonhosted.org/packages/e6/32/45adf2549450aca7867deccfa04af80a0ab1ca139af44b16bc669e0e09cd/keras-multi-head-0.27.0.tar.gz\n",
            "Collecting keras-layer-normalization>=0.14.0\n",
            "  Downloading https://files.pythonhosted.org/packages/a4/0e/d1078df0494bac9ce1a67954e5380b6e7569668f0f3b50a9531c62c1fc4a/keras-layer-normalization-0.14.0.tar.gz\n",
            "Collecting keras-position-wise-feed-forward>=0.6.0\n",
            "  Downloading https://files.pythonhosted.org/packages/e3/59/f0faa1037c033059e7e9e7758e6c23b4d1c0772cd48de14c4b6fd4033ad5/keras-position-wise-feed-forward-0.6.0.tar.gz\n",
            "Collecting keras-embed-sim>=0.8.0\n",
            "  Downloading https://files.pythonhosted.org/packages/57/ef/61a1e39082c9e1834a2d09261d4a0b69f7c818b359216d4e1912b20b1c86/keras-embed-sim-0.8.0.tar.gz\n",
            "Requirement already satisfied: MarkupSafe>=0.23 in /usr/local/lib/python3.6/dist-packages (from Jinja2>=2.7->bokeh->ktrain) (1.1.1)\n",
            "Requirement already satisfied: click in /usr/local/lib/python3.6/dist-packages (from sacremoses->transformers>=3.1.0->ktrain) (7.1.2)\n",
            "Requirement already satisfied: ipython-genutils in /usr/local/lib/python3.6/dist-packages (from traitlets>=4.2->ipython->ktrain) (0.2.0)\n",
            "Requirement already satisfied: ptyprocess>=0.5 in /usr/local/lib/python3.6/dist-packages (from pexpect; sys_platform != \"win32\"->ipython->ktrain) (0.6.0)\n",
            "Requirement already satisfied: wcwidth in /usr/local/lib/python3.6/dist-packages (from prompt-toolkit<2.0.0,>=1.0.4->ipython->ktrain) (0.2.5)\n",
            "Collecting keras-self-attention==0.46.0\n",
            "  Downloading https://files.pythonhosted.org/packages/15/6b/c804924a056955fa1f3ff767945187103cfc851ba9bd0fc5a6c6bc18e2eb/keras-self-attention-0.46.0.tar.gz\n",
            "Building wheels for collected packages: ktrain, keras-bert, langdetect, seqeval, syntok, keras-transformer, sacremoses, keras-pos-embd, keras-multi-head, keras-layer-normalization, keras-position-wise-feed-forward, keras-embed-sim, keras-self-attention\n",
            "  Building wheel for ktrain (setup.py) ... \u001b[?25l\u001b[?25hdone\n",
            "  Created wheel for ktrain: filename=ktrain-0.25.0-cp36-none-any.whl size=25274500 sha256=3eb71c2f94a62dbfa407593ec6318019a5a0f4de687d6217e3fc4f494f54871c\n",
            "  Stored in directory: /root/.cache/pip/wheels/5c/73/05/f36d0027bb6575384e21506dbba8db36a7825f15a24f09b2d5\n",
            "  Building wheel for keras-bert (setup.py) ... \u001b[?25l\u001b[?25hdone\n",
            "  Created wheel for keras-bert: filename=keras_bert-0.86.0-cp36-none-any.whl size=34145 sha256=9c1e642b2142d1cc9303203120f8556be5c59a39fafc71f487276ca63b661906\n",
            "  Stored in directory: /root/.cache/pip/wheels/66/f0/b1/748128b58562fc9e31b907bb5e2ab6a35eb37695e83911236b\n",
            "  Building wheel for langdetect (setup.py) ... \u001b[?25l\u001b[?25hdone\n",
            "  Created wheel for langdetect: filename=langdetect-1.0.8-cp36-none-any.whl size=993195 sha256=54509de3087db0b984d4a7a1d780cc7aaf3ad907fd7e81c64840908a9f369efd\n",
            "  Stored in directory: /root/.cache/pip/wheels/8d/b3/aa/6d99de9f3841d7d3d40a60ea06e6d669e8e5012e6c8b947a57\n",
            "  Building wheel for seqeval (setup.py) ... \u001b[?25l\u001b[?25hdone\n",
            "  Created wheel for seqeval: filename=seqeval-0.0.19-cp36-none-any.whl size=9919 sha256=52aef14d50f40f9f6ecd002e8910b61038b8a47bc1824e2f67c79a608285df47\n",
            "  Stored in directory: /root/.cache/pip/wheels/8d/1f/bf/1198beceed805a2099060975f6281d1b01046dd279e19c97be\n",
            "  Building wheel for syntok (setup.py) ... \u001b[?25l\u001b[?25hdone\n",
            "  Created wheel for syntok: filename=syntok-1.3.1-cp36-none-any.whl size=20919 sha256=4b4c8573ffc8a5d163b48b16aefdb046e36429e44e7a4e662fe23a208318d415\n",
            "  Stored in directory: /root/.cache/pip/wheels/51/c6/a4/be1920586c49469846bcd2888200bdecfe109ec421dab9be2d\n",
            "  Building wheel for keras-transformer (setup.py) ... \u001b[?25l\u001b[?25hdone\n",
            "  Created wheel for keras-transformer: filename=keras_transformer-0.38.0-cp36-none-any.whl size=12942 sha256=85c7ef9a8f04845d30afcb35564ce14cb1d475cd473f96b0885fac6f2193b47a\n",
            "  Stored in directory: /root/.cache/pip/wheels/e5/fb/3a/37b2b9326c799aa010ae46a04ddb04f320d8c77c0b7e837f4e\n",
            "  Building wheel for sacremoses (setup.py) ... \u001b[?25l\u001b[?25hdone\n",
            "  Created wheel for sacremoses: filename=sacremoses-0.0.43-cp36-none-any.whl size=893257 sha256=0e6368210097f2bd9e5fe5915ec9c257ad2632f2b28ffd229ec6fff71d0385f8\n",
            "  Stored in directory: /root/.cache/pip/wheels/29/3c/fd/7ce5c3f0666dab31a50123635e6fb5e19ceb42ce38d4e58f45\n",
            "  Building wheel for keras-pos-embd (setup.py) ... \u001b[?25l\u001b[?25hdone\n",
            "  Created wheel for keras-pos-embd: filename=keras_pos_embd-0.11.0-cp36-none-any.whl size=7554 sha256=e3da851bf5c0474ef3c24d955a2b128695b03212b452dc8d4e5ddadc0ea2af94\n",
            "  Stored in directory: /root/.cache/pip/wheels/5b/a1/a0/ce6b1d49ba1a9a76f592e70cf297b05c96bc9f418146761032\n",
            "  Building wheel for keras-multi-head (setup.py) ... \u001b[?25l\u001b[?25hdone\n",
            "  Created wheel for keras-multi-head: filename=keras_multi_head-0.27.0-cp36-none-any.whl size=15612 sha256=26036f9c69e0fd736be206f615e08225c39c634e291ee8a298fe3d7f02e637d3\n",
            "  Stored in directory: /root/.cache/pip/wheels/b5/b4/49/0a0c27dcb93c13af02fea254ff51d1a43a924dd4e5b7a7164d\n",
            "  Building wheel for keras-layer-normalization (setup.py) ... \u001b[?25l\u001b[?25hdone\n",
            "  Created wheel for keras-layer-normalization: filename=keras_layer_normalization-0.14.0-cp36-none-any.whl size=5268 sha256=908d685b9e1a86d8073afd6dfb7856db7e2598a0ae54db01854cd91c30b08f01\n",
            "  Stored in directory: /root/.cache/pip/wheels/54/80/22/a638a7d406fd155e507aa33d703e3fa2612b9eb7bb4f4fe667\n",
            "  Building wheel for keras-position-wise-feed-forward (setup.py) ... \u001b[?25l\u001b[?25hdone\n",
            "  Created wheel for keras-position-wise-feed-forward: filename=keras_position_wise_feed_forward-0.6.0-cp36-none-any.whl size=5626 sha256=b874898214cf7057e16d286fd376bee29d66fef57608b5575b4c83aded106f21\n",
            "  Stored in directory: /root/.cache/pip/wheels/39/e2/e2/3514fef126a00574b13bc0b9e23891800158df3a3c19c96e3b\n",
            "  Building wheel for keras-embed-sim (setup.py) ... \u001b[?25l\u001b[?25hdone\n",
            "  Created wheel for keras-embed-sim: filename=keras_embed_sim-0.8.0-cp36-none-any.whl size=4559 sha256=1e34fc9c7bab2c8748042f6e98154fe9e27e19d5819c61942bb76095021de5e6\n",
            "  Stored in directory: /root/.cache/pip/wheels/49/45/8b/c111f6cc8bec253e984677de73a6f4f5d2f1649f42aac191c8\n",
            "  Building wheel for keras-self-attention (setup.py) ... \u001b[?25l\u001b[?25hdone\n",
            "  Created wheel for keras-self-attention: filename=keras_self_attention-0.46.0-cp36-none-any.whl size=17278 sha256=7ce7af4855982dec312cb75d085df49bee5b6de17f31088d7eb376a43e8fec87\n",
            "  Stored in directory: /root/.cache/pip/wheels/d2/2e/80/fec4c05eb23c8e13b790e26d207d6e0ffe8013fad8c6bdd4d2\n",
            "Successfully built ktrain keras-bert langdetect seqeval syntok keras-transformer sacremoses keras-pos-embd keras-multi-head keras-layer-normalization keras-position-wise-feed-forward keras-embed-sim keras-self-attention\n",
            "Installing collected packages: keras-pos-embd, keras-self-attention, keras-multi-head, keras-layer-normalization, keras-position-wise-feed-forward, keras-embed-sim, keras-transformer, keras-bert, langdetect, cchardet, seqeval, sacremoses, tokenizers, sentencepiece, transformers, syntok, whoosh, ktrain\n",
            "Successfully installed cchardet-2.1.7 keras-bert-0.86.0 keras-embed-sim-0.8.0 keras-layer-normalization-0.14.0 keras-multi-head-0.27.0 keras-pos-embd-0.11.0 keras-position-wise-feed-forward-0.6.0 keras-self-attention-0.46.0 keras-transformer-0.38.0 ktrain-0.25.0 langdetect-1.0.8 sacremoses-0.0.43 sentencepiece-0.1.91 seqeval-0.0.19 syntok-1.3.1 tokenizers-0.9.3 transformers-3.5.1 whoosh-2.7.4\n"
          ],
          "name": "stdout"
        }
      ]
    },
    {
      "cell_type": "code",
      "metadata": {
        "id": "45aXdEvSsZDd"
      },
      "source": [
        "import ktrain\n",
        "from ktrain import text"
      ],
      "execution_count": null,
      "outputs": []
    },
    {
      "cell_type": "code",
      "metadata": {
        "id": "vXYMyPJx8zmy"
      },
      "source": [
        "X_train, X_test, Y_train, Y_test = train_test_split(normalized_df['content'], normalized_df['sentiment'], test_size=0.2)\n",
        "X_train = X_train.to_list()\n",
        "X_test = X_test.to_list()\n",
        "Y_test = Y_test.to_list()\n",
        "Y_train = Y_train.to_list()"
      ],
      "execution_count": null,
      "outputs": []
    },
    {
      "cell_type": "code",
      "metadata": {
        "colab": {
          "base_uri": "https://localhost:8080/",
          "height": 349
        },
        "id": "WECYjGvDsizA",
        "outputId": "9577cb14-0ec2-4a14-9049-ae35a038d235"
      },
      "source": [
        "(x_train_bert,  y_train_bert), (x_test_bert, y_test_bert), preproc = text.texts_from_array(x_train=X_train, y_train=Y_train,\n",
        "                                                                       x_test=X_test, y_test=Y_test,\n",
        "                                                                       class_names=class_names,\n",
        "                                                                       preprocess_mode='bert',\n",
        "                                                                       maxlen=350, \n",
        "                                                                       max_features=35000)"
      ],
      "execution_count": null,
      "outputs": [
        {
          "output_type": "stream",
          "text": [
            "downloading pretrained BERT model (uncased_L-12_H-768_A-12.zip)...\n",
            "[██████████████████████████████████████████████████]\n",
            "extracting pretrained BERT model...\n",
            "done.\n",
            "\n",
            "cleanup downloaded zip...\n",
            "done.\n",
            "\n",
            "preprocessing train...\n",
            "language: en\n"
          ],
          "name": "stdout"
        },
        {
          "output_type": "display_data",
          "data": {
            "text/html": [
              "done."
            ],
            "text/plain": [
              "<IPython.core.display.HTML object>"
            ]
          },
          "metadata": {
            "tags": []
          }
        },
        {
          "output_type": "stream",
          "text": [
            "Is Multi-Label? False\n",
            "preprocessing test...\n",
            "language: en\n"
          ],
          "name": "stdout"
        },
        {
          "output_type": "stream",
          "text": [
            "/usr/local/lib/python3.6/dist-packages/ktrain/utils.py:588: UserWarning: class_names argument was ignored, as they were extracted from string labels in dataset\n",
            "  if self.get_classes(): warnings.warn('class_names argument was ignored, as they were extracted from string labels in dataset')\n"
          ],
          "name": "stderr"
        },
        {
          "output_type": "display_data",
          "data": {
            "text/html": [
              "done."
            ],
            "text/plain": [
              "<IPython.core.display.HTML object>"
            ]
          },
          "metadata": {
            "tags": []
          }
        },
        {
          "output_type": "stream",
          "text": [
            "task: text classification\n"
          ],
          "name": "stdout"
        }
      ]
    },
    {
      "cell_type": "code",
      "metadata": {
        "colab": {
          "base_uri": "https://localhost:8080/"
        },
        "id": "cfaMPHnVsowW",
        "outputId": "24147c73-9601-401d-9444-654c35146e11"
      },
      "source": [
        "model = text.text_classifier('bert', train_data=(x_train_bert, y_train_bert), preproc=preproc)"
      ],
      "execution_count": null,
      "outputs": [
        {
          "output_type": "stream",
          "text": [
            "Is Multi-Label? False\n",
            "maxlen is 350\n",
            "done.\n"
          ],
          "name": "stdout"
        }
      ]
    },
    {
      "cell_type": "code",
      "metadata": {
        "id": "-bDJ4YpGsxZ2"
      },
      "source": [
        "learner = ktrain.get_learner(model, train_data=(x_train_bert, y_train_bert), \n",
        "                             val_data=(x_test_bert, y_test_bert),\n",
        "                             batch_size=6)"
      ],
      "execution_count": null,
      "outputs": []
    },
    {
      "cell_type": "code",
      "metadata": {
        "colab": {
          "base_uri": "https://localhost:8080/"
        },
        "id": "Drau8mn6s6D5",
        "outputId": "68b815ad-52fb-4741-b880-b9f949c632ea"
      },
      "source": [
        "learner.fit_onecycle(2e-5, 3)"
      ],
      "execution_count": null,
      "outputs": [
        {
          "output_type": "stream",
          "text": [
            "\n",
            "\n",
            "begin training using onecycle policy with max lr of 2e-05...\n",
            "Epoch 1/3\n",
            "7313/7313 [==============================] - 3089s 422ms/step - loss: 1.8526 - accuracy: 0.2166 - val_loss: 1.8521 - val_accuracy: 0.2003\n",
            "Epoch 2/3\n",
            "7313/7313 [==============================] - 3091s 423ms/step - loss: 1.8473 - accuracy: 0.2118 - val_loss: 1.8495 - val_accuracy: 0.2164\n",
            "Epoch 3/3\n",
            "6657/7313 [==========================>...] - ETA: 4:27 - loss: 1.8444 - accuracy: 0.2163"
          ],
          "name": "stdout"
        }
      ]
    },
    {
      "cell_type": "code",
      "metadata": {
        "id": "ap2UO1vJtCUo"
      },
      "source": [
        "learner.validate(val_data=(x_test_bert, y_test_bert), class_names=class_names)"
      ],
      "execution_count": null,
      "outputs": []
    },
    {
      "cell_type": "code",
      "metadata": {
        "id": "s8bHZvomtGF3"
      },
      "source": [
        "predictor = ktrain.get_predictor(learner.model, preproc)\n",
        "predictor.get_classes()"
      ],
      "execution_count": null,
      "outputs": []
    },
    {
      "cell_type": "code",
      "metadata": {
        "id": "BVJ9FfVKtKr2"
      },
      "source": [
        "import time \n",
        "\n",
        "message = 'I just broke up with my boyfriend'\n",
        "\n",
        "start_time = time.time() \n",
        "prediction = predictor.predict(message)\n",
        "\n",
        "print('predicted: {} ({:.2f})'.format(prediction, (time.time() - start_time)))"
      ],
      "execution_count": null,
      "outputs": []
    },
    {
      "cell_type": "code",
      "metadata": {
        "id": "m_wP2qIctQmf"
      },
      "source": [
        "# let's save the predictor for later use\n",
        "predictor.save(\"bert_model\")"
      ],
      "execution_count": null,
      "outputs": []
    },
    {
      "cell_type": "code",
      "metadata": {
        "id": "RuXrPS2S8X3r"
      },
      "source": [
        ""
      ],
      "execution_count": null,
      "outputs": []
    }
  ]
}